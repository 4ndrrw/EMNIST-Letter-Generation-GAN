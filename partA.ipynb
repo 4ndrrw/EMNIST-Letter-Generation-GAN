{
 "cells": [
  {
   "cell_type": "markdown",
   "id": "7ed9ac1e",
   "metadata": {},
   "source": [
    "# Data Preparation for EMNIST Letters Dataset"
   ]
  },
  {
   "cell_type": "code",
   "execution_count": null,
   "id": "a1d96cc2",
   "metadata": {},
   "outputs": [],
   "source": [
    "test"
   ]
  },
  {
   "cell_type": "markdown",
   "id": "0a9249dd",
   "metadata": {},
   "source": [
    "## Load the Dataset"
   ]
  },
  {
   "cell_type": "code",
   "execution_count": 1,
   "id": "27b2f77b",
   "metadata": {},
   "outputs": [
    {
     "name": "stdout",
     "output_type": "stream",
     "text": [
      "Dataset shape: (64828, 785)\n"
     ]
    },
    {
     "data": {
      "application/vnd.microsoft.datawrangler.viewer.v0+json": {
       "columns": [
        {
         "name": "index",
         "rawType": "int64",
         "type": "integer"
        },
        {
         "name": "24",
         "rawType": "int64",
         "type": "integer"
        },
        {
         "name": "0",
         "rawType": "int64",
         "type": "integer"
        },
        {
         "name": "0.1",
         "rawType": "int64",
         "type": "integer"
        },
        {
         "name": "0.2",
         "rawType": "int64",
         "type": "integer"
        },
        {
         "name": "0.3",
         "rawType": "int64",
         "type": "integer"
        },
        {
         "name": "0.4",
         "rawType": "int64",
         "type": "integer"
        },
        {
         "name": "0.5",
         "rawType": "int64",
         "type": "integer"
        },
        {
         "name": "0.6",
         "rawType": "int64",
         "type": "integer"
        },
        {
         "name": "0.7",
         "rawType": "int64",
         "type": "integer"
        },
        {
         "name": "0.8",
         "rawType": "int64",
         "type": "integer"
        },
        {
         "name": "0.9",
         "rawType": "int64",
         "type": "integer"
        },
        {
         "name": "0.10",
         "rawType": "int64",
         "type": "integer"
        },
        {
         "name": "0.11",
         "rawType": "int64",
         "type": "integer"
        },
        {
         "name": "0.12",
         "rawType": "int64",
         "type": "integer"
        },
        {
         "name": "0.13",
         "rawType": "int64",
         "type": "integer"
        },
        {
         "name": "0.14",
         "rawType": "int64",
         "type": "integer"
        },
        {
         "name": "0.15",
         "rawType": "int64",
         "type": "integer"
        },
        {
         "name": "0.16",
         "rawType": "int64",
         "type": "integer"
        },
        {
         "name": "0.17",
         "rawType": "int64",
         "type": "integer"
        },
        {
         "name": "0.18",
         "rawType": "int64",
         "type": "integer"
        },
        {
         "name": "0.19",
         "rawType": "int64",
         "type": "integer"
        },
        {
         "name": "0.20",
         "rawType": "int64",
         "type": "integer"
        },
        {
         "name": "0.21",
         "rawType": "int64",
         "type": "integer"
        },
        {
         "name": "0.22",
         "rawType": "int64",
         "type": "integer"
        },
        {
         "name": "0.23",
         "rawType": "int64",
         "type": "integer"
        },
        {
         "name": "0.24",
         "rawType": "int64",
         "type": "integer"
        },
        {
         "name": "0.25",
         "rawType": "int64",
         "type": "integer"
        },
        {
         "name": "0.26",
         "rawType": "int64",
         "type": "integer"
        },
        {
         "name": "0.27",
         "rawType": "int64",
         "type": "integer"
        },
        {
         "name": "0.28",
         "rawType": "int64",
         "type": "integer"
        },
        {
         "name": "0.29",
         "rawType": "int64",
         "type": "integer"
        },
        {
         "name": "0.30",
         "rawType": "int64",
         "type": "integer"
        },
        {
         "name": "0.31",
         "rawType": "int64",
         "type": "integer"
        },
        {
         "name": "0.32",
         "rawType": "int64",
         "type": "integer"
        },
        {
         "name": "0.33",
         "rawType": "int64",
         "type": "integer"
        },
        {
         "name": "0.34",
         "rawType": "int64",
         "type": "integer"
        },
        {
         "name": "0.35",
         "rawType": "int64",
         "type": "integer"
        },
        {
         "name": "0.36",
         "rawType": "int64",
         "type": "integer"
        },
        {
         "name": "0.37",
         "rawType": "int64",
         "type": "integer"
        },
        {
         "name": "0.38",
         "rawType": "int64",
         "type": "integer"
        },
        {
         "name": "0.39",
         "rawType": "int64",
         "type": "integer"
        },
        {
         "name": "0.40",
         "rawType": "int64",
         "type": "integer"
        },
        {
         "name": "0.41",
         "rawType": "int64",
         "type": "integer"
        },
        {
         "name": "0.42",
         "rawType": "int64",
         "type": "integer"
        },
        {
         "name": "0.43",
         "rawType": "int64",
         "type": "integer"
        },
        {
         "name": "0.44",
         "rawType": "int64",
         "type": "integer"
        },
        {
         "name": "0.45",
         "rawType": "int64",
         "type": "integer"
        },
        {
         "name": "0.46",
         "rawType": "int64",
         "type": "integer"
        },
        {
         "name": "0.47",
         "rawType": "int64",
         "type": "integer"
        },
        {
         "name": "0.48",
         "rawType": "int64",
         "type": "integer"
        },
        {
         "name": "0.49",
         "rawType": "int64",
         "type": "integer"
        },
        {
         "name": "0.50",
         "rawType": "int64",
         "type": "integer"
        },
        {
         "name": "0.51",
         "rawType": "int64",
         "type": "integer"
        },
        {
         "name": "0.52",
         "rawType": "int64",
         "type": "integer"
        },
        {
         "name": "0.53",
         "rawType": "int64",
         "type": "integer"
        },
        {
         "name": "0.54",
         "rawType": "int64",
         "type": "integer"
        },
        {
         "name": "0.55",
         "rawType": "int64",
         "type": "integer"
        },
        {
         "name": "0.56",
         "rawType": "int64",
         "type": "integer"
        },
        {
         "name": "0.57",
         "rawType": "int64",
         "type": "integer"
        },
        {
         "name": "0.58",
         "rawType": "int64",
         "type": "integer"
        },
        {
         "name": "0.59",
         "rawType": "int64",
         "type": "integer"
        },
        {
         "name": "0.60",
         "rawType": "int64",
         "type": "integer"
        },
        {
         "name": "0.61",
         "rawType": "int64",
         "type": "integer"
        },
        {
         "name": "0.62",
         "rawType": "int64",
         "type": "integer"
        },
        {
         "name": "0.63",
         "rawType": "int64",
         "type": "integer"
        },
        {
         "name": "0.64",
         "rawType": "int64",
         "type": "integer"
        },
        {
         "name": "0.65",
         "rawType": "int64",
         "type": "integer"
        },
        {
         "name": "0.66",
         "rawType": "int64",
         "type": "integer"
        },
        {
         "name": "0.67",
         "rawType": "int64",
         "type": "integer"
        },
        {
         "name": "0.68",
         "rawType": "int64",
         "type": "integer"
        },
        {
         "name": "0.69",
         "rawType": "int64",
         "type": "integer"
        },
        {
         "name": "0.70",
         "rawType": "int64",
         "type": "integer"
        },
        {
         "name": "0.71",
         "rawType": "int64",
         "type": "integer"
        },
        {
         "name": "0.72",
         "rawType": "int64",
         "type": "integer"
        },
        {
         "name": "0.73",
         "rawType": "int64",
         "type": "integer"
        },
        {
         "name": "0.74",
         "rawType": "int64",
         "type": "integer"
        },
        {
         "name": "0.75",
         "rawType": "int64",
         "type": "integer"
        },
        {
         "name": "0.76",
         "rawType": "int64",
         "type": "integer"
        },
        {
         "name": "0.77",
         "rawType": "int64",
         "type": "integer"
        },
        {
         "name": "0.78",
         "rawType": "int64",
         "type": "integer"
        },
        {
         "name": "0.79",
         "rawType": "int64",
         "type": "integer"
        },
        {
         "name": "0.80",
         "rawType": "int64",
         "type": "integer"
        },
        {
         "name": "0.81",
         "rawType": "int64",
         "type": "integer"
        },
        {
         "name": "0.82",
         "rawType": "int64",
         "type": "integer"
        },
        {
         "name": "0.83",
         "rawType": "int64",
         "type": "integer"
        },
        {
         "name": "0.84",
         "rawType": "int64",
         "type": "integer"
        },
        {
         "name": "0.85",
         "rawType": "int64",
         "type": "integer"
        },
        {
         "name": "0.86",
         "rawType": "int64",
         "type": "integer"
        },
        {
         "name": "0.87",
         "rawType": "int64",
         "type": "integer"
        },
        {
         "name": "0.88",
         "rawType": "int64",
         "type": "integer"
        },
        {
         "name": "0.89",
         "rawType": "int64",
         "type": "integer"
        },
        {
         "name": "0.90",
         "rawType": "int64",
         "type": "integer"
        },
        {
         "name": "0.91",
         "rawType": "int64",
         "type": "integer"
        },
        {
         "name": "0.92",
         "rawType": "int64",
         "type": "integer"
        },
        {
         "name": "0.93",
         "rawType": "int64",
         "type": "integer"
        },
        {
         "name": "0.94",
         "rawType": "int64",
         "type": "integer"
        },
        {
         "name": "0.95",
         "rawType": "int64",
         "type": "integer"
        },
        {
         "name": "0.96",
         "rawType": "int64",
         "type": "integer"
        },
        {
         "name": "0.97",
         "rawType": "int64",
         "type": "integer"
        },
        {
         "name": "0.98",
         "rawType": "int64",
         "type": "integer"
        },
        {
         "name": "0.99",
         "rawType": "int64",
         "type": "integer"
        },
        {
         "name": "0.100",
         "rawType": "int64",
         "type": "integer"
        },
        {
         "name": "0.101",
         "rawType": "int64",
         "type": "integer"
        },
        {
         "name": "0.102",
         "rawType": "int64",
         "type": "integer"
        },
        {
         "name": "0.103",
         "rawType": "int64",
         "type": "integer"
        },
        {
         "name": "0.104",
         "rawType": "int64",
         "type": "integer"
        },
        {
         "name": "0.105",
         "rawType": "int64",
         "type": "integer"
        },
        {
         "name": "0.106",
         "rawType": "int64",
         "type": "integer"
        },
        {
         "name": "0.107",
         "rawType": "int64",
         "type": "integer"
        },
        {
         "name": "0.108",
         "rawType": "int64",
         "type": "integer"
        },
        {
         "name": "0.109",
         "rawType": "int64",
         "type": "integer"
        },
        {
         "name": "0.110",
         "rawType": "int64",
         "type": "integer"
        },
        {
         "name": "0.111",
         "rawType": "int64",
         "type": "integer"
        },
        {
         "name": "0.112",
         "rawType": "int64",
         "type": "integer"
        },
        {
         "name": "0.113",
         "rawType": "int64",
         "type": "integer"
        },
        {
         "name": "0.114",
         "rawType": "int64",
         "type": "integer"
        },
        {
         "name": "0.115",
         "rawType": "int64",
         "type": "integer"
        },
        {
         "name": "0.116",
         "rawType": "int64",
         "type": "integer"
        },
        {
         "name": "0.117",
         "rawType": "int64",
         "type": "integer"
        },
        {
         "name": "0.118",
         "rawType": "int64",
         "type": "integer"
        },
        {
         "name": "0.119",
         "rawType": "int64",
         "type": "integer"
        },
        {
         "name": "0.120",
         "rawType": "int64",
         "type": "integer"
        },
        {
         "name": "0.121",
         "rawType": "int64",
         "type": "integer"
        },
        {
         "name": "0.122",
         "rawType": "int64",
         "type": "integer"
        },
        {
         "name": "0.123",
         "rawType": "int64",
         "type": "integer"
        },
        {
         "name": "0.124",
         "rawType": "int64",
         "type": "integer"
        },
        {
         "name": "0.125",
         "rawType": "int64",
         "type": "integer"
        },
        {
         "name": "0.126",
         "rawType": "int64",
         "type": "integer"
        },
        {
         "name": "0.127",
         "rawType": "int64",
         "type": "integer"
        },
        {
         "name": "0.128",
         "rawType": "int64",
         "type": "integer"
        },
        {
         "name": "0.129",
         "rawType": "int64",
         "type": "integer"
        },
        {
         "name": "0.130",
         "rawType": "int64",
         "type": "integer"
        },
        {
         "name": "0.131",
         "rawType": "int64",
         "type": "integer"
        },
        {
         "name": "0.132",
         "rawType": "int64",
         "type": "integer"
        },
        {
         "name": "0.133",
         "rawType": "int64",
         "type": "integer"
        },
        {
         "name": "0.134",
         "rawType": "int64",
         "type": "integer"
        },
        {
         "name": "0.135",
         "rawType": "int64",
         "type": "integer"
        },
        {
         "name": "0.136",
         "rawType": "int64",
         "type": "integer"
        },
        {
         "name": "0.137",
         "rawType": "int64",
         "type": "integer"
        },
        {
         "name": "0.138",
         "rawType": "int64",
         "type": "integer"
        },
        {
         "name": "0.139",
         "rawType": "int64",
         "type": "integer"
        },
        {
         "name": "0.140",
         "rawType": "int64",
         "type": "integer"
        },
        {
         "name": "0.141",
         "rawType": "int64",
         "type": "integer"
        },
        {
         "name": "0.142",
         "rawType": "int64",
         "type": "integer"
        },
        {
         "name": "0.143",
         "rawType": "int64",
         "type": "integer"
        },
        {
         "name": "0.144",
         "rawType": "int64",
         "type": "integer"
        },
        {
         "name": "0.145",
         "rawType": "int64",
         "type": "integer"
        },
        {
         "name": "0.146",
         "rawType": "int64",
         "type": "integer"
        },
        {
         "name": "0.147",
         "rawType": "int64",
         "type": "integer"
        },
        {
         "name": "0.148",
         "rawType": "int64",
         "type": "integer"
        },
        {
         "name": "0.149",
         "rawType": "int64",
         "type": "integer"
        },
        {
         "name": "0.150",
         "rawType": "int64",
         "type": "integer"
        },
        {
         "name": "0.151",
         "rawType": "int64",
         "type": "integer"
        },
        {
         "name": "0.152",
         "rawType": "int64",
         "type": "integer"
        },
        {
         "name": "0.153",
         "rawType": "int64",
         "type": "integer"
        },
        {
         "name": "0.154",
         "rawType": "int64",
         "type": "integer"
        },
        {
         "name": "0.155",
         "rawType": "int64",
         "type": "integer"
        },
        {
         "name": "0.156",
         "rawType": "int64",
         "type": "integer"
        },
        {
         "name": "0.157",
         "rawType": "int64",
         "type": "integer"
        },
        {
         "name": "0.158",
         "rawType": "int64",
         "type": "integer"
        },
        {
         "name": "0.159",
         "rawType": "int64",
         "type": "integer"
        },
        {
         "name": "0.160",
         "rawType": "int64",
         "type": "integer"
        },
        {
         "name": "0.161",
         "rawType": "int64",
         "type": "integer"
        },
        {
         "name": "0.162",
         "rawType": "int64",
         "type": "integer"
        },
        {
         "name": "0.163",
         "rawType": "int64",
         "type": "integer"
        },
        {
         "name": "0.164",
         "rawType": "int64",
         "type": "integer"
        },
        {
         "name": "0.165",
         "rawType": "int64",
         "type": "integer"
        },
        {
         "name": "0.166",
         "rawType": "int64",
         "type": "integer"
        },
        {
         "name": "0.167",
         "rawType": "int64",
         "type": "integer"
        },
        {
         "name": "0.168",
         "rawType": "int64",
         "type": "integer"
        },
        {
         "name": "0.169",
         "rawType": "int64",
         "type": "integer"
        },
        {
         "name": "0.170",
         "rawType": "int64",
         "type": "integer"
        },
        {
         "name": "0.171",
         "rawType": "int64",
         "type": "integer"
        },
        {
         "name": "0.172",
         "rawType": "int64",
         "type": "integer"
        },
        {
         "name": "0.173",
         "rawType": "int64",
         "type": "integer"
        },
        {
         "name": "0.174",
         "rawType": "int64",
         "type": "integer"
        },
        {
         "name": "0.175",
         "rawType": "int64",
         "type": "integer"
        },
        {
         "name": "0.176",
         "rawType": "int64",
         "type": "integer"
        },
        {
         "name": "0.177",
         "rawType": "int64",
         "type": "integer"
        },
        {
         "name": "0.178",
         "rawType": "int64",
         "type": "integer"
        },
        {
         "name": "0.179",
         "rawType": "int64",
         "type": "integer"
        },
        {
         "name": "0.180",
         "rawType": "int64",
         "type": "integer"
        },
        {
         "name": "0.181",
         "rawType": "int64",
         "type": "integer"
        },
        {
         "name": "0.182",
         "rawType": "int64",
         "type": "integer"
        },
        {
         "name": "0.183",
         "rawType": "int64",
         "type": "integer"
        },
        {
         "name": "0.184",
         "rawType": "int64",
         "type": "integer"
        },
        {
         "name": "0.185",
         "rawType": "int64",
         "type": "integer"
        },
        {
         "name": "0.186",
         "rawType": "int64",
         "type": "integer"
        },
        {
         "name": "0.187",
         "rawType": "int64",
         "type": "integer"
        },
        {
         "name": "0.188",
         "rawType": "int64",
         "type": "integer"
        },
        {
         "name": "0.189",
         "rawType": "int64",
         "type": "integer"
        },
        {
         "name": "0.190",
         "rawType": "int64",
         "type": "integer"
        },
        {
         "name": "7",
         "rawType": "int64",
         "type": "integer"
        },
        {
         "name": "27",
         "rawType": "int64",
         "type": "integer"
        },
        {
         "name": "7.1",
         "rawType": "int64",
         "type": "integer"
        },
        {
         "name": "0.191",
         "rawType": "int64",
         "type": "integer"
        },
        {
         "name": "0.192",
         "rawType": "int64",
         "type": "integer"
        },
        {
         "name": "0.193",
         "rawType": "int64",
         "type": "integer"
        },
        {
         "name": "0.194",
         "rawType": "int64",
         "type": "integer"
        },
        {
         "name": "0.195",
         "rawType": "int64",
         "type": "integer"
        },
        {
         "name": "0.196",
         "rawType": "int64",
         "type": "integer"
        },
        {
         "name": "0.197",
         "rawType": "int64",
         "type": "integer"
        },
        {
         "name": "0.198",
         "rawType": "int64",
         "type": "integer"
        },
        {
         "name": "0.199",
         "rawType": "int64",
         "type": "integer"
        },
        {
         "name": "0.200",
         "rawType": "int64",
         "type": "integer"
        },
        {
         "name": "0.201",
         "rawType": "int64",
         "type": "integer"
        },
        {
         "name": "0.202",
         "rawType": "int64",
         "type": "integer"
        },
        {
         "name": "0.203",
         "rawType": "int64",
         "type": "integer"
        },
        {
         "name": "0.204",
         "rawType": "int64",
         "type": "integer"
        },
        {
         "name": "0.205",
         "rawType": "int64",
         "type": "integer"
        },
        {
         "name": "0.206",
         "rawType": "int64",
         "type": "integer"
        },
        {
         "name": "0.207",
         "rawType": "int64",
         "type": "integer"
        },
        {
         "name": "0.208",
         "rawType": "int64",
         "type": "integer"
        },
        {
         "name": "0.209",
         "rawType": "int64",
         "type": "integer"
        },
        {
         "name": "0.210",
         "rawType": "int64",
         "type": "integer"
        },
        {
         "name": "0.211",
         "rawType": "int64",
         "type": "integer"
        },
        {
         "name": "0.212",
         "rawType": "int64",
         "type": "integer"
        },
        {
         "name": "0.213",
         "rawType": "int64",
         "type": "integer"
        },
        {
         "name": "0.214",
         "rawType": "int64",
         "type": "integer"
        },
        {
         "name": "10",
         "rawType": "int64",
         "type": "integer"
        },
        {
         "name": "90",
         "rawType": "int64",
         "type": "integer"
        },
        {
         "name": "186",
         "rawType": "int64",
         "type": "integer"
        },
        {
         "name": "76",
         "rawType": "int64",
         "type": "integer"
        },
        {
         "name": "2",
         "rawType": "int64",
         "type": "integer"
        },
        {
         "name": "0.215",
         "rawType": "int64",
         "type": "integer"
        },
        {
         "name": "0.216",
         "rawType": "int64",
         "type": "integer"
        },
        {
         "name": "0.217",
         "rawType": "int64",
         "type": "integer"
        },
        {
         "name": "0.218",
         "rawType": "int64",
         "type": "integer"
        },
        {
         "name": "0.219",
         "rawType": "int64",
         "type": "integer"
        },
        {
         "name": "0.220",
         "rawType": "int64",
         "type": "integer"
        },
        {
         "name": "0.221",
         "rawType": "int64",
         "type": "integer"
        },
        {
         "name": "0.222",
         "rawType": "int64",
         "type": "integer"
        },
        {
         "name": "0.223",
         "rawType": "int64",
         "type": "integer"
        },
        {
         "name": "0.224",
         "rawType": "int64",
         "type": "integer"
        },
        {
         "name": "0.225",
         "rawType": "int64",
         "type": "integer"
        },
        {
         "name": "0.226",
         "rawType": "int64",
         "type": "integer"
        },
        {
         "name": "0.227",
         "rawType": "int64",
         "type": "integer"
        },
        {
         "name": "0.228",
         "rawType": "int64",
         "type": "integer"
        },
        {
         "name": "0.229",
         "rawType": "int64",
         "type": "integer"
        },
        {
         "name": "0.230",
         "rawType": "int64",
         "type": "integer"
        },
        {
         "name": "0.231",
         "rawType": "int64",
         "type": "integer"
        },
        {
         "name": "0.232",
         "rawType": "int64",
         "type": "integer"
        },
        {
         "name": "0.233",
         "rawType": "int64",
         "type": "integer"
        },
        {
         "name": "0.234",
         "rawType": "int64",
         "type": "integer"
        },
        {
         "name": "0.235",
         "rawType": "int64",
         "type": "integer"
        },
        {
         "name": "0.236",
         "rawType": "int64",
         "type": "integer"
        },
        {
         "name": "32",
         "rawType": "int64",
         "type": "integer"
        },
        {
         "name": "127",
         "rawType": "int64",
         "type": "integer"
        },
        {
         "name": "221",
         "rawType": "int64",
         "type": "integer"
        },
        {
         "name": "248",
         "rawType": "int64",
         "type": "integer"
        },
        {
         "name": "125",
         "rawType": "int64",
         "type": "integer"
        },
        {
         "name": "4",
         "rawType": "int64",
         "type": "integer"
        },
        {
         "name": "0.237",
         "rawType": "int64",
         "type": "integer"
        },
        {
         "name": "0.238",
         "rawType": "int64",
         "type": "integer"
        },
        {
         "name": "0.239",
         "rawType": "int64",
         "type": "integer"
        },
        {
         "name": "0.240",
         "rawType": "int64",
         "type": "integer"
        },
        {
         "name": "3",
         "rawType": "int64",
         "type": "integer"
        },
        {
         "name": "2.1",
         "rawType": "int64",
         "type": "integer"
        },
        {
         "name": "0.241",
         "rawType": "int64",
         "type": "integer"
        },
        {
         "name": "0.242",
         "rawType": "int64",
         "type": "integer"
        },
        {
         "name": "0.243",
         "rawType": "int64",
         "type": "integer"
        },
        {
         "name": "0.244",
         "rawType": "int64",
         "type": "integer"
        },
        {
         "name": "0.245",
         "rawType": "int64",
         "type": "integer"
        },
        {
         "name": "0.246",
         "rawType": "int64",
         "type": "integer"
        },
        {
         "name": "0.247",
         "rawType": "int64",
         "type": "integer"
        },
        {
         "name": "0.248",
         "rawType": "int64",
         "type": "integer"
        },
        {
         "name": "0.249",
         "rawType": "int64",
         "type": "integer"
        },
        {
         "name": "0.250",
         "rawType": "int64",
         "type": "integer"
        },
        {
         "name": "0.251",
         "rawType": "int64",
         "type": "integer"
        },
        {
         "name": "0.252",
         "rawType": "int64",
         "type": "integer"
        },
        {
         "name": "0.253",
         "rawType": "int64",
         "type": "integer"
        },
        {
         "name": "0.254",
         "rawType": "int64",
         "type": "integer"
        },
        {
         "name": "0.255",
         "rawType": "int64",
         "type": "integer"
        },
        {
         "name": "22",
         "rawType": "int64",
         "type": "integer"
        },
        {
         "name": "131",
         "rawType": "int64",
         "type": "integer"
        },
        {
         "name": "242",
         "rawType": "int64",
         "type": "integer"
        },
        {
         "name": "254",
         "rawType": "int64",
         "type": "integer"
        },
        {
         "name": "249",
         "rawType": "int64",
         "type": "integer"
        },
        {
         "name": "125.1",
         "rawType": "int64",
         "type": "integer"
        },
        {
         "name": "4.1",
         "rawType": "int64",
         "type": "integer"
        },
        {
         "name": "0.256",
         "rawType": "int64",
         "type": "integer"
        },
        {
         "name": "0.257",
         "rawType": "int64",
         "type": "integer"
        },
        {
         "name": "0.258",
         "rawType": "int64",
         "type": "integer"
        },
        {
         "name": "32.1",
         "rawType": "int64",
         "type": "integer"
        },
        {
         "name": "111",
         "rawType": "int64",
         "type": "integer"
        },
        {
         "name": "77",
         "rawType": "int64",
         "type": "integer"
        },
        {
         "name": "8",
         "rawType": "int64",
         "type": "integer"
        },
        {
         "name": "0.259",
         "rawType": "int64",
         "type": "integer"
        },
        {
         "name": "0.260",
         "rawType": "int64",
         "type": "integer"
        },
        {
         "name": "0.261",
         "rawType": "int64",
         "type": "integer"
        },
        {
         "name": "0.262",
         "rawType": "int64",
         "type": "integer"
        },
        {
         "name": "0.263",
         "rawType": "int64",
         "type": "integer"
        },
        {
         "name": "0.264",
         "rawType": "int64",
         "type": "integer"
        },
        {
         "name": "0.265",
         "rawType": "int64",
         "type": "integer"
        },
        {
         "name": "0.266",
         "rawType": "int64",
         "type": "integer"
        },
        {
         "name": "0.267",
         "rawType": "int64",
         "type": "integer"
        },
        {
         "name": "0.268",
         "rawType": "int64",
         "type": "integer"
        },
        {
         "name": "0.269",
         "rawType": "int64",
         "type": "integer"
        },
        {
         "name": "0.270",
         "rawType": "int64",
         "type": "integer"
        },
        {
         "name": "0.271",
         "rawType": "int64",
         "type": "integer"
        },
        {
         "name": "10.1",
         "rawType": "int64",
         "type": "integer"
        },
        {
         "name": "123",
         "rawType": "int64",
         "type": "integer"
        },
        {
         "name": "232",
         "rawType": "int64",
         "type": "integer"
        },
        {
         "name": "253",
         "rawType": "int64",
         "type": "integer"
        },
        {
         "name": "250",
         "rawType": "int64",
         "type": "integer"
        },
        {
         "name": "218",
         "rawType": "int64",
         "type": "integer"
        },
        {
         "name": "77.1",
         "rawType": "int64",
         "type": "integer"
        },
        {
         "name": "2.2",
         "rawType": "int64",
         "type": "integer"
        },
        {
         "name": "0.272",
         "rawType": "int64",
         "type": "integer"
        },
        {
         "name": "0.273",
         "rawType": "int64",
         "type": "integer"
        },
        {
         "name": "3.1",
         "rawType": "int64",
         "type": "integer"
        },
        {
         "name": "99",
         "rawType": "int64",
         "type": "integer"
        },
        {
         "name": "234",
         "rawType": "int64",
         "type": "integer"
        },
        {
         "name": "218.1",
         "rawType": "int64",
         "type": "integer"
        },
        {
         "name": "95",
         "rawType": "int64",
         "type": "integer"
        },
        {
         "name": "22.1",
         "rawType": "int64",
         "type": "integer"
        },
        {
         "name": "1",
         "rawType": "int64",
         "type": "integer"
        },
        {
         "name": "0.274",
         "rawType": "int64",
         "type": "integer"
        },
        {
         "name": "0.275",
         "rawType": "int64",
         "type": "integer"
        },
        {
         "name": "0.276",
         "rawType": "int64",
         "type": "integer"
        },
        {
         "name": "0.277",
         "rawType": "int64",
         "type": "integer"
        },
        {
         "name": "0.278",
         "rawType": "int64",
         "type": "integer"
        },
        {
         "name": "0.279",
         "rawType": "int64",
         "type": "integer"
        },
        {
         "name": "0.280",
         "rawType": "int64",
         "type": "integer"
        },
        {
         "name": "0.281",
         "rawType": "int64",
         "type": "integer"
        },
        {
         "name": "0.282",
         "rawType": "int64",
         "type": "integer"
        },
        {
         "name": "0.283",
         "rawType": "int64",
         "type": "integer"
        },
        {
         "name": "9",
         "rawType": "int64",
         "type": "integer"
        },
        {
         "name": "91",
         "rawType": "int64",
         "type": "integer"
        },
        {
         "name": "221.1",
         "rawType": "int64",
         "type": "integer"
        },
        {
         "name": "253.1",
         "rawType": "int64",
         "type": "integer"
        },
        {
         "name": "234.1",
         "rawType": "int64",
         "type": "integer"
        },
        {
         "name": "144",
         "rawType": "int64",
         "type": "integer"
        },
        {
         "name": "77.2",
         "rawType": "int64",
         "type": "integer"
        },
        {
         "name": "8.1",
         "rawType": "int64",
         "type": "integer"
        },
        {
         "name": "0.284",
         "rawType": "int64",
         "type": "integer"
        },
        {
         "name": "0.285",
         "rawType": "int64",
         "type": "integer"
        },
        {
         "name": "0.286",
         "rawType": "int64",
         "type": "integer"
        },
        {
         "name": "0.287",
         "rawType": "int64",
         "type": "integer"
        },
        {
         "name": "34",
         "rawType": "int64",
         "type": "integer"
        },
        {
         "name": "177",
         "rawType": "int64",
         "type": "integer"
        },
        {
         "name": "251",
         "rawType": "int64",
         "type": "integer"
        },
        {
         "name": "232.1",
         "rawType": "int64",
         "type": "integer"
        },
        {
         "name": "159",
         "rawType": "int64",
         "type": "integer"
        },
        {
         "name": "52",
         "rawType": "int64",
         "type": "integer"
        },
        {
         "name": "32.2",
         "rawType": "int64",
         "type": "integer"
        },
        {
         "name": "8.2",
         "rawType": "int64",
         "type": "integer"
        },
        {
         "name": "0.288",
         "rawType": "int64",
         "type": "integer"
        },
        {
         "name": "0.289",
         "rawType": "int64",
         "type": "integer"
        },
        {
         "name": "0.290",
         "rawType": "int64",
         "type": "integer"
        },
        {
         "name": "0.291",
         "rawType": "int64",
         "type": "integer"
        },
        {
         "name": "0.292",
         "rawType": "int64",
         "type": "integer"
        },
        {
         "name": "0.293",
         "rawType": "int64",
         "type": "integer"
        },
        {
         "name": "0.294",
         "rawType": "int64",
         "type": "integer"
        },
        {
         "name": "20",
         "rawType": "int64",
         "type": "integer"
        },
        {
         "name": "95.1",
         "rawType": "int64",
         "type": "integer"
        },
        {
         "name": "219",
         "rawType": "int64",
         "type": "integer"
        },
        {
         "name": "252",
         "rawType": "int64",
         "type": "integer"
        },
        {
         "name": "234.2",
         "rawType": "int64",
         "type": "integer"
        },
        {
         "name": "154",
         "rawType": "int64",
         "type": "integer"
        },
        {
         "name": "24.1",
         "rawType": "int64",
         "type": "integer"
        },
        {
         "name": "2.3",
         "rawType": "int64",
         "type": "integer"
        },
        {
         "name": "0.295",
         "rawType": "int64",
         "type": "integer"
        },
        {
         "name": "0.296",
         "rawType": "int64",
         "type": "integer"
        },
        {
         "name": "0.297",
         "rawType": "int64",
         "type": "integer"
        },
        {
         "name": "0.298",
         "rawType": "int64",
         "type": "integer"
        },
        {
         "name": "0.299",
         "rawType": "int64",
         "type": "integer"
        },
        {
         "name": "4.2",
         "rawType": "int64",
         "type": "integer"
        },
        {
         "name": "110",
         "rawType": "int64",
         "type": "integer"
        },
        {
         "name": "229",
         "rawType": "int64",
         "type": "integer"
        },
        {
         "name": "251.1",
         "rawType": "int64",
         "type": "integer"
        },
        {
         "name": "247",
         "rawType": "int64",
         "type": "integer"
        },
        {
         "name": "222",
         "rawType": "int64",
         "type": "integer"
        },
        {
         "name": "203",
         "rawType": "int64",
         "type": "integer"
        },
        {
         "name": "127.1",
         "rawType": "int64",
         "type": "integer"
        },
        {
         "name": "46",
         "rawType": "int64",
         "type": "integer"
        },
        {
         "name": "9.1",
         "rawType": "int64",
         "type": "integer"
        },
        {
         "name": "4.3",
         "rawType": "int64",
         "type": "integer"
        },
        {
         "name": "0.300",
         "rawType": "int64",
         "type": "integer"
        },
        {
         "name": "0.301",
         "rawType": "int64",
         "type": "integer"
        },
        {
         "name": "0.302",
         "rawType": "int64",
         "type": "integer"
        },
        {
         "name": "12",
         "rawType": "int64",
         "type": "integer"
        },
        {
         "name": "123.1",
         "rawType": "int64",
         "type": "integer"
        },
        {
         "name": "231",
         "rawType": "int64",
         "type": "integer"
        },
        {
         "name": "252.1",
         "rawType": "int64",
         "type": "integer"
        },
        {
         "name": "242.1",
         "rawType": "int64",
         "type": "integer"
        },
        {
         "name": "131.1",
         "rawType": "int64",
         "type": "integer"
        },
        {
         "name": "23",
         "rawType": "int64",
         "type": "integer"
        },
        {
         "name": "1.1",
         "rawType": "int64",
         "type": "integer"
        },
        {
         "name": "0.303",
         "rawType": "int64",
         "type": "integer"
        },
        {
         "name": "0.304",
         "rawType": "int64",
         "type": "integer"
        },
        {
         "name": "0.305",
         "rawType": "int64",
         "type": "integer"
        },
        {
         "name": "0.306",
         "rawType": "int64",
         "type": "integer"
        },
        {
         "name": "0.307",
         "rawType": "int64",
         "type": "integer"
        },
        {
         "name": "0.308",
         "rawType": "int64",
         "type": "integer"
        },
        {
         "name": "0.309",
         "rawType": "int64",
         "type": "integer"
        },
        {
         "name": "20.1",
         "rawType": "int64",
         "type": "integer"
        },
        {
         "name": "83",
         "rawType": "int64",
         "type": "integer"
        },
        {
         "name": "175",
         "rawType": "int64",
         "type": "integer"
        },
        {
         "name": "244",
         "rawType": "int64",
         "type": "integer"
        },
        {
         "name": "253.2",
         "rawType": "int64",
         "type": "integer"
        },
        {
         "name": "254.1",
         "rawType": "int64",
         "type": "integer"
        },
        {
         "name": "246",
         "rawType": "int64",
         "type": "integer"
        },
        {
         "name": "208",
         "rawType": "int64",
         "type": "integer"
        },
        {
         "name": "140",
         "rawType": "int64",
         "type": "integer"
        },
        {
         "name": "113",
         "rawType": "int64",
         "type": "integer"
        },
        {
         "name": "33",
         "rawType": "int64",
         "type": "integer"
        },
        {
         "name": "7.2",
         "rawType": "int64",
         "type": "integer"
        },
        {
         "name": "46.1",
         "rawType": "int64",
         "type": "integer"
        },
        {
         "name": "128",
         "rawType": "int64",
         "type": "integer"
        },
        {
         "name": "222.1",
         "rawType": "int64",
         "type": "integer"
        },
        {
         "name": "253.3",
         "rawType": "int64",
         "type": "integer"
        },
        {
         "name": "232.2",
         "rawType": "int64",
         "type": "integer"
        },
        {
         "name": "131.2",
         "rawType": "int64",
         "type": "integer"
        },
        {
         "name": "32.3",
         "rawType": "int64",
         "type": "integer"
        },
        {
         "name": "0.310",
         "rawType": "int64",
         "type": "integer"
        },
        {
         "name": "0.311",
         "rawType": "int64",
         "type": "integer"
        },
        {
         "name": "0.312",
         "rawType": "int64",
         "type": "integer"
        },
        {
         "name": "0.313",
         "rawType": "int64",
         "type": "integer"
        },
        {
         "name": "0.314",
         "rawType": "int64",
         "type": "integer"
        },
        {
         "name": "0.315",
         "rawType": "int64",
         "type": "integer"
        },
        {
         "name": "0.316",
         "rawType": "int64",
         "type": "integer"
        },
        {
         "name": "0.317",
         "rawType": "int64",
         "type": "integer"
        },
        {
         "name": "0.318",
         "rawType": "int64",
         "type": "integer"
        },
        {
         "name": "0.319",
         "rawType": "int64",
         "type": "integer"
        },
        {
         "name": "3.2",
         "rawType": "int64",
         "type": "integer"
        },
        {
         "name": "34.1",
         "rawType": "int64",
         "type": "integer"
        },
        {
         "name": "126",
         "rawType": "int64",
         "type": "integer"
        },
        {
         "name": "204",
         "rawType": "int64",
         "type": "integer"
        },
        {
         "name": "233",
         "rawType": "int64",
         "type": "integer"
        },
        {
         "name": "251.2",
         "rawType": "int64",
         "type": "integer"
        },
        {
         "name": "253.4",
         "rawType": "int64",
         "type": "integer"
        },
        {
         "name": "250.1",
         "rawType": "int64",
         "type": "integer"
        },
        {
         "name": "243",
         "rawType": "int64",
         "type": "integer"
        },
        {
         "name": "164",
         "rawType": "int64",
         "type": "integer"
        },
        {
         "name": "97",
         "rawType": "int64",
         "type": "integer"
        },
        {
         "name": "207",
         "rawType": "int64",
         "type": "integer"
        },
        {
         "name": "246.1",
         "rawType": "int64",
         "type": "integer"
        },
        {
         "name": "248.1",
         "rawType": "int64",
         "type": "integer"
        },
        {
         "name": "209",
         "rawType": "int64",
         "type": "integer"
        },
        {
         "name": "122",
         "rawType": "int64",
         "type": "integer"
        },
        {
         "name": "22.2",
         "rawType": "int64",
         "type": "integer"
        },
        {
         "name": "0.320",
         "rawType": "int64",
         "type": "integer"
        },
        {
         "name": "0.321",
         "rawType": "int64",
         "type": "integer"
        },
        {
         "name": "0.322",
         "rawType": "int64",
         "type": "integer"
        },
        {
         "name": "0.323",
         "rawType": "int64",
         "type": "integer"
        },
        {
         "name": "0.324",
         "rawType": "int64",
         "type": "integer"
        },
        {
         "name": "0.325",
         "rawType": "int64",
         "type": "integer"
        },
        {
         "name": "0.326",
         "rawType": "int64",
         "type": "integer"
        },
        {
         "name": "0.327",
         "rawType": "int64",
         "type": "integer"
        },
        {
         "name": "0.328",
         "rawType": "int64",
         "type": "integer"
        },
        {
         "name": "0.329",
         "rawType": "int64",
         "type": "integer"
        },
        {
         "name": "0.330",
         "rawType": "int64",
         "type": "integer"
        },
        {
         "name": "0.331",
         "rawType": "int64",
         "type": "integer"
        },
        {
         "name": "0.332",
         "rawType": "int64",
         "type": "integer"
        },
        {
         "name": "8.3",
         "rawType": "int64",
         "type": "integer"
        },
        {
         "name": "34.2",
         "rawType": "int64",
         "type": "integer"
        },
        {
         "name": "84",
         "rawType": "int64",
         "type": "integer"
        },
        {
         "name": "171",
         "rawType": "int64",
         "type": "integer"
        },
        {
         "name": "232.3",
         "rawType": "int64",
         "type": "integer"
        },
        {
         "name": "250.2",
         "rawType": "int64",
         "type": "integer"
        },
        {
         "name": "254.2",
         "rawType": "int64",
         "type": "integer"
        },
        {
         "name": "247.1",
         "rawType": "int64",
         "type": "integer"
        },
        {
         "name": "235",
         "rawType": "int64",
         "type": "integer"
        },
        {
         "name": "253.5",
         "rawType": "int64",
         "type": "integer"
        },
        {
         "name": "254.3",
         "rawType": "int64",
         "type": "integer"
        },
        {
         "name": "227",
         "rawType": "int64",
         "type": "integer"
        },
        {
         "name": "80",
         "rawType": "int64",
         "type": "integer"
        },
        {
         "name": "14",
         "rawType": "int64",
         "type": "integer"
        },
        {
         "name": "3.3",
         "rawType": "int64",
         "type": "integer"
        },
        {
         "name": "0.333",
         "rawType": "int64",
         "type": "integer"
        },
        {
         "name": "0.334",
         "rawType": "int64",
         "type": "integer"
        },
        {
         "name": "0.335",
         "rawType": "int64",
         "type": "integer"
        },
        {
         "name": "0.336",
         "rawType": "int64",
         "type": "integer"
        },
        {
         "name": "0.337",
         "rawType": "int64",
         "type": "integer"
        },
        {
         "name": "0.338",
         "rawType": "int64",
         "type": "integer"
        },
        {
         "name": "0.339",
         "rawType": "int64",
         "type": "integer"
        },
        {
         "name": "0.340",
         "rawType": "int64",
         "type": "integer"
        },
        {
         "name": "0.341",
         "rawType": "int64",
         "type": "integer"
        },
        {
         "name": "0.342",
         "rawType": "int64",
         "type": "integer"
        },
        {
         "name": "0.343",
         "rawType": "int64",
         "type": "integer"
        },
        {
         "name": "0.344",
         "rawType": "int64",
         "type": "integer"
        },
        {
         "name": "0.345",
         "rawType": "int64",
         "type": "integer"
        },
        {
         "name": "0.346",
         "rawType": "int64",
         "type": "integer"
        },
        {
         "name": "0.347",
         "rawType": "int64",
         "type": "integer"
        },
        {
         "name": "3.4",
         "rawType": "int64",
         "type": "integer"
        },
        {
         "name": "22.3",
         "rawType": "int64",
         "type": "integer"
        },
        {
         "name": "83.1",
         "rawType": "int64",
         "type": "integer"
        },
        {
         "name": "159.1",
         "rawType": "int64",
         "type": "integer"
        },
        {
         "name": "241",
         "rawType": "int64",
         "type": "integer"
        },
        {
         "name": "254.4",
         "rawType": "int64",
         "type": "integer"
        },
        {
         "name": "254.5",
         "rawType": "int64",
         "type": "integer"
        },
        {
         "name": "254.6",
         "rawType": "int64",
         "type": "integer"
        },
        {
         "name": "255",
         "rawType": "int64",
         "type": "integer"
        },
        {
         "name": "247.2",
         "rawType": "int64",
         "type": "integer"
        },
        {
         "name": "178",
         "rawType": "int64",
         "type": "integer"
        },
        {
         "name": "127.2",
         "rawType": "int64",
         "type": "integer"
        },
        {
         "name": "77.3",
         "rawType": "int64",
         "type": "integer"
        },
        {
         "name": "11",
         "rawType": "int64",
         "type": "integer"
        },
        {
         "name": "2.4",
         "rawType": "int64",
         "type": "integer"
        },
        {
         "name": "0.348",
         "rawType": "int64",
         "type": "integer"
        },
        {
         "name": "0.349",
         "rawType": "int64",
         "type": "integer"
        },
        {
         "name": "0.350",
         "rawType": "int64",
         "type": "integer"
        },
        {
         "name": "0.351",
         "rawType": "int64",
         "type": "integer"
        },
        {
         "name": "0.352",
         "rawType": "int64",
         "type": "integer"
        },
        {
         "name": "0.353",
         "rawType": "int64",
         "type": "integer"
        },
        {
         "name": "0.354",
         "rawType": "int64",
         "type": "integer"
        },
        {
         "name": "0.355",
         "rawType": "int64",
         "type": "integer"
        },
        {
         "name": "0.356",
         "rawType": "int64",
         "type": "integer"
        },
        {
         "name": "0.357",
         "rawType": "int64",
         "type": "integer"
        },
        {
         "name": "0.358",
         "rawType": "int64",
         "type": "integer"
        },
        {
         "name": "0.359",
         "rawType": "int64",
         "type": "integer"
        },
        {
         "name": "0.360",
         "rawType": "int64",
         "type": "integer"
        },
        {
         "name": "0.361",
         "rawType": "int64",
         "type": "integer"
        },
        {
         "name": "7.3",
         "rawType": "int64",
         "type": "integer"
        },
        {
         "name": "50",
         "rawType": "int64",
         "type": "integer"
        },
        {
         "name": "168",
         "rawType": "int64",
         "type": "integer"
        },
        {
         "name": "248.2",
         "rawType": "int64",
         "type": "integer"
        },
        {
         "name": "254.7",
         "rawType": "int64",
         "type": "integer"
        },
        {
         "name": "235.1",
         "rawType": "int64",
         "type": "integer"
        },
        {
         "name": "234.3",
         "rawType": "int64",
         "type": "integer"
        },
        {
         "name": "250.3",
         "rawType": "int64",
         "type": "integer"
        },
        {
         "name": "254.8",
         "rawType": "int64",
         "type": "integer"
        },
        {
         "name": "252.2",
         "rawType": "int64",
         "type": "integer"
        },
        {
         "name": "249.1",
         "rawType": "int64",
         "type": "integer"
        },
        {
         "name": "220",
         "rawType": "int64",
         "type": "integer"
        },
        {
         "name": "139",
         "rawType": "int64",
         "type": "integer"
        },
        {
         "name": "82",
         "rawType": "int64",
         "type": "integer"
        },
        {
         "name": "22.4",
         "rawType": "int64",
         "type": "integer"
        },
        {
         "name": "1.2",
         "rawType": "int64",
         "type": "integer"
        },
        {
         "name": "0.362",
         "rawType": "int64",
         "type": "integer"
        },
        {
         "name": "0.363",
         "rawType": "int64",
         "type": "integer"
        },
        {
         "name": "0.364",
         "rawType": "int64",
         "type": "integer"
        },
        {
         "name": "0.365",
         "rawType": "int64",
         "type": "integer"
        },
        {
         "name": "0.366",
         "rawType": "int64",
         "type": "integer"
        },
        {
         "name": "0.367",
         "rawType": "int64",
         "type": "integer"
        },
        {
         "name": "0.368",
         "rawType": "int64",
         "type": "integer"
        },
        {
         "name": "0.369",
         "rawType": "int64",
         "type": "integer"
        },
        {
         "name": "0.370",
         "rawType": "int64",
         "type": "integer"
        },
        {
         "name": "0.371",
         "rawType": "int64",
         "type": "integer"
        },
        {
         "name": "2.5",
         "rawType": "int64",
         "type": "integer"
        },
        {
         "name": "11.1",
         "rawType": "int64",
         "type": "integer"
        },
        {
         "name": "90.1",
         "rawType": "int64",
         "type": "integer"
        },
        {
         "name": "207.1",
         "rawType": "int64",
         "type": "integer"
        },
        {
         "name": "247.3",
         "rawType": "int64",
         "type": "integer"
        },
        {
         "name": "251.3",
         "rawType": "int64",
         "type": "integer"
        },
        {
         "name": "232.4",
         "rawType": "int64",
         "type": "integer"
        },
        {
         "name": "97.1",
         "rawType": "int64",
         "type": "integer"
        },
        {
         "name": "84.1",
         "rawType": "int64",
         "type": "integer"
        },
        {
         "name": "139.1",
         "rawType": "int64",
         "type": "integer"
        },
        {
         "name": "208.1",
         "rawType": "int64",
         "type": "integer"
        },
        {
         "name": "245",
         "rawType": "int64",
         "type": "integer"
        },
        {
         "name": "252.3",
         "rawType": "int64",
         "type": "integer"
        },
        {
         "name": "253.6",
         "rawType": "int64",
         "type": "integer"
        },
        {
         "name": "250.4",
         "rawType": "int64",
         "type": "integer"
        },
        {
         "name": "231.1",
         "rawType": "int64",
         "type": "integer"
        },
        {
         "name": "159.2",
         "rawType": "int64",
         "type": "integer"
        },
        {
         "name": "47",
         "rawType": "int64",
         "type": "integer"
        },
        {
         "name": "7.4",
         "rawType": "int64",
         "type": "integer"
        },
        {
         "name": "0.372",
         "rawType": "int64",
         "type": "integer"
        },
        {
         "name": "0.373",
         "rawType": "int64",
         "type": "integer"
        },
        {
         "name": "0.374",
         "rawType": "int64",
         "type": "integer"
        },
        {
         "name": "0.375",
         "rawType": "int64",
         "type": "integer"
        },
        {
         "name": "0.376",
         "rawType": "int64",
         "type": "integer"
        },
        {
         "name": "0.377",
         "rawType": "int64",
         "type": "integer"
        },
        {
         "name": "0.378",
         "rawType": "int64",
         "type": "integer"
        },
        {
         "name": "0.379",
         "rawType": "int64",
         "type": "integer"
        },
        {
         "name": "1.3",
         "rawType": "int64",
         "type": "integer"
        },
        {
         "name": "44",
         "rawType": "int64",
         "type": "integer"
        },
        {
         "name": "102",
         "rawType": "int64",
         "type": "integer"
        },
        {
         "name": "183",
         "rawType": "int64",
         "type": "integer"
        },
        {
         "name": "215",
         "rawType": "int64",
         "type": "integer"
        },
        {
         "name": "215.1",
         "rawType": "int64",
         "type": "integer"
        },
        {
         "name": "170",
         "rawType": "int64",
         "type": "integer"
        },
        {
         "name": "83.2",
         "rawType": "int64",
         "type": "integer"
        },
        {
         "name": "7.5",
         "rawType": "int64",
         "type": "integer"
        },
        {
         "name": "2.6",
         "rawType": "int64",
         "type": "integer"
        },
        {
         "name": "9.2",
         "rawType": "int64",
         "type": "integer"
        },
        {
         "name": "46.2",
         "rawType": "int64",
         "type": "integer"
        },
        {
         "name": "115",
         "rawType": "int64",
         "type": "integer"
        },
        {
         "name": "172",
         "rawType": "int64",
         "type": "integer"
        },
        {
         "name": "215.2",
         "rawType": "int64",
         "type": "integer"
        },
        {
         "name": "217",
         "rawType": "int64",
         "type": "integer"
        },
        {
         "name": "217.1",
         "rawType": "int64",
         "type": "integer"
        },
        {
         "name": "209.1",
         "rawType": "int64",
         "type": "integer"
        },
        {
         "name": "169",
         "rawType": "int64",
         "type": "integer"
        },
        {
         "name": "58",
         "rawType": "int64",
         "type": "integer"
        },
        {
         "name": "1.4",
         "rawType": "int64",
         "type": "integer"
        },
        {
         "name": "0.380",
         "rawType": "int64",
         "type": "integer"
        },
        {
         "name": "0.381",
         "rawType": "int64",
         "type": "integer"
        },
        {
         "name": "0.382",
         "rawType": "int64",
         "type": "integer"
        },
        {
         "name": "0.383",
         "rawType": "int64",
         "type": "integer"
        },
        {
         "name": "0.384",
         "rawType": "int64",
         "type": "integer"
        },
        {
         "name": "0.385",
         "rawType": "int64",
         "type": "integer"
        },
        {
         "name": "0.386",
         "rawType": "int64",
         "type": "integer"
        },
        {
         "name": "0.387",
         "rawType": "int64",
         "type": "integer"
        },
        {
         "name": "16",
         "rawType": "int64",
         "type": "integer"
        },
        {
         "name": "33.1",
         "rawType": "int64",
         "type": "integer"
        },
        {
         "name": "36",
         "rawType": "int64",
         "type": "integer"
        },
        {
         "name": "37",
         "rawType": "int64",
         "type": "integer"
        },
        {
         "name": "37.1",
         "rawType": "int64",
         "type": "integer"
        },
        {
         "name": "21",
         "rawType": "int64",
         "type": "integer"
        },
        {
         "name": "3.5",
         "rawType": "int64",
         "type": "integer"
        },
        {
         "name": "0.388",
         "rawType": "int64",
         "type": "integer"
        },
        {
         "name": "0.389",
         "rawType": "int64",
         "type": "integer"
        },
        {
         "name": "0.390",
         "rawType": "int64",
         "type": "integer"
        },
        {
         "name": "0.391",
         "rawType": "int64",
         "type": "integer"
        },
        {
         "name": "4.4",
         "rawType": "int64",
         "type": "integer"
        },
        {
         "name": "21.1",
         "rawType": "int64",
         "type": "integer"
        },
        {
         "name": "37.2",
         "rawType": "int64",
         "type": "integer"
        },
        {
         "name": "37.3",
         "rawType": "int64",
         "type": "integer"
        },
        {
         "name": "37.4",
         "rawType": "int64",
         "type": "integer"
        },
        {
         "name": "37.5",
         "rawType": "int64",
         "type": "integer"
        },
        {
         "name": "36.1",
         "rawType": "int64",
         "type": "integer"
        },
        {
         "name": "17",
         "rawType": "int64",
         "type": "integer"
        },
        {
         "name": "0.392",
         "rawType": "int64",
         "type": "integer"
        },
        {
         "name": "0.393",
         "rawType": "int64",
         "type": "integer"
        },
        {
         "name": "0.394",
         "rawType": "int64",
         "type": "integer"
        },
        {
         "name": "0.395",
         "rawType": "int64",
         "type": "integer"
        },
        {
         "name": "0.396",
         "rawType": "int64",
         "type": "integer"
        },
        {
         "name": "0.397",
         "rawType": "int64",
         "type": "integer"
        },
        {
         "name": "0.398",
         "rawType": "int64",
         "type": "integer"
        },
        {
         "name": "0.399",
         "rawType": "int64",
         "type": "integer"
        },
        {
         "name": "0.400",
         "rawType": "int64",
         "type": "integer"
        },
        {
         "name": "0.401",
         "rawType": "int64",
         "type": "integer"
        },
        {
         "name": "0.402",
         "rawType": "int64",
         "type": "integer"
        },
        {
         "name": "0.403",
         "rawType": "int64",
         "type": "integer"
        },
        {
         "name": "0.404",
         "rawType": "int64",
         "type": "integer"
        },
        {
         "name": "0.405",
         "rawType": "int64",
         "type": "integer"
        },
        {
         "name": "0.406",
         "rawType": "int64",
         "type": "integer"
        },
        {
         "name": "0.407",
         "rawType": "int64",
         "type": "integer"
        },
        {
         "name": "0.408",
         "rawType": "int64",
         "type": "integer"
        },
        {
         "name": "0.409",
         "rawType": "int64",
         "type": "integer"
        },
        {
         "name": "0.410",
         "rawType": "int64",
         "type": "integer"
        },
        {
         "name": "0.411",
         "rawType": "int64",
         "type": "integer"
        },
        {
         "name": "0.412",
         "rawType": "int64",
         "type": "integer"
        },
        {
         "name": "0.413",
         "rawType": "int64",
         "type": "integer"
        },
        {
         "name": "0.414",
         "rawType": "int64",
         "type": "integer"
        },
        {
         "name": "0.415",
         "rawType": "int64",
         "type": "integer"
        },
        {
         "name": "0.416",
         "rawType": "int64",
         "type": "integer"
        },
        {
         "name": "0.417",
         "rawType": "int64",
         "type": "integer"
        },
        {
         "name": "0.418",
         "rawType": "int64",
         "type": "integer"
        },
        {
         "name": "0.419",
         "rawType": "int64",
         "type": "integer"
        },
        {
         "name": "0.420",
         "rawType": "int64",
         "type": "integer"
        },
        {
         "name": "0.421",
         "rawType": "int64",
         "type": "integer"
        },
        {
         "name": "0.422",
         "rawType": "int64",
         "type": "integer"
        },
        {
         "name": "0.423",
         "rawType": "int64",
         "type": "integer"
        },
        {
         "name": "0.424",
         "rawType": "int64",
         "type": "integer"
        },
        {
         "name": "0.425",
         "rawType": "int64",
         "type": "integer"
        },
        {
         "name": "0.426",
         "rawType": "int64",
         "type": "integer"
        },
        {
         "name": "0.427",
         "rawType": "int64",
         "type": "integer"
        },
        {
         "name": "0.428",
         "rawType": "int64",
         "type": "integer"
        },
        {
         "name": "0.429",
         "rawType": "int64",
         "type": "integer"
        },
        {
         "name": "0.430",
         "rawType": "int64",
         "type": "integer"
        },
        {
         "name": "0.431",
         "rawType": "int64",
         "type": "integer"
        },
        {
         "name": "0.432",
         "rawType": "int64",
         "type": "integer"
        },
        {
         "name": "0.433",
         "rawType": "int64",
         "type": "integer"
        },
        {
         "name": "0.434",
         "rawType": "int64",
         "type": "integer"
        },
        {
         "name": "0.435",
         "rawType": "int64",
         "type": "integer"
        },
        {
         "name": "0.436",
         "rawType": "int64",
         "type": "integer"
        },
        {
         "name": "0.437",
         "rawType": "int64",
         "type": "integer"
        },
        {
         "name": "0.438",
         "rawType": "int64",
         "type": "integer"
        },
        {
         "name": "0.439",
         "rawType": "int64",
         "type": "integer"
        },
        {
         "name": "0.440",
         "rawType": "int64",
         "type": "integer"
        },
        {
         "name": "0.441",
         "rawType": "int64",
         "type": "integer"
        },
        {
         "name": "0.442",
         "rawType": "int64",
         "type": "integer"
        },
        {
         "name": "0.443",
         "rawType": "int64",
         "type": "integer"
        },
        {
         "name": "0.444",
         "rawType": "int64",
         "type": "integer"
        },
        {
         "name": "0.445",
         "rawType": "int64",
         "type": "integer"
        },
        {
         "name": "0.446",
         "rawType": "int64",
         "type": "integer"
        },
        {
         "name": "0.447",
         "rawType": "int64",
         "type": "integer"
        },
        {
         "name": "0.448",
         "rawType": "int64",
         "type": "integer"
        },
        {
         "name": "0.449",
         "rawType": "int64",
         "type": "integer"
        },
        {
         "name": "0.450",
         "rawType": "int64",
         "type": "integer"
        },
        {
         "name": "0.451",
         "rawType": "int64",
         "type": "integer"
        },
        {
         "name": "0.452",
         "rawType": "int64",
         "type": "integer"
        },
        {
         "name": "0.453",
         "rawType": "int64",
         "type": "integer"
        },
        {
         "name": "0.454",
         "rawType": "int64",
         "type": "integer"
        },
        {
         "name": "0.455",
         "rawType": "int64",
         "type": "integer"
        },
        {
         "name": "0.456",
         "rawType": "int64",
         "type": "integer"
        },
        {
         "name": "0.457",
         "rawType": "int64",
         "type": "integer"
        },
        {
         "name": "0.458",
         "rawType": "int64",
         "type": "integer"
        },
        {
         "name": "0.459",
         "rawType": "int64",
         "type": "integer"
        },
        {
         "name": "0.460",
         "rawType": "int64",
         "type": "integer"
        },
        {
         "name": "0.461",
         "rawType": "int64",
         "type": "integer"
        },
        {
         "name": "0.462",
         "rawType": "int64",
         "type": "integer"
        },
        {
         "name": "0.463",
         "rawType": "int64",
         "type": "integer"
        },
        {
         "name": "0.464",
         "rawType": "int64",
         "type": "integer"
        },
        {
         "name": "0.465",
         "rawType": "int64",
         "type": "integer"
        },
        {
         "name": "0.466",
         "rawType": "int64",
         "type": "integer"
        },
        {
         "name": "0.467",
         "rawType": "int64",
         "type": "integer"
        },
        {
         "name": "0.468",
         "rawType": "int64",
         "type": "integer"
        },
        {
         "name": "0.469",
         "rawType": "int64",
         "type": "integer"
        },
        {
         "name": "0.470",
         "rawType": "int64",
         "type": "integer"
        },
        {
         "name": "0.471",
         "rawType": "int64",
         "type": "integer"
        },
        {
         "name": "0.472",
         "rawType": "int64",
         "type": "integer"
        },
        {
         "name": "0.473",
         "rawType": "int64",
         "type": "integer"
        },
        {
         "name": "0.474",
         "rawType": "int64",
         "type": "integer"
        },
        {
         "name": "0.475",
         "rawType": "int64",
         "type": "integer"
        },
        {
         "name": "0.476",
         "rawType": "int64",
         "type": "integer"
        },
        {
         "name": "0.477",
         "rawType": "int64",
         "type": "integer"
        },
        {
         "name": "0.478",
         "rawType": "int64",
         "type": "integer"
        },
        {
         "name": "0.479",
         "rawType": "int64",
         "type": "integer"
        },
        {
         "name": "0.480",
         "rawType": "int64",
         "type": "integer"
        },
        {
         "name": "0.481",
         "rawType": "int64",
         "type": "integer"
        },
        {
         "name": "0.482",
         "rawType": "int64",
         "type": "integer"
        },
        {
         "name": "0.483",
         "rawType": "int64",
         "type": "integer"
        },
        {
         "name": "0.484",
         "rawType": "int64",
         "type": "integer"
        },
        {
         "name": "0.485",
         "rawType": "int64",
         "type": "integer"
        },
        {
         "name": "0.486",
         "rawType": "int64",
         "type": "integer"
        },
        {
         "name": "0.487",
         "rawType": "int64",
         "type": "integer"
        },
        {
         "name": "0.488",
         "rawType": "int64",
         "type": "integer"
        },
        {
         "name": "0.489",
         "rawType": "int64",
         "type": "integer"
        },
        {
         "name": "0.490",
         "rawType": "int64",
         "type": "integer"
        },
        {
         "name": "0.491",
         "rawType": "int64",
         "type": "integer"
        },
        {
         "name": "0.492",
         "rawType": "int64",
         "type": "integer"
        },
        {
         "name": "0.493",
         "rawType": "int64",
         "type": "integer"
        },
        {
         "name": "0.494",
         "rawType": "int64",
         "type": "integer"
        },
        {
         "name": "0.495",
         "rawType": "int64",
         "type": "integer"
        },
        {
         "name": "0.496",
         "rawType": "int64",
         "type": "integer"
        },
        {
         "name": "0.497",
         "rawType": "int64",
         "type": "integer"
        },
        {
         "name": "0.498",
         "rawType": "int64",
         "type": "integer"
        },
        {
         "name": "0.499",
         "rawType": "int64",
         "type": "integer"
        },
        {
         "name": "0.500",
         "rawType": "int64",
         "type": "integer"
        },
        {
         "name": "0.501",
         "rawType": "int64",
         "type": "integer"
        },
        {
         "name": "0.502",
         "rawType": "int64",
         "type": "integer"
        },
        {
         "name": "0.503",
         "rawType": "int64",
         "type": "integer"
        },
        {
         "name": "0.504",
         "rawType": "int64",
         "type": "integer"
        },
        {
         "name": "0.505",
         "rawType": "int64",
         "type": "integer"
        },
        {
         "name": "0.506",
         "rawType": "int64",
         "type": "integer"
        },
        {
         "name": "0.507",
         "rawType": "int64",
         "type": "integer"
        },
        {
         "name": "0.508",
         "rawType": "int64",
         "type": "integer"
        },
        {
         "name": "0.509",
         "rawType": "int64",
         "type": "integer"
        },
        {
         "name": "0.510",
         "rawType": "int64",
         "type": "integer"
        },
        {
         "name": "0.511",
         "rawType": "int64",
         "type": "integer"
        },
        {
         "name": "0.512",
         "rawType": "int64",
         "type": "integer"
        },
        {
         "name": "0.513",
         "rawType": "int64",
         "type": "integer"
        },
        {
         "name": "0.514",
         "rawType": "int64",
         "type": "integer"
        },
        {
         "name": "0.515",
         "rawType": "int64",
         "type": "integer"
        },
        {
         "name": "0.516",
         "rawType": "int64",
         "type": "integer"
        },
        {
         "name": "0.517",
         "rawType": "int64",
         "type": "integer"
        },
        {
         "name": "0.518",
         "rawType": "int64",
         "type": "integer"
        },
        {
         "name": "0.519",
         "rawType": "int64",
         "type": "integer"
        },
        {
         "name": "0.520",
         "rawType": "int64",
         "type": "integer"
        },
        {
         "name": "0.521",
         "rawType": "int64",
         "type": "integer"
        },
        {
         "name": "0.522",
         "rawType": "int64",
         "type": "integer"
        },
        {
         "name": "0.523",
         "rawType": "int64",
         "type": "integer"
        },
        {
         "name": "0.524",
         "rawType": "int64",
         "type": "integer"
        },
        {
         "name": "0.525",
         "rawType": "int64",
         "type": "integer"
        },
        {
         "name": "0.526",
         "rawType": "int64",
         "type": "integer"
        },
        {
         "name": "0.527",
         "rawType": "int64",
         "type": "integer"
        },
        {
         "name": "0.528",
         "rawType": "int64",
         "type": "integer"
        },
        {
         "name": "0.529",
         "rawType": "int64",
         "type": "integer"
        },
        {
         "name": "0.530",
         "rawType": "int64",
         "type": "integer"
        },
        {
         "name": "0.531",
         "rawType": "int64",
         "type": "integer"
        },
        {
         "name": "0.532",
         "rawType": "int64",
         "type": "integer"
        },
        {
         "name": "0.533",
         "rawType": "int64",
         "type": "integer"
        },
        {
         "name": "0.534",
         "rawType": "int64",
         "type": "integer"
        },
        {
         "name": "0.535",
         "rawType": "int64",
         "type": "integer"
        },
        {
         "name": "0.536",
         "rawType": "int64",
         "type": "integer"
        },
        {
         "name": "0.537",
         "rawType": "int64",
         "type": "integer"
        },
        {
         "name": "0.538",
         "rawType": "int64",
         "type": "integer"
        },
        {
         "name": "0.539",
         "rawType": "int64",
         "type": "integer"
        },
        {
         "name": "0.540",
         "rawType": "int64",
         "type": "integer"
        },
        {
         "name": "0.541",
         "rawType": "int64",
         "type": "integer"
        },
        {
         "name": "0.542",
         "rawType": "int64",
         "type": "integer"
        },
        {
         "name": "0.543",
         "rawType": "int64",
         "type": "integer"
        },
        {
         "name": "0.544",
         "rawType": "int64",
         "type": "integer"
        },
        {
         "name": "0.545",
         "rawType": "int64",
         "type": "integer"
        },
        {
         "name": "0.546",
         "rawType": "int64",
         "type": "integer"
        },
        {
         "name": "0.547",
         "rawType": "int64",
         "type": "integer"
        },
        {
         "name": "0.548",
         "rawType": "int64",
         "type": "integer"
        },
        {
         "name": "0.549",
         "rawType": "int64",
         "type": "integer"
        },
        {
         "name": "0.550",
         "rawType": "int64",
         "type": "integer"
        },
        {
         "name": "0.551",
         "rawType": "int64",
         "type": "integer"
        },
        {
         "name": "0.552",
         "rawType": "int64",
         "type": "integer"
        },
        {
         "name": "0.553",
         "rawType": "int64",
         "type": "integer"
        },
        {
         "name": "0.554",
         "rawType": "int64",
         "type": "integer"
        },
        {
         "name": "0.555",
         "rawType": "int64",
         "type": "integer"
        },
        {
         "name": "0.556",
         "rawType": "int64",
         "type": "integer"
        },
        {
         "name": "0.557",
         "rawType": "int64",
         "type": "integer"
        },
        {
         "name": "0.558",
         "rawType": "int64",
         "type": "integer"
        },
        {
         "name": "0.559",
         "rawType": "int64",
         "type": "integer"
        },
        {
         "name": "0.560",
         "rawType": "int64",
         "type": "integer"
        },
        {
         "name": "0.561",
         "rawType": "int64",
         "type": "integer"
        }
       ],
       "ref": "b635e90b-6483-4ab8-af50-3ff80c369acc",
       "rows": [
        [
         "0",
         "-2",
         "142",
         "142",
         "142",
         "142",
         "142",
         "142",
         "142",
         "142",
         "142",
         "142",
         "142",
         "142",
         "142",
         "142",
         "142",
         "142",
         "142",
         "142",
         "142",
         "142",
         "142",
         "142",
         "142",
         "142",
         "142",
         "142",
         "142",
         "142",
         "142",
         "142",
         "142",
         "142",
         "142",
         "142",
         "142",
         "142",
         "142",
         "142",
         "142",
         "142",
         "142",
         "142",
         "142",
         "142",
         "142",
         "142",
         "142",
         "142",
         "142",
         "142",
         "142",
         "142",
         "142",
         "142",
         "142",
         "142",
         "142",
         "142",
         "142",
         "142",
         "142",
         "142",
         "142",
         "142",
         "142",
         "142",
         "142",
         "142",
         "142",
         "142",
         "142",
         "142",
         "142",
         "142",
         "142",
         "142",
         "142",
         "142",
         "142",
         "142",
         "142",
         "142",
         "142",
         "142",
         "142",
         "142",
         "142",
         "142",
         "142",
         "142",
         "142",
         "142",
         "142",
         "142",
         "142",
         "142",
         "142",
         "142",
         "142",
         "142",
         "142",
         "142",
         "142",
         "142",
         "142",
         "142",
         "142",
         "142",
         "142",
         "142",
         "142",
         "142",
         "142",
         "142",
         "142",
         "142",
         "142",
         "142",
         "142",
         "142",
         "142",
         "142",
         "142",
         "142",
         "142",
         "142",
         "142",
         "142",
         "142",
         "142",
         "142",
         "142",
         "142",
         "142",
         "142",
         "142",
         "142",
         "142",
         "142",
         "142",
         "142",
         "142",
         "142",
         "142",
         "142",
         "142",
         "142",
         "142",
         "142",
         "142",
         "142",
         "142",
         "142",
         "142",
         "142",
         "142",
         "142",
         "142",
         "142",
         "142",
         "142",
         "142",
         "142",
         "142",
         "142",
         "142",
         "142",
         "142",
         "142",
         "142",
         "142",
         "142",
         "142",
         "142",
         "142",
         "142",
         "142",
         "142",
         "142",
         "142",
         "142",
         "142",
         "142",
         "142",
         "142",
         "142",
         "142",
         "142",
         "142",
         "142",
         "142",
         "142",
         "142",
         "142",
         "142",
         "142",
         "142",
         "142",
         "142",
         "142",
         "142",
         "142",
         "142",
         "142",
         "142",
         "142",
         "142",
         "142",
         "142",
         "142",
         "142",
         "142",
         "142",
         "142",
         "142",
         "142",
         "142",
         "142",
         "142",
         "142",
         "142",
         "142",
         "142",
         "142",
         "142",
         "142",
         "142",
         "142",
         "142",
         "142",
         "142",
         "142",
         "142",
         "142",
         "142",
         "142",
         "142",
         "142",
         "142",
         "142",
         "142",
         "142",
         "142",
         "142",
         "142",
         "142",
         "142",
         "142",
         "142",
         "142",
         "142",
         "142",
         "142",
         "142",
         "142",
         "142",
         "142",
         "142",
         "142",
         "142",
         "142",
         "142",
         "142",
         "142",
         "142",
         "142",
         "142",
         "142",
         "142",
         "142",
         "142",
         "142",
         "142",
         "142",
         "142",
         "142",
         "142",
         "142",
         "142",
         "142",
         "142",
         "142",
         "142",
         "142",
         "142",
         "142",
         "142",
         "142",
         "142",
         "142",
         "142",
         "142",
         "142",
         "142",
         "142",
         "142",
         "142",
         "142",
         "142",
         "142",
         "142",
         "142",
         "142",
         "142",
         "142",
         "142",
         "142",
         "142",
         "142",
         "142",
         "142",
         "142",
         "142",
         "142",
         "142",
         "142",
         "142",
         "142",
         "142",
         "142",
         "142",
         "142",
         "142",
         "142",
         "142",
         "142",
         "142",
         "142",
         "142",
         "142",
         "142",
         "142",
         "142",
         "142",
         "142",
         "142",
         "142",
         "142",
         "142",
         "142",
         "142",
         "142",
         "142",
         "142",
         "142",
         "142",
         "142",
         "142",
         "142",
         "142",
         "142",
         "142",
         "142",
         "142",
         "142",
         "142",
         "142",
         "142",
         "142",
         "142",
         "142",
         "142",
         "142",
         "142",
         "142",
         "142",
         "142",
         "142",
         "142",
         "142",
         "142",
         "142",
         "142",
         "142",
         "142",
         "142",
         "142",
         "142",
         "142",
         "142",
         "142",
         "142",
         "142",
         "142",
         "142",
         "142",
         "142",
         "142",
         "142",
         "142",
         "142",
         "142",
         "142",
         "142",
         "142",
         "142",
         "142",
         "142",
         "142",
         "142",
         "142",
         "142",
         "142",
         "142",
         "142",
         "142",
         "142",
         "142",
         "142",
         "142",
         "142",
         "142",
         "142",
         "142",
         "142",
         "142",
         "142",
         "142",
         "142",
         "142",
         "142",
         "142",
         "142",
         "142",
         "142",
         "142",
         "142",
         "142",
         "142",
         "142",
         "142",
         "142",
         "142",
         "142",
         "142",
         "142",
         "142",
         "142",
         "142",
         "142",
         "142",
         "142",
         "142",
         "142",
         "142",
         "142",
         "142",
         "142",
         "142",
         "142",
         "142",
         "142",
         "142",
         "142",
         "142",
         "142",
         "142",
         "142",
         "142",
         "142",
         "142",
         "142",
         "142",
         "142",
         "142",
         "142",
         "142",
         "142",
         "142",
         "142",
         "142",
         "142",
         "142",
         "142",
         "142",
         "142",
         "142",
         "142",
         "142",
         "142",
         "142",
         "142",
         "142",
         "142",
         "142",
         "142",
         "142",
         "142",
         "142",
         "142",
         "142",
         "142",
         "142",
         "142",
         "142",
         "142",
         "142",
         "142",
         "142",
         "142",
         "142",
         "142",
         "142",
         "142",
         "142",
         "142",
         "142",
         "142",
         "142",
         "142",
         "142",
         "142",
         "142",
         "142",
         "142",
         "142",
         "142",
         "142",
         "142",
         "142",
         "142",
         "142",
         "142",
         "142",
         "142",
         "142",
         "142",
         "142",
         "142",
         "142",
         "142",
         "142",
         "142",
         "142",
         "142",
         "142",
         "142",
         "142",
         "142",
         "142",
         "142",
         "142",
         "142",
         "142",
         "142",
         "142",
         "142",
         "142",
         "142",
         "142",
         "142",
         "142",
         "142",
         "142",
         "142",
         "142",
         "142",
         "142",
         "142",
         "142",
         "142",
         "142",
         "142",
         "142",
         "142",
         "142",
         "142",
         "142",
         "142",
         "142",
         "142",
         "142",
         "142",
         "142",
         "142",
         "142",
         "142",
         "142",
         "142",
         "142",
         "142",
         "142",
         "142",
         "142",
         "142",
         "142",
         "142",
         "142",
         "142",
         "142",
         "142",
         "142",
         "142",
         "142",
         "142",
         "142",
         "142",
         "142",
         "142",
         "142",
         "142",
         "142",
         "142",
         "142",
         "142",
         "142",
         "142",
         "142",
         "142",
         "142",
         "142",
         "142",
         "142",
         "142",
         "142",
         "142",
         "142",
         "142",
         "142",
         "142",
         "142",
         "142",
         "142",
         "142",
         "142",
         "142",
         "142",
         "142",
         "142",
         "142",
         "142",
         "142",
         "142",
         "142",
         "142",
         "142",
         "142",
         "142",
         "142",
         "142",
         "142",
         "142",
         "142",
         "142",
         "142",
         "142",
         "142",
         "142",
         "142",
         "142",
         "142",
         "142",
         "142",
         "142",
         "142",
         "142",
         "142",
         "142",
         "142",
         "142",
         "142",
         "142",
         "142",
         "142",
         "142",
         "142",
         "142",
         "142",
         "142",
         "142",
         "142",
         "142",
         "142",
         "142",
         "142",
         "142",
         "142",
         "142",
         "142",
         "142",
         "142",
         "142",
         "142",
         "142",
         "142",
         "142",
         "142",
         "142",
         "142",
         "142",
         "142",
         "142",
         "142",
         "142",
         "142",
         "142",
         "142",
         "142",
         "142",
         "142",
         "142",
         "142",
         "142",
         "142",
         "142",
         "142",
         "142",
         "142",
         "142",
         "142",
         "142",
         "142",
         "142",
         "142",
         "142",
         "142",
         "142",
         "142",
         "142",
         "142",
         "142",
         "142",
         "142",
         "142",
         "142",
         "142",
         "142",
         "142",
         "142",
         "142",
         "142",
         "142",
         "142",
         "142",
         "142",
         "142",
         "142",
         "142",
         "142",
         "142",
         "142",
         "142",
         "142",
         "142",
         "142",
         "142",
         "142",
         "142",
         "142",
         "142",
         "142",
         "142",
         "142",
         "142",
         "142",
         "142",
         "142",
         "142",
         "142",
         "142",
         "142",
         "142",
         "142",
         "142",
         "142",
         "142",
         "142",
         "142",
         "142",
         "142",
         "142",
         "142",
         "142",
         "142",
         "142",
         "142",
         "142",
         "142",
         "142",
         "142",
         "142",
         "142",
         "142",
         "142"
        ],
        [
         "1",
         "15",
         "0",
         "0",
         "0",
         "0",
         "0",
         "0",
         "0",
         "0",
         "0",
         "0",
         "0",
         "0",
         "0",
         "0",
         "0",
         "0",
         "0",
         "0",
         "0",
         "0",
         "0",
         "0",
         "0",
         "0",
         "0",
         "0",
         "0",
         "0",
         "0",
         "0",
         "0",
         "0",
         "0",
         "0",
         "0",
         "0",
         "0",
         "0",
         "0",
         "0",
         "0",
         "0",
         "0",
         "0",
         "0",
         "0",
         "0",
         "0",
         "0",
         "0",
         "0",
         "0",
         "0",
         "0",
         "0",
         "0",
         "0",
         "0",
         "0",
         "0",
         "0",
         "0",
         "0",
         "0",
         "0",
         "0",
         "0",
         "0",
         "0",
         "0",
         "0",
         "0",
         "0",
         "0",
         "0",
         "0",
         "0",
         "0",
         "0",
         "0",
         "0",
         "0",
         "0",
         "0",
         "0",
         "0",
         "0",
         "0",
         "0",
         "0",
         "0",
         "0",
         "0",
         "0",
         "0",
         "0",
         "0",
         "0",
         "0",
         "0",
         "0",
         "0",
         "0",
         "0",
         "0",
         "0",
         "0",
         "0",
         "0",
         "0",
         "0",
         "0",
         "0",
         "0",
         "0",
         "0",
         "0",
         "0",
         "0",
         "0",
         "4",
         "21",
         "50",
         "125",
         "114",
         "39",
         "37",
         "32",
         "1",
         "0",
         "0",
         "0",
         "0",
         "0",
         "0",
         "0",
         "0",
         "0",
         "0",
         "0",
         "0",
         "0",
         "0",
         "0",
         "0",
         "3",
         "77",
         "140",
         "203",
         "233",
         "250",
         "254",
         "253",
         "250",
         "250",
         "243",
         "127",
         "10",
         "0",
         "0",
         "0",
         "0",
         "0",
         "0",
         "0",
         "0",
         "0",
         "0",
         "0",
         "0",
         "0",
         "0",
         "20",
         "170",
         "241",
         "204",
         "140",
         "127",
         "127",
         "127",
         "127",
         "141",
         "220",
         "254",
         "253",
         "208",
         "115",
         "8",
         "0",
         "0",
         "0",
         "0",
         "0",
         "0",
         "0",
         "0",
         "0",
         "0",
         "0",
         "1",
         "95",
         "248",
         "195",
         "36",
         "9",
         "4",
         "4",
         "4",
         "4",
         "11",
         "79",
         "208",
         "253",
         "254",
         "243",
         "96",
         "34",
         "1",
         "0",
         "0",
         "0",
         "0",
         "0",
         "0",
         "0",
         "0",
         "1",
         "47",
         "243",
         "195",
         "12",
         "0",
         "0",
         "0",
         "0",
         "0",
         "0",
         "0",
         "0",
         "10",
         "158",
         "234",
         "254",
         "252",
         "243",
         "96",
         "32",
         "1",
         "0",
         "0",
         "0",
         "0",
         "0",
         "0",
         "32",
         "202",
         "220",
         "23",
         "0",
         "0",
         "0",
         "0",
         "0",
         "0",
         "0",
         "0",
         "0",
         "0",
         "2",
         "36",
         "218",
         "254",
         "254",
         "252",
         "243",
         "95",
         "5",
         "0",
         "0",
         "0",
         "0",
         "0",
         "51",
         "221",
         "115",
         "0",
         "0",
         "0",
         "0",
         "0",
         "0",
         "0",
         "0",
         "0",
         "0",
         "0",
         "0",
         "0",
         "23",
         "207",
         "253",
         "255",
         "254",
         "250",
         "131",
         "33",
         "0",
         "0",
         "0",
         "2",
         "170",
         "247",
         "39",
         "0",
         "0",
         "0",
         "0",
         "0",
         "0",
         "0",
         "0",
         "0",
         "0",
         "0",
         "0",
         "0",
         "0",
         "90",
         "206",
         "222",
         "252",
         "254",
         "253",
         "207",
         "8",
         "0",
         "0",
         "4",
         "215",
         "250",
         "37",
         "0",
         "0",
         "0",
         "0",
         "0",
         "0",
         "0",
         "0",
         "0",
         "0",
         "0",
         "0",
         "0",
         "0",
         "48",
         "48",
         "51",
         "187",
         "250",
         "254",
         "245",
         "32",
         "0",
         "0",
         "21",
         "233",
         "250",
         "37",
         "0",
         "0",
         "0",
         "0",
         "0",
         "0",
         "0",
         "0",
         "0",
         "0",
         "0",
         "0",
         "0",
         "0",
         "0",
         "0",
         "0",
         "18",
         "69",
         "251",
         "250",
         "37",
         "0",
         "0",
         "21",
         "233",
         "250",
         "39",
         "0",
         "0",
         "0",
         "0",
         "0",
         "0",
         "0",
         "0",
         "0",
         "0",
         "0",
         "0",
         "0",
         "0",
         "0",
         "0",
         "0",
         "0",
         "37",
         "250",
         "249",
         "37",
         "0",
         "0",
         "2",
         "172",
         "251",
         "128",
         "1",
         "0",
         "0",
         "0",
         "0",
         "0",
         "0",
         "0",
         "0",
         "0",
         "0",
         "0",
         "0",
         "0",
         "0",
         "0",
         "0",
         "0",
         "39",
         "250",
         "222",
         "9",
         "0",
         "0",
         "0",
         "115",
         "245",
         "221",
         "35",
         "0",
         "0",
         "0",
         "0",
         "0",
         "0",
         "0",
         "0",
         "0",
         "0",
         "0",
         "0",
         "0",
         "0",
         "0",
         "0",
         "0",
         "84",
         "252",
         "217",
         "4",
         "0",
         "0",
         "0",
         "22",
         "159",
         "253",
         "221",
         "67",
         "0",
         "0",
         "0",
         "0",
         "0",
         "0",
         "0",
         "0",
         "0",
         "0",
         "0",
         "0",
         "0",
         "0",
         "0",
         "35",
         "221",
         "251",
         "170",
         "2",
         "0",
         "0",
         "0",
         "0",
         "20",
         "188",
         "254",
         "222",
         "115",
         "34",
         "0",
         "0",
         "0",
         "0",
         "0",
         "0",
         "0",
         "0",
         "0",
         "0",
         "0",
         "0",
         "23",
         "218",
         "254",
         "175",
         "34",
         "0",
         "0",
         "0",
         "0",
         "0",
         "0",
         "65",
         "220",
         "254",
         "253",
         "232",
         "140",
         "114",
         "22",
         "0",
         "0",
         "0",
         "0",
         "0",
         "0",
         "0",
         "3",
         "24",
         "196",
         "254",
         "219",
         "33",
         "0",
         "0",
         "0",
         "0",
         "0",
         "0",
         "0",
         "0",
         "22",
         "159",
         "247",
         "254",
         "254",
         "254",
         "220",
         "129",
         "127",
         "127",
         "127",
         "127",
         "127",
         "127",
         "172",
         "232",
         "254",
         "232",
         "36",
         "0",
         "0",
         "0",
         "0",
         "0",
         "0",
         "0",
         "0",
         "0",
         "0",
         "22",
         "159",
         "220",
         "251",
         "254",
         "254",
         "250",
         "250",
         "250",
         "250",
         "250",
         "250",
         "250",
         "252",
         "254",
         "249",
         "154",
         "3",
         "0",
         "0",
         "0",
         "0",
         "0",
         "0",
         "0",
         "0",
         "0",
         "0",
         "0",
         "2",
         "9",
         "83",
         "203",
         "233",
         "252",
         "254",
         "254",
         "255",
         "255",
         "254",
         "254",
         "252",
         "243",
         "123",
         "4",
         "0",
         "0",
         "0",
         "0",
         "0",
         "0",
         "0",
         "0",
         "0",
         "0",
         "0",
         "0",
         "0",
         "0",
         "0",
         "4",
         "21",
         "82",
         "172",
         "215",
         "217",
         "217",
         "217",
         "172",
         "82",
         "34",
         "1",
         "0",
         "0",
         "0",
         "0",
         "0",
         "0",
         "0",
         "0",
         "0",
         "0",
         "0",
         "0",
         "0",
         "0",
         "0",
         "0",
         "0",
         "0",
         "0",
         "2",
         "4",
         "4",
         "4",
         "4",
         "2",
         "0",
         "0",
         "0",
         "0",
         "0",
         "0",
         "0",
         "0",
         "0",
         "0",
         "0",
         "0",
         "0",
         "0",
         "0",
         "0",
         "0",
         "0",
         "0",
         "0",
         "0",
         "0",
         "0",
         "0",
         "0",
         "0",
         "0",
         "0",
         "0",
         "0",
         "0",
         "0",
         "0",
         "0",
         "0",
         "0",
         "0",
         "0",
         "0",
         "0",
         "0",
         "0",
         "0",
         "0",
         "0",
         "0",
         "0",
         "0",
         "0",
         "0",
         "0",
         "0",
         "0",
         "0",
         "0",
         "0",
         "0",
         "0",
         "0",
         "0",
         "0",
         "0",
         "0",
         "0",
         "0",
         "0",
         "0",
         "0",
         "0",
         "0",
         "0",
         "0",
         "0",
         "0",
         "0",
         "0",
         "0",
         "0",
         "0",
         "0",
         "0",
         "0",
         "0",
         "0",
         "0",
         "0",
         "0",
         "0",
         "0",
         "0",
         "0",
         "0",
         "0"
        ],
        [
         "2",
         "14",
         "0",
         "0",
         "0",
         "0",
         "0",
         "0",
         "0",
         "0",
         "0",
         "0",
         "0",
         "0",
         "0",
         "0",
         "0",
         "0",
         "0",
         "0",
         "0",
         "0",
         "0",
         "0",
         "0",
         "0",
         "0",
         "0",
         "0",
         "0",
         "0",
         "0",
         "0",
         "0",
         "0",
         "0",
         "0",
         "0",
         "0",
         "0",
         "0",
         "0",
         "0",
         "0",
         "0",
         "0",
         "0",
         "0",
         "0",
         "0",
         "0",
         "0",
         "0",
         "0",
         "0",
         "0",
         "0",
         "0",
         "0",
         "0",
         "0",
         "0",
         "0",
         "0",
         "0",
         "0",
         "0",
         "0",
         "0",
         "0",
         "0",
         "0",
         "0",
         "0",
         "0",
         "0",
         "0",
         "2",
         "4",
         "3",
         "2",
         "0",
         "0",
         "0",
         "0",
         "0",
         "0",
         "0",
         "0",
         "0",
         "0",
         "0",
         "0",
         "0",
         "0",
         "0",
         "0",
         "0",
         "0",
         "0",
         "0",
         "0",
         "0",
         "1",
         "7",
         "20",
         "36",
         "32",
         "18",
         "0",
         "0",
         "0",
         "0",
         "0",
         "0",
         "0",
         "0",
         "0",
         "0",
         "0",
         "0",
         "0",
         "0",
         "0",
         "0",
         "0",
         "0",
         "0",
         "0",
         "1",
         "7",
         "47",
         "95",
         "159",
         "211",
         "185",
         "110",
         "4",
         "0",
         "0",
         "0",
         "0",
         "0",
         "0",
         "0",
         "0",
         "0",
         "0",
         "0",
         "0",
         "0",
         "0",
         "0",
         "0",
         "0",
         "0",
         "1",
         "8",
         "33",
         "127",
         "175",
         "220",
         "245",
         "217",
         "136",
         "8",
         "0",
         "0",
         "0",
         "0",
         "0",
         "0",
         "0",
         "0",
         "0",
         "0",
         "0",
         "0",
         "0",
         "0",
         "0",
         "0",
         "0",
         "0",
         "10",
         "36",
         "91",
         "207",
         "232",
         "247",
         "251",
         "228",
         "158",
         "16",
         "1",
         "0",
         "0",
         "0",
         "0",
         "0",
         "0",
         "0",
         "1",
         "20",
         "32",
         "37",
         "37",
         "37",
         "37",
         "37",
         "39",
         "51",
         "128",
         "175",
         "221",
         "253",
         "254",
         "253",
         "231",
         "194",
         "120",
         "8",
         "0",
         "0",
         "0",
         "0",
         "0",
         "0",
         "0",
         "0",
         "7",
         "76",
         "113",
         "125",
         "127",
         "127",
         "127",
         "127",
         "129",
         "140",
         "208",
         "232",
         "247",
         "254",
         "253",
         "246",
         "175",
         "123",
         "67",
         "2",
         "0",
         "0",
         "0",
         "0",
         "0",
         "0",
         "0",
         "2",
         "19",
         "151",
         "200",
         "215",
         "217",
         "217",
         "217",
         "217",
         "217",
         "222",
         "246",
         "251",
         "254",
         "251",
         "244",
         "218",
         "95",
         "47",
         "20",
         "0",
         "0",
         "0",
         "0",
         "0",
         "0",
         "0",
         "0",
         "2",
         "19",
         "156",
         "217",
         "243",
         "250",
         "252",
         "254",
         "254",
         "254",
         "254",
         "254",
         "251",
         "244",
         "175",
         "127",
         "79",
         "8",
         "1",
         "0",
         "0",
         "0",
         "0",
         "0",
         "0",
         "0",
         "0",
         "0",
         "0",
         "7",
         "90",
         "158",
         "202",
         "224",
         "237",
         "250",
         "255",
         "254",
         "254",
         "246",
         "232",
         "207",
         "95",
         "47",
         "22",
         "1",
         "0",
         "0",
         "0",
         "0",
         "0",
         "0",
         "0",
         "0",
         "0",
         "0",
         "0",
         "1",
         "33",
         "77",
         "114",
         "159",
         "204",
         "241",
         "254",
         "253",
         "247",
         "208",
         "171",
         "126",
         "34",
         "10",
         "3",
         "0",
         "0",
         "0",
         "0",
         "0",
         "0",
         "0",
         "0",
         "0",
         "0",
         "0",
         "0",
         "0",
         "1",
         "5",
         "16",
         "132",
         "211",
         "246",
         "245",
         "219",
         "164",
         "47",
         "22",
         "8",
         "0",
         "0",
         "0",
         "0",
         "0",
         "0",
         "0",
         "0",
         "0",
         "0",
         "0",
         "0",
         "0",
         "0",
         "0",
         "0",
         "5",
         "20",
         "47",
         "176",
         "232",
         "250",
         "219",
         "163",
         "91",
         "10",
         "3",
         "0",
         "0",
         "0",
         "0",
         "0",
         "0",
         "0",
         "0",
         "0",
         "0",
         "0",
         "0",
         "0",
         "0",
         "0",
         "0",
         "0",
         "33",
         "110",
         "190",
         "246",
         "244",
         "219",
         "91",
         "35",
         "9",
         "0",
         "0",
         "0",
         "3",
         "8",
         "21",
         "36",
         "32",
         "20",
         "1",
         "0",
         "0",
         "0",
         "0",
         "0",
         "0",
         "0",
         "0",
         "0",
         "50",
         "138",
         "218",
         "246",
         "221",
         "164",
         "35",
         "9",
         "1",
         "0",
         "0",
         "3",
         "22",
         "46",
         "82",
         "124",
         "112",
         "75",
         "6",
         "0",
         "0",
         "0",
         "0",
         "0",
         "0",
         "0",
         "0",
         "2",
         "82",
         "172",
         "233",
         "234",
         "177",
         "96",
         "9",
         "1",
         "0",
         "1",
         "7",
         "22",
         "83",
         "127",
         "170",
         "213",
         "196",
         "140",
         "15",
         "1",
         "0",
         "0",
         "0",
         "0",
         "0",
         "0",
         "0",
         "8",
         "137",
         "219",
         "249",
         "206",
         "118",
         "38",
         "21",
         "32",
         "37",
         "52",
         "95",
         "159",
         "232",
         "245",
         "251",
         "232",
         "194",
         "120",
         "8",
         "0",
         "0",
         "0",
         "0",
         "0",
         "0",
         "0",
         "1",
         "16",
         "159",
         "228",
         "250",
         "187",
         "103",
         "48",
         "82",
         "114",
         "125",
         "141",
         "177",
         "220",
         "251",
         "253",
         "250",
         "186",
         "127",
         "67",
         "2",
         "0",
         "0",
         "0",
         "0",
         "0",
         "0",
         "0",
         "1",
         "16",
         "159",
         "228",
         "250",
         "192",
         "128",
         "104",
         "170",
         "203",
         "215",
         "222",
         "234",
         "246",
         "250",
         "245",
         "230",
         "127",
         "58",
         "22",
         "0",
         "0",
         "0",
         "0",
         "0",
         "0",
         "0",
         "0",
         "0",
         "4",
         "115",
         "202",
         "243",
         "248",
         "239",
         "238",
         "251",
         "253",
         "251",
         "233",
         "220",
         "204",
         "139",
         "115",
         "82",
         "20",
         "5",
         "0",
         "0",
         "0",
         "0",
         "0",
         "0",
         "0",
         "0",
         "0",
         "0",
         "2",
         "77",
         "158",
         "218",
         "248",
         "248",
         "248",
         "249",
         "245",
         "232",
         "172",
         "139",
         "115",
         "50",
         "34",
         "21",
         "2",
         "0",
         "0",
         "0",
         "0",
         "0",
         "0",
         "0",
         "0",
         "0",
         "0",
         "0",
         "0",
         "33",
         "90",
         "158",
         "215",
         "217",
         "217",
         "215",
         "203",
         "170",
         "84",
         "50",
         "34",
         "9",
         "4",
         "2",
         "0",
         "0",
         "0",
         "0",
         "0",
         "0",
         "0",
         "0",
         "0",
         "0",
         "0",
         "0",
         "0",
         "1",
         "7",
         "20",
         "37",
         "37",
         "37",
         "37",
         "32",
         "21",
         "3",
         "0",
         "0",
         "0",
         "0",
         "0",
         "0",
         "0",
         "0",
         "0",
         "0",
         "0",
         "0",
         "0",
         "0",
         "0",
         "0",
         "0",
         "0",
         "0",
         "0",
         "2",
         "4",
         "4",
         "4",
         "4",
         "4",
         "2",
         "0",
         "0",
         "0",
         "0",
         "0",
         "0",
         "0",
         "0",
         "0",
         "0",
         "0",
         "0",
         "0",
         "0",
         "0",
         "0",
         "0",
         "0",
         "0",
         "0",
         "0",
         "0",
         "0",
         "0",
         "0",
         "0",
         "0",
         "0",
         "0",
         "0",
         "0",
         "0",
         "0",
         "0",
         "0",
         "0",
         "0",
         "0",
         "0",
         "0",
         "0",
         "0",
         "0",
         "0",
         "0",
         "0",
         "0",
         "0",
         "0",
         "0",
         "0",
         "0",
         "0",
         "0",
         "0",
         "0",
         "0",
         "0",
         "0",
         "0",
         "0",
         "0",
         "0",
         "0",
         "0",
         "0",
         "0",
         "0",
         "0",
         "0"
        ],
        [
         "3",
         "-2",
         "120",
         "120",
         "120",
         "120",
         "120",
         "120",
         "120",
         "120",
         "120",
         "120",
         "120",
         "120",
         "120",
         "120",
         "120",
         "120",
         "120",
         "120",
         "120",
         "120",
         "120",
         "120",
         "120",
         "120",
         "120",
         "120",
         "120",
         "120",
         "120",
         "120",
         "120",
         "120",
         "120",
         "120",
         "120",
         "120",
         "120",
         "120",
         "120",
         "120",
         "120",
         "120",
         "120",
         "120",
         "120",
         "120",
         "120",
         "120",
         "120",
         "120",
         "120",
         "120",
         "120",
         "120",
         "120",
         "120",
         "120",
         "120",
         "120",
         "120",
         "120",
         "120",
         "120",
         "120",
         "120",
         "120",
         "120",
         "120",
         "120",
         "120",
         "120",
         "120",
         "120",
         "120",
         "120",
         "120",
         "120",
         "120",
         "120",
         "120",
         "120",
         "120",
         "120",
         "120",
         "120",
         "120",
         "120",
         "120",
         "120",
         "120",
         "120",
         "120",
         "120",
         "120",
         "120",
         "120",
         "120",
         "120",
         "120",
         "120",
         "120",
         "120",
         "120",
         "120",
         "120",
         "120",
         "120",
         "120",
         "120",
         "120",
         "120",
         "120",
         "120",
         "120",
         "120",
         "120",
         "120",
         "120",
         "120",
         "120",
         "120",
         "120",
         "120",
         "120",
         "120",
         "120",
         "120",
         "120",
         "120",
         "120",
         "120",
         "120",
         "120",
         "120",
         "120",
         "120",
         "120",
         "120",
         "120",
         "120",
         "120",
         "120",
         "120",
         "120",
         "120",
         "120",
         "120",
         "120",
         "120",
         "120",
         "120",
         "120",
         "120",
         "120",
         "120",
         "120",
         "120",
         "120",
         "120",
         "120",
         "120",
         "120",
         "120",
         "120",
         "120",
         "120",
         "120",
         "120",
         "120",
         "120",
         "120",
         "120",
         "120",
         "120",
         "120",
         "120",
         "120",
         "120",
         "120",
         "120",
         "120",
         "120",
         "120",
         "120",
         "120",
         "120",
         "120",
         "120",
         "120",
         "120",
         "120",
         "120",
         "120",
         "120",
         "120",
         "120",
         "120",
         "120",
         "120",
         "120",
         "120",
         "120",
         "120",
         "120",
         "120",
         "120",
         "120",
         "120",
         "120",
         "120",
         "120",
         "120",
         "120",
         "120",
         "120",
         "120",
         "120",
         "120",
         "120",
         "120",
         "120",
         "120",
         "120",
         "120",
         "120",
         "120",
         "120",
         "120",
         "120",
         "120",
         "120",
         "120",
         "120",
         "120",
         "120",
         "120",
         "120",
         "120",
         "120",
         "120",
         "120",
         "120",
         "120",
         "120",
         "120",
         "120",
         "120",
         "120",
         "120",
         "120",
         "120",
         "120",
         "120",
         "120",
         "120",
         "120",
         "120",
         "120",
         "120",
         "120",
         "120",
         "120",
         "120",
         "120",
         "120",
         "120",
         "120",
         "120",
         "120",
         "120",
         "120",
         "120",
         "120",
         "120",
         "120",
         "120",
         "120",
         "120",
         "120",
         "120",
         "120",
         "120",
         "120",
         "120",
         "120",
         "120",
         "120",
         "120",
         "120",
         "120",
         "120",
         "120",
         "120",
         "120",
         "120",
         "120",
         "120",
         "120",
         "120",
         "120",
         "120",
         "120",
         "120",
         "120",
         "120",
         "120",
         "120",
         "120",
         "120",
         "120",
         "120",
         "120",
         "120",
         "120",
         "120",
         "120",
         "120",
         "120",
         "120",
         "120",
         "120",
         "120",
         "120",
         "120",
         "120",
         "120",
         "120",
         "120",
         "120",
         "120",
         "120",
         "120",
         "120",
         "120",
         "120",
         "120",
         "120",
         "120",
         "120",
         "120",
         "120",
         "120",
         "120",
         "120",
         "120",
         "120",
         "120",
         "120",
         "120",
         "120",
         "120",
         "120",
         "120",
         "120",
         "120",
         "120",
         "120",
         "120",
         "120",
         "120",
         "120",
         "120",
         "120",
         "120",
         "120",
         "120",
         "120",
         "120",
         "120",
         "120",
         "120",
         "120",
         "120",
         "120",
         "120",
         "120",
         "120",
         "120",
         "120",
         "120",
         "120",
         "120",
         "120",
         "120",
         "120",
         "120",
         "120",
         "120",
         "120",
         "120",
         "120",
         "120",
         "120",
         "120",
         "120",
         "120",
         "120",
         "120",
         "120",
         "120",
         "120",
         "120",
         "120",
         "120",
         "120",
         "120",
         "120",
         "120",
         "120",
         "120",
         "120",
         "120",
         "120",
         "120",
         "120",
         "120",
         "120",
         "120",
         "120",
         "120",
         "120",
         "120",
         "120",
         "120",
         "120",
         "120",
         "120",
         "120",
         "120",
         "120",
         "120",
         "120",
         "120",
         "120",
         "120",
         "120",
         "120",
         "120",
         "120",
         "120",
         "120",
         "120",
         "120",
         "120",
         "120",
         "120",
         "120",
         "120",
         "120",
         "120",
         "120",
         "120",
         "120",
         "120",
         "120",
         "120",
         "120",
         "120",
         "120",
         "120",
         "120",
         "120",
         "120",
         "120",
         "120",
         "120",
         "120",
         "120",
         "120",
         "120",
         "120",
         "120",
         "120",
         "120",
         "120",
         "120",
         "120",
         "120",
         "120",
         "120",
         "120",
         "120",
         "120",
         "120",
         "120",
         "120",
         "120",
         "120",
         "120",
         "120",
         "120",
         "120",
         "120",
         "120",
         "120",
         "120",
         "120",
         "120",
         "120",
         "120",
         "120",
         "120",
         "120",
         "120",
         "120",
         "120",
         "120",
         "120",
         "120",
         "120",
         "120",
         "120",
         "120",
         "120",
         "120",
         "120",
         "120",
         "120",
         "120",
         "120",
         "120",
         "120",
         "120",
         "120",
         "120",
         "120",
         "120",
         "120",
         "120",
         "120",
         "120",
         "120",
         "120",
         "120",
         "120",
         "120",
         "120",
         "120",
         "120",
         "120",
         "120",
         "120",
         "120",
         "120",
         "120",
         "120",
         "120",
         "120",
         "120",
         "120",
         "120",
         "120",
         "120",
         "120",
         "120",
         "120",
         "120",
         "120",
         "120",
         "120",
         "120",
         "120",
         "120",
         "120",
         "120",
         "120",
         "120",
         "120",
         "120",
         "120",
         "120",
         "120",
         "120",
         "120",
         "120",
         "120",
         "120",
         "120",
         "120",
         "120",
         "120",
         "120",
         "120",
         "120",
         "120",
         "120",
         "120",
         "120",
         "120",
         "120",
         "120",
         "120",
         "120",
         "120",
         "120",
         "120",
         "120",
         "120",
         "120",
         "120",
         "120",
         "120",
         "120",
         "120",
         "120",
         "120",
         "120",
         "120",
         "120",
         "120",
         "120",
         "120",
         "120",
         "120",
         "120",
         "120",
         "120",
         "120",
         "120",
         "120",
         "120",
         "120",
         "120",
         "120",
         "120",
         "120",
         "120",
         "120",
         "120",
         "120",
         "120",
         "120",
         "120",
         "120",
         "120",
         "120",
         "120",
         "120",
         "120",
         "120",
         "120",
         "120",
         "120",
         "120",
         "120",
         "120",
         "120",
         "120",
         "120",
         "120",
         "120",
         "120",
         "120",
         "120",
         "120",
         "120",
         "120",
         "120",
         "120",
         "120",
         "120",
         "120",
         "120",
         "120",
         "120",
         "120",
         "120",
         "120",
         "120",
         "120",
         "120",
         "120",
         "120",
         "120",
         "120",
         "120",
         "120",
         "120",
         "120",
         "120",
         "120",
         "120",
         "120",
         "120",
         "120",
         "120",
         "120",
         "120",
         "120",
         "120",
         "120",
         "120",
         "120",
         "120",
         "120",
         "120",
         "120",
         "120",
         "120",
         "120",
         "120",
         "120",
         "120",
         "120",
         "120",
         "120",
         "120",
         "120",
         "120",
         "120",
         "120",
         "120",
         "120",
         "120",
         "120",
         "120",
         "120",
         "120",
         "120",
         "120",
         "120",
         "120",
         "120",
         "120",
         "120",
         "120",
         "120",
         "120",
         "120",
         "120",
         "120",
         "120",
         "120",
         "120",
         "120",
         "120",
         "120",
         "120",
         "120",
         "120",
         "120",
         "120",
         "120",
         "120",
         "120",
         "120",
         "120",
         "120",
         "120",
         "120",
         "120",
         "120",
         "120",
         "120",
         "120",
         "120",
         "120",
         "120",
         "120",
         "120",
         "120",
         "120",
         "120",
         "120",
         "120",
         "120",
         "120",
         "120",
         "120",
         "120",
         "120",
         "120",
         "120",
         "120",
         "120",
         "120",
         "120",
         "120",
         "120",
         "120",
         "120",
         "120",
         "120",
         "120"
        ],
        [
         "4",
         "-1",
         "131",
         "131",
         "131",
         "131",
         "131",
         "131",
         "131",
         "131",
         "200",
         "131",
         "131",
         "131",
         "131",
         "131",
         "131",
         "131",
         "131",
         "131",
         "131",
         "131",
         "131",
         "131",
         "131",
         "131",
         "131",
         "131",
         "131",
         "131",
         "131",
         "131",
         "131",
         "131",
         "131",
         "131",
         "131",
         "131",
         "131",
         "131",
         "131",
         "131",
         "131",
         "131",
         "131",
         "131",
         "131",
         "131",
         "131",
         "131",
         "131",
         "131",
         "131",
         "131",
         "131",
         "131",
         "131",
         "131",
         "131",
         "131",
         "131",
         "131",
         "131",
         "131",
         "131",
         "131",
         "131",
         "131",
         "131",
         "131",
         "131",
         "131",
         "131",
         "131",
         "131",
         "131",
         "131",
         "131",
         "131",
         "131",
         "131",
         "131",
         "131",
         "131",
         "131",
         "131",
         "131",
         "131",
         "131",
         "131",
         "131",
         "131",
         "131",
         "131",
         "131",
         "131",
         "131",
         "131",
         "131",
         "131",
         "131",
         "131",
         "131",
         "131",
         "131",
         "131",
         "131",
         "131",
         "131",
         "131",
         "131",
         "131",
         "131",
         "131",
         "131",
         "131",
         "131",
         "131",
         "131",
         "131",
         "131",
         "131",
         "131",
         "131",
         "131",
         "131",
         "131",
         "131",
         "131",
         "131",
         "131",
         "131",
         "131",
         "131",
         "131",
         "131",
         "131",
         "131",
         "131",
         "131",
         "131",
         "131",
         "131",
         "131",
         "131",
         "131",
         "131",
         "131",
         "131",
         "131",
         "131",
         "131",
         "131",
         "131",
         "131",
         "131",
         "131",
         "131",
         "131",
         "131",
         "131",
         "131",
         "131",
         "131",
         "131",
         "131",
         "131",
         "131",
         "131",
         "131",
         "131",
         "131",
         "131",
         "131",
         "131",
         "131",
         "131",
         "131",
         "131",
         "131",
         "131",
         "131",
         "131",
         "131",
         "131",
         "131",
         "131",
         "131",
         "131",
         "131",
         "131",
         "131",
         "131",
         "131",
         "131",
         "131",
         "131",
         "131",
         "131",
         "131",
         "131",
         "131",
         "131",
         "131",
         "131",
         "131",
         "131",
         "131",
         "131",
         "131",
         "131",
         "131",
         "131",
         "131",
         "131",
         "131",
         "131",
         "131",
         "131",
         "131",
         "131",
         "131",
         "131",
         "131",
         "131",
         "131",
         "131",
         "131",
         "131",
         "131",
         "131",
         "131",
         "131",
         "131",
         "131",
         "131",
         "131",
         "131",
         "131",
         "131",
         "131",
         "131",
         "131",
         "131",
         "131",
         "131",
         "131",
         "131",
         "131",
         "131",
         "131",
         "131",
         "131",
         "131",
         "131",
         "131",
         "131",
         "131",
         "131",
         "131",
         "131",
         "131",
         "131",
         "131",
         "131",
         "131",
         "131",
         "131",
         "131",
         "131",
         "131",
         "131",
         "131",
         "131",
         "131",
         "131",
         "131",
         "131",
         "131",
         "131",
         "131",
         "131",
         "131",
         "131",
         "131",
         "131",
         "131",
         "131",
         "131",
         "131",
         "131",
         "131",
         "131",
         "131",
         "131",
         "131",
         "131",
         "131",
         "131",
         "131",
         "131",
         "131",
         "131",
         "131",
         "131",
         "131",
         "131",
         "131",
         "131",
         "131",
         "131",
         "131",
         "131",
         "131",
         "131",
         "131",
         "131",
         "131",
         "131",
         "131",
         "131",
         "131",
         "131",
         "131",
         "131",
         "131",
         "131",
         "131",
         "131",
         "131",
         "131",
         "131",
         "131",
         "131",
         "131",
         "131",
         "131",
         "131",
         "131",
         "131",
         "131",
         "131",
         "131",
         "131",
         "131",
         "131",
         "131",
         "131",
         "131",
         "131",
         "131",
         "131",
         "131",
         "131",
         "131",
         "131",
         "131",
         "131",
         "131",
         "131",
         "131",
         "131",
         "131",
         "131",
         "131",
         "131",
         "131",
         "131",
         "131",
         "131",
         "131",
         "131",
         "131",
         "131",
         "131",
         "131",
         "131",
         "131",
         "131",
         "131",
         "131",
         "131",
         "131",
         "131",
         "131",
         "131",
         "131",
         "131",
         "131",
         "131",
         "131",
         "131",
         "131",
         "131",
         "131",
         "131",
         "131",
         "131",
         "131",
         "131",
         "131",
         "131",
         "131",
         "131",
         "131",
         "131",
         "131",
         "131",
         "131",
         "131",
         "131",
         "131",
         "131",
         "131",
         "131",
         "131",
         "131",
         "131",
         "131",
         "131",
         "131",
         "131",
         "131",
         "131",
         "131",
         "131",
         "131",
         "131",
         "131",
         "131",
         "131",
         "131",
         "131",
         "131",
         "131",
         "131",
         "131",
         "131",
         "131",
         "131",
         "131",
         "131",
         "131",
         "131",
         "131",
         "131",
         "131",
         "131",
         "131",
         "131",
         "131",
         "131",
         "131",
         "131",
         "131",
         "131",
         "131",
         "131",
         "131",
         "131",
         "131",
         "131",
         "131",
         "131",
         "131",
         "131",
         "131",
         "131",
         "131",
         "131",
         "131",
         "131",
         "131",
         "131",
         "131",
         "131",
         "131",
         "131",
         "131",
         "131",
         "131",
         "131",
         "131",
         "131",
         "131",
         "131",
         "131",
         "131",
         "131",
         "131",
         "131",
         "131",
         "131",
         "131",
         "131",
         "131",
         "131",
         "131",
         "131",
         "131",
         "131",
         "131",
         "131",
         "131",
         "131",
         "131",
         "131",
         "131",
         "131",
         "131",
         "131",
         "131",
         "131",
         "131",
         "131",
         "131",
         "131",
         "131",
         "131",
         "131",
         "131",
         "131",
         "131",
         "131",
         "131",
         "1",
         "131",
         "131",
         "131",
         "131",
         "131",
         "131",
         "131",
         "131",
         "131",
         "131",
         "131",
         "131",
         "131",
         "131",
         "131",
         "131",
         "131",
         "131",
         "131",
         "131",
         "131",
         "131",
         "131",
         "131",
         "131",
         "131",
         "131",
         "131",
         "131",
         "131",
         "131",
         "131",
         "131",
         "131",
         "131",
         "131",
         "131",
         "131",
         "131",
         "131",
         "131",
         "131",
         "131",
         "131",
         "131",
         "131",
         "131",
         "131",
         "131",
         "131",
         "131",
         "131",
         "131",
         "131",
         "131",
         "131",
         "131",
         "131",
         "131",
         "131",
         "131",
         "131",
         "131",
         "131",
         "131",
         "131",
         "131",
         "131",
         "131",
         "131",
         "131",
         "131",
         "131",
         "131",
         "131",
         "131",
         "131",
         "131",
         "131",
         "131",
         "131",
         "131",
         "131",
         "131",
         "131",
         "131",
         "131",
         "131",
         "131",
         "131",
         "131",
         "131",
         "131",
         "131",
         "131",
         "131",
         "131",
         "131",
         "131",
         "131",
         "131",
         "131",
         "131",
         "131",
         "131",
         "131",
         "131",
         "131",
         "131",
         "131",
         "131",
         "131",
         "131",
         "131",
         "131",
         "131",
         "131",
         "131",
         "131",
         "131",
         "131",
         "131",
         "131",
         "131",
         "131",
         "131",
         "131",
         "131",
         "131",
         "131",
         "131",
         "131",
         "131",
         "131",
         "131",
         "131",
         "131",
         "131",
         "131",
         "131",
         "131",
         "131",
         "131",
         "131",
         "131",
         "131",
         "131",
         "131",
         "131",
         "131",
         "131",
         "131",
         "131",
         "131",
         "131",
         "131",
         "131",
         "131",
         "131",
         "131",
         "131",
         "131",
         "131",
         "131",
         "131",
         "131",
         "131",
         "131",
         "131",
         "131",
         "131",
         "131",
         "131",
         "131",
         "131",
         "131",
         "131",
         "131",
         "131",
         "131",
         "131",
         "131",
         "131",
         "131",
         "131",
         "131",
         "131",
         "131",
         "131",
         "131",
         "131",
         "131",
         "131",
         "131",
         "131",
         "131",
         "131",
         "131",
         "131",
         "131",
         "131",
         "131",
         "131",
         "131",
         "131",
         "131",
         "131",
         "131",
         "131",
         "131",
         "131",
         "131",
         "131",
         "131",
         "131",
         "131",
         "131",
         "131",
         "131",
         "131",
         "131",
         "131",
         "131",
         "131",
         "131",
         "131",
         "131",
         "131",
         "131",
         "131",
         "131",
         "131",
         "131",
         "131",
         "131",
         "131",
         "131",
         "131",
         "131",
         "131",
         "131",
         "131",
         "131",
         "131",
         "131",
         "131",
         "131",
         "131",
         "131",
         "131",
         "131",
         "131",
         "131",
         "131",
         "131",
         "131",
         "131",
         "131",
         "131",
         "131"
        ]
       ],
       "shape": {
        "columns": 785,
        "rows": 5
       }
      },
      "text/html": [
       "<div>\n",
       "<style scoped>\n",
       "    .dataframe tbody tr th:only-of-type {\n",
       "        vertical-align: middle;\n",
       "    }\n",
       "\n",
       "    .dataframe tbody tr th {\n",
       "        vertical-align: top;\n",
       "    }\n",
       "\n",
       "    .dataframe thead th {\n",
       "        text-align: right;\n",
       "    }\n",
       "</style>\n",
       "<table border=\"1\" class=\"dataframe\">\n",
       "  <thead>\n",
       "    <tr style=\"text-align: right;\">\n",
       "      <th></th>\n",
       "      <th>24</th>\n",
       "      <th>0</th>\n",
       "      <th>0.1</th>\n",
       "      <th>0.2</th>\n",
       "      <th>0.3</th>\n",
       "      <th>0.4</th>\n",
       "      <th>0.5</th>\n",
       "      <th>0.6</th>\n",
       "      <th>0.7</th>\n",
       "      <th>0.8</th>\n",
       "      <th>...</th>\n",
       "      <th>0.552</th>\n",
       "      <th>0.553</th>\n",
       "      <th>0.554</th>\n",
       "      <th>0.555</th>\n",
       "      <th>0.556</th>\n",
       "      <th>0.557</th>\n",
       "      <th>0.558</th>\n",
       "      <th>0.559</th>\n",
       "      <th>0.560</th>\n",
       "      <th>0.561</th>\n",
       "    </tr>\n",
       "  </thead>\n",
       "  <tbody>\n",
       "    <tr>\n",
       "      <th>0</th>\n",
       "      <td>-2</td>\n",
       "      <td>142</td>\n",
       "      <td>142</td>\n",
       "      <td>142</td>\n",
       "      <td>142</td>\n",
       "      <td>142</td>\n",
       "      <td>142</td>\n",
       "      <td>142</td>\n",
       "      <td>142</td>\n",
       "      <td>142</td>\n",
       "      <td>...</td>\n",
       "      <td>142</td>\n",
       "      <td>142</td>\n",
       "      <td>142</td>\n",
       "      <td>142</td>\n",
       "      <td>142</td>\n",
       "      <td>142</td>\n",
       "      <td>142</td>\n",
       "      <td>142</td>\n",
       "      <td>142</td>\n",
       "      <td>142</td>\n",
       "    </tr>\n",
       "    <tr>\n",
       "      <th>1</th>\n",
       "      <td>15</td>\n",
       "      <td>0</td>\n",
       "      <td>0</td>\n",
       "      <td>0</td>\n",
       "      <td>0</td>\n",
       "      <td>0</td>\n",
       "      <td>0</td>\n",
       "      <td>0</td>\n",
       "      <td>0</td>\n",
       "      <td>0</td>\n",
       "      <td>...</td>\n",
       "      <td>0</td>\n",
       "      <td>0</td>\n",
       "      <td>0</td>\n",
       "      <td>0</td>\n",
       "      <td>0</td>\n",
       "      <td>0</td>\n",
       "      <td>0</td>\n",
       "      <td>0</td>\n",
       "      <td>0</td>\n",
       "      <td>0</td>\n",
       "    </tr>\n",
       "    <tr>\n",
       "      <th>2</th>\n",
       "      <td>14</td>\n",
       "      <td>0</td>\n",
       "      <td>0</td>\n",
       "      <td>0</td>\n",
       "      <td>0</td>\n",
       "      <td>0</td>\n",
       "      <td>0</td>\n",
       "      <td>0</td>\n",
       "      <td>0</td>\n",
       "      <td>0</td>\n",
       "      <td>...</td>\n",
       "      <td>0</td>\n",
       "      <td>0</td>\n",
       "      <td>0</td>\n",
       "      <td>0</td>\n",
       "      <td>0</td>\n",
       "      <td>0</td>\n",
       "      <td>0</td>\n",
       "      <td>0</td>\n",
       "      <td>0</td>\n",
       "      <td>0</td>\n",
       "    </tr>\n",
       "    <tr>\n",
       "      <th>3</th>\n",
       "      <td>-2</td>\n",
       "      <td>120</td>\n",
       "      <td>120</td>\n",
       "      <td>120</td>\n",
       "      <td>120</td>\n",
       "      <td>120</td>\n",
       "      <td>120</td>\n",
       "      <td>120</td>\n",
       "      <td>120</td>\n",
       "      <td>120</td>\n",
       "      <td>...</td>\n",
       "      <td>120</td>\n",
       "      <td>120</td>\n",
       "      <td>120</td>\n",
       "      <td>120</td>\n",
       "      <td>120</td>\n",
       "      <td>120</td>\n",
       "      <td>120</td>\n",
       "      <td>120</td>\n",
       "      <td>120</td>\n",
       "      <td>120</td>\n",
       "    </tr>\n",
       "    <tr>\n",
       "      <th>4</th>\n",
       "      <td>-1</td>\n",
       "      <td>131</td>\n",
       "      <td>131</td>\n",
       "      <td>131</td>\n",
       "      <td>131</td>\n",
       "      <td>131</td>\n",
       "      <td>131</td>\n",
       "      <td>131</td>\n",
       "      <td>131</td>\n",
       "      <td>200</td>\n",
       "      <td>...</td>\n",
       "      <td>131</td>\n",
       "      <td>131</td>\n",
       "      <td>131</td>\n",
       "      <td>131</td>\n",
       "      <td>131</td>\n",
       "      <td>131</td>\n",
       "      <td>131</td>\n",
       "      <td>131</td>\n",
       "      <td>131</td>\n",
       "      <td>131</td>\n",
       "    </tr>\n",
       "  </tbody>\n",
       "</table>\n",
       "<p>5 rows × 785 columns</p>\n",
       "</div>"
      ],
      "text/plain": [
       "   24    0  0.1  0.2  0.3  0.4  0.5  0.6  0.7  0.8  ...  0.552  0.553  0.554  \\\n",
       "0  -2  142  142  142  142  142  142  142  142  142  ...    142    142    142   \n",
       "1  15    0    0    0    0    0    0    0    0    0  ...      0      0      0   \n",
       "2  14    0    0    0    0    0    0    0    0    0  ...      0      0      0   \n",
       "3  -2  120  120  120  120  120  120  120  120  120  ...    120    120    120   \n",
       "4  -1  131  131  131  131  131  131  131  131  200  ...    131    131    131   \n",
       "\n",
       "   0.555  0.556  0.557  0.558  0.559  0.560  0.561  \n",
       "0    142    142    142    142    142    142    142  \n",
       "1      0      0      0      0      0      0      0  \n",
       "2      0      0      0      0      0      0      0  \n",
       "3    120    120    120    120    120    120    120  \n",
       "4    131    131    131    131    131    131    131  \n",
       "\n",
       "[5 rows x 785 columns]"
      ]
     },
     "execution_count": 1,
     "metadata": {},
     "output_type": "execute_result"
    }
   ],
   "source": [
    "import pandas as pd\n",
    "import numpy as np\n",
    "import matplotlib.pyplot as plt\n",
    "\n",
    "# Load the dataset\n",
    "data = pd.read_csv('../emnist-letters-train.csv')\n",
    "\n",
    "# Check the shape and first few rows\n",
    "print(f\"Dataset shape: {data.shape}\")\n",
    "data.head()"
   ]
  },
  {
   "cell_type": "markdown",
   "id": "adb99a85",
   "metadata": {},
   "source": [
    "## Understanding the Data Structure"
   ]
  },
  {
   "cell_type": "code",
   "execution_count": 2,
   "id": "6d0199d8",
   "metadata": {},
   "outputs": [
    {
     "name": "stdout",
     "output_type": "stream",
     "text": [
      "Unique labels: [-2 -1  1  2  4  5  6  7  9 10 12 14 15 16 17 20 24 26]\n",
      "Label counts: [4856 5384 3396 3396 3398 3437 3394 3385 3428 3402 3415 3365 3408 3430\n",
      " 3435 3436 3436 3427]\n"
     ]
    },
    {
     "data": {
      "image/png": "[encoded data removed]",
      "text/plain": [
       "<Figure size 640x480 with 1 Axes>"
      ]
     },
     "metadata": {},
     "output_type": "display_data"
    }
   ],
   "source": [
    "# Separate labels and pixel data\n",
    "labels = data.iloc[:, 0].values\n",
    "pixels = data.iloc[:, 1:].values\n",
    "\n",
    "# Check label distribution\n",
    "unique_labels, counts = np.unique(labels, return_counts=True)\n",
    "print(f\"Unique labels: {unique_labels}\")\n",
    "print(f\"Label counts: {counts}\")\n",
    "\n",
    "# Visualize class distribution\n",
    "plt.bar(unique_labels, counts)\n",
    "plt.title('Class Distribution')\n",
    "plt.xlabel('Class Label')\n",
    "plt.ylabel('Count')\n",
    "plt.show()"
   ]
  },
  {
   "cell_type": "code",
   "execution_count": 3,
   "id": "c2e970a0",
   "metadata": {},
   "outputs": [
    {
     "data": {
      "image/png": "[encoded data removed]",
      "text/plain": [
       "<Figure size 1000x1000 with 25 Axes>"
      ]
     },
     "metadata": {},
     "output_type": "display_data"
    }
   ],
   "source": [
    "# Reshape and normalize\n",
    "images = pixels.reshape(-1, 28, 28, 1).astype('float32')\n",
    "images = (images - 127.5) / 127.5  # Normalize to [-1, 1]\n",
    "\n",
    "# Visualize some samples\n",
    "plt.figure(figsize=(10, 10))\n",
    "for i in range(25):\n",
    "    plt.subplot(5, 5, i+1)\n",
    "    plt.imshow(images[i].squeeze(), cmap='gray')\n",
    "    plt.title(f\"Label: {chr(labels[i]+64)}\")\n",
    "    plt.axis('off')\n",
    "plt.show()"
   ]
  },
  {
   "cell_type": "markdown",
   "id": "602665fb",
   "metadata": {},
   "source": [
    "## Data Cleaning"
   ]
  },
  {
   "cell_type": "code",
   "execution_count": 4,
   "id": "c1e6e76d",
   "metadata": {},
   "outputs": [
    {
     "data": {
      "image/png": "[encoded data removed]",
      "text/plain": [
       "<Figure size 1000x1000 with 25 Axes>"
      ]
     },
     "metadata": {},
     "output_type": "display_data"
    },
    {
     "name": "stdout",
     "output_type": "stream",
     "text": [
      "Total images after cleaning: 54588\n",
      "Unique labels present: [ 1  2  4  5  6  7  9 10 12 14 15 16 17 20 24 26]\n",
      "Corresponding letters: ['A', 'B', 'D', 'E', 'F', 'G', 'I', 'J', 'L', 'N', 'O', 'P', 'Q', 'T', 'X', 'Z']\n"
     ]
    }
   ],
   "source": [
    "import matplotlib.pyplot as plt\n",
    "import numpy as np\n",
    "\n",
    "# First filter out negative labels\n",
    "valid_mask = labels > 0\n",
    "filtered_images = images[valid_mask]\n",
    "filtered_labels = labels[valid_mask]\n",
    "\n",
    "# Then select only our 16 target classes\n",
    "selected_numeric = [1, 2, 4, 5, 6, 7, 9, 10, 12, 14, 15, 16, 17, 20, 24, 26]  # A,B,D,E,F,G,I,J,L,N,O,P,Q,T,X,Z\n",
    "final_mask = np.isin(filtered_labels, selected_numeric)\n",
    "final_images = filtered_images[final_mask]\n",
    "final_labels = filtered_labels[final_mask]\n",
    "\n",
    "# Visualize 25 random samples from the cleaned data\n",
    "plt.figure(figsize=(10, 10))\n",
    "indices = np.random.choice(len(final_images), 25, replace=False)  # Get 25 random unique indices\n",
    "\n",
    "for i, idx in enumerate(indices):\n",
    "    plt.subplot(5, 5, i+1)\n",
    "    plt.imshow(final_images[idx].squeeze(), cmap='gray')\n",
    "    plt.title(f\"Label: {chr(final_labels[idx]+64)}\")  # Convert numeric label to letter\n",
    "    plt.axis('off')\n",
    "    \n",
    "plt.tight_layout()\n",
    "plt.show()\n",
    "\n",
    "# Print statistics\n",
    "print(f\"Total images after cleaning: {len(final_images)}\")\n",
    "print(f\"Unique labels present: {np.unique(final_labels)}\")\n",
    "print(f\"Corresponding letters: {[chr(l+64) for l in np.unique(final_labels)]}\")"
   ]
  },
  {
   "cell_type": "code",
   "execution_count": 5,
   "id": "25077563",
   "metadata": {},
   "outputs": [
    {
     "data": {
      "image/png": "[encoded data removed]",
      "text/plain": [
       "<Figure size 640x480 with 1 Axes>"
      ]
     },
     "metadata": {},
     "output_type": "display_data"
    },
    {
     "name": "stdout",
     "output_type": "stream",
     "text": [
      "Unique labels after cleaning: [ 1  2  4  5  6  7  9 10 12 14 15 16 17 20 24 26]\n",
      "Label counts after cleaning: [3396 3396 3398 3437 3394 3385 3428 3402 3415 3365 3408 3430 3435 3436\n",
      " 3436 3427]\n",
      "Corresponding letters: ['A', 'B', 'D', 'E', 'F', 'G', 'I', 'J', 'L', 'N', 'O', 'P', 'Q', 'T', 'X', 'Z']\n"
     ]
    }
   ],
   "source": [
    "# Show class distribution after cleaning\n",
    "\n",
    "unique_labels_cleaned, counts_cleaned = np.unique(final_labels, return_counts=True)\n",
    "plt.bar(unique_labels_cleaned, counts_cleaned)\n",
    "plt.title('Class Distribution After Cleaning')\n",
    "plt.xlabel('Class Label')\n",
    "plt.ylabel('Count')\n",
    "plt.show()\n",
    "\n",
    "print(f\"Unique labels after cleaning: {unique_labels_cleaned}\")\n",
    "print(f\"Label counts after cleaning: {counts_cleaned}\")\n",
    "print(f\"Corresponding letters: {[chr(l+64) for l in unique_labels_cleaned]}\")\n"
   ]
  },
  {
   "cell_type": "markdown",
   "id": "bb650a77",
   "metadata": {},
   "source": [
    "## Handling Class Imbalance (If Needed)"
   ]
  },
  {
   "cell_type": "code",
   "execution_count": 6,
   "id": "7b9d42c0",
   "metadata": {},
   "outputs": [
    {
     "name": "stdout",
     "output_type": "stream",
     "text": [
      "Class imbalance ratio: 0.62\n"
     ]
    }
   ],
   "source": [
    "# Calculate class imbalance ratio\n",
    "class_ratio = counts.min() / counts.max()\n",
    "print(f\"Class imbalance ratio: {class_ratio:.2f}\")\n",
    "\n",
    "if class_ratio < 0.5:\n",
    "    print(\"Significant class imbalance detected - consider techniques like:\")\n",
    "    print(\"- Oversampling minority classes\")\n",
    "    print(\"- Class weights in the discriminator\")\n",
    "    print(\"- Data augmentation for minority classes\")"
   ]
  },
  {
   "cell_type": "markdown",
   "id": "48ed521d",
   "metadata": {},
   "source": [
    "## Data Augmentation (Optional)"
   ]
  },
  {
   "cell_type": "code",
   "execution_count": 7,
   "id": "06c40e87",
   "metadata": {},
   "outputs": [
    {
     "name": "stderr",
     "output_type": "stream",
     "text": [
      "2025-07-15 09:29:54.448441: I tensorflow/core/util/port.cc:153] oneDNN custom operations are on. You may see slightly different numerical results due to floating-point round-off errors from different computation orders. To turn them off, set the environment variable `TF_ENABLE_ONEDNN_OPTS=0`.\n",
      "2025-07-15 09:29:54.846169: E external/local_xla/xla/stream_executor/cuda/cuda_fft.cc:467] Unable to register cuFFT factory: Attempting to register factory for plugin cuFFT when one has already been registered\n",
      "WARNING: All log messages before absl::InitializeLog() is called are written to STDERR\n",
      "E0000 00:00:1752542994.984053    1172 cuda_dnn.cc:8579] Unable to register cuDNN factory: Attempting to register factory for plugin cuDNN when one has already been registered\n",
      "E0000 00:00:1752542995.039291    1172 cuda_blas.cc:1407] Unable to register cuBLAS factory: Attempting to register factory for plugin cuBLAS when one has already been registered\n",
      "W0000 00:00:1752542995.374957    1172 computation_placer.cc:177] computation placer already registered. Please check linkage and avoid linking the same target more than once.\n",
      "W0000 00:00:1752542995.374991    1172 computation_placer.cc:177] computation placer already registered. Please check linkage and avoid linking the same target more than once.\n",
      "W0000 00:00:1752542995.374994    1172 computation_placer.cc:177] computation placer already registered. Please check linkage and avoid linking the same target more than once.\n",
      "W0000 00:00:1752542995.374995    1172 computation_placer.cc:177] computation placer already registered. Please check linkage and avoid linking the same target more than once.\n",
      "2025-07-15 09:29:55.409058: I tensorflow/core/platform/cpu_feature_guard.cc:210] This TensorFlow binary is optimized to use available CPU instructions in performance-critical operations.\n",
      "To enable the following instructions: AVX2 AVX_VNNI FMA, in other operations, rebuild TensorFlow with the appropriate compiler flags.\n"
     ]
    }
   ],
   "source": [
    "from tensorflow.keras.preprocessing.image import ImageDataGenerator\n",
    "\n",
    "datagen = ImageDataGenerator(\n",
    "    rotation_range=10,\n",
    "    width_shift_range=0.1,\n",
    "    height_shift_range=0.1,\n",
    "    zoom_range=0.1\n",
    ")\n",
    "\n",
    "# Example of how to use it during training\n",
    "augmented_images = datagen.flow(images, labels, batch_size=32)"
   ]
  },
  {
   "cell_type": "markdown",
   "id": "ca9e10e5",
   "metadata": {},
   "source": [
    "## Preparing for Conditional GAN"
   ]
  },
  {
   "cell_type": "code",
   "execution_count": 8,
   "id": "0eb63b40",
   "metadata": {},
   "outputs": [],
   "source": [
    "from tensorflow.keras.utils import to_categorical\n",
    "\n",
    "# Convert labels to one-hot encoding (for 16 classes)\n",
    "selected_letters = ['A', 'B', 'D', 'E', 'F', 'G', 'I', 'J', \n",
    "                   'L', 'N', 'O', 'P', 'Q', 'T', 'X', 'Z']\n",
    "\n",
    "# Convert letters to their label values (A=1, B=2, ..., Z=26)\n",
    "selected_labels = [ord(c) - 64 for c in selected_letters]\n",
    "\n",
    "# Filter the dataset to only include these 16 classes\n",
    "mask = np.isin(labels, selected_labels)\n",
    "filtered_images = images[mask]\n",
    "filtered_labels = labels[mask]\n",
    "\n",
    "# Now convert to 0-15 range for one-hot encoding\n",
    "label_mapping = {label: idx for idx, label in enumerate(selected_labels)}\n",
    "mapped_labels = np.array([label_mapping[label] for label in filtered_labels])\n",
    "\n",
    "# One-hot encode (now safe with 16 classes)\n",
    "one_hot_labels = to_categorical(mapped_labels, num_classes=16)"
   ]
  },
  {
   "cell_type": "markdown",
   "id": "b53d4baf",
   "metadata": {},
   "source": [
    "## Final Dataset Preparation"
   ]
  },
  {
   "cell_type": "code",
   "execution_count": 9,
   "id": "6e518bca",
   "metadata": {},
   "outputs": [
    {
     "name": "stderr",
     "output_type": "stream",
     "text": [
      "I0000 00:00:1752543001.193215    1172 gpu_device.cc:2019] Created device /job:localhost/replica:0/task:0/device:GPU:0 with 5520 MB memory:  -> device: 0, name: NVIDIA GeForce RTX 4070 Laptop GPU, pci bus id: 0000:01:00.0, compute capability: 8.9\n"
     ]
    }
   ],
   "source": [
    "import tensorflow as tf\n",
    "\n",
    "# Create TensorFlow Dataset - CONDITIONAL GAN VERSION\n",
    "# Using the filtered and properly matched data\n",
    "conditional_dataset = tf.data.Dataset.from_tensor_slices((filtered_images, one_hot_labels))\n",
    "conditional_dataset = conditional_dataset.shuffle(\n",
    "    buffer_size=min(1024, len(filtered_images)),  # Ensure buffer isn't larger than dataset\n",
    "    reshuffle_each_iteration=True\n",
    ").batch(32)\n",
    "\n",
    "# Create TensorFlow Dataset - NON-CONDITIONAL GAN VERSION\n",
    "# Using just the filtered images\n",
    "image_dataset = tf.data.Dataset.from_tensor_slices(filtered_images)\n",
    "image_dataset = image_dataset.shuffle(\n",
    "    buffer_size=min(1024, len(filtered_images)),\n",
    "    reshuffle_each_iteration=True\n",
    ").batch(32)\n",
    "\n",
    "# Optional: Prefetch for better performance during training\n",
    "conditional_dataset = conditional_dataset.prefetch(tf.data.AUTOTUNE)\n",
    "image_dataset = image_dataset.prefetch(tf.data.AUTOTUNE)"
   ]
  }
 ],
 "metadata": {
  "kernelspec": {
   "display_name": "tf_gpu",
   "language": "python",
   "name": "python3"
  },
  "language_info": {
   "codemirror_mode": {
    "name": "ipython",
    "version": 3
   },
   "file_extension": ".py",
   "mimetype": "text/x-python",
   "name": "python",
   "nbconvert_exporter": "python",
   "pygments_lexer": "ipython3",
   "version": "3.12.3"
  }
 },
 "nbformat": 4,
 "nbformat_minor": 5
}
