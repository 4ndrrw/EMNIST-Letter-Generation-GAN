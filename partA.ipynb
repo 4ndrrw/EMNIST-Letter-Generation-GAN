{
 "cells": [
  {
   "cell_type": "markdown",
   "id": "7ed9ac1e",
   "metadata": {
    "notebookRunGroups": {
     "groupValue": "1"
    }
   },
   "source": [
    "# Data Preparation for EMNIST Letters Dataset"
   ]
  },
  {
   "cell_type": "markdown",
   "id": "0a9249dd",
   "metadata": {},
   "source": [
    "## Load the Dataset"
   ]
  },
  {
   "cell_type": "code",
   "execution_count": 1,
   "id": "27b2f77b",
   "metadata": {
    "notebookRunGroups": {
     "groupValue": "1"
    }
   },
   "outputs": [
    {
     "name": "stdout",
     "output_type": "stream",
     "text": [
      "Dataset shape: (64828, 785)\n"
     ]
    },
    {
     "data": {
      "application/vnd.microsoft.datawrangler.viewer.v0+json": {
       "columns": [
        {
         "name": "index",
         "rawType": "int64",
         "type": "integer"
        },
        {
         "name": "24",
         "rawType": "int64",
         "type": "integer"
        },
        {
         "name": "0",
         "rawType": "int64",
         "type": "integer"
        },
        {
         "name": "0.1",
         "rawType": "int64",
         "type": "integer"
        },
        {
         "name": "0.2",
         "rawType": "int64",
         "type": "integer"
        },
        {
         "name": "0.3",
         "rawType": "int64",
         "type": "integer"
        },
        {
         "name": "0.4",
         "rawType": "int64",
         "type": "integer"
        },
        {
         "name": "0.5",
         "rawType": "int64",
         "type": "integer"
        },
        {
         "name": "0.6",
         "rawType": "int64",
         "type": "integer"
        },
        {
         "name": "0.7",
         "rawType": "int64",
         "type": "integer"
        },
        {
         "name": "0.8",
         "rawType": "int64",
         "type": "integer"
        },
        {
         "name": "0.9",
         "rawType": "int64",
         "type": "integer"
        },
        {
         "name": "0.10",
         "rawType": "int64",
         "type": "integer"
        },
        {
         "name": "0.11",
         "rawType": "int64",
         "type": "integer"
        },
        {
         "name": "0.12",
         "rawType": "int64",
         "type": "integer"
        },
        {
         "name": "0.13",
         "rawType": "int64",
         "type": "integer"
        },
        {
         "name": "0.14",
         "rawType": "int64",
         "type": "integer"
        },
        {
         "name": "0.15",
         "rawType": "int64",
         "type": "integer"
        },
        {
         "name": "0.16",
         "rawType": "int64",
         "type": "integer"
        },
        {
         "name": "0.17",
         "rawType": "int64",
         "type": "integer"
        },
        {
         "name": "0.18",
         "rawType": "int64",
         "type": "integer"
        },
        {
         "name": "0.19",
         "rawType": "int64",
         "type": "integer"
        },
        {
         "name": "0.20",
         "rawType": "int64",
         "type": "integer"
        },
        {
         "name": "0.21",
         "rawType": "int64",
         "type": "integer"
        },
        {
         "name": "0.22",
         "rawType": "int64",
         "type": "integer"
        },
        {
         "name": "0.23",
         "rawType": "int64",
         "type": "integer"
        },
        {
         "name": "0.24",
         "rawType": "int64",
         "type": "integer"
        },
        {
         "name": "0.25",
         "rawType": "int64",
         "type": "integer"
        },
        {
         "name": "0.26",
         "rawType": "int64",
         "type": "integer"
        },
        {
         "name": "0.27",
         "rawType": "int64",
         "type": "integer"
        },
        {
         "name": "0.28",
         "rawType": "int64",
         "type": "integer"
        },
        {
         "name": "0.29",
         "rawType": "int64",
         "type": "integer"
        },
        {
         "name": "0.30",
         "rawType": "int64",
         "type": "integer"
        },
        {
         "name": "0.31",
         "rawType": "int64",
         "type": "integer"
        },
        {
         "name": "0.32",
         "rawType": "int64",
         "type": "integer"
        },
        {
         "name": "0.33",
         "rawType": "int64",
         "type": "integer"
        },
        {
         "name": "0.34",
         "rawType": "int64",
         "type": "integer"
        },
        {
         "name": "0.35",
         "rawType": "int64",
         "type": "integer"
        },
        {
         "name": "0.36",
         "rawType": "int64",
         "type": "integer"
        },
        {
         "name": "0.37",
         "rawType": "int64",
         "type": "integer"
        },
        {
         "name": "0.38",
         "rawType": "int64",
         "type": "integer"
        },
        {
         "name": "0.39",
         "rawType": "int64",
         "type": "integer"
        },
        {
         "name": "0.40",
         "rawType": "int64",
         "type": "integer"
        },
        {
         "name": "0.41",
         "rawType": "int64",
         "type": "integer"
        },
        {
         "name": "0.42",
         "rawType": "int64",
         "type": "integer"
        },
        {
         "name": "0.43",
         "rawType": "int64",
         "type": "integer"
        },
        {
         "name": "0.44",
         "rawType": "int64",
         "type": "integer"
        },
        {
         "name": "0.45",
         "rawType": "int64",
         "type": "integer"
        },
        {
         "name": "0.46",
         "rawType": "int64",
         "type": "integer"
        },
        {
         "name": "0.47",
         "rawType": "int64",
         "type": "integer"
        },
        {
         "name": "0.48",
         "rawType": "int64",
         "type": "integer"
        },
        {
         "name": "0.49",
         "rawType": "int64",
         "type": "integer"
        },
        {
         "name": "0.50",
         "rawType": "int64",
         "type": "integer"
        },
        {
         "name": "0.51",
         "rawType": "int64",
         "type": "integer"
        },
        {
         "name": "0.52",
         "rawType": "int64",
         "type": "integer"
        },
        {
         "name": "0.53",
         "rawType": "int64",
         "type": "integer"
        },
        {
         "name": "0.54",
         "rawType": "int64",
         "type": "integer"
        },
        {
         "name": "0.55",
         "rawType": "int64",
         "type": "integer"
        },
        {
         "name": "0.56",
         "rawType": "int64",
         "type": "integer"
        },
        {
         "name": "0.57",
         "rawType": "int64",
         "type": "integer"
        },
        {
         "name": "0.58",
         "rawType": "int64",
         "type": "integer"
        },
        {
         "name": "0.59",
         "rawType": "int64",
         "type": "integer"
        },
        {
         "name": "0.60",
         "rawType": "int64",
         "type": "integer"
        },
        {
         "name": "0.61",
         "rawType": "int64",
         "type": "integer"
        },
        {
         "name": "0.62",
         "rawType": "int64",
         "type": "integer"
        },
        {
         "name": "0.63",
         "rawType": "int64",
         "type": "integer"
        },
        {
         "name": "0.64",
         "rawType": "int64",
         "type": "integer"
        },
        {
         "name": "0.65",
         "rawType": "int64",
         "type": "integer"
        },
        {
         "name": "0.66",
         "rawType": "int64",
         "type": "integer"
        },
        {
         "name": "0.67",
         "rawType": "int64",
         "type": "integer"
        },
        {
         "name": "0.68",
         "rawType": "int64",
         "type": "integer"
        },
        {
         "name": "0.69",
         "rawType": "int64",
         "type": "integer"
        },
        {
         "name": "0.70",
         "rawType": "int64",
         "type": "integer"
        },
        {
         "name": "0.71",
         "rawType": "int64",
         "type": "integer"
        },
        {
         "name": "0.72",
         "rawType": "int64",
         "type": "integer"
        },
        {
         "name": "0.73",
         "rawType": "int64",
         "type": "integer"
        },
        {
         "name": "0.74",
         "rawType": "int64",
         "type": "integer"
        },
        {
         "name": "0.75",
         "rawType": "int64",
         "type": "integer"
        },
        {
         "name": "0.76",
         "rawType": "int64",
         "type": "integer"
        },
        {
         "name": "0.77",
         "rawType": "int64",
         "type": "integer"
        },
        {
         "name": "0.78",
         "rawType": "int64",
         "type": "integer"
        },
        {
         "name": "0.79",
         "rawType": "int64",
         "type": "integer"
        },
        {
         "name": "0.80",
         "rawType": "int64",
         "type": "integer"
        },
        {
         "name": "0.81",
         "rawType": "int64",
         "type": "integer"
        },
        {
         "name": "0.82",
         "rawType": "int64",
         "type": "integer"
        },
        {
         "name": "0.83",
         "rawType": "int64",
         "type": "integer"
        },
        {
         "name": "0.84",
         "rawType": "int64",
         "type": "integer"
        },
        {
         "name": "0.85",
         "rawType": "int64",
         "type": "integer"
        },
        {
         "name": "0.86",
         "rawType": "int64",
         "type": "integer"
        },
        {
         "name": "0.87",
         "rawType": "int64",
         "type": "integer"
        },
        {
         "name": "0.88",
         "rawType": "int64",
         "type": "integer"
        },
        {
         "name": "0.89",
         "rawType": "int64",
         "type": "integer"
        },
        {
         "name": "0.90",
         "rawType": "int64",
         "type": "integer"
        },
        {
         "name": "0.91",
         "rawType": "int64",
         "type": "integer"
        },
        {
         "name": "0.92",
         "rawType": "int64",
         "type": "integer"
        },
        {
         "name": "0.93",
         "rawType": "int64",
         "type": "integer"
        },
        {
         "name": "0.94",
         "rawType": "int64",
         "type": "integer"
        },
        {
         "name": "0.95",
         "rawType": "int64",
         "type": "integer"
        },
        {
         "name": "0.96",
         "rawType": "int64",
         "type": "integer"
        },
        {
         "name": "0.97",
         "rawType": "int64",
         "type": "integer"
        },
        {
         "name": "0.98",
         "rawType": "int64",
         "type": "integer"
        },
        {
         "name": "0.99",
         "rawType": "int64",
         "type": "integer"
        },
        {
         "name": "0.100",
         "rawType": "int64",
         "type": "integer"
        },
        {
         "name": "0.101",
         "rawType": "int64",
         "type": "integer"
        },
        {
         "name": "0.102",
         "rawType": "int64",
         "type": "integer"
        },
        {
         "name": "0.103",
         "rawType": "int64",
         "type": "integer"
        },
        {
         "name": "0.104",
         "rawType": "int64",
         "type": "integer"
        },
        {
         "name": "0.105",
         "rawType": "int64",
         "type": "integer"
        },
        {
         "name": "0.106",
         "rawType": "int64",
         "type": "integer"
        },
        {
         "name": "0.107",
         "rawType": "int64",
         "type": "integer"
        },
        {
         "name": "0.108",
         "rawType": "int64",
         "type": "integer"
        },
        {
         "name": "0.109",
         "rawType": "int64",
         "type": "integer"
        },
        {
         "name": "0.110",
         "rawType": "int64",
         "type": "integer"
        },
        {
         "name": "0.111",
         "rawType": "int64",
         "type": "integer"
        },
        {
         "name": "0.112",
         "rawType": "int64",
         "type": "integer"
        },
        {
         "name": "0.113",
         "rawType": "int64",
         "type": "integer"
        },
        {
         "name": "0.114",
         "rawType": "int64",
         "type": "integer"
        },
        {
         "name": "0.115",
         "rawType": "int64",
         "type": "integer"
        },
        {
         "name": "0.116",
         "rawType": "int64",
         "type": "integer"
        },
        {
         "name": "0.117",
         "rawType": "int64",
         "type": "integer"
        },
        {
         "name": "0.118",
         "rawType": "int64",
         "type": "integer"
        },
        {
         "name": "0.119",
         "rawType": "int64",
         "type": "integer"
        },
        {
         "name": "0.120",
         "rawType": "int64",
         "type": "integer"
        },
        {
         "name": "0.121",
         "rawType": "int64",
         "type": "integer"
        },
        {
         "name": "0.122",
         "rawType": "int64",
         "type": "integer"
        },
        {
         "name": "0.123",
         "rawType": "int64",
         "type": "integer"
        },
        {
         "name": "0.124",
         "rawType": "int64",
         "type": "integer"
        },
        {
         "name": "0.125",
         "rawType": "int64",
         "type": "integer"
        },
        {
         "name": "0.126",
         "rawType": "int64",
         "type": "integer"
        },
        {
         "name": "0.127",
         "rawType": "int64",
         "type": "integer"
        },
        {
         "name": "0.128",
         "rawType": "int64",
         "type": "integer"
        },
        {
         "name": "0.129",
         "rawType": "int64",
         "type": "integer"
        },
        {
         "name": "0.130",
         "rawType": "int64",
         "type": "integer"
        },
        {
         "name": "0.131",
         "rawType": "int64",
         "type": "integer"
        },
        {
         "name": "0.132",
         "rawType": "int64",
         "type": "integer"
        },
        {
         "name": "0.133",
         "rawType": "int64",
         "type": "integer"
        },
        {
         "name": "0.134",
         "rawType": "int64",
         "type": "integer"
        },
        {
         "name": "0.135",
         "rawType": "int64",
         "type": "integer"
        },
        {
         "name": "0.136",
         "rawType": "int64",
         "type": "integer"
        },
        {
         "name": "0.137",
         "rawType": "int64",
         "type": "integer"
        },
        {
         "name": "0.138",
         "rawType": "int64",
         "type": "integer"
        },
        {
         "name": "0.139",
         "rawType": "int64",
         "type": "integer"
        },
        {
         "name": "0.140",
         "rawType": "int64",
         "type": "integer"
        },
        {
         "name": "0.141",
         "rawType": "int64",
         "type": "integer"
        },
        {
         "name": "0.142",
         "rawType": "int64",
         "type": "integer"
        },
        {
         "name": "0.143",
         "rawType": "int64",
         "type": "integer"
        },
        {
         "name": "0.144",
         "rawType": "int64",
         "type": "integer"
        },
        {
         "name": "0.145",
         "rawType": "int64",
         "type": "integer"
        },
        {
         "name": "0.146",
         "rawType": "int64",
         "type": "integer"
        },
        {
         "name": "0.147",
         "rawType": "int64",
         "type": "integer"
        },
        {
         "name": "0.148",
         "rawType": "int64",
         "type": "integer"
        },
        {
         "name": "0.149",
         "rawType": "int64",
         "type": "integer"
        },
        {
         "name": "0.150",
         "rawType": "int64",
         "type": "integer"
        },
        {
         "name": "0.151",
         "rawType": "int64",
         "type": "integer"
        },
        {
         "name": "0.152",
         "rawType": "int64",
         "type": "integer"
        },
        {
         "name": "0.153",
         "rawType": "int64",
         "type": "integer"
        },
        {
         "name": "0.154",
         "rawType": "int64",
         "type": "integer"
        },
        {
         "name": "0.155",
         "rawType": "int64",
         "type": "integer"
        },
        {
         "name": "0.156",
         "rawType": "int64",
         "type": "integer"
        },
        {
         "name": "0.157",
         "rawType": "int64",
         "type": "integer"
        },
        {
         "name": "0.158",
         "rawType": "int64",
         "type": "integer"
        },
        {
         "name": "0.159",
         "rawType": "int64",
         "type": "integer"
        },
        {
         "name": "0.160",
         "rawType": "int64",
         "type": "integer"
        },
        {
         "name": "0.161",
         "rawType": "int64",
         "type": "integer"
        },
        {
         "name": "0.162",
         "rawType": "int64",
         "type": "integer"
        },
        {
         "name": "0.163",
         "rawType": "int64",
         "type": "integer"
        },
        {
         "name": "0.164",
         "rawType": "int64",
         "type": "integer"
        },
        {
         "name": "0.165",
         "rawType": "int64",
         "type": "integer"
        },
        {
         "name": "0.166",
         "rawType": "int64",
         "type": "integer"
        },
        {
         "name": "0.167",
         "rawType": "int64",
         "type": "integer"
        },
        {
         "name": "0.168",
         "rawType": "int64",
         "type": "integer"
        },
        {
         "name": "0.169",
         "rawType": "int64",
         "type": "integer"
        },
        {
         "name": "0.170",
         "rawType": "int64",
         "type": "integer"
        },
        {
         "name": "0.171",
         "rawType": "int64",
         "type": "integer"
        },
        {
         "name": "0.172",
         "rawType": "int64",
         "type": "integer"
        },
        {
         "name": "0.173",
         "rawType": "int64",
         "type": "integer"
        },
        {
         "name": "0.174",
         "rawType": "int64",
         "type": "integer"
        },
        {
         "name": "0.175",
         "rawType": "int64",
         "type": "integer"
        },
        {
         "name": "0.176",
         "rawType": "int64",
         "type": "integer"
        },
        {
         "name": "0.177",
         "rawType": "int64",
         "type": "integer"
        },
        {
         "name": "0.178",
         "rawType": "int64",
         "type": "integer"
        },
        {
         "name": "0.179",
         "rawType": "int64",
         "type": "integer"
        },
        {
         "name": "0.180",
         "rawType": "int64",
         "type": "integer"
        },
        {
         "name": "0.181",
         "rawType": "int64",
         "type": "integer"
        },
        {
         "name": "0.182",
         "rawType": "int64",
         "type": "integer"
        },
        {
         "name": "0.183",
         "rawType": "int64",
         "type": "integer"
        },
        {
         "name": "0.184",
         "rawType": "int64",
         "type": "integer"
        },
        {
         "name": "0.185",
         "rawType": "int64",
         "type": "integer"
        },
        {
         "name": "0.186",
         "rawType": "int64",
         "type": "integer"
        },
        {
         "name": "0.187",
         "rawType": "int64",
         "type": "integer"
        },
        {
         "name": "0.188",
         "rawType": "int64",
         "type": "integer"
        },
        {
         "name": "0.189",
         "rawType": "int64",
         "type": "integer"
        },
        {
         "name": "0.190",
         "rawType": "int64",
         "type": "integer"
        },
        {
         "name": "7",
         "rawType": "int64",
         "type": "integer"
        },
        {
         "name": "27",
         "rawType": "int64",
         "type": "integer"
        },
        {
         "name": "7.1",
         "rawType": "int64",
         "type": "integer"
        },
        {
         "name": "0.191",
         "rawType": "int64",
         "type": "integer"
        },
        {
         "name": "0.192",
         "rawType": "int64",
         "type": "integer"
        },
        {
         "name": "0.193",
         "rawType": "int64",
         "type": "integer"
        },
        {
         "name": "0.194",
         "rawType": "int64",
         "type": "integer"
        },
        {
         "name": "0.195",
         "rawType": "int64",
         "type": "integer"
        },
        {
         "name": "0.196",
         "rawType": "int64",
         "type": "integer"
        },
        {
         "name": "0.197",
         "rawType": "int64",
         "type": "integer"
        },
        {
         "name": "0.198",
         "rawType": "int64",
         "type": "integer"
        },
        {
         "name": "0.199",
         "rawType": "int64",
         "type": "integer"
        },
        {
         "name": "0.200",
         "rawType": "int64",
         "type": "integer"
        },
        {
         "name": "0.201",
         "rawType": "int64",
         "type": "integer"
        },
        {
         "name": "0.202",
         "rawType": "int64",
         "type": "integer"
        },
        {
         "name": "0.203",
         "rawType": "int64",
         "type": "integer"
        },
        {
         "name": "0.204",
         "rawType": "int64",
         "type": "integer"
        },
        {
         "name": "0.205",
         "rawType": "int64",
         "type": "integer"
        },
        {
         "name": "0.206",
         "rawType": "int64",
         "type": "integer"
        },
        {
         "name": "0.207",
         "rawType": "int64",
         "type": "integer"
        },
        {
         "name": "0.208",
         "rawType": "int64",
         "type": "integer"
        },
        {
         "name": "0.209",
         "rawType": "int64",
         "type": "integer"
        },
        {
         "name": "0.210",
         "rawType": "int64",
         "type": "integer"
        },
        {
         "name": "0.211",
         "rawType": "int64",
         "type": "integer"
        },
        {
         "name": "0.212",
         "rawType": "int64",
         "type": "integer"
        },
        {
         "name": "0.213",
         "rawType": "int64",
         "type": "integer"
        },
        {
         "name": "0.214",
         "rawType": "int64",
         "type": "integer"
        },
        {
         "name": "10",
         "rawType": "int64",
         "type": "integer"
        },
        {
         "name": "90",
         "rawType": "int64",
         "type": "integer"
        },
        {
         "name": "186",
         "rawType": "int64",
         "type": "integer"
        },
        {
         "name": "76",
         "rawType": "int64",
         "type": "integer"
        },
        {
         "name": "2",
         "rawType": "int64",
         "type": "integer"
        },
        {
         "name": "0.215",
         "rawType": "int64",
         "type": "integer"
        },
        {
         "name": "0.216",
         "rawType": "int64",
         "type": "integer"
        },
        {
         "name": "0.217",
         "rawType": "int64",
         "type": "integer"
        },
        {
         "name": "0.218",
         "rawType": "int64",
         "type": "integer"
        },
        {
         "name": "0.219",
         "rawType": "int64",
         "type": "integer"
        },
        {
         "name": "0.220",
         "rawType": "int64",
         "type": "integer"
        },
        {
         "name": "0.221",
         "rawType": "int64",
         "type": "integer"
        },
        {
         "name": "0.222",
         "rawType": "int64",
         "type": "integer"
        },
        {
         "name": "0.223",
         "rawType": "int64",
         "type": "integer"
        },
        {
         "name": "0.224",
         "rawType": "int64",
         "type": "integer"
        },
        {
         "name": "0.225",
         "rawType": "int64",
         "type": "integer"
        },
        {
         "name": "0.226",
         "rawType": "int64",
         "type": "integer"
        },
        {
         "name": "0.227",
         "rawType": "int64",
         "type": "integer"
        },
        {
         "name": "0.228",
         "rawType": "int64",
         "type": "integer"
        },
        {
         "name": "0.229",
         "rawType": "int64",
         "type": "integer"
        },
        {
         "name": "0.230",
         "rawType": "int64",
         "type": "integer"
        },
        {
         "name": "0.231",
         "rawType": "int64",
         "type": "integer"
        },
        {
         "name": "0.232",
         "rawType": "int64",
         "type": "integer"
        },
        {
         "name": "0.233",
         "rawType": "int64",
         "type": "integer"
        },
        {
         "name": "0.234",
         "rawType": "int64",
         "type": "integer"
        },
        {
         "name": "0.235",
         "rawType": "int64",
         "type": "integer"
        },
        {
         "name": "0.236",
         "rawType": "int64",
         "type": "integer"
        },
        {
         "name": "32",
         "rawType": "int64",
         "type": "integer"
        },
        {
         "name": "127",
         "rawType": "int64",
         "type": "integer"
        },
        {
         "name": "221",
         "rawType": "int64",
         "type": "integer"
        },
        {
         "name": "248",
         "rawType": "int64",
         "type": "integer"
        },
        {
         "name": "125",
         "rawType": "int64",
         "type": "integer"
        },
        {
         "name": "4",
         "rawType": "int64",
         "type": "integer"
        },
        {
         "name": "0.237",
         "rawType": "int64",
         "type": "integer"
        },
        {
         "name": "0.238",
         "rawType": "int64",
         "type": "integer"
        },
        {
         "name": "0.239",
         "rawType": "int64",
         "type": "integer"
        },
        {
         "name": "0.240",
         "rawType": "int64",
         "type": "integer"
        },
        {
         "name": "3",
         "rawType": "int64",
         "type": "integer"
        },
        {
         "name": "2.1",
         "rawType": "int64",
         "type": "integer"
        },
        {
         "name": "0.241",
         "rawType": "int64",
         "type": "integer"
        },
        {
         "name": "0.242",
         "rawType": "int64",
         "type": "integer"
        },
        {
         "name": "0.243",
         "rawType": "int64",
         "type": "integer"
        },
        {
         "name": "0.244",
         "rawType": "int64",
         "type": "integer"
        },
        {
         "name": "0.245",
         "rawType": "int64",
         "type": "integer"
        },
        {
         "name": "0.246",
         "rawType": "int64",
         "type": "integer"
        },
        {
         "name": "0.247",
         "rawType": "int64",
         "type": "integer"
        },
        {
         "name": "0.248",
         "rawType": "int64",
         "type": "integer"
        },
        {
         "name": "0.249",
         "rawType": "int64",
         "type": "integer"
        },
        {
         "name": "0.250",
         "rawType": "int64",
         "type": "integer"
        },
        {
         "name": "0.251",
         "rawType": "int64",
         "type": "integer"
        },
        {
         "name": "0.252",
         "rawType": "int64",
         "type": "integer"
        },
        {
         "name": "0.253",
         "rawType": "int64",
         "type": "integer"
        },
        {
         "name": "0.254",
         "rawType": "int64",
         "type": "integer"
        },
        {
         "name": "0.255",
         "rawType": "int64",
         "type": "integer"
        },
        {
         "name": "22",
         "rawType": "int64",
         "type": "integer"
        },
        {
         "name": "131",
         "rawType": "int64",
         "type": "integer"
        },
        {
         "name": "242",
         "rawType": "int64",
         "type": "integer"
        },
        {
         "name": "254",
         "rawType": "int64",
         "type": "integer"
        },
        {
         "name": "249",
         "rawType": "int64",
         "type": "integer"
        },
        {
         "name": "125.1",
         "rawType": "int64",
         "type": "integer"
        },
        {
         "name": "4.1",
         "rawType": "int64",
         "type": "integer"
        },
        {
         "name": "0.256",
         "rawType": "int64",
         "type": "integer"
        },
        {
         "name": "0.257",
         "rawType": "int64",
         "type": "integer"
        },
        {
         "name": "0.258",
         "rawType": "int64",
         "type": "integer"
        },
        {
         "name": "32.1",
         "rawType": "int64",
         "type": "integer"
        },
        {
         "name": "111",
         "rawType": "int64",
         "type": "integer"
        },
        {
         "name": "77",
         "rawType": "int64",
         "type": "integer"
        },
        {
         "name": "8",
         "rawType": "int64",
         "type": "integer"
        },
        {
         "name": "0.259",
         "rawType": "int64",
         "type": "integer"
        },
        {
         "name": "0.260",
         "rawType": "int64",
         "type": "integer"
        },
        {
         "name": "0.261",
         "rawType": "int64",
         "type": "integer"
        },
        {
         "name": "0.262",
         "rawType": "int64",
         "type": "integer"
        },
        {
         "name": "0.263",
         "rawType": "int64",
         "type": "integer"
        },
        {
         "name": "0.264",
         "rawType": "int64",
         "type": "integer"
        },
        {
         "name": "0.265",
         "rawType": "int64",
         "type": "integer"
        },
        {
         "name": "0.266",
         "rawType": "int64",
         "type": "integer"
        },
        {
         "name": "0.267",
         "rawType": "int64",
         "type": "integer"
        },
        {
         "name": "0.268",
         "rawType": "int64",
         "type": "integer"
        },
        {
         "name": "0.269",
         "rawType": "int64",
         "type": "integer"
        },
        {
         "name": "0.270",
         "rawType": "int64",
         "type": "integer"
        },
        {
         "name": "0.271",
         "rawType": "int64",
         "type": "integer"
        },
        {
         "name": "10.1",
         "rawType": "int64",
         "type": "integer"
        },
        {
         "name": "123",
         "rawType": "int64",
         "type": "integer"
        },
        {
         "name": "232",
         "rawType": "int64",
         "type": "integer"
        },
        {
         "name": "253",
         "rawType": "int64",
         "type": "integer"
        },
        {
         "name": "250",
         "rawType": "int64",
         "type": "integer"
        },
        {
         "name": "218",
         "rawType": "int64",
         "type": "integer"
        },
        {
         "name": "77.1",
         "rawType": "int64",
         "type": "integer"
        },
        {
         "name": "2.2",
         "rawType": "int64",
         "type": "integer"
        },
        {
         "name": "0.272",
         "rawType": "int64",
         "type": "integer"
        },
        {
         "name": "0.273",
         "rawType": "int64",
         "type": "integer"
        },
        {
         "name": "3.1",
         "rawType": "int64",
         "type": "integer"
        },
        {
         "name": "99",
         "rawType": "int64",
         "type": "integer"
        },
        {
         "name": "234",
         "rawType": "int64",
         "type": "integer"
        },
        {
         "name": "218.1",
         "rawType": "int64",
         "type": "integer"
        },
        {
         "name": "95",
         "rawType": "int64",
         "type": "integer"
        },
        {
         "name": "22.1",
         "rawType": "int64",
         "type": "integer"
        },
        {
         "name": "1",
         "rawType": "int64",
         "type": "integer"
        },
        {
         "name": "0.274",
         "rawType": "int64",
         "type": "integer"
        },
        {
         "name": "0.275",
         "rawType": "int64",
         "type": "integer"
        },
        {
         "name": "0.276",
         "rawType": "int64",
         "type": "integer"
        },
        {
         "name": "0.277",
         "rawType": "int64",
         "type": "integer"
        },
        {
         "name": "0.278",
         "rawType": "int64",
         "type": "integer"
        },
        {
         "name": "0.279",
         "rawType": "int64",
         "type": "integer"
        },
        {
         "name": "0.280",
         "rawType": "int64",
         "type": "integer"
        },
        {
         "name": "0.281",
         "rawType": "int64",
         "type": "integer"
        },
        {
         "name": "0.282",
         "rawType": "int64",
         "type": "integer"
        },
        {
         "name": "0.283",
         "rawType": "int64",
         "type": "integer"
        },
        {
         "name": "9",
         "rawType": "int64",
         "type": "integer"
        },
        {
         "name": "91",
         "rawType": "int64",
         "type": "integer"
        },
        {
         "name": "221.1",
         "rawType": "int64",
         "type": "integer"
        },
        {
         "name": "253.1",
         "rawType": "int64",
         "type": "integer"
        },
        {
         "name": "234.1",
         "rawType": "int64",
         "type": "integer"
        },
        {
         "name": "144",
         "rawType": "int64",
         "type": "integer"
        },
        {
         "name": "77.2",
         "rawType": "int64",
         "type": "integer"
        },
        {
         "name": "8.1",
         "rawType": "int64",
         "type": "integer"
        },
        {
         "name": "0.284",
         "rawType": "int64",
         "type": "integer"
        },
        {
         "name": "0.285",
         "rawType": "int64",
         "type": "integer"
        },
        {
         "name": "0.286",
         "rawType": "int64",
         "type": "integer"
        },
        {
         "name": "0.287",
         "rawType": "int64",
         "type": "integer"
        },
        {
         "name": "34",
         "rawType": "int64",
         "type": "integer"
        },
        {
         "name": "177",
         "rawType": "int64",
         "type": "integer"
        },
        {
         "name": "251",
         "rawType": "int64",
         "type": "integer"
        },
        {
         "name": "232.1",
         "rawType": "int64",
         "type": "integer"
        },
        {
         "name": "159",
         "rawType": "int64",
         "type": "integer"
        },
        {
         "name": "52",
         "rawType": "int64",
         "type": "integer"
        },
        {
         "name": "32.2",
         "rawType": "int64",
         "type": "integer"
        },
        {
         "name": "8.2",
         "rawType": "int64",
         "type": "integer"
        },
        {
         "name": "0.288",
         "rawType": "int64",
         "type": "integer"
        },
        {
         "name": "0.289",
         "rawType": "int64",
         "type": "integer"
        },
        {
         "name": "0.290",
         "rawType": "int64",
         "type": "integer"
        },
        {
         "name": "0.291",
         "rawType": "int64",
         "type": "integer"
        },
        {
         "name": "0.292",
         "rawType": "int64",
         "type": "integer"
        },
        {
         "name": "0.293",
         "rawType": "int64",
         "type": "integer"
        },
        {
         "name": "0.294",
         "rawType": "int64",
         "type": "integer"
        },
        {
         "name": "20",
         "rawType": "int64",
         "type": "integer"
        },
        {
         "name": "95.1",
         "rawType": "int64",
         "type": "integer"
        },
        {
         "name": "219",
         "rawType": "int64",
         "type": "integer"
        },
        {
         "name": "252",
         "rawType": "int64",
         "type": "integer"
        },
        {
         "name": "234.2",
         "rawType": "int64",
         "type": "integer"
        },
        {
         "name": "154",
         "rawType": "int64",
         "type": "integer"
        },
        {
         "name": "24.1",
         "rawType": "int64",
         "type": "integer"
        },
        {
         "name": "2.3",
         "rawType": "int64",
         "type": "integer"
        },
        {
         "name": "0.295",
         "rawType": "int64",
         "type": "integer"
        },
        {
         "name": "0.296",
         "rawType": "int64",
         "type": "integer"
        },
        {
         "name": "0.297",
         "rawType": "int64",
         "type": "integer"
        },
        {
         "name": "0.298",
         "rawType": "int64",
         "type": "integer"
        },
        {
         "name": "0.299",
         "rawType": "int64",
         "type": "integer"
        },
        {
         "name": "4.2",
         "rawType": "int64",
         "type": "integer"
        },
        {
         "name": "110",
         "rawType": "int64",
         "type": "integer"
        },
        {
         "name": "229",
         "rawType": "int64",
         "type": "integer"
        },
        {
         "name": "251.1",
         "rawType": "int64",
         "type": "integer"
        },
        {
         "name": "247",
         "rawType": "int64",
         "type": "integer"
        },
        {
         "name": "222",
         "rawType": "int64",
         "type": "integer"
        },
        {
         "name": "203",
         "rawType": "int64",
         "type": "integer"
        },
        {
         "name": "127.1",
         "rawType": "int64",
         "type": "integer"
        },
        {
         "name": "46",
         "rawType": "int64",
         "type": "integer"
        },
        {
         "name": "9.1",
         "rawType": "int64",
         "type": "integer"
        },
        {
         "name": "4.3",
         "rawType": "int64",
         "type": "integer"
        },
        {
         "name": "0.300",
         "rawType": "int64",
         "type": "integer"
        },
        {
         "name": "0.301",
         "rawType": "int64",
         "type": "integer"
        },
        {
         "name": "0.302",
         "rawType": "int64",
         "type": "integer"
        },
        {
         "name": "12",
         "rawType": "int64",
         "type": "integer"
        },
        {
         "name": "123.1",
         "rawType": "int64",
         "type": "integer"
        },
        {
         "name": "231",
         "rawType": "int64",
         "type": "integer"
        },
        {
         "name": "252.1",
         "rawType": "int64",
         "type": "integer"
        },
        {
         "name": "242.1",
         "rawType": "int64",
         "type": "integer"
        },
        {
         "name": "131.1",
         "rawType": "int64",
         "type": "integer"
        },
        {
         "name": "23",
         "rawType": "int64",
         "type": "integer"
        },
        {
         "name": "1.1",
         "rawType": "int64",
         "type": "integer"
        },
        {
         "name": "0.303",
         "rawType": "int64",
         "type": "integer"
        },
        {
         "name": "0.304",
         "rawType": "int64",
         "type": "integer"
        },
        {
         "name": "0.305",
         "rawType": "int64",
         "type": "integer"
        },
        {
         "name": "0.306",
         "rawType": "int64",
         "type": "integer"
        },
        {
         "name": "0.307",
         "rawType": "int64",
         "type": "integer"
        },
        {
         "name": "0.308",
         "rawType": "int64",
         "type": "integer"
        },
        {
         "name": "0.309",
         "rawType": "int64",
         "type": "integer"
        },
        {
         "name": "20.1",
         "rawType": "int64",
         "type": "integer"
        },
        {
         "name": "83",
         "rawType": "int64",
         "type": "integer"
        },
        {
         "name": "175",
         "rawType": "int64",
         "type": "integer"
        },
        {
         "name": "244",
         "rawType": "int64",
         "type": "integer"
        },
        {
         "name": "253.2",
         "rawType": "int64",
         "type": "integer"
        },
        {
         "name": "254.1",
         "rawType": "int64",
         "type": "integer"
        },
        {
         "name": "246",
         "rawType": "int64",
         "type": "integer"
        },
        {
         "name": "208",
         "rawType": "int64",
         "type": "integer"
        },
        {
         "name": "140",
         "rawType": "int64",
         "type": "integer"
        },
        {
         "name": "113",
         "rawType": "int64",
         "type": "integer"
        },
        {
         "name": "33",
         "rawType": "int64",
         "type": "integer"
        },
        {
         "name": "7.2",
         "rawType": "int64",
         "type": "integer"
        },
        {
         "name": "46.1",
         "rawType": "int64",
         "type": "integer"
        },
        {
         "name": "128",
         "rawType": "int64",
         "type": "integer"
        },
        {
         "name": "222.1",
         "rawType": "int64",
         "type": "integer"
        },
        {
         "name": "253.3",
         "rawType": "int64",
         "type": "integer"
        },
        {
         "name": "232.2",
         "rawType": "int64",
         "type": "integer"
        },
        {
         "name": "131.2",
         "rawType": "int64",
         "type": "integer"
        },
        {
         "name": "32.3",
         "rawType": "int64",
         "type": "integer"
        },
        {
         "name": "0.310",
         "rawType": "int64",
         "type": "integer"
        },
        {
         "name": "0.311",
         "rawType": "int64",
         "type": "integer"
        },
        {
         "name": "0.312",
         "rawType": "int64",
         "type": "integer"
        },
        {
         "name": "0.313",
         "rawType": "int64",
         "type": "integer"
        },
        {
         "name": "0.314",
         "rawType": "int64",
         "type": "integer"
        },
        {
         "name": "0.315",
         "rawType": "int64",
         "type": "integer"
        },
        {
         "name": "0.316",
         "rawType": "int64",
         "type": "integer"
        },
        {
         "name": "0.317",
         "rawType": "int64",
         "type": "integer"
        },
        {
         "name": "0.318",
         "rawType": "int64",
         "type": "integer"
        },
        {
         "name": "0.319",
         "rawType": "int64",
         "type": "integer"
        },
        {
         "name": "3.2",
         "rawType": "int64",
         "type": "integer"
        },
        {
         "name": "34.1",
         "rawType": "int64",
         "type": "integer"
        },
        {
         "name": "126",
         "rawType": "int64",
         "type": "integer"
        },
        {
         "name": "204",
         "rawType": "int64",
         "type": "integer"
        },
        {
         "name": "233",
         "rawType": "int64",
         "type": "integer"
        },
        {
         "name": "251.2",
         "rawType": "int64",
         "type": "integer"
        },
        {
         "name": "253.4",
         "rawType": "int64",
         "type": "integer"
        },
        {
         "name": "250.1",
         "rawType": "int64",
         "type": "integer"
        },
        {
         "name": "243",
         "rawType": "int64",
         "type": "integer"
        },
        {
         "name": "164",
         "rawType": "int64",
         "type": "integer"
        },
        {
         "name": "97",
         "rawType": "int64",
         "type": "integer"
        },
        {
         "name": "207",
         "rawType": "int64",
         "type": "integer"
        },
        {
         "name": "246.1",
         "rawType": "int64",
         "type": "integer"
        },
        {
         "name": "248.1",
         "rawType": "int64",
         "type": "integer"
        },
        {
         "name": "209",
         "rawType": "int64",
         "type": "integer"
        },
        {
         "name": "122",
         "rawType": "int64",
         "type": "integer"
        },
        {
         "name": "22.2",
         "rawType": "int64",
         "type": "integer"
        },
        {
         "name": "0.320",
         "rawType": "int64",
         "type": "integer"
        },
        {
         "name": "0.321",
         "rawType": "int64",
         "type": "integer"
        },
        {
         "name": "0.322",
         "rawType": "int64",
         "type": "integer"
        },
        {
         "name": "0.323",
         "rawType": "int64",
         "type": "integer"
        },
        {
         "name": "0.324",
         "rawType": "int64",
         "type": "integer"
        },
        {
         "name": "0.325",
         "rawType": "int64",
         "type": "integer"
        },
        {
         "name": "0.326",
         "rawType": "int64",
         "type": "integer"
        },
        {
         "name": "0.327",
         "rawType": "int64",
         "type": "integer"
        },
        {
         "name": "0.328",
         "rawType": "int64",
         "type": "integer"
        },
        {
         "name": "0.329",
         "rawType": "int64",
         "type": "integer"
        },
        {
         "name": "0.330",
         "rawType": "int64",
         "type": "integer"
        },
        {
         "name": "0.331",
         "rawType": "int64",
         "type": "integer"
        },
        {
         "name": "0.332",
         "rawType": "int64",
         "type": "integer"
        },
        {
         "name": "8.3",
         "rawType": "int64",
         "type": "integer"
        },
        {
         "name": "34.2",
         "rawType": "int64",
         "type": "integer"
        },
        {
         "name": "84",
         "rawType": "int64",
         "type": "integer"
        },
        {
         "name": "171",
         "rawType": "int64",
         "type": "integer"
        },
        {
         "name": "232.3",
         "rawType": "int64",
         "type": "integer"
        },
        {
         "name": "250.2",
         "rawType": "int64",
         "type": "integer"
        },
        {
         "name": "254.2",
         "rawType": "int64",
         "type": "integer"
        },
        {
         "name": "247.1",
         "rawType": "int64",
         "type": "integer"
        },
        {
         "name": "235",
         "rawType": "int64",
         "type": "integer"
        },
        {
         "name": "253.5",
         "rawType": "int64",
         "type": "integer"
        },
        {
         "name": "254.3",
         "rawType": "int64",
         "type": "integer"
        },
        {
         "name": "227",
         "rawType": "int64",
         "type": "integer"
        },
        {
         "name": "80",
         "rawType": "int64",
         "type": "integer"
        },
        {
         "name": "14",
         "rawType": "int64",
         "type": "integer"
        },
        {
         "name": "3.3",
         "rawType": "int64",
         "type": "integer"
        },
        {
         "name": "0.333",
         "rawType": "int64",
         "type": "integer"
        },
        {
         "name": "0.334",
         "rawType": "int64",
         "type": "integer"
        },
        {
         "name": "0.335",
         "rawType": "int64",
         "type": "integer"
        },
        {
         "name": "0.336",
         "rawType": "int64",
         "type": "integer"
        },
        {
         "name": "0.337",
         "rawType": "int64",
         "type": "integer"
        },
        {
         "name": "0.338",
         "rawType": "int64",
         "type": "integer"
        },
        {
         "name": "0.339",
         "rawType": "int64",
         "type": "integer"
        },
        {
         "name": "0.340",
         "rawType": "int64",
         "type": "integer"
        },
        {
         "name": "0.341",
         "rawType": "int64",
         "type": "integer"
        },
        {
         "name": "0.342",
         "rawType": "int64",
         "type": "integer"
        },
        {
         "name": "0.343",
         "rawType": "int64",
         "type": "integer"
        },
        {
         "name": "0.344",
         "rawType": "int64",
         "type": "integer"
        },
        {
         "name": "0.345",
         "rawType": "int64",
         "type": "integer"
        },
        {
         "name": "0.346",
         "rawType": "int64",
         "type": "integer"
        },
        {
         "name": "0.347",
         "rawType": "int64",
         "type": "integer"
        },
        {
         "name": "3.4",
         "rawType": "int64",
         "type": "integer"
        },
        {
         "name": "22.3",
         "rawType": "int64",
         "type": "integer"
        },
        {
         "name": "83.1",
         "rawType": "int64",
         "type": "integer"
        },
        {
         "name": "159.1",
         "rawType": "int64",
         "type": "integer"
        },
        {
         "name": "241",
         "rawType": "int64",
         "type": "integer"
        },
        {
         "name": "254.4",
         "rawType": "int64",
         "type": "integer"
        },
        {
         "name": "254.5",
         "rawType": "int64",
         "type": "integer"
        },
        {
         "name": "254.6",
         "rawType": "int64",
         "type": "integer"
        },
        {
         "name": "255",
         "rawType": "int64",
         "type": "integer"
        },
        {
         "name": "247.2",
         "rawType": "int64",
         "type": "integer"
        },
        {
         "name": "178",
         "rawType": "int64",
         "type": "integer"
        },
        {
         "name": "127.2",
         "rawType": "int64",
         "type": "integer"
        },
        {
         "name": "77.3",
         "rawType": "int64",
         "type": "integer"
        },
        {
         "name": "11",
         "rawType": "int64",
         "type": "integer"
        },
        {
         "name": "2.4",
         "rawType": "int64",
         "type": "integer"
        },
        {
         "name": "0.348",
         "rawType": "int64",
         "type": "integer"
        },
        {
         "name": "0.349",
         "rawType": "int64",
         "type": "integer"
        },
        {
         "name": "0.350",
         "rawType": "int64",
         "type": "integer"
        },
        {
         "name": "0.351",
         "rawType": "int64",
         "type": "integer"
        },
        {
         "name": "0.352",
         "rawType": "int64",
         "type": "integer"
        },
        {
         "name": "0.353",
         "rawType": "int64",
         "type": "integer"
        },
        {
         "name": "0.354",
         "rawType": "int64",
         "type": "integer"
        },
        {
         "name": "0.355",
         "rawType": "int64",
         "type": "integer"
        },
        {
         "name": "0.356",
         "rawType": "int64",
         "type": "integer"
        },
        {
         "name": "0.357",
         "rawType": "int64",
         "type": "integer"
        },
        {
         "name": "0.358",
         "rawType": "int64",
         "type": "integer"
        },
        {
         "name": "0.359",
         "rawType": "int64",
         "type": "integer"
        },
        {
         "name": "0.360",
         "rawType": "int64",
         "type": "integer"
        },
        {
         "name": "0.361",
         "rawType": "int64",
         "type": "integer"
        },
        {
         "name": "7.3",
         "rawType": "int64",
         "type": "integer"
        },
        {
         "name": "50",
         "rawType": "int64",
         "type": "integer"
        },
        {
         "name": "168",
         "rawType": "int64",
         "type": "integer"
        },
        {
         "name": "248.2",
         "rawType": "int64",
         "type": "integer"
        },
        {
         "name": "254.7",
         "rawType": "int64",
         "type": "integer"
        },
        {
         "name": "235.1",
         "rawType": "int64",
         "type": "integer"
        },
        {
         "name": "234.3",
         "rawType": "int64",
         "type": "integer"
        },
        {
         "name": "250.3",
         "rawType": "int64",
         "type": "integer"
        },
        {
         "name": "254.8",
         "rawType": "int64",
         "type": "integer"
        },
        {
         "name": "252.2",
         "rawType": "int64",
         "type": "integer"
        },
        {
         "name": "249.1",
         "rawType": "int64",
         "type": "integer"
        },
        {
         "name": "220",
         "rawType": "int64",
         "type": "integer"
        },
        {
         "name": "139",
         "rawType": "int64",
         "type": "integer"
        },
        {
         "name": "82",
         "rawType": "int64",
         "type": "integer"
        },
        {
         "name": "22.4",
         "rawType": "int64",
         "type": "integer"
        },
        {
         "name": "1.2",
         "rawType": "int64",
         "type": "integer"
        },
        {
         "name": "0.362",
         "rawType": "int64",
         "type": "integer"
        },
        {
         "name": "0.363",
         "rawType": "int64",
         "type": "integer"
        },
        {
         "name": "0.364",
         "rawType": "int64",
         "type": "integer"
        },
        {
         "name": "0.365",
         "rawType": "int64",
         "type": "integer"
        },
        {
         "name": "0.366",
         "rawType": "int64",
         "type": "integer"
        },
        {
         "name": "0.367",
         "rawType": "int64",
         "type": "integer"
        },
        {
         "name": "0.368",
         "rawType": "int64",
         "type": "integer"
        },
        {
         "name": "0.369",
         "rawType": "int64",
         "type": "integer"
        },
        {
         "name": "0.370",
         "rawType": "int64",
         "type": "integer"
        },
        {
         "name": "0.371",
         "rawType": "int64",
         "type": "integer"
        },
        {
         "name": "2.5",
         "rawType": "int64",
         "type": "integer"
        },
        {
         "name": "11.1",
         "rawType": "int64",
         "type": "integer"
        },
        {
         "name": "90.1",
         "rawType": "int64",
         "type": "integer"
        },
        {
         "name": "207.1",
         "rawType": "int64",
         "type": "integer"
        },
        {
         "name": "247.3",
         "rawType": "int64",
         "type": "integer"
        },
        {
         "name": "251.3",
         "rawType": "int64",
         "type": "integer"
        },
        {
         "name": "232.4",
         "rawType": "int64",
         "type": "integer"
        },
        {
         "name": "97.1",
         "rawType": "int64",
         "type": "integer"
        },
        {
         "name": "84.1",
         "rawType": "int64",
         "type": "integer"
        },
        {
         "name": "139.1",
         "rawType": "int64",
         "type": "integer"
        },
        {
         "name": "208.1",
         "rawType": "int64",
         "type": "integer"
        },
        {
         "name": "245",
         "rawType": "int64",
         "type": "integer"
        },
        {
         "name": "252.3",
         "rawType": "int64",
         "type": "integer"
        },
        {
         "name": "253.6",
         "rawType": "int64",
         "type": "integer"
        },
        {
         "name": "250.4",
         "rawType": "int64",
         "type": "integer"
        },
        {
         "name": "231.1",
         "rawType": "int64",
         "type": "integer"
        },
        {
         "name": "159.2",
         "rawType": "int64",
         "type": "integer"
        },
        {
         "name": "47",
         "rawType": "int64",
         "type": "integer"
        },
        {
         "name": "7.4",
         "rawType": "int64",
         "type": "integer"
        },
        {
         "name": "0.372",
         "rawType": "int64",
         "type": "integer"
        },
        {
         "name": "0.373",
         "rawType": "int64",
         "type": "integer"
        },
        {
         "name": "0.374",
         "rawType": "int64",
         "type": "integer"
        },
        {
         "name": "0.375",
         "rawType": "int64",
         "type": "integer"
        },
        {
         "name": "0.376",
         "rawType": "int64",
         "type": "integer"
        },
        {
         "name": "0.377",
         "rawType": "int64",
         "type": "integer"
        },
        {
         "name": "0.378",
         "rawType": "int64",
         "type": "integer"
        },
        {
         "name": "0.379",
         "rawType": "int64",
         "type": "integer"
        },
        {
         "name": "1.3",
         "rawType": "int64",
         "type": "integer"
        },
        {
         "name": "44",
         "rawType": "int64",
         "type": "integer"
        },
        {
         "name": "102",
         "rawType": "int64",
         "type": "integer"
        },
        {
         "name": "183",
         "rawType": "int64",
         "type": "integer"
        },
        {
         "name": "215",
         "rawType": "int64",
         "type": "integer"
        },
        {
         "name": "215.1",
         "rawType": "int64",
         "type": "integer"
        },
        {
         "name": "170",
         "rawType": "int64",
         "type": "integer"
        },
        {
         "name": "83.2",
         "rawType": "int64",
         "type": "integer"
        },
        {
         "name": "7.5",
         "rawType": "int64",
         "type": "integer"
        },
        {
         "name": "2.6",
         "rawType": "int64",
         "type": "integer"
        },
        {
         "name": "9.2",
         "rawType": "int64",
         "type": "integer"
        },
        {
         "name": "46.2",
         "rawType": "int64",
         "type": "integer"
        },
        {
         "name": "115",
         "rawType": "int64",
         "type": "integer"
        },
        {
         "name": "172",
         "rawType": "int64",
         "type": "integer"
        },
        {
         "name": "215.2",
         "rawType": "int64",
         "type": "integer"
        },
        {
         "name": "217",
         "rawType": "int64",
         "type": "integer"
        },
        {
         "name": "217.1",
         "rawType": "int64",
         "type": "integer"
        },
        {
         "name": "209.1",
         "rawType": "int64",
         "type": "integer"
        },
        {
         "name": "169",
         "rawType": "int64",
         "type": "integer"
        },
        {
         "name": "58",
         "rawType": "int64",
         "type": "integer"
        },
        {
         "name": "1.4",
         "rawType": "int64",
         "type": "integer"
        },
        {
         "name": "0.380",
         "rawType": "int64",
         "type": "integer"
        },
        {
         "name": "0.381",
         "rawType": "int64",
         "type": "integer"
        },
        {
         "name": "0.382",
         "rawType": "int64",
         "type": "integer"
        },
        {
         "name": "0.383",
         "rawType": "int64",
         "type": "integer"
        },
        {
         "name": "0.384",
         "rawType": "int64",
         "type": "integer"
        },
        {
         "name": "0.385",
         "rawType": "int64",
         "type": "integer"
        },
        {
         "name": "0.386",
         "rawType": "int64",
         "type": "integer"
        },
        {
         "name": "0.387",
         "rawType": "int64",
         "type": "integer"
        },
        {
         "name": "16",
         "rawType": "int64",
         "type": "integer"
        },
        {
         "name": "33.1",
         "rawType": "int64",
         "type": "integer"
        },
        {
         "name": "36",
         "rawType": "int64",
         "type": "integer"
        },
        {
         "name": "37",
         "rawType": "int64",
         "type": "integer"
        },
        {
         "name": "37.1",
         "rawType": "int64",
         "type": "integer"
        },
        {
         "name": "21",
         "rawType": "int64",
         "type": "integer"
        },
        {
         "name": "3.5",
         "rawType": "int64",
         "type": "integer"
        },
        {
         "name": "0.388",
         "rawType": "int64",
         "type": "integer"
        },
        {
         "name": "0.389",
         "rawType": "int64",
         "type": "integer"
        },
        {
         "name": "0.390",
         "rawType": "int64",
         "type": "integer"
        },
        {
         "name": "0.391",
         "rawType": "int64",
         "type": "integer"
        },
        {
         "name": "4.4",
         "rawType": "int64",
         "type": "integer"
        },
        {
         "name": "21.1",
         "rawType": "int64",
         "type": "integer"
        },
        {
         "name": "37.2",
         "rawType": "int64",
         "type": "integer"
        },
        {
         "name": "37.3",
         "rawType": "int64",
         "type": "integer"
        },
        {
         "name": "37.4",
         "rawType": "int64",
         "type": "integer"
        },
        {
         "name": "37.5",
         "rawType": "int64",
         "type": "integer"
        },
        {
         "name": "36.1",
         "rawType": "int64",
         "type": "integer"
        },
        {
         "name": "17",
         "rawType": "int64",
         "type": "integer"
        },
        {
         "name": "0.392",
         "rawType": "int64",
         "type": "integer"
        },
        {
         "name": "0.393",
         "rawType": "int64",
         "type": "integer"
        },
        {
         "name": "0.394",
         "rawType": "int64",
         "type": "integer"
        },
        {
         "name": "0.395",
         "rawType": "int64",
         "type": "integer"
        },
        {
         "name": "0.396",
         "rawType": "int64",
         "type": "integer"
        },
        {
         "name": "0.397",
         "rawType": "int64",
         "type": "integer"
        },
        {
         "name": "0.398",
         "rawType": "int64",
         "type": "integer"
        },
        {
         "name": "0.399",
         "rawType": "int64",
         "type": "integer"
        },
        {
         "name": "0.400",
         "rawType": "int64",
         "type": "integer"
        },
        {
         "name": "0.401",
         "rawType": "int64",
         "type": "integer"
        },
        {
         "name": "0.402",
         "rawType": "int64",
         "type": "integer"
        },
        {
         "name": "0.403",
         "rawType": "int64",
         "type": "integer"
        },
        {
         "name": "0.404",
         "rawType": "int64",
         "type": "integer"
        },
        {
         "name": "0.405",
         "rawType": "int64",
         "type": "integer"
        },
        {
         "name": "0.406",
         "rawType": "int64",
         "type": "integer"
        },
        {
         "name": "0.407",
         "rawType": "int64",
         "type": "integer"
        },
        {
         "name": "0.408",
         "rawType": "int64",
         "type": "integer"
        },
        {
         "name": "0.409",
         "rawType": "int64",
         "type": "integer"
        },
        {
         "name": "0.410",
         "rawType": "int64",
         "type": "integer"
        },
        {
         "name": "0.411",
         "rawType": "int64",
         "type": "integer"
        },
        {
         "name": "0.412",
         "rawType": "int64",
         "type": "integer"
        },
        {
         "name": "0.413",
         "rawType": "int64",
         "type": "integer"
        },
        {
         "name": "0.414",
         "rawType": "int64",
         "type": "integer"
        },
        {
         "name": "0.415",
         "rawType": "int64",
         "type": "integer"
        },
        {
         "name": "0.416",
         "rawType": "int64",
         "type": "integer"
        },
        {
         "name": "0.417",
         "rawType": "int64",
         "type": "integer"
        },
        {
         "name": "0.418",
         "rawType": "int64",
         "type": "integer"
        },
        {
         "name": "0.419",
         "rawType": "int64",
         "type": "integer"
        },
        {
         "name": "0.420",
         "rawType": "int64",
         "type": "integer"
        },
        {
         "name": "0.421",
         "rawType": "int64",
         "type": "integer"
        },
        {
         "name": "0.422",
         "rawType": "int64",
         "type": "integer"
        },
        {
         "name": "0.423",
         "rawType": "int64",
         "type": "integer"
        },
        {
         "name": "0.424",
         "rawType": "int64",
         "type": "integer"
        },
        {
         "name": "0.425",
         "rawType": "int64",
         "type": "integer"
        },
        {
         "name": "0.426",
         "rawType": "int64",
         "type": "integer"
        },
        {
         "name": "0.427",
         "rawType": "int64",
         "type": "integer"
        },
        {
         "name": "0.428",
         "rawType": "int64",
         "type": "integer"
        },
        {
         "name": "0.429",
         "rawType": "int64",
         "type": "integer"
        },
        {
         "name": "0.430",
         "rawType": "int64",
         "type": "integer"
        },
        {
         "name": "0.431",
         "rawType": "int64",
         "type": "integer"
        },
        {
         "name": "0.432",
         "rawType": "int64",
         "type": "integer"
        },
        {
         "name": "0.433",
         "rawType": "int64",
         "type": "integer"
        },
        {
         "name": "0.434",
         "rawType": "int64",
         "type": "integer"
        },
        {
         "name": "0.435",
         "rawType": "int64",
         "type": "integer"
        },
        {
         "name": "0.436",
         "rawType": "int64",
         "type": "integer"
        },
        {
         "name": "0.437",
         "rawType": "int64",
         "type": "integer"
        },
        {
         "name": "0.438",
         "rawType": "int64",
         "type": "integer"
        },
        {
         "name": "0.439",
         "rawType": "int64",
         "type": "integer"
        },
        {
         "name": "0.440",
         "rawType": "int64",
         "type": "integer"
        },
        {
         "name": "0.441",
         "rawType": "int64",
         "type": "integer"
        },
        {
         "name": "0.442",
         "rawType": "int64",
         "type": "integer"
        },
        {
         "name": "0.443",
         "rawType": "int64",
         "type": "integer"
        },
        {
         "name": "0.444",
         "rawType": "int64",
         "type": "integer"
        },
        {
         "name": "0.445",
         "rawType": "int64",
         "type": "integer"
        },
        {
         "name": "0.446",
         "rawType": "int64",
         "type": "integer"
        },
        {
         "name": "0.447",
         "rawType": "int64",
         "type": "integer"
        },
        {
         "name": "0.448",
         "rawType": "int64",
         "type": "integer"
        },
        {
         "name": "0.449",
         "rawType": "int64",
         "type": "integer"
        },
        {
         "name": "0.450",
         "rawType": "int64",
         "type": "integer"
        },
        {
         "name": "0.451",
         "rawType": "int64",
         "type": "integer"
        },
        {
         "name": "0.452",
         "rawType": "int64",
         "type": "integer"
        },
        {
         "name": "0.453",
         "rawType": "int64",
         "type": "integer"
        },
        {
         "name": "0.454",
         "rawType": "int64",
         "type": "integer"
        },
        {
         "name": "0.455",
         "rawType": "int64",
         "type": "integer"
        },
        {
         "name": "0.456",
         "rawType": "int64",
         "type": "integer"
        },
        {
         "name": "0.457",
         "rawType": "int64",
         "type": "integer"
        },
        {
         "name": "0.458",
         "rawType": "int64",
         "type": "integer"
        },
        {
         "name": "0.459",
         "rawType": "int64",
         "type": "integer"
        },
        {
         "name": "0.460",
         "rawType": "int64",
         "type": "integer"
        },
        {
         "name": "0.461",
         "rawType": "int64",
         "type": "integer"
        },
        {
         "name": "0.462",
         "rawType": "int64",
         "type": "integer"
        },
        {
         "name": "0.463",
         "rawType": "int64",
         "type": "integer"
        },
        {
         "name": "0.464",
         "rawType": "int64",
         "type": "integer"
        },
        {
         "name": "0.465",
         "rawType": "int64",
         "type": "integer"
        },
        {
         "name": "0.466",
         "rawType": "int64",
         "type": "integer"
        },
        {
         "name": "0.467",
         "rawType": "int64",
         "type": "integer"
        },
        {
         "name": "0.468",
         "rawType": "int64",
         "type": "integer"
        },
        {
         "name": "0.469",
         "rawType": "int64",
         "type": "integer"
        },
        {
         "name": "0.470",
         "rawType": "int64",
         "type": "integer"
        },
        {
         "name": "0.471",
         "rawType": "int64",
         "type": "integer"
        },
        {
         "name": "0.472",
         "rawType": "int64",
         "type": "integer"
        },
        {
         "name": "0.473",
         "rawType": "int64",
         "type": "integer"
        },
        {
         "name": "0.474",
         "rawType": "int64",
         "type": "integer"
        },
        {
         "name": "0.475",
         "rawType": "int64",
         "type": "integer"
        },
        {
         "name": "0.476",
         "rawType": "int64",
         "type": "integer"
        },
        {
         "name": "0.477",
         "rawType": "int64",
         "type": "integer"
        },
        {
         "name": "0.478",
         "rawType": "int64",
         "type": "integer"
        },
        {
         "name": "0.479",
         "rawType": "int64",
         "type": "integer"
        },
        {
         "name": "0.480",
         "rawType": "int64",
         "type": "integer"
        },
        {
         "name": "0.481",
         "rawType": "int64",
         "type": "integer"
        },
        {
         "name": "0.482",
         "rawType": "int64",
         "type": "integer"
        },
        {
         "name": "0.483",
         "rawType": "int64",
         "type": "integer"
        },
        {
         "name": "0.484",
         "rawType": "int64",
         "type": "integer"
        },
        {
         "name": "0.485",
         "rawType": "int64",
         "type": "integer"
        },
        {
         "name": "0.486",
         "rawType": "int64",
         "type": "integer"
        },
        {
         "name": "0.487",
         "rawType": "int64",
         "type": "integer"
        },
        {
         "name": "0.488",
         "rawType": "int64",
         "type": "integer"
        },
        {
         "name": "0.489",
         "rawType": "int64",
         "type": "integer"
        },
        {
         "name": "0.490",
         "rawType": "int64",
         "type": "integer"
        },
        {
         "name": "0.491",
         "rawType": "int64",
         "type": "integer"
        },
        {
         "name": "0.492",
         "rawType": "int64",
         "type": "integer"
        },
        {
         "name": "0.493",
         "rawType": "int64",
         "type": "integer"
        },
        {
         "name": "0.494",
         "rawType": "int64",
         "type": "integer"
        },
        {
         "name": "0.495",
         "rawType": "int64",
         "type": "integer"
        },
        {
         "name": "0.496",
         "rawType": "int64",
         "type": "integer"
        },
        {
         "name": "0.497",
         "rawType": "int64",
         "type": "integer"
        },
        {
         "name": "0.498",
         "rawType": "int64",
         "type": "integer"
        },
        {
         "name": "0.499",
         "rawType": "int64",
         "type": "integer"
        },
        {
         "name": "0.500",
         "rawType": "int64",
         "type": "integer"
        },
        {
         "name": "0.501",
         "rawType": "int64",
         "type": "integer"
        },
        {
         "name": "0.502",
         "rawType": "int64",
         "type": "integer"
        },
        {
         "name": "0.503",
         "rawType": "int64",
         "type": "integer"
        },
        {
         "name": "0.504",
         "rawType": "int64",
         "type": "integer"
        },
        {
         "name": "0.505",
         "rawType": "int64",
         "type": "integer"
        },
        {
         "name": "0.506",
         "rawType": "int64",
         "type": "integer"
        },
        {
         "name": "0.507",
         "rawType": "int64",
         "type": "integer"
        },
        {
         "name": "0.508",
         "rawType": "int64",
         "type": "integer"
        },
        {
         "name": "0.509",
         "rawType": "int64",
         "type": "integer"
        },
        {
         "name": "0.510",
         "rawType": "int64",
         "type": "integer"
        },
        {
         "name": "0.511",
         "rawType": "int64",
         "type": "integer"
        },
        {
         "name": "0.512",
         "rawType": "int64",
         "type": "integer"
        },
        {
         "name": "0.513",
         "rawType": "int64",
         "type": "integer"
        },
        {
         "name": "0.514",
         "rawType": "int64",
         "type": "integer"
        },
        {
         "name": "0.515",
         "rawType": "int64",
         "type": "integer"
        },
        {
         "name": "0.516",
         "rawType": "int64",
         "type": "integer"
        },
        {
         "name": "0.517",
         "rawType": "int64",
         "type": "integer"
        },
        {
         "name": "0.518",
         "rawType": "int64",
         "type": "integer"
        },
        {
         "name": "0.519",
         "rawType": "int64",
         "type": "integer"
        },
        {
         "name": "0.520",
         "rawType": "int64",
         "type": "integer"
        },
        {
         "name": "0.521",
         "rawType": "int64",
         "type": "integer"
        },
        {
         "name": "0.522",
         "rawType": "int64",
         "type": "integer"
        },
        {
         "name": "0.523",
         "rawType": "int64",
         "type": "integer"
        },
        {
         "name": "0.524",
         "rawType": "int64",
         "type": "integer"
        },
        {
         "name": "0.525",
         "rawType": "int64",
         "type": "integer"
        },
        {
         "name": "0.526",
         "rawType": "int64",
         "type": "integer"
        },
        {
         "name": "0.527",
         "rawType": "int64",
         "type": "integer"
        },
        {
         "name": "0.528",
         "rawType": "int64",
         "type": "integer"
        },
        {
         "name": "0.529",
         "rawType": "int64",
         "type": "integer"
        },
        {
         "name": "0.530",
         "rawType": "int64",
         "type": "integer"
        },
        {
         "name": "0.531",
         "rawType": "int64",
         "type": "integer"
        },
        {
         "name": "0.532",
         "rawType": "int64",
         "type": "integer"
        },
        {
         "name": "0.533",
         "rawType": "int64",
         "type": "integer"
        },
        {
         "name": "0.534",
         "rawType": "int64",
         "type": "integer"
        },
        {
         "name": "0.535",
         "rawType": "int64",
         "type": "integer"
        },
        {
         "name": "0.536",
         "rawType": "int64",
         "type": "integer"
        },
        {
         "name": "0.537",
         "rawType": "int64",
         "type": "integer"
        },
        {
         "name": "0.538",
         "rawType": "int64",
         "type": "integer"
        },
        {
         "name": "0.539",
         "rawType": "int64",
         "type": "integer"
        },
        {
         "name": "0.540",
         "rawType": "int64",
         "type": "integer"
        },
        {
         "name": "0.541",
         "rawType": "int64",
         "type": "integer"
        },
        {
         "name": "0.542",
         "rawType": "int64",
         "type": "integer"
        },
        {
         "name": "0.543",
         "rawType": "int64",
         "type": "integer"
        },
        {
         "name": "0.544",
         "rawType": "int64",
         "type": "integer"
        },
        {
         "name": "0.545",
         "rawType": "int64",
         "type": "integer"
        },
        {
         "name": "0.546",
         "rawType": "int64",
         "type": "integer"
        },
        {
         "name": "0.547",
         "rawType": "int64",
         "type": "integer"
        },
        {
         "name": "0.548",
         "rawType": "int64",
         "type": "integer"
        },
        {
         "name": "0.549",
         "rawType": "int64",
         "type": "integer"
        },
        {
         "name": "0.550",
         "rawType": "int64",
         "type": "integer"
        },
        {
         "name": "0.551",
         "rawType": "int64",
         "type": "integer"
        },
        {
         "name": "0.552",
         "rawType": "int64",
         "type": "integer"
        },
        {
         "name": "0.553",
         "rawType": "int64",
         "type": "integer"
        },
        {
         "name": "0.554",
         "rawType": "int64",
         "type": "integer"
        },
        {
         "name": "0.555",
         "rawType": "int64",
         "type": "integer"
        },
        {
         "name": "0.556",
         "rawType": "int64",
         "type": "integer"
        },
        {
         "name": "0.557",
         "rawType": "int64",
         "type": "integer"
        },
        {
         "name": "0.558",
         "rawType": "int64",
         "type": "integer"
        },
        {
         "name": "0.559",
         "rawType": "int64",
         "type": "integer"
        },
        {
         "name": "0.560",
         "rawType": "int64",
         "type": "integer"
        },
        {
         "name": "0.561",
         "rawType": "int64",
         "type": "integer"
        }
       ],
       "ref": "6e3c257f-4b6c-4b3b-ba66-446196921b5f",
       "rows": [
        [
         "0",
         "-2",
         "142",
         "142",
         "142",
         "142",
         "142",
         "142",
         "142",
         "142",
         "142",
         "142",
         "142",
         "142",
         "142",
         "142",
         "142",
         "142",
         "142",
         "142",
         "142",
         "142",
         "142",
         "142",
         "142",
         "142",
         "142",
         "142",
         "142",
         "142",
         "142",
         "142",
         "142",
         "142",
         "142",
         "142",
         "142",
         "142",
         "142",
         "142",
         "142",
         "142",
         "142",
         "142",
         "142",
         "142",
         "142",
         "142",
         "142",
         "142",
         "142",
         "142",
         "142",
         "142",
         "142",
         "142",
         "142",
         "142",
         "142",
         "142",
         "142",
         "142",
         "142",
         "142",
         "142",
         "142",
         "142",
         "142",
         "142",
         "142",
         "142",
         "142",
         "142",
         "142",
         "142",
         "142",
         "142",
         "142",
         "142",
         "142",
         "142",
         "142",
         "142",
         "142",
         "142",
         "142",
         "142",
         "142",
         "142",
         "142",
         "142",
         "142",
         "142",
         "142",
         "142",
         "142",
         "142",
         "142",
         "142",
         "142",
         "142",
         "142",
         "142",
         "142",
         "142",
         "142",
         "142",
         "142",
         "142",
         "142",
         "142",
         "142",
         "142",
         "142",
         "142",
         "142",
         "142",
         "142",
         "142",
         "142",
         "142",
         "142",
         "142",
         "142",
         "142",
         "142",
         "142",
         "142",
         "142",
         "142",
         "142",
         "142",
         "142",
         "142",
         "142",
         "142",
         "142",
         "142",
         "142",
         "142",
         "142",
         "142",
         "142",
         "142",
         "142",
         "142",
         "142",
         "142",
         "142",
         "142",
         "142",
         "142",
         "142",
         "142",
         "142",
         "142",
         "142",
         "142",
         "142",
         "142",
         "142",
         "142",
         "142",
         "142",
         "142",
         "142",
         "142",
         "142",
         "142",
         "142",
         "142",
         "142",
         "142",
         "142",
         "142",
         "142",
         "142",
         "142",
         "142",
         "142",
         "142",
         "142",
         "142",
         "142",
         "142",
         "142",
         "142",
         "142",
         "142",
         "142",
         "142",
         "142",
         "142",
         "142",
         "142",
         "142",
         "142",
         "142",
         "142",
         "142",
         "142",
         "142",
         "142",
         "142",
         "142",
         "142",
         "142",
         "142",
         "142",
         "142",
         "142",
         "142",
         "142",
         "142",
         "142",
         "142",
         "142",
         "142",
         "142",
         "142",
         "142",
         "142",
         "142",
         "142",
         "142",
         "142",
         "142",
         "142",
         "142",
         "142",
         "142",
         "142",
         "142",
         "142",
         "142",
         "142",
         "142",
         "142",
         "142",
         "142",
         "142",
         "142",
         "142",
         "142",
         "142",
         "142",
         "142",
         "142",
         "142",
         "142",
         "142",
         "142",
         "142",
         "142",
         "142",
         "142",
         "142",
         "142",
         "142",
         "142",
         "142",
         "142",
         "142",
         "142",
         "142",
         "142",
         "142",
         "142",
         "142",
         "142",
         "142",
         "142",
         "142",
         "142",
         "142",
         "142",
         "142",
         "142",
         "142",
         "142",
         "142",
         "142",
         "142",
         "142",
         "142",
         "142",
         "142",
         "142",
         "142",
         "142",
         "142",
         "142",
         "142",
         "142",
         "142",
         "142",
         "142",
         "142",
         "142",
         "142",
         "142",
         "142",
         "142",
         "142",
         "142",
         "142",
         "142",
         "142",
         "142",
         "142",
         "142",
         "142",
         "142",
         "142",
         "142",
         "142",
         "142",
         "142",
         "142",
         "142",
         "142",
         "142",
         "142",
         "142",
         "142",
         "142",
         "142",
         "142",
         "142",
         "142",
         "142",
         "142",
         "142",
         "142",
         "142",
         "142",
         "142",
         "142",
         "142",
         "142",
         "142",
         "142",
         "142",
         "142",
         "142",
         "142",
         "142",
         "142",
         "142",
         "142",
         "142",
         "142",
         "142",
         "142",
         "142",
         "142",
         "142",
         "142",
         "142",
         "142",
         "142",
         "142",
         "142",
         "142",
         "142",
         "142",
         "142",
         "142",
         "142",
         "142",
         "142",
         "142",
         "142",
         "142",
         "142",
         "142",
         "142",
         "142",
         "142",
         "142",
         "142",
         "142",
         "142",
         "142",
         "142",
         "142",
         "142",
         "142",
         "142",
         "142",
         "142",
         "142",
         "142",
         "142",
         "142",
         "142",
         "142",
         "142",
         "142",
         "142",
         "142",
         "142",
         "142",
         "142",
         "142",
         "142",
         "142",
         "142",
         "142",
         "142",
         "142",
         "142",
         "142",
         "142",
         "142",
         "142",
         "142",
         "142",
         "142",
         "142",
         "142",
         "142",
         "142",
         "142",
         "142",
         "142",
         "142",
         "142",
         "142",
         "142",
         "142",
         "142",
         "142",
         "142",
         "142",
         "142",
         "142",
         "142",
         "142",
         "142",
         "142",
         "142",
         "142",
         "142",
         "142",
         "142",
         "142",
         "142",
         "142",
         "142",
         "142",
         "142",
         "142",
         "142",
         "142",
         "142",
         "142",
         "142",
         "142",
         "142",
         "142",
         "142",
         "142",
         "142",
         "142",
         "142",
         "142",
         "142",
         "142",
         "142",
         "142",
         "142",
         "142",
         "142",
         "142",
         "142",
         "142",
         "142",
         "142",
         "142",
         "142",
         "142",
         "142",
         "142",
         "142",
         "142",
         "142",
         "142",
         "142",
         "142",
         "142",
         "142",
         "142",
         "142",
         "142",
         "142",
         "142",
         "142",
         "142",
         "142",
         "142",
         "142",
         "142",
         "142",
         "142",
         "142",
         "142",
         "142",
         "142",
         "142",
         "142",
         "142",
         "142",
         "142",
         "142",
         "142",
         "142",
         "142",
         "142",
         "142",
         "142",
         "142",
         "142",
         "142",
         "142",
         "142",
         "142",
         "142",
         "142",
         "142",
         "142",
         "142",
         "142",
         "142",
         "142",
         "142",
         "142",
         "142",
         "142",
         "142",
         "142",
         "142",
         "142",
         "142",
         "142",
         "142",
         "142",
         "142",
         "142",
         "142",
         "142",
         "142",
         "142",
         "142",
         "142",
         "142",
         "142",
         "142",
         "142",
         "142",
         "142",
         "142",
         "142",
         "142",
         "142",
         "142",
         "142",
         "142",
         "142",
         "142",
         "142",
         "142",
         "142",
         "142",
         "142",
         "142",
         "142",
         "142",
         "142",
         "142",
         "142",
         "142",
         "142",
         "142",
         "142",
         "142",
         "142",
         "142",
         "142",
         "142",
         "142",
         "142",
         "142",
         "142",
         "142",
         "142",
         "142",
         "142",
         "142",
         "142",
         "142",
         "142",
         "142",
         "142",
         "142",
         "142",
         "142",
         "142",
         "142",
         "142",
         "142",
         "142",
         "142",
         "142",
         "142",
         "142",
         "142",
         "142",
         "142",
         "142",
         "142",
         "142",
         "142",
         "142",
         "142",
         "142",
         "142",
         "142",
         "142",
         "142",
         "142",
         "142",
         "142",
         "142",
         "142",
         "142",
         "142",
         "142",
         "142",
         "142",
         "142",
         "142",
         "142",
         "142",
         "142",
         "142",
         "142",
         "142",
         "142",
         "142",
         "142",
         "142",
         "142",
         "142",
         "142",
         "142",
         "142",
         "142",
         "142",
         "142",
         "142",
         "142",
         "142",
         "142",
         "142",
         "142",
         "142",
         "142",
         "142",
         "142",
         "142",
         "142",
         "142",
         "142",
         "142",
         "142",
         "142",
         "142",
         "142",
         "142",
         "142",
         "142",
         "142",
         "142",
         "142",
         "142",
         "142",
         "142",
         "142",
         "142",
         "142",
         "142",
         "142",
         "142",
         "142",
         "142",
         "142",
         "142",
         "142",
         "142",
         "142",
         "142",
         "142",
         "142",
         "142",
         "142",
         "142",
         "142",
         "142",
         "142",
         "142",
         "142",
         "142",
         "142",
         "142",
         "142",
         "142",
         "142",
         "142",
         "142",
         "142",
         "142",
         "142",
         "142",
         "142",
         "142",
         "142",
         "142",
         "142",
         "142",
         "142",
         "142",
         "142",
         "142",
         "142",
         "142",
         "142",
         "142",
         "142",
         "142",
         "142",
         "142",
         "142",
         "142",
         "142",
         "142",
         "142",
         "142",
         "142",
         "142",
         "142",
         "142",
         "142",
         "142",
         "142",
         "142",
         "142",
         "142",
         "142",
         "142",
         "142",
         "142",
         "142",
         "142",
         "142",
         "142",
         "142",
         "142",
         "142",
         "142",
         "142",
         "142",
         "142",
         "142",
         "142",
         "142",
         "142",
         "142",
         "142",
         "142",
         "142",
         "142",
         "142",
         "142",
         "142",
         "142"
        ],
        [
         "1",
         "15",
         "0",
         "0",
         "0",
         "0",
         "0",
         "0",
         "0",
         "0",
         "0",
         "0",
         "0",
         "0",
         "0",
         "0",
         "0",
         "0",
         "0",
         "0",
         "0",
         "0",
         "0",
         "0",
         "0",
         "0",
         "0",
         "0",
         "0",
         "0",
         "0",
         "0",
         "0",
         "0",
         "0",
         "0",
         "0",
         "0",
         "0",
         "0",
         "0",
         "0",
         "0",
         "0",
         "0",
         "0",
         "0",
         "0",
         "0",
         "0",
         "0",
         "0",
         "0",
         "0",
         "0",
         "0",
         "0",
         "0",
         "0",
         "0",
         "0",
         "0",
         "0",
         "0",
         "0",
         "0",
         "0",
         "0",
         "0",
         "0",
         "0",
         "0",
         "0",
         "0",
         "0",
         "0",
         "0",
         "0",
         "0",
         "0",
         "0",
         "0",
         "0",
         "0",
         "0",
         "0",
         "0",
         "0",
         "0",
         "0",
         "0",
         "0",
         "0",
         "0",
         "0",
         "0",
         "0",
         "0",
         "0",
         "0",
         "0",
         "0",
         "0",
         "0",
         "0",
         "0",
         "0",
         "0",
         "0",
         "0",
         "0",
         "0",
         "0",
         "0",
         "0",
         "0",
         "0",
         "0",
         "0",
         "0",
         "0",
         "0",
         "4",
         "21",
         "50",
         "125",
         "114",
         "39",
         "37",
         "32",
         "1",
         "0",
         "0",
         "0",
         "0",
         "0",
         "0",
         "0",
         "0",
         "0",
         "0",
         "0",
         "0",
         "0",
         "0",
         "0",
         "0",
         "3",
         "77",
         "140",
         "203",
         "233",
         "250",
         "254",
         "253",
         "250",
         "250",
         "243",
         "127",
         "10",
         "0",
         "0",
         "0",
         "0",
         "0",
         "0",
         "0",
         "0",
         "0",
         "0",
         "0",
         "0",
         "0",
         "0",
         "20",
         "170",
         "241",
         "204",
         "140",
         "127",
         "127",
         "127",
         "127",
         "141",
         "220",
         "254",
         "253",
         "208",
         "115",
         "8",
         "0",
         "0",
         "0",
         "0",
         "0",
         "0",
         "0",
         "0",
         "0",
         "0",
         "0",
         "1",
         "95",
         "248",
         "195",
         "36",
         "9",
         "4",
         "4",
         "4",
         "4",
         "11",
         "79",
         "208",
         "253",
         "254",
         "243",
         "96",
         "34",
         "1",
         "0",
         "0",
         "0",
         "0",
         "0",
         "0",
         "0",
         "0",
         "1",
         "47",
         "243",
         "195",
         "12",
         "0",
         "0",
         "0",
         "0",
         "0",
         "0",
         "0",
         "0",
         "10",
         "158",
         "234",
         "254",
         "252",
         "243",
         "96",
         "32",
         "1",
         "0",
         "0",
         "0",
         "0",
         "0",
         "0",
         "32",
         "202",
         "220",
         "23",
         "0",
         "0",
         "0",
         "0",
         "0",
         "0",
         "0",
         "0",
         "0",
         "0",
         "2",
         "36",
         "218",
         "254",
         "254",
         "252",
         "243",
         "95",
         "5",
         "0",
         "0",
         "0",
         "0",
         "0",
         "51",
         "221",
         "115",
         "0",
         "0",
         "0",
         "0",
         "0",
         "0",
         "0",
         "0",
         "0",
         "0",
         "0",
         "0",
         "0",
         "23",
         "207",
         "253",
         "255",
         "254",
         "250",
         "131",
         "33",
         "0",
         "0",
         "0",
         "2",
         "170",
         "247",
         "39",
         "0",
         "0",
         "0",
         "0",
         "0",
         "0",
         "0",
         "0",
         "0",
         "0",
         "0",
         "0",
         "0",
         "0",
         "90",
         "206",
         "222",
         "252",
         "254",
         "253",
         "207",
         "8",
         "0",
         "0",
         "4",
         "215",
         "250",
         "37",
         "0",
         "0",
         "0",
         "0",
         "0",
         "0",
         "0",
         "0",
         "0",
         "0",
         "0",
         "0",
         "0",
         "0",
         "48",
         "48",
         "51",
         "187",
         "250",
         "254",
         "245",
         "32",
         "0",
         "0",
         "21",
         "233",
         "250",
         "37",
         "0",
         "0",
         "0",
         "0",
         "0",
         "0",
         "0",
         "0",
         "0",
         "0",
         "0",
         "0",
         "0",
         "0",
         "0",
         "0",
         "0",
         "18",
         "69",
         "251",
         "250",
         "37",
         "0",
         "0",
         "21",
         "233",
         "250",
         "39",
         "0",
         "0",
         "0",
         "0",
         "0",
         "0",
         "0",
         "0",
         "0",
         "0",
         "0",
         "0",
         "0",
         "0",
         "0",
         "0",
         "0",
         "0",
         "37",
         "250",
         "249",
         "37",
         "0",
         "0",
         "2",
         "172",
         "251",
         "128",
         "1",
         "0",
         "0",
         "0",
         "0",
         "0",
         "0",
         "0",
         "0",
         "0",
         "0",
         "0",
         "0",
         "0",
         "0",
         "0",
         "0",
         "0",
         "39",
         "250",
         "222",
         "9",
         "0",
         "0",
         "0",
         "115",
         "245",
         "221",
         "35",
         "0",
         "0",
         "0",
         "0",
         "0",
         "0",
         "0",
         "0",
         "0",
         "0",
         "0",
         "0",
         "0",
         "0",
         "0",
         "0",
         "0",
         "84",
         "252",
         "217",
         "4",
         "0",
         "0",
         "0",
         "22",
         "159",
         "253",
         "221",
         "67",
         "0",
         "0",
         "0",
         "0",
         "0",
         "0",
         "0",
         "0",
         "0",
         "0",
         "0",
         "0",
         "0",
         "0",
         "0",
         "35",
         "221",
         "251",
         "170",
         "2",
         "0",
         "0",
         "0",
         "0",
         "20",
         "188",
         "254",
         "222",
         "115",
         "34",
         "0",
         "0",
         "0",
         "0",
         "0",
         "0",
         "0",
         "0",
         "0",
         "0",
         "0",
         "0",
         "23",
         "218",
         "254",
         "175",
         "34",
         "0",
         "0",
         "0",
         "0",
         "0",
         "0",
         "65",
         "220",
         "254",
         "253",
         "232",
         "140",
         "114",
         "22",
         "0",
         "0",
         "0",
         "0",
         "0",
         "0",
         "0",
         "3",
         "24",
         "196",
         "254",
         "219",
         "33",
         "0",
         "0",
         "0",
         "0",
         "0",
         "0",
         "0",
         "0",
         "22",
         "159",
         "247",
         "254",
         "254",
         "254",
         "220",
         "129",
         "127",
         "127",
         "127",
         "127",
         "127",
         "127",
         "172",
         "232",
         "254",
         "232",
         "36",
         "0",
         "0",
         "0",
         "0",
         "0",
         "0",
         "0",
         "0",
         "0",
         "0",
         "22",
         "159",
         "220",
         "251",
         "254",
         "254",
         "250",
         "250",
         "250",
         "250",
         "250",
         "250",
         "250",
         "252",
         "254",
         "249",
         "154",
         "3",
         "0",
         "0",
         "0",
         "0",
         "0",
         "0",
         "0",
         "0",
         "0",
         "0",
         "0",
         "2",
         "9",
         "83",
         "203",
         "233",
         "252",
         "254",
         "254",
         "255",
         "255",
         "254",
         "254",
         "252",
         "243",
         "123",
         "4",
         "0",
         "0",
         "0",
         "0",
         "0",
         "0",
         "0",
         "0",
         "0",
         "0",
         "0",
         "0",
         "0",
         "0",
         "0",
         "4",
         "21",
         "82",
         "172",
         "215",
         "217",
         "217",
         "217",
         "172",
         "82",
         "34",
         "1",
         "0",
         "0",
         "0",
         "0",
         "0",
         "0",
         "0",
         "0",
         "0",
         "0",
         "0",
         "0",
         "0",
         "0",
         "0",
         "0",
         "0",
         "0",
         "0",
         "2",
         "4",
         "4",
         "4",
         "4",
         "2",
         "0",
         "0",
         "0",
         "0",
         "0",
         "0",
         "0",
         "0",
         "0",
         "0",
         "0",
         "0",
         "0",
         "0",
         "0",
         "0",
         "0",
         "0",
         "0",
         "0",
         "0",
         "0",
         "0",
         "0",
         "0",
         "0",
         "0",
         "0",
         "0",
         "0",
         "0",
         "0",
         "0",
         "0",
         "0",
         "0",
         "0",
         "0",
         "0",
         "0",
         "0",
         "0",
         "0",
         "0",
         "0",
         "0",
         "0",
         "0",
         "0",
         "0",
         "0",
         "0",
         "0",
         "0",
         "0",
         "0",
         "0",
         "0",
         "0",
         "0",
         "0",
         "0",
         "0",
         "0",
         "0",
         "0",
         "0",
         "0",
         "0",
         "0",
         "0",
         "0",
         "0",
         "0",
         "0",
         "0",
         "0",
         "0",
         "0",
         "0",
         "0",
         "0",
         "0",
         "0",
         "0",
         "0",
         "0",
         "0",
         "0",
         "0",
         "0",
         "0",
         "0"
        ],
        [
         "2",
         "14",
         "0",
         "0",
         "0",
         "0",
         "0",
         "0",
         "0",
         "0",
         "0",
         "0",
         "0",
         "0",
         "0",
         "0",
         "0",
         "0",
         "0",
         "0",
         "0",
         "0",
         "0",
         "0",
         "0",
         "0",
         "0",
         "0",
         "0",
         "0",
         "0",
         "0",
         "0",
         "0",
         "0",
         "0",
         "0",
         "0",
         "0",
         "0",
         "0",
         "0",
         "0",
         "0",
         "0",
         "0",
         "0",
         "0",
         "0",
         "0",
         "0",
         "0",
         "0",
         "0",
         "0",
         "0",
         "0",
         "0",
         "0",
         "0",
         "0",
         "0",
         "0",
         "0",
         "0",
         "0",
         "0",
         "0",
         "0",
         "0",
         "0",
         "0",
         "0",
         "0",
         "0",
         "0",
         "0",
         "2",
         "4",
         "3",
         "2",
         "0",
         "0",
         "0",
         "0",
         "0",
         "0",
         "0",
         "0",
         "0",
         "0",
         "0",
         "0",
         "0",
         "0",
         "0",
         "0",
         "0",
         "0",
         "0",
         "0",
         "0",
         "0",
         "1",
         "7",
         "20",
         "36",
         "32",
         "18",
         "0",
         "0",
         "0",
         "0",
         "0",
         "0",
         "0",
         "0",
         "0",
         "0",
         "0",
         "0",
         "0",
         "0",
         "0",
         "0",
         "0",
         "0",
         "0",
         "0",
         "1",
         "7",
         "47",
         "95",
         "159",
         "211",
         "185",
         "110",
         "4",
         "0",
         "0",
         "0",
         "0",
         "0",
         "0",
         "0",
         "0",
         "0",
         "0",
         "0",
         "0",
         "0",
         "0",
         "0",
         "0",
         "0",
         "0",
         "1",
         "8",
         "33",
         "127",
         "175",
         "220",
         "245",
         "217",
         "136",
         "8",
         "0",
         "0",
         "0",
         "0",
         "0",
         "0",
         "0",
         "0",
         "0",
         "0",
         "0",
         "0",
         "0",
         "0",
         "0",
         "0",
         "0",
         "0",
         "10",
         "36",
         "91",
         "207",
         "232",
         "247",
         "251",
         "228",
         "158",
         "16",
         "1",
         "0",
         "0",
         "0",
         "0",
         "0",
         "0",
         "0",
         "1",
         "20",
         "32",
         "37",
         "37",
         "37",
         "37",
         "37",
         "39",
         "51",
         "128",
         "175",
         "221",
         "253",
         "254",
         "253",
         "231",
         "194",
         "120",
         "8",
         "0",
         "0",
         "0",
         "0",
         "0",
         "0",
         "0",
         "0",
         "7",
         "76",
         "113",
         "125",
         "127",
         "127",
         "127",
         "127",
         "129",
         "140",
         "208",
         "232",
         "247",
         "254",
         "253",
         "246",
         "175",
         "123",
         "67",
         "2",
         "0",
         "0",
         "0",
         "0",
         "0",
         "0",
         "0",
         "2",
         "19",
         "151",
         "200",
         "215",
         "217",
         "217",
         "217",
         "217",
         "217",
         "222",
         "246",
         "251",
         "254",
         "251",
         "244",
         "218",
         "95",
         "47",
         "20",
         "0",
         "0",
         "0",
         "0",
         "0",
         "0",
         "0",
         "0",
         "2",
         "19",
         "156",
         "217",
         "243",
         "250",
         "252",
         "254",
         "254",
         "254",
         "254",
         "254",
         "251",
         "244",
         "175",
         "127",
         "79",
         "8",
         "1",
         "0",
         "0",
         "0",
         "0",
         "0",
         "0",
         "0",
         "0",
         "0",
         "0",
         "7",
         "90",
         "158",
         "202",
         "224",
         "237",
         "250",
         "255",
         "254",
         "254",
         "246",
         "232",
         "207",
         "95",
         "47",
         "22",
         "1",
         "0",
         "0",
         "0",
         "0",
         "0",
         "0",
         "0",
         "0",
         "0",
         "0",
         "0",
         "1",
         "33",
         "77",
         "114",
         "159",
         "204",
         "241",
         "254",
         "253",
         "247",
         "208",
         "171",
         "126",
         "34",
         "10",
         "3",
         "0",
         "0",
         "0",
         "0",
         "0",
         "0",
         "0",
         "0",
         "0",
         "0",
         "0",
         "0",
         "0",
         "1",
         "5",
         "16",
         "132",
         "211",
         "246",
         "245",
         "219",
         "164",
         "47",
         "22",
         "8",
         "0",
         "0",
         "0",
         "0",
         "0",
         "0",
         "0",
         "0",
         "0",
         "0",
         "0",
         "0",
         "0",
         "0",
         "0",
         "0",
         "5",
         "20",
         "47",
         "176",
         "232",
         "250",
         "219",
         "163",
         "91",
         "10",
         "3",
         "0",
         "0",
         "0",
         "0",
         "0",
         "0",
         "0",
         "0",
         "0",
         "0",
         "0",
         "0",
         "0",
         "0",
         "0",
         "0",
         "0",
         "33",
         "110",
         "190",
         "246",
         "244",
         "219",
         "91",
         "35",
         "9",
         "0",
         "0",
         "0",
         "3",
         "8",
         "21",
         "36",
         "32",
         "20",
         "1",
         "0",
         "0",
         "0",
         "0",
         "0",
         "0",
         "0",
         "0",
         "0",
         "50",
         "138",
         "218",
         "246",
         "221",
         "164",
         "35",
         "9",
         "1",
         "0",
         "0",
         "3",
         "22",
         "46",
         "82",
         "124",
         "112",
         "75",
         "6",
         "0",
         "0",
         "0",
         "0",
         "0",
         "0",
         "0",
         "0",
         "2",
         "82",
         "172",
         "233",
         "234",
         "177",
         "96",
         "9",
         "1",
         "0",
         "1",
         "7",
         "22",
         "83",
         "127",
         "170",
         "213",
         "196",
         "140",
         "15",
         "1",
         "0",
         "0",
         "0",
         "0",
         "0",
         "0",
         "0",
         "8",
         "137",
         "219",
         "249",
         "206",
         "118",
         "38",
         "21",
         "32",
         "37",
         "52",
         "95",
         "159",
         "232",
         "245",
         "251",
         "232",
         "194",
         "120",
         "8",
         "0",
         "0",
         "0",
         "0",
         "0",
         "0",
         "0",
         "1",
         "16",
         "159",
         "228",
         "250",
         "187",
         "103",
         "48",
         "82",
         "114",
         "125",
         "141",
         "177",
         "220",
         "251",
         "253",
         "250",
         "186",
         "127",
         "67",
         "2",
         "0",
         "0",
         "0",
         "0",
         "0",
         "0",
         "0",
         "1",
         "16",
         "159",
         "228",
         "250",
         "192",
         "128",
         "104",
         "170",
         "203",
         "215",
         "222",
         "234",
         "246",
         "250",
         "245",
         "230",
         "127",
         "58",
         "22",
         "0",
         "0",
         "0",
         "0",
         "0",
         "0",
         "0",
         "0",
         "0",
         "4",
         "115",
         "202",
         "243",
         "248",
         "239",
         "238",
         "251",
         "253",
         "251",
         "233",
         "220",
         "204",
         "139",
         "115",
         "82",
         "20",
         "5",
         "0",
         "0",
         "0",
         "0",
         "0",
         "0",
         "0",
         "0",
         "0",
         "0",
         "2",
         "77",
         "158",
         "218",
         "248",
         "248",
         "248",
         "249",
         "245",
         "232",
         "172",
         "139",
         "115",
         "50",
         "34",
         "21",
         "2",
         "0",
         "0",
         "0",
         "0",
         "0",
         "0",
         "0",
         "0",
         "0",
         "0",
         "0",
         "0",
         "33",
         "90",
         "158",
         "215",
         "217",
         "217",
         "215",
         "203",
         "170",
         "84",
         "50",
         "34",
         "9",
         "4",
         "2",
         "0",
         "0",
         "0",
         "0",
         "0",
         "0",
         "0",
         "0",
         "0",
         "0",
         "0",
         "0",
         "0",
         "1",
         "7",
         "20",
         "37",
         "37",
         "37",
         "37",
         "32",
         "21",
         "3",
         "0",
         "0",
         "0",
         "0",
         "0",
         "0",
         "0",
         "0",
         "0",
         "0",
         "0",
         "0",
         "0",
         "0",
         "0",
         "0",
         "0",
         "0",
         "0",
         "0",
         "2",
         "4",
         "4",
         "4",
         "4",
         "4",
         "2",
         "0",
         "0",
         "0",
         "0",
         "0",
         "0",
         "0",
         "0",
         "0",
         "0",
         "0",
         "0",
         "0",
         "0",
         "0",
         "0",
         "0",
         "0",
         "0",
         "0",
         "0",
         "0",
         "0",
         "0",
         "0",
         "0",
         "0",
         "0",
         "0",
         "0",
         "0",
         "0",
         "0",
         "0",
         "0",
         "0",
         "0",
         "0",
         "0",
         "0",
         "0",
         "0",
         "0",
         "0",
         "0",
         "0",
         "0",
         "0",
         "0",
         "0",
         "0",
         "0",
         "0",
         "0",
         "0",
         "0",
         "0",
         "0",
         "0",
         "0",
         "0",
         "0",
         "0",
         "0",
         "0",
         "0",
         "0",
         "0",
         "0",
         "0"
        ],
        [
         "3",
         "-2",
         "120",
         "120",
         "120",
         "120",
         "120",
         "120",
         "120",
         "120",
         "120",
         "120",
         "120",
         "120",
         "120",
         "120",
         "120",
         "120",
         "120",
         "120",
         "120",
         "120",
         "120",
         "120",
         "120",
         "120",
         "120",
         "120",
         "120",
         "120",
         "120",
         "120",
         "120",
         "120",
         "120",
         "120",
         "120",
         "120",
         "120",
         "120",
         "120",
         "120",
         "120",
         "120",
         "120",
         "120",
         "120",
         "120",
         "120",
         "120",
         "120",
         "120",
         "120",
         "120",
         "120",
         "120",
         "120",
         "120",
         "120",
         "120",
         "120",
         "120",
         "120",
         "120",
         "120",
         "120",
         "120",
         "120",
         "120",
         "120",
         "120",
         "120",
         "120",
         "120",
         "120",
         "120",
         "120",
         "120",
         "120",
         "120",
         "120",
         "120",
         "120",
         "120",
         "120",
         "120",
         "120",
         "120",
         "120",
         "120",
         "120",
         "120",
         "120",
         "120",
         "120",
         "120",
         "120",
         "120",
         "120",
         "120",
         "120",
         "120",
         "120",
         "120",
         "120",
         "120",
         "120",
         "120",
         "120",
         "120",
         "120",
         "120",
         "120",
         "120",
         "120",
         "120",
         "120",
         "120",
         "120",
         "120",
         "120",
         "120",
         "120",
         "120",
         "120",
         "120",
         "120",
         "120",
         "120",
         "120",
         "120",
         "120",
         "120",
         "120",
         "120",
         "120",
         "120",
         "120",
         "120",
         "120",
         "120",
         "120",
         "120",
         "120",
         "120",
         "120",
         "120",
         "120",
         "120",
         "120",
         "120",
         "120",
         "120",
         "120",
         "120",
         "120",
         "120",
         "120",
         "120",
         "120",
         "120",
         "120",
         "120",
         "120",
         "120",
         "120",
         "120",
         "120",
         "120",
         "120",
         "120",
         "120",
         "120",
         "120",
         "120",
         "120",
         "120",
         "120",
         "120",
         "120",
         "120",
         "120",
         "120",
         "120",
         "120",
         "120",
         "120",
         "120",
         "120",
         "120",
         "120",
         "120",
         "120",
         "120",
         "120",
         "120",
         "120",
         "120",
         "120",
         "120",
         "120",
         "120",
         "120",
         "120",
         "120",
         "120",
         "120",
         "120",
         "120",
         "120",
         "120",
         "120",
         "120",
         "120",
         "120",
         "120",
         "120",
         "120",
         "120",
         "120",
         "120",
         "120",
         "120",
         "120",
         "120",
         "120",
         "120",
         "120",
         "120",
         "120",
         "120",
         "120",
         "120",
         "120",
         "120",
         "120",
         "120",
         "120",
         "120",
         "120",
         "120",
         "120",
         "120",
         "120",
         "120",
         "120",
         "120",
         "120",
         "120",
         "120",
         "120",
         "120",
         "120",
         "120",
         "120",
         "120",
         "120",
         "120",
         "120",
         "120",
         "120",
         "120",
         "120",
         "120",
         "120",
         "120",
         "120",
         "120",
         "120",
         "120",
         "120",
         "120",
         "120",
         "120",
         "120",
         "120",
         "120",
         "120",
         "120",
         "120",
         "120",
         "120",
         "120",
         "120",
         "120",
         "120",
         "120",
         "120",
         "120",
         "120",
         "120",
         "120",
         "120",
         "120",
         "120",
         "120",
         "120",
         "120",
         "120",
         "120",
         "120",
         "120",
         "120",
         "120",
         "120",
         "120",
         "120",
         "120",
         "120",
         "120",
         "120",
         "120",
         "120",
         "120",
         "120",
         "120",
         "120",
         "120",
         "120",
         "120",
         "120",
         "120",
         "120",
         "120",
         "120",
         "120",
         "120",
         "120",
         "120",
         "120",
         "120",
         "120",
         "120",
         "120",
         "120",
         "120",
         "120",
         "120",
         "120",
         "120",
         "120",
         "120",
         "120",
         "120",
         "120",
         "120",
         "120",
         "120",
         "120",
         "120",
         "120",
         "120",
         "120",
         "120",
         "120",
         "120",
         "120",
         "120",
         "120",
         "120",
         "120",
         "120",
         "120",
         "120",
         "120",
         "120",
         "120",
         "120",
         "120",
         "120",
         "120",
         "120",
         "120",
         "120",
         "120",
         "120",
         "120",
         "120",
         "120",
         "120",
         "120",
         "120",
         "120",
         "120",
         "120",
         "120",
         "120",
         "120",
         "120",
         "120",
         "120",
         "120",
         "120",
         "120",
         "120",
         "120",
         "120",
         "120",
         "120",
         "120",
         "120",
         "120",
         "120",
         "120",
         "120",
         "120",
         "120",
         "120",
         "120",
         "120",
         "120",
         "120",
         "120",
         "120",
         "120",
         "120",
         "120",
         "120",
         "120",
         "120",
         "120",
         "120",
         "120",
         "120",
         "120",
         "120",
         "120",
         "120",
         "120",
         "120",
         "120",
         "120",
         "120",
         "120",
         "120",
         "120",
         "120",
         "120",
         "120",
         "120",
         "120",
         "120",
         "120",
         "120",
         "120",
         "120",
         "120",
         "120",
         "120",
         "120",
         "120",
         "120",
         "120",
         "120",
         "120",
         "120",
         "120",
         "120",
         "120",
         "120",
         "120",
         "120",
         "120",
         "120",
         "120",
         "120",
         "120",
         "120",
         "120",
         "120",
         "120",
         "120",
         "120",
         "120",
         "120",
         "120",
         "120",
         "120",
         "120",
         "120",
         "120",
         "120",
         "120",
         "120",
         "120",
         "120",
         "120",
         "120",
         "120",
         "120",
         "120",
         "120",
         "120",
         "120",
         "120",
         "120",
         "120",
         "120",
         "120",
         "120",
         "120",
         "120",
         "120",
         "120",
         "120",
         "120",
         "120",
         "120",
         "120",
         "120",
         "120",
         "120",
         "120",
         "120",
         "120",
         "120",
         "120",
         "120",
         "120",
         "120",
         "120",
         "120",
         "120",
         "120",
         "120",
         "120",
         "120",
         "120",
         "120",
         "120",
         "120",
         "120",
         "120",
         "120",
         "120",
         "120",
         "120",
         "120",
         "120",
         "120",
         "120",
         "120",
         "120",
         "120",
         "120",
         "120",
         "120",
         "120",
         "120",
         "120",
         "120",
         "120",
         "120",
         "120",
         "120",
         "120",
         "120",
         "120",
         "120",
         "120",
         "120",
         "120",
         "120",
         "120",
         "120",
         "120",
         "120",
         "120",
         "120",
         "120",
         "120",
         "120",
         "120",
         "120",
         "120",
         "120",
         "120",
         "120",
         "120",
         "120",
         "120",
         "120",
         "120",
         "120",
         "120",
         "120",
         "120",
         "120",
         "120",
         "120",
         "120",
         "120",
         "120",
         "120",
         "120",
         "120",
         "120",
         "120",
         "120",
         "120",
         "120",
         "120",
         "120",
         "120",
         "120",
         "120",
         "120",
         "120",
         "120",
         "120",
         "120",
         "120",
         "120",
         "120",
         "120",
         "120",
         "120",
         "120",
         "120",
         "120",
         "120",
         "120",
         "120",
         "120",
         "120",
         "120",
         "120",
         "120",
         "120",
         "120",
         "120",
         "120",
         "120",
         "120",
         "120",
         "120",
         "120",
         "120",
         "120",
         "120",
         "120",
         "120",
         "120",
         "120",
         "120",
         "120",
         "120",
         "120",
         "120",
         "120",
         "120",
         "120",
         "120",
         "120",
         "120",
         "120",
         "120",
         "120",
         "120",
         "120",
         "120",
         "120",
         "120",
         "120",
         "120",
         "120",
         "120",
         "120",
         "120",
         "120",
         "120",
         "120",
         "120",
         "120",
         "120",
         "120",
         "120",
         "120",
         "120",
         "120",
         "120",
         "120",
         "120",
         "120",
         "120",
         "120",
         "120",
         "120",
         "120",
         "120",
         "120",
         "120",
         "120",
         "120",
         "120",
         "120",
         "120",
         "120",
         "120",
         "120",
         "120",
         "120",
         "120",
         "120",
         "120",
         "120",
         "120",
         "120",
         "120",
         "120",
         "120",
         "120",
         "120",
         "120",
         "120",
         "120",
         "120",
         "120",
         "120",
         "120",
         "120",
         "120",
         "120",
         "120",
         "120",
         "120",
         "120",
         "120",
         "120",
         "120",
         "120",
         "120",
         "120",
         "120",
         "120",
         "120",
         "120",
         "120",
         "120",
         "120",
         "120",
         "120",
         "120",
         "120",
         "120",
         "120",
         "120",
         "120",
         "120",
         "120",
         "120",
         "120",
         "120",
         "120",
         "120",
         "120",
         "120",
         "120",
         "120",
         "120",
         "120",
         "120",
         "120",
         "120",
         "120",
         "120",
         "120",
         "120",
         "120",
         "120",
         "120",
         "120",
         "120",
         "120",
         "120",
         "120",
         "120",
         "120",
         "120",
         "120",
         "120",
         "120",
         "120",
         "120",
         "120",
         "120"
        ],
        [
         "4",
         "-1",
         "131",
         "131",
         "131",
         "131",
         "131",
         "131",
         "131",
         "131",
         "200",
         "131",
         "131",
         "131",
         "131",
         "131",
         "131",
         "131",
         "131",
         "131",
         "131",
         "131",
         "131",
         "131",
         "131",
         "131",
         "131",
         "131",
         "131",
         "131",
         "131",
         "131",
         "131",
         "131",
         "131",
         "131",
         "131",
         "131",
         "131",
         "131",
         "131",
         "131",
         "131",
         "131",
         "131",
         "131",
         "131",
         "131",
         "131",
         "131",
         "131",
         "131",
         "131",
         "131",
         "131",
         "131",
         "131",
         "131",
         "131",
         "131",
         "131",
         "131",
         "131",
         "131",
         "131",
         "131",
         "131",
         "131",
         "131",
         "131",
         "131",
         "131",
         "131",
         "131",
         "131",
         "131",
         "131",
         "131",
         "131",
         "131",
         "131",
         "131",
         "131",
         "131",
         "131",
         "131",
         "131",
         "131",
         "131",
         "131",
         "131",
         "131",
         "131",
         "131",
         "131",
         "131",
         "131",
         "131",
         "131",
         "131",
         "131",
         "131",
         "131",
         "131",
         "131",
         "131",
         "131",
         "131",
         "131",
         "131",
         "131",
         "131",
         "131",
         "131",
         "131",
         "131",
         "131",
         "131",
         "131",
         "131",
         "131",
         "131",
         "131",
         "131",
         "131",
         "131",
         "131",
         "131",
         "131",
         "131",
         "131",
         "131",
         "131",
         "131",
         "131",
         "131",
         "131",
         "131",
         "131",
         "131",
         "131",
         "131",
         "131",
         "131",
         "131",
         "131",
         "131",
         "131",
         "131",
         "131",
         "131",
         "131",
         "131",
         "131",
         "131",
         "131",
         "131",
         "131",
         "131",
         "131",
         "131",
         "131",
         "131",
         "131",
         "131",
         "131",
         "131",
         "131",
         "131",
         "131",
         "131",
         "131",
         "131",
         "131",
         "131",
         "131",
         "131",
         "131",
         "131",
         "131",
         "131",
         "131",
         "131",
         "131",
         "131",
         "131",
         "131",
         "131",
         "131",
         "131",
         "131",
         "131",
         "131",
         "131",
         "131",
         "131",
         "131",
         "131",
         "131",
         "131",
         "131",
         "131",
         "131",
         "131",
         "131",
         "131",
         "131",
         "131",
         "131",
         "131",
         "131",
         "131",
         "131",
         "131",
         "131",
         "131",
         "131",
         "131",
         "131",
         "131",
         "131",
         "131",
         "131",
         "131",
         "131",
         "131",
         "131",
         "131",
         "131",
         "131",
         "131",
         "131",
         "131",
         "131",
         "131",
         "131",
         "131",
         "131",
         "131",
         "131",
         "131",
         "131",
         "131",
         "131",
         "131",
         "131",
         "131",
         "131",
         "131",
         "131",
         "131",
         "131",
         "131",
         "131",
         "131",
         "131",
         "131",
         "131",
         "131",
         "131",
         "131",
         "131",
         "131",
         "131",
         "131",
         "131",
         "131",
         "131",
         "131",
         "131",
         "131",
         "131",
         "131",
         "131",
         "131",
         "131",
         "131",
         "131",
         "131",
         "131",
         "131",
         "131",
         "131",
         "131",
         "131",
         "131",
         "131",
         "131",
         "131",
         "131",
         "131",
         "131",
         "131",
         "131",
         "131",
         "131",
         "131",
         "131",
         "131",
         "131",
         "131",
         "131",
         "131",
         "131",
         "131",
         "131",
         "131",
         "131",
         "131",
         "131",
         "131",
         "131",
         "131",
         "131",
         "131",
         "131",
         "131",
         "131",
         "131",
         "131",
         "131",
         "131",
         "131",
         "131",
         "131",
         "131",
         "131",
         "131",
         "131",
         "131",
         "131",
         "131",
         "131",
         "131",
         "131",
         "131",
         "131",
         "131",
         "131",
         "131",
         "131",
         "131",
         "131",
         "131",
         "131",
         "131",
         "131",
         "131",
         "131",
         "131",
         "131",
         "131",
         "131",
         "131",
         "131",
         "131",
         "131",
         "131",
         "131",
         "131",
         "131",
         "131",
         "131",
         "131",
         "131",
         "131",
         "131",
         "131",
         "131",
         "131",
         "131",
         "131",
         "131",
         "131",
         "131",
         "131",
         "131",
         "131",
         "131",
         "131",
         "131",
         "131",
         "131",
         "131",
         "131",
         "131",
         "131",
         "131",
         "131",
         "131",
         "131",
         "131",
         "131",
         "131",
         "131",
         "131",
         "131",
         "131",
         "131",
         "131",
         "131",
         "131",
         "131",
         "131",
         "131",
         "131",
         "131",
         "131",
         "131",
         "131",
         "131",
         "131",
         "131",
         "131",
         "131",
         "131",
         "131",
         "131",
         "131",
         "131",
         "131",
         "131",
         "131",
         "131",
         "131",
         "131",
         "131",
         "131",
         "131",
         "131",
         "131",
         "131",
         "131",
         "131",
         "131",
         "131",
         "131",
         "131",
         "131",
         "131",
         "131",
         "131",
         "131",
         "131",
         "131",
         "131",
         "131",
         "131",
         "131",
         "131",
         "131",
         "131",
         "131",
         "131",
         "131",
         "131",
         "131",
         "131",
         "131",
         "131",
         "131",
         "131",
         "131",
         "131",
         "131",
         "131",
         "131",
         "131",
         "131",
         "131",
         "131",
         "131",
         "131",
         "131",
         "131",
         "131",
         "131",
         "131",
         "131",
         "131",
         "131",
         "131",
         "131",
         "131",
         "131",
         "131",
         "131",
         "131",
         "131",
         "131",
         "131",
         "131",
         "131",
         "131",
         "131",
         "131",
         "131",
         "131",
         "131",
         "131",
         "131",
         "131",
         "131",
         "131",
         "131",
         "131",
         "131",
         "131",
         "131",
         "131",
         "131",
         "131",
         "131",
         "131",
         "131",
         "131",
         "131",
         "131",
         "131",
         "131",
         "131",
         "131",
         "131",
         "131",
         "131",
         "1",
         "131",
         "131",
         "131",
         "131",
         "131",
         "131",
         "131",
         "131",
         "131",
         "131",
         "131",
         "131",
         "131",
         "131",
         "131",
         "131",
         "131",
         "131",
         "131",
         "131",
         "131",
         "131",
         "131",
         "131",
         "131",
         "131",
         "131",
         "131",
         "131",
         "131",
         "131",
         "131",
         "131",
         "131",
         "131",
         "131",
         "131",
         "131",
         "131",
         "131",
         "131",
         "131",
         "131",
         "131",
         "131",
         "131",
         "131",
         "131",
         "131",
         "131",
         "131",
         "131",
         "131",
         "131",
         "131",
         "131",
         "131",
         "131",
         "131",
         "131",
         "131",
         "131",
         "131",
         "131",
         "131",
         "131",
         "131",
         "131",
         "131",
         "131",
         "131",
         "131",
         "131",
         "131",
         "131",
         "131",
         "131",
         "131",
         "131",
         "131",
         "131",
         "131",
         "131",
         "131",
         "131",
         "131",
         "131",
         "131",
         "131",
         "131",
         "131",
         "131",
         "131",
         "131",
         "131",
         "131",
         "131",
         "131",
         "131",
         "131",
         "131",
         "131",
         "131",
         "131",
         "131",
         "131",
         "131",
         "131",
         "131",
         "131",
         "131",
         "131",
         "131",
         "131",
         "131",
         "131",
         "131",
         "131",
         "131",
         "131",
         "131",
         "131",
         "131",
         "131",
         "131",
         "131",
         "131",
         "131",
         "131",
         "131",
         "131",
         "131",
         "131",
         "131",
         "131",
         "131",
         "131",
         "131",
         "131",
         "131",
         "131",
         "131",
         "131",
         "131",
         "131",
         "131",
         "131",
         "131",
         "131",
         "131",
         "131",
         "131",
         "131",
         "131",
         "131",
         "131",
         "131",
         "131",
         "131",
         "131",
         "131",
         "131",
         "131",
         "131",
         "131",
         "131",
         "131",
         "131",
         "131",
         "131",
         "131",
         "131",
         "131",
         "131",
         "131",
         "131",
         "131",
         "131",
         "131",
         "131",
         "131",
         "131",
         "131",
         "131",
         "131",
         "131",
         "131",
         "131",
         "131",
         "131",
         "131",
         "131",
         "131",
         "131",
         "131",
         "131",
         "131",
         "131",
         "131",
         "131",
         "131",
         "131",
         "131",
         "131",
         "131",
         "131",
         "131",
         "131",
         "131",
         "131",
         "131",
         "131",
         "131",
         "131",
         "131",
         "131",
         "131",
         "131",
         "131",
         "131",
         "131",
         "131",
         "131",
         "131",
         "131",
         "131",
         "131",
         "131",
         "131",
         "131",
         "131",
         "131",
         "131",
         "131",
         "131",
         "131",
         "131",
         "131",
         "131",
         "131",
         "131",
         "131",
         "131",
         "131",
         "131",
         "131",
         "131",
         "131",
         "131",
         "131",
         "131",
         "131",
         "131",
         "131",
         "131",
         "131",
         "131",
         "131",
         "131",
         "131"
        ]
       ],
       "shape": {
        "columns": 785,
        "rows": 5
       }
      },
      "text/html": [
       "<div>\n",
       "<style scoped>\n",
       "    .dataframe tbody tr th:only-of-type {\n",
       "        vertical-align: middle;\n",
       "    }\n",
       "\n",
       "    .dataframe tbody tr th {\n",
       "        vertical-align: top;\n",
       "    }\n",
       "\n",
       "    .dataframe thead th {\n",
       "        text-align: right;\n",
       "    }\n",
       "</style>\n",
       "<table border=\"1\" class=\"dataframe\">\n",
       "  <thead>\n",
       "    <tr style=\"text-align: right;\">\n",
       "      <th></th>\n",
       "      <th>24</th>\n",
       "      <th>0</th>\n",
       "      <th>0.1</th>\n",
       "      <th>0.2</th>\n",
       "      <th>0.3</th>\n",
       "      <th>0.4</th>\n",
       "      <th>0.5</th>\n",
       "      <th>0.6</th>\n",
       "      <th>0.7</th>\n",
       "      <th>0.8</th>\n",
       "      <th>...</th>\n",
       "      <th>0.552</th>\n",
       "      <th>0.553</th>\n",
       "      <th>0.554</th>\n",
       "      <th>0.555</th>\n",
       "      <th>0.556</th>\n",
       "      <th>0.557</th>\n",
       "      <th>0.558</th>\n",
       "      <th>0.559</th>\n",
       "      <th>0.560</th>\n",
       "      <th>0.561</th>\n",
       "    </tr>\n",
       "  </thead>\n",
       "  <tbody>\n",
       "    <tr>\n",
       "      <th>0</th>\n",
       "      <td>-2</td>\n",
       "      <td>142</td>\n",
       "      <td>142</td>\n",
       "      <td>142</td>\n",
       "      <td>142</td>\n",
       "      <td>142</td>\n",
       "      <td>142</td>\n",
       "      <td>142</td>\n",
       "      <td>142</td>\n",
       "      <td>142</td>\n",
       "      <td>...</td>\n",
       "      <td>142</td>\n",
       "      <td>142</td>\n",
       "      <td>142</td>\n",
       "      <td>142</td>\n",
       "      <td>142</td>\n",
       "      <td>142</td>\n",
       "      <td>142</td>\n",
       "      <td>142</td>\n",
       "      <td>142</td>\n",
       "      <td>142</td>\n",
       "    </tr>\n",
       "    <tr>\n",
       "      <th>1</th>\n",
       "      <td>15</td>\n",
       "      <td>0</td>\n",
       "      <td>0</td>\n",
       "      <td>0</td>\n",
       "      <td>0</td>\n",
       "      <td>0</td>\n",
       "      <td>0</td>\n",
       "      <td>0</td>\n",
       "      <td>0</td>\n",
       "      <td>0</td>\n",
       "      <td>...</td>\n",
       "      <td>0</td>\n",
       "      <td>0</td>\n",
       "      <td>0</td>\n",
       "      <td>0</td>\n",
       "      <td>0</td>\n",
       "      <td>0</td>\n",
       "      <td>0</td>\n",
       "      <td>0</td>\n",
       "      <td>0</td>\n",
       "      <td>0</td>\n",
       "    </tr>\n",
       "    <tr>\n",
       "      <th>2</th>\n",
       "      <td>14</td>\n",
       "      <td>0</td>\n",
       "      <td>0</td>\n",
       "      <td>0</td>\n",
       "      <td>0</td>\n",
       "      <td>0</td>\n",
       "      <td>0</td>\n",
       "      <td>0</td>\n",
       "      <td>0</td>\n",
       "      <td>0</td>\n",
       "      <td>...</td>\n",
       "      <td>0</td>\n",
       "      <td>0</td>\n",
       "      <td>0</td>\n",
       "      <td>0</td>\n",
       "      <td>0</td>\n",
       "      <td>0</td>\n",
       "      <td>0</td>\n",
       "      <td>0</td>\n",
       "      <td>0</td>\n",
       "      <td>0</td>\n",
       "    </tr>\n",
       "    <tr>\n",
       "      <th>3</th>\n",
       "      <td>-2</td>\n",
       "      <td>120</td>\n",
       "      <td>120</td>\n",
       "      <td>120</td>\n",
       "      <td>120</td>\n",
       "      <td>120</td>\n",
       "      <td>120</td>\n",
       "      <td>120</td>\n",
       "      <td>120</td>\n",
       "      <td>120</td>\n",
       "      <td>...</td>\n",
       "      <td>120</td>\n",
       "      <td>120</td>\n",
       "      <td>120</td>\n",
       "      <td>120</td>\n",
       "      <td>120</td>\n",
       "      <td>120</td>\n",
       "      <td>120</td>\n",
       "      <td>120</td>\n",
       "      <td>120</td>\n",
       "      <td>120</td>\n",
       "    </tr>\n",
       "    <tr>\n",
       "      <th>4</th>\n",
       "      <td>-1</td>\n",
       "      <td>131</td>\n",
       "      <td>131</td>\n",
       "      <td>131</td>\n",
       "      <td>131</td>\n",
       "      <td>131</td>\n",
       "      <td>131</td>\n",
       "      <td>131</td>\n",
       "      <td>131</td>\n",
       "      <td>200</td>\n",
       "      <td>...</td>\n",
       "      <td>131</td>\n",
       "      <td>131</td>\n",
       "      <td>131</td>\n",
       "      <td>131</td>\n",
       "      <td>131</td>\n",
       "      <td>131</td>\n",
       "      <td>131</td>\n",
       "      <td>131</td>\n",
       "      <td>131</td>\n",
       "      <td>131</td>\n",
       "    </tr>\n",
       "  </tbody>\n",
       "</table>\n",
       "<p>5 rows × 785 columns</p>\n",
       "</div>"
      ],
      "text/plain": [
       "   24    0  0.1  0.2  0.3  0.4  0.5  0.6  0.7  0.8  ...  0.552  0.553  0.554  \\\n",
       "0  -2  142  142  142  142  142  142  142  142  142  ...    142    142    142   \n",
       "1  15    0    0    0    0    0    0    0    0    0  ...      0      0      0   \n",
       "2  14    0    0    0    0    0    0    0    0    0  ...      0      0      0   \n",
       "3  -2  120  120  120  120  120  120  120  120  120  ...    120    120    120   \n",
       "4  -1  131  131  131  131  131  131  131  131  200  ...    131    131    131   \n",
       "\n",
       "   0.555  0.556  0.557  0.558  0.559  0.560  0.561  \n",
       "0    142    142    142    142    142    142    142  \n",
       "1      0      0      0      0      0      0      0  \n",
       "2      0      0      0      0      0      0      0  \n",
       "3    120    120    120    120    120    120    120  \n",
       "4    131    131    131    131    131    131    131  \n",
       "\n",
       "[5 rows x 785 columns]"
      ]
     },
     "execution_count": 1,
     "metadata": {},
     "output_type": "execute_result"
    }
   ],
   "source": [
    "# Import necessary libraries\n",
    "import pandas as pd\n",
    "import numpy as np\n",
    "import matplotlib.pyplot as plt\n",
    "import math\n",
    "import os\n",
    "import tensorflow as tf\n",
    "from tensorflow.keras import layers, models, optimizers\n",
    "\n",
    "# Suppress warnings for cleaner output\n",
    "import warnings\n",
    "warnings.filterwarnings('ignore')\n",
    "\n",
    "# Load the dataset\n",
    "data = pd.read_csv('../emnist-letters-train.csv')\n",
    "\n",
    "# Check the shape and first few rows\n",
    "print(f\"Dataset shape: {data.shape}\")\n",
    "data.head()"
   ]
  },
  {
   "cell_type": "markdown",
   "id": "adb99a85",
   "metadata": {},
   "source": [
    "## Understanding the Data Structure"
   ]
  },
  {
   "cell_type": "code",
   "execution_count": 2,
   "id": "6d0199d8",
   "metadata": {
    "notebookRunGroups": {
     "groupValue": "1"
    }
   },
   "outputs": [
    {
     "name": "stdout",
     "output_type": "stream",
     "text": [
      "Unique labels: [-2 -1  1  2  4  5  6  7  9 10 12 14 15 16 17 20 24 26]\n"
     ]
    },
    {
     "data": {
      "image/png": "[encoded data removed]",
      "text/plain": [
       "<Figure size 640x480 with 1 Axes>"
      ]
     },
     "metadata": {},
     "output_type": "display_data"
    },
    {
     "name": "stdout",
     "output_type": "stream",
     "text": [
      "Unique labels before cleaning: [-2 -1  1  2  4  5  6  7  9 10 12 14 15 16 17 20 24 26]\n",
      "Label counts before cleaning: [4856 5384 3396 3396 3398 3437 3394 3385 3428 3402 3415 3365 3408 3430\n",
      " 3435 3436 3436 3427]\n",
      "Total images before cleaning: 64828\n",
      "Corresponding letters: ['>', '?', 'A', 'B', 'D', 'E', 'F', 'G', 'I', 'J', 'L', 'N', 'O', 'P', 'Q', 'T', 'X', 'Z']\n"
     ]
    }
   ],
   "source": [
    "# Separate labels and pixel data\n",
    "labels = data.iloc[:, 0].values\n",
    "pixels = data.iloc[:, 1:].values\n",
    "\n",
    "# Check label distribution\n",
    "unique_labels, counts = np.unique(labels, return_counts=True)\n",
    "print(f\"Unique labels: {unique_labels}\")\n",
    "\n",
    "# Visualize class distribution\n",
    "plt.bar(unique_labels, counts)\n",
    "plt.title('Class Distribution')\n",
    "plt.xlabel('Class Label')\n",
    "plt.ylabel('Count')\n",
    "plt.show()\n",
    "\n",
    "print(f\"Unique labels before cleaning: {unique_labels}\")\n",
    "print(f\"Label counts before cleaning: {counts}\")\n",
    "print(f\"Total images before cleaning: {len(pixels)}\")\n",
    "print(f\"Corresponding letters: {[chr(l+64) for l in unique_labels]}\")"
   ]
  },
  {
   "cell_type": "code",
   "execution_count": 3,
   "id": "c2e970a0",
   "metadata": {},
   "outputs": [],
   "source": [
    "# Reshape and normalize\n",
    "images = pixels.reshape(-1, 28, 28, 1).astype('float32')\n",
    "images = images / 255.0  # Normalize to [0, 1]"
   ]
  },
  {
   "cell_type": "code",
   "execution_count": 4,
   "id": "cdce5c07",
   "metadata": {},
   "outputs": [
    {
     "data": {
      "image/png": "[encoded data removed]",
      "text/plain": [
       "<Figure size 2200x2700 with 198 Axes>"
      ]
     },
     "metadata": {},
     "output_type": "display_data"
    }
   ],
   "source": [
    "# Get all unique class labels\n",
    "unique_labels_to_show = np.sort(np.unique(labels))\n",
    "num_classes = len(unique_labels_to_show)\n",
    "\n",
    "# Set number of columns and compute required rows dynamically\n",
    "cols = 11  # 1 for label + 10 for sample images\n",
    "rows = math.ceil(num_classes / 1)  # Each class gets its own row\n",
    "\n",
    "plt.figure(figsize=(cols * 2, rows * 1.5))  # Adjust figure size\n",
    "\n",
    "for idx, class_label in enumerate(unique_labels_to_show):\n",
    "  class_indices = np.nonzero(labels == class_label)[0][:10]  # Get 10 samples\n",
    "\n",
    "  # Label subplot\n",
    "  plt.subplot(rows, cols, idx * cols + 1)\n",
    "  plt.text(0.5, 0.5, f\"{chr(class_label + 64)}\", fontsize=14, ha='center', va='center')\n",
    "  plt.axis('off')\n",
    "\n",
    "  # Show 10 example images\n",
    "  for i, img_idx in enumerate(class_indices):\n",
    "    plt.subplot(rows, cols, idx * cols + i + 2)\n",
    "    plt.imshow(images[img_idx].squeeze(), cmap='gray')\n",
    "    plt.axis('off')\n",
    "\n",
    "plt.tight_layout()\n",
    "plt.show()\n"
   ]
  },
  {
   "cell_type": "markdown",
   "id": "602665fb",
   "metadata": {},
   "source": [
    "## Data Cleaning"
   ]
  },
  {
   "cell_type": "code",
   "execution_count": 5,
   "id": "c1e6e76d",
   "metadata": {},
   "outputs": [],
   "source": [
    "# First filter out negative labels\n",
    "valid_mask = labels > 0\n",
    "filtered_images = images[valid_mask]\n",
    "filtered_labels = labels[valid_mask]\n",
    "\n",
    "# Then select only our 16 target classes\n",
    "selected_numeric = [1, 2, 4, 5, 6, 7, 9, 10, 12, 14, 15, 16, 17, 20, 24, 26]  # A, B, D, E, F, G, I, J, L, N, O, P, Q, T, X, Z\n",
    "final_mask = np.isin(filtered_labels, selected_numeric)\n",
    "final_images = filtered_images[final_mask]\n",
    "final_labels = filtered_labels[final_mask]"
   ]
  },
  {
   "cell_type": "code",
   "execution_count": 6,
   "id": "a37e4c21",
   "metadata": {},
   "outputs": [],
   "source": [
    "# Rotate and flip the images to upright position\n",
    "from skimage.transform import rotate\n",
    "\n",
    "# Rotate 90 degrees clockwise (use -90 degrees)\n",
    "# Then mirror (flip) horizontally with np.fliplr\n",
    "final_images = np.array([\n",
    "    np.fliplr(rotate(img.squeeze(), -90, resize=False, mode='edge'))\n",
    "    for img in final_images\n",
    "])\n",
    "\n",
    "# Ensure final_images has the correct shape\n",
    "final_images = final_images[..., np.newaxis]"
   ]
  },
  {
   "cell_type": "code",
   "execution_count": 7,
   "id": "25077563",
   "metadata": {},
   "outputs": [
    {
     "data": {
      "image/png": "[encoded data removed]",
      "text/plain": [
       "<Figure size 640x480 with 1 Axes>"
      ]
     },
     "metadata": {},
     "output_type": "display_data"
    },
    {
     "name": "stdout",
     "output_type": "stream",
     "text": [
      "Unique labels after cleaning: [ 1  2  4  5  6  7  9 10 12 14 15 16 17 20 24 26]\n",
      "Label counts after cleaning: [3396 3396 3398 3437 3394 3385 3428 3402 3415 3365 3408 3430 3435 3436\n",
      " 3436 3427]\n",
      "Total images after cleaning: 54588\n",
      "Corresponding letters: ['A', 'B', 'D', 'E', 'F', 'G', 'I', 'J', 'L', 'N', 'O', 'P', 'Q', 'T', 'X', 'Z']\n"
     ]
    }
   ],
   "source": [
    "# Show class distribution after cleaning\n",
    "unique_labels_cleaned, counts_cleaned = np.unique(final_labels, return_counts=True)\n",
    "plt.bar(unique_labels_cleaned, counts_cleaned)\n",
    "plt.title('Class Distribution After Cleaning')\n",
    "plt.xlabel('Class Label')\n",
    "plt.ylabel('Count')\n",
    "plt.show()\n",
    "\n",
    "print(f\"Unique labels after cleaning: {unique_labels_cleaned}\")\n",
    "print(f\"Label counts after cleaning: {counts_cleaned}\")\n",
    "print(f\"Total images after cleaning: {len(final_images)}\")\n",
    "print(f\"Corresponding letters: {[chr(l+64) for l in unique_labels_cleaned]}\")\n"
   ]
  },
  {
   "cell_type": "code",
   "execution_count": 8,
   "id": "b3be889a",
   "metadata": {},
   "outputs": [
    {
     "data": {
      "image/png": "[encoded data removed]",
      "text/plain": [
       "<Figure size 2200x2400 with 176 Axes>"
      ]
     },
     "metadata": {},
     "output_type": "display_data"
    }
   ],
   "source": [
    "# Get all unique class labels from cleaned data\n",
    "unique_labels_to_show = np.sort(np.unique(final_labels))\n",
    "num_classes = len(unique_labels_to_show)\n",
    "\n",
    "# Set number of columns and compute required rows dynamically\n",
    "cols = 11  # 1 for label + 10 for sample images\n",
    "rows = math.ceil(num_classes / 1)  # Each class gets its own row\n",
    "\n",
    "plt.figure(figsize=(cols * 2, rows * 1.5))  # Adjust figure size\n",
    "\n",
    "for idx, class_label in enumerate(unique_labels_to_show):\n",
    "  class_indices = np.nonzero(final_labels == class_label)[0][:10]  # Get 10 samples\n",
    "\n",
    "  # Label subplot\n",
    "  plt.subplot(rows, cols, idx * cols + 1)\n",
    "  plt.text(0.5, 0.5, f\"{chr(class_label + 64)}\", fontsize=14, ha='center', va='center')\n",
    "  plt.axis('off')\n",
    "\n",
    "  # Show 10 example images\n",
    "  for i, img_idx in enumerate(class_indices):\n",
    "    plt.subplot(rows, cols, idx * cols + i + 2)\n",
    "    plt.imshow(final_images[img_idx].squeeze(), cmap='gray')\n",
    "    plt.axis('off')\n",
    "\n",
    "plt.tight_layout()\n",
    "plt.show()\n"
   ]
  },
  {
   "cell_type": "markdown",
   "id": "4d81adf8",
   "metadata": {},
   "source": [
    "## Data Preparation"
   ]
  },
  {
   "cell_type": "code",
   "execution_count": 9,
   "id": "0eb63b40",
   "metadata": {},
   "outputs": [],
   "source": [
    "from tensorflow.keras.utils import to_categorical\n",
    "\n",
    "# Convert labels to one-hot encoding (for 16 classes)\n",
    "selected_letters = ['A', 'B', 'D', 'E', 'F', 'G', 'I', 'J', 'L', 'N', 'O', 'P', 'Q', 'T', 'X', 'Z']\n",
    "\n",
    "# Convert letters to their label values (A=1, B=2, ..., Z=26)\n",
    "selected_labels = [ord(c) - 64 for c in selected_letters]\n",
    "\n",
    "# Now convert to 0-15 range for one-hot encoding\n",
    "label_mapping = {label: idx for idx, label in enumerate(selected_labels)}\n",
    "mapped_labels = np.array([label_mapping[label] for label in final_labels])  # FIXED: Use final_labels not filtered_labels\n",
    "\n",
    "# One-hot encode (now safe with 16 classes)\n",
    "one_hot_labels = to_categorical(mapped_labels, num_classes=16)"
   ]
  },
  {
   "cell_type": "code",
   "execution_count": 10,
   "id": "5c0cc3ad",
   "metadata": {},
   "outputs": [
    {
     "name": "stdout",
     "output_type": "stream",
     "text": [
      "Label mapping verification:\n",
      "Letter A: EMNIST label 1 -> GAN label 0\n",
      "Letter B: EMNIST label 2 -> GAN label 1\n",
      "Letter D: EMNIST label 4 -> GAN label 2\n",
      "Letter E: EMNIST label 5 -> GAN label 3\n",
      "Letter F: EMNIST label 6 -> GAN label 4\n",
      "Letter G: EMNIST label 7 -> GAN label 5\n",
      "Letter I: EMNIST label 9 -> GAN label 6\n",
      "Letter J: EMNIST label 10 -> GAN label 7\n",
      "Letter L: EMNIST label 12 -> GAN label 8\n",
      "Letter N: EMNIST label 14 -> GAN label 9\n",
      "Letter O: EMNIST label 15 -> GAN label 10\n",
      "Letter P: EMNIST label 16 -> GAN label 11\n",
      "Letter Q: EMNIST label 17 -> GAN label 12\n",
      "Letter T: EMNIST label 20 -> GAN label 13\n",
      "Letter X: EMNIST label 24 -> GAN label 14\n",
      "Letter Z: EMNIST label 26 -> GAN label 15\n",
      "\n",
      "Mapped labels shape: (54588,)\n",
      "Mapped labels range: 0 to 15\n",
      "Unique mapped labels: [ 0  1  2  3  4  5  6  7  8  9 10 11 12 13 14 15]\n"
     ]
    }
   ],
   "source": [
    "# Verify the mapping is correct\n",
    "print(\"Label mapping verification:\")\n",
    "for i in range(len(selected_letters)):\n",
    "    letter = selected_letters[i]\n",
    "    original_label = selected_labels[i]  # EMNIST label (1-26)\n",
    "    mapped_label = i  # GAN label (0-15)\n",
    "    print(f\"Letter {letter}: EMNIST label {original_label} -> GAN label {mapped_label}\")\n",
    "\n",
    "print(f\"\\nMapped labels shape: {mapped_labels.shape}\")\n",
    "print(f\"Mapped labels range: {mapped_labels.min()} to {mapped_labels.max()}\")\n",
    "print(f\"Unique mapped labels: {np.unique(mapped_labels)}\")"
   ]
  },
  {
   "cell_type": "markdown",
   "id": "4e579201",
   "metadata": {},
   "source": [
    "## Data Verification "
   ]
  },
  {
   "cell_type": "code",
   "execution_count": 11,
   "id": "542f16aa",
   "metadata": {},
   "outputs": [
    {
     "name": "stdout",
     "output_type": "stream",
     "text": [
      "Total samples: 54588\n",
      "Image shape: (28, 28, 1)\n",
      "Labels shape: (54588, 16)\n",
      "Image dtype: float32\n",
      "Label dtype: float32\n"
     ]
    }
   ],
   "source": [
    "# Check Basic Shapes & Types\n",
    "print(\"Total samples:\", len(final_images))\n",
    "print(\"Image shape:\", final_images.shape[1:])\n",
    "print(\"Labels shape:\", one_hot_labels.shape)\n",
    "print(\"Image dtype:\", final_images.dtype)\n",
    "print(\"Label dtype:\", one_hot_labels.dtype)\n"
   ]
  },
  {
   "cell_type": "code",
   "execution_count": 12,
   "id": "1cc7e80a",
   "metadata": {},
   "outputs": [
    {
     "name": "stdout",
     "output_type": "stream",
     "text": [
      "Pixel value range: 0.0 to 1.0\n"
     ]
    }
   ],
   "source": [
    "# Check pixel value range\n",
    "print(\"Pixel value range:\", final_images.min(), \"to\", final_images.max())"
   ]
  },
  {
   "cell_type": "code",
   "execution_count": 13,
   "id": "59de61a7",
   "metadata": {},
   "outputs": [
    {
     "name": "stdout",
     "output_type": "stream",
     "text": [
      "Label classes in dataset: [ 0  1  2  3  4  5  6  7  8  9 10 11 12 13 14 15]\n",
      "Label distribution:\n",
      "{0: 3396, 1: 3396, 2: 3398, 3: 3437, 4: 3394, 5: 3385, 6: 3428, 7: 3402, 8: 3415, 9: 3365, 10: 3408, 11: 3430, 12: 3435, 13: 3436, 14: 3436, 15: 3427}\n"
     ]
    }
   ],
   "source": [
    "# Check label classes and distribution\n",
    "# If labels are one-hot encoded, convert back to class indices\n",
    "labels_int = np.argmax(one_hot_labels, axis=1)\n",
    "\n",
    "print(\"Label classes in dataset:\", np.unique(labels_int))\n",
    "print(\"Label distribution:\")\n",
    "unique, counts = np.unique(labels_int, return_counts=True)\n",
    "print(dict(zip(unique, counts)))\n"
   ]
  },
  {
   "cell_type": "code",
   "execution_count": 14,
   "id": "ce881465",
   "metadata": {},
   "outputs": [
    {
     "name": "stdout",
     "output_type": "stream",
     "text": [
      "Labels shape: (64828,)\n",
      "Labels example: -2\n",
      "Likely integer labels\n"
     ]
    }
   ],
   "source": [
    "print(\"Labels shape:\", labels.shape)\n",
    "print(\"Labels example:\", labels[0])\n",
    "\n",
    "# Check if labels look like one-hot vectors\n",
    "if len(labels.shape) == 2 and labels.shape[1] > 1:\n",
    "    print(\"Likely one-hot encoded\")\n",
    "elif len(labels.shape) == 1 or (len(labels.shape) == 2 and labels.shape[1] == 1):\n",
    "    print(\"Likely integer labels\")\n",
    "else:\n",
    "    print(\"Unknown label format\")\n"
   ]
  },
  {
   "cell_type": "code",
   "execution_count": 15,
   "id": "0e9ab959",
   "metadata": {
    "notebookRunGroups": {
     "groupValue": "1"
    }
   },
   "outputs": [
    {
     "name": "stdout",
     "output_type": "stream",
     "text": [
      "Labels shape: (54588,)\n",
      "Labels example: 10\n",
      "Likely integer labels\n"
     ]
    }
   ],
   "source": [
    "print(\"Labels shape:\", mapped_labels.shape)\n",
    "print(\"Labels example:\", mapped_labels[0])\n",
    "\n",
    "# Check if labels look like one-hot vectors\n",
    "if len(mapped_labels.shape) == 2 and mapped_labels.shape[1] > 1:\n",
    "    print(\"Likely one-hot encoded\")\n",
    "elif len(mapped_labels.shape) == 1 or (len(labels.shape) == 2 and labels.shape[1] == 1):\n",
    "    print(\"Likely integer labels\")\n",
    "else:\n",
    "    print(\"Unknown label format\")"
   ]
  },
  {
   "cell_type": "markdown",
   "id": "ff152584",
   "metadata": {},
   "source": [
    "# Base DCGAN Model"
   ]
  },
  {
   "cell_type": "markdown",
   "id": "74531617",
   "metadata": {},
   "source": [
    "## Model Building"
   ]
  },
  {
   "cell_type": "code",
   "execution_count": 16,
   "id": "811fc774",
   "metadata": {},
   "outputs": [],
   "source": [
    "# Simple DCGAN base model (no label conditioning)\n",
    "dcgan_latent_dim = 100\n",
    "\n",
    "def build_dcgan_generator(latent_dim=100):\n",
    "  model = models.Sequential(name='dcgan_generator')\n",
    "  model.add(layers.Dense(7*7*128, use_bias=False, input_dim=latent_dim))\n",
    "  model.add(layers.BatchNormalization())\n",
    "  model.add(layers.LeakyReLU(0.2))\n",
    "  model.add(layers.Reshape((7, 7, 128)))\n",
    "  model.add(layers.Conv2DTranspose(64, (5,5), strides=(1,1), padding='same', use_bias=False))\n",
    "  model.add(layers.BatchNormalization())\n",
    "  model.add(layers.LeakyReLU(0.2))\n",
    "  model.add(layers.Conv2DTranspose(32, (5,5), strides=(2,2), padding='same', use_bias=False))\n",
    "  model.add(layers.BatchNormalization())\n",
    "  model.add(layers.LeakyReLU(0.2))\n",
    "  model.add(layers.Conv2DTranspose(1, (5,5), strides=(2,2), padding='same', use_bias=False, activation='sigmoid'))\n",
    "  return model\n",
    "\n",
    "def build_dcgan_discriminator(img_shape=(28,28,1)):\n",
    "  model = models.Sequential(name='dcgan_discriminator')\n",
    "  model.add(layers.Conv2D(32, (5,5), strides=(2,2), padding='same', input_shape=img_shape))\n",
    "  model.add(layers.LeakyReLU(0.2))\n",
    "  model.add(layers.Dropout(0.3))\n",
    "  model.add(layers.Conv2D(64, (5,5), strides=(2,2), padding='same'))\n",
    "  model.add(layers.LeakyReLU(0.2))\n",
    "  model.add(layers.Dropout(0.3))\n",
    "  model.add(layers.Flatten())\n",
    "  model.add(layers.Dense(1, activation='sigmoid'))\n",
    "  return model\n",
    "\n",
    "# Build models\n",
    "dcgan_generator = build_dcgan_generator(dcgan_latent_dim)\n",
    "dcgan_discriminator = build_dcgan_discriminator(img_shape=(28,28,1))\n",
    "\n",
    "dcgan_discriminator.compile(\n",
    "  optimizer=optimizers.Adam(0.0002, 0.5),\n",
    "  loss='binary_crossentropy',\n",
    "  metrics=['accuracy']\n",
    ")\n",
    "\n",
    "# Combined DCGAN\n",
    "dcgan_discriminator.trainable = False\n",
    "dcgan_noise = layers.Input(shape=(dcgan_latent_dim,))\n",
    "dcgan_img = dcgan_generator(dcgan_noise)\n",
    "dcgan_validity = dcgan_discriminator(dcgan_img)\n",
    "dcgan = models.Model(dcgan_noise, dcgan_validity)\n",
    "dcgan.compile(\n",
    "  optimizer=optimizers.Adam(0.0002, 0.5),\n",
    "  loss='binary_crossentropy'\n",
    ")"
   ]
  },
  {
   "cell_type": "markdown",
   "id": "62d76234",
   "metadata": {},
   "source": [
    "## Model Training"
   ]
  },
  {
   "cell_type": "code",
   "execution_count": 17,
   "id": "da76e160",
   "metadata": {},
   "outputs": [
    {
     "name": "stdout",
     "output_type": "stream",
     "text": [
      "Starting DCGAN training for 5001 epochs...\n",
      "Training data shape: (54588, 28, 28, 1)\n",
      "Batch size: 64, Sample interval: 100\n",
      "Epoch    0 [D loss: 0.7099, acc.: 34.38%] [G loss: 0.6848]\n",
      "Epoch    0 [D loss: 0.7099, acc.: 34.38%] [G loss: 0.6848]\n",
      "Epoch  100 [D loss: 0.1259, acc.: 99.22%] [G loss: 0.3732]\n",
      "Epoch  100 [D loss: 0.1259, acc.: 99.22%] [G loss: 0.3732]\n",
      "Epoch  200 [D loss: 0.0570, acc.: 100.00%] [G loss: 0.3166]\n",
      "Epoch  200 [D loss: 0.0570, acc.: 100.00%] [G loss: 0.3166]\n",
      "Epoch  300 [D loss: 0.0892, acc.: 98.44%] [G loss: 0.1548]\n",
      "Epoch  300 [D loss: 0.0892, acc.: 98.44%] [G loss: 0.1548]\n",
      "Epoch  400 [D loss: 0.2515, acc.: 89.84%] [G loss: 0.0670]\n",
      "Epoch  400 [D loss: 0.2515, acc.: 89.84%] [G loss: 0.0670]\n",
      "Epoch  500 [D loss: 0.5963, acc.: 71.09%] [G loss: 1.6362]\n",
      "Epoch  500 [D loss: 0.5963, acc.: 71.09%] [G loss: 1.6362]\n",
      "Epoch  600 [D loss: 0.8881, acc.: 42.97%] [G loss: 1.1305]\n",
      "Epoch  600 [D loss: 0.8881, acc.: 42.97%] [G loss: 1.1305]\n",
      "Epoch  700 [D loss: 0.7547, acc.: 52.34%] [G loss: 0.8813]\n",
      "Epoch  700 [D loss: 0.7547, acc.: 52.34%] [G loss: 0.8813]\n",
      "Epoch  800 [D loss: 0.8930, acc.: 37.50%] [G loss: 0.8508]\n",
      "Epoch  800 [D loss: 0.8930, acc.: 37.50%] [G loss: 0.8508]\n",
      "Epoch  900 [D loss: 0.9852, acc.: 27.34%] [G loss: 0.9886]\n",
      "Epoch  900 [D loss: 0.9852, acc.: 27.34%] [G loss: 0.9886]\n",
      "Epoch 1000 [D loss: 0.7705, acc.: 40.62%] [G loss: 0.6718]\n",
      "Epoch 1000 [D loss: 0.7705, acc.: 40.62%] [G loss: 0.6718]\n",
      "Epoch 1100 [D loss: 0.3913, acc.: 88.28%] [G loss: 0.3640]\n",
      "Epoch 1100 [D loss: 0.3913, acc.: 88.28%] [G loss: 0.3640]\n",
      "Epoch 1200 [D loss: 0.7193, acc.: 53.12%] [G loss: 0.7483]\n",
      "Epoch 1200 [D loss: 0.7193, acc.: 53.12%] [G loss: 0.7483]\n",
      "Epoch 1300 [D loss: 0.7142, acc.: 58.59%] [G loss: 0.7761]\n",
      "Epoch 1300 [D loss: 0.7142, acc.: 58.59%] [G loss: 0.7761]\n",
      "Epoch 1400 [D loss: 0.6882, acc.: 50.00%] [G loss: 0.6753]\n",
      "Epoch 1400 [D loss: 0.6882, acc.: 50.00%] [G loss: 0.6753]\n",
      "Epoch 1500 [D loss: 0.5394, acc.: 73.44%] [G loss: 0.5018]\n",
      "Epoch 1500 [D loss: 0.5394, acc.: 73.44%] [G loss: 0.5018]\n",
      "Epoch 1600 [D loss: 0.6405, acc.: 60.94%] [G loss: 0.3213]\n",
      "Epoch 1600 [D loss: 0.6405, acc.: 60.94%] [G loss: 0.3213]\n",
      "Epoch 1700 [D loss: 0.6902, acc.: 53.91%] [G loss: 0.7319]\n",
      "Epoch 1700 [D loss: 0.6902, acc.: 53.91%] [G loss: 0.7319]\n",
      "Epoch 1800 [D loss: 0.7361, acc.: 44.53%] [G loss: 0.7917]\n",
      "Epoch 1800 [D loss: 0.7361, acc.: 44.53%] [G loss: 0.7917]\n",
      "Epoch 1900 [D loss: 0.6944, acc.: 53.12%] [G loss: 0.7964]\n",
      "Epoch 1900 [D loss: 0.6944, acc.: 53.12%] [G loss: 0.7964]\n",
      "Epoch 2000 [D loss: 0.6960, acc.: 57.03%] [G loss: 0.7433]\n",
      "Epoch 2000 [D loss: 0.6960, acc.: 57.03%] [G loss: 0.7433]\n",
      "Epoch 2100 [D loss: 0.6949, acc.: 50.00%] [G loss: 0.7496]\n",
      "Epoch 2100 [D loss: 0.6949, acc.: 50.00%] [G loss: 0.7496]\n",
      "Epoch 2200 [D loss: 0.7286, acc.: 39.84%] [G loss: 0.6825]\n",
      "Epoch 2200 [D loss: 0.7286, acc.: 39.84%] [G loss: 0.6825]\n",
      "Epoch 2300 [D loss: 0.6895, acc.: 54.69%] [G loss: 0.7422]\n",
      "Epoch 2300 [D loss: 0.6895, acc.: 54.69%] [G loss: 0.7422]\n",
      "Epoch 2400 [D loss: 0.6629, acc.: 60.16%] [G loss: 0.8357]\n",
      "Epoch 2400 [D loss: 0.6629, acc.: 60.16%] [G loss: 0.8357]\n",
      "Epoch 2500 [D loss: 0.6871, acc.: 56.25%] [G loss: 0.6909]\n",
      "Epoch 2500 [D loss: 0.6871, acc.: 56.25%] [G loss: 0.6909]\n",
      "Epoch 2600 [D loss: 0.6921, acc.: 50.78%] [G loss: 0.7170]\n",
      "Epoch 2600 [D loss: 0.6921, acc.: 50.78%] [G loss: 0.7170]\n",
      "Epoch 2700 [D loss: 0.6553, acc.: 61.72%] [G loss: 0.8423]\n",
      "Epoch 2700 [D loss: 0.6553, acc.: 61.72%] [G loss: 0.8423]\n",
      "Epoch 2800 [D loss: 0.6805, acc.: 54.69%] [G loss: 0.7637]\n",
      "Epoch 2800 [D loss: 0.6805, acc.: 54.69%] [G loss: 0.7637]\n",
      "Epoch 2900 [D loss: 0.6749, acc.: 61.72%] [G loss: 0.7306]\n",
      "Epoch 2900 [D loss: 0.6749, acc.: 61.72%] [G loss: 0.7306]\n",
      "Epoch 3000 [D loss: 0.6768, acc.: 54.69%] [G loss: 0.7476]\n",
      "Epoch 3000 [D loss: 0.6768, acc.: 54.69%] [G loss: 0.7476]\n",
      "Epoch 3100 [D loss: 0.6858, acc.: 51.56%] [G loss: 0.7637]\n",
      "Epoch 3100 [D loss: 0.6858, acc.: 51.56%] [G loss: 0.7637]\n",
      "Epoch 3200 [D loss: 0.6989, acc.: 54.69%] [G loss: 0.7026]\n",
      "Epoch 3200 [D loss: 0.6989, acc.: 54.69%] [G loss: 0.7026]\n",
      "Epoch 3300 [D loss: 0.7016, acc.: 47.66%] [G loss: 0.7245]\n",
      "Epoch 3300 [D loss: 0.7016, acc.: 47.66%] [G loss: 0.7245]\n",
      "Epoch 3400 [D loss: 0.6867, acc.: 57.03%] [G loss: 0.6701]\n",
      "Epoch 3400 [D loss: 0.6867, acc.: 57.03%] [G loss: 0.6701]\n",
      "Epoch 3500 [D loss: 0.6896, acc.: 48.44%] [G loss: 0.7560]\n",
      "Epoch 3500 [D loss: 0.6896, acc.: 48.44%] [G loss: 0.7560]\n",
      "Epoch 3600 [D loss: 0.7105, acc.: 48.44%] [G loss: 0.7357]\n",
      "Epoch 3600 [D loss: 0.7105, acc.: 48.44%] [G loss: 0.7357]\n",
      "Epoch 3700 [D loss: 0.7001, acc.: 50.78%] [G loss: 0.6992]\n",
      "Epoch 3700 [D loss: 0.7001, acc.: 50.78%] [G loss: 0.6992]\n",
      "Epoch 3800 [D loss: 0.7018, acc.: 46.09%] [G loss: 0.7266]\n",
      "Epoch 3800 [D loss: 0.7018, acc.: 46.09%] [G loss: 0.7266]\n",
      "Epoch 3900 [D loss: 0.6874, acc.: 56.25%] [G loss: 0.7115]\n",
      "Epoch 3900 [D loss: 0.6874, acc.: 56.25%] [G loss: 0.7115]\n",
      "Epoch 4000 [D loss: 0.7138, acc.: 39.06%] [G loss: 0.7176]\n",
      "Epoch 4000 [D loss: 0.7138, acc.: 39.06%] [G loss: 0.7176]\n",
      "Epoch 4100 [D loss: 0.6864, acc.: 54.69%] [G loss: 0.7010]\n",
      "Epoch 4100 [D loss: 0.6864, acc.: 54.69%] [G loss: 0.7010]\n",
      "Epoch 4200 [D loss: 0.7285, acc.: 37.50%] [G loss: 0.6961]\n",
      "Epoch 4200 [D loss: 0.7285, acc.: 37.50%] [G loss: 0.6961]\n",
      "Epoch 4300 [D loss: 0.6857, acc.: 53.91%] [G loss: 0.6891]\n",
      "Epoch 4300 [D loss: 0.6857, acc.: 53.91%] [G loss: 0.6891]\n",
      "Epoch 4400 [D loss: 0.7088, acc.: 39.06%] [G loss: 0.7158]\n",
      "Epoch 4400 [D loss: 0.7088, acc.: 39.06%] [G loss: 0.7158]\n",
      "Epoch 4500 [D loss: 0.7032, acc.: 47.66%] [G loss: 0.7173]\n",
      "Epoch 4500 [D loss: 0.7032, acc.: 47.66%] [G loss: 0.7173]\n",
      "Epoch 4600 [D loss: 0.6956, acc.: 52.34%] [G loss: 0.7023]\n",
      "Epoch 4600 [D loss: 0.6956, acc.: 52.34%] [G loss: 0.7023]\n",
      "Epoch 4700 [D loss: 0.6940, acc.: 53.12%] [G loss: 0.7044]\n",
      "Epoch 4700 [D loss: 0.6940, acc.: 53.12%] [G loss: 0.7044]\n",
      "Epoch 4800 [D loss: 0.6991, acc.: 47.66%] [G loss: 0.6931]\n",
      "Epoch 4800 [D loss: 0.6991, acc.: 47.66%] [G loss: 0.6931]\n",
      "Epoch 4900 [D loss: 0.6861, acc.: 53.91%] [G loss: 0.6890]\n",
      "Epoch 4900 [D loss: 0.6861, acc.: 53.91%] [G loss: 0.6890]\n",
      "Epoch 5000 [D loss: 0.7029, acc.: 45.31%] [G loss: 0.7050]\n",
      "Epoch 5000 [D loss: 0.7029, acc.: 45.31%] [G loss: 0.7050]\n",
      "Training completed! Saving model weights...\n",
      "Weights saved successfully!\n",
      "Training completed! Saving model weights...\n",
      "Weights saved successfully!\n"
     ]
    }
   ],
   "source": [
    "def train_dcgan(epochs, batch_size=64, sample_interval=250, X_train=None, save_dir=None):\n",
    "  print(f\"Starting DCGAN training for {epochs} epochs...\")\n",
    "  print(f\"Training data shape: {X_train.shape}\")\n",
    "  print(f\"Batch size: {batch_size}, Sample interval: {sample_interval}\")\n",
    "\n",
    "  # Adversarial ground truths\n",
    "  valid = np.ones((batch_size, 1))\n",
    "  fake = np.zeros((batch_size, 1))\n",
    "\n",
    "  for epoch in range(epochs):\n",
    "    # Train discriminator\n",
    "    idx = np.random.randint(0, X_train.shape[0], batch_size)\n",
    "    imgs = X_train[idx]\n",
    "\n",
    "    noise = np.random.normal(0, 1, (batch_size, dcgan_latent_dim))\n",
    "    gen_imgs = dcgan_generator.predict(noise, verbose=0)\n",
    "\n",
    "    d_loss_real = dcgan_discriminator.train_on_batch(imgs, valid)\n",
    "    d_loss_fake = dcgan_discriminator.train_on_batch(gen_imgs, fake)\n",
    "    d_loss = 0.5 * np.add(d_loss_real, d_loss_fake)\n",
    "\n",
    "    # Train generator\n",
    "    noise = np.random.normal(0, 1, (batch_size, dcgan_latent_dim))\n",
    "    g_loss = dcgan.train_on_batch(noise, valid)\n",
    "\n",
    "    # Print progress and sample images\n",
    "    if epoch % sample_interval == 0:\n",
    "      print(f\"Epoch {epoch:4d} [D loss: {d_loss[0]:.4f}, acc.: {100*d_loss[1]:.2f}%] [G loss: {g_loss:.4f}]\")\n",
    "      if save_dir is not None:\n",
    "        sample_dcgan_images(epoch, save_dir=save_dir)\n",
    "\n",
    "  # Save weights\n",
    "  print(\"Training completed! Saving model weights...\")\n",
    "  dcgan_generator.save_weights('dcgan_generator.weights.h5')\n",
    "  dcgan_discriminator.save_weights('dcgan_discriminator.weights.h5')\n",
    "  print(\"Weights saved successfully!\")\n",
    "\n",
    "def sample_dcgan_images(epoch, save_dir=None):\n",
    "  if save_dir is None:\n",
    "    return\n",
    "  r, c = 4, 8  # 32 samples\n",
    "  noise = np.random.normal(0, 1, (r * c, dcgan_latent_dim))\n",
    "  gen_imgs = dcgan_generator.predict(noise, verbose=0)\n",
    "  fig, axs = plt.subplots(r, c, figsize=(c * 1.5, r * 1.5))\n",
    "  for i in range(r):\n",
    "    for j in range(c):\n",
    "      axs[i, j].imshow(gen_imgs[i * c + j, :, :, 0], cmap='gray')\n",
    "      axs[i, j].axis('off')\n",
    "  plt.tight_layout(pad=0.2)\n",
    "  os.makedirs(save_dir, exist_ok=True)\n",
    "  plt.savefig(f\"{save_dir}/epoch_{epoch}.png\", bbox_inches='tight', dpi=120, pad_inches=0.01)\n",
    "  plt.close()\n",
    "\n",
    "# Train DCGAN model on final_images\n",
    "train_dcgan(\n",
    "  epochs=5001,\n",
    "  batch_size=64,\n",
    "  sample_interval=100,\n",
    "  X_train=final_images,\n",
    "  save_dir=\"dcgan_images_samples\"\n",
    ")"
   ]
  },
  {
   "cell_type": "markdown",
   "id": "7dc8e3c1",
   "metadata": {},
   "source": [
    "# Base CGAN Model"
   ]
  },
  {
   "cell_type": "markdown",
   "id": "3235471b",
   "metadata": {},
   "source": [
    "## Model Building"
   ]
  },
  {
   "cell_type": "code",
   "execution_count": null,
   "id": "a8f0a10f",
   "metadata": {},
   "outputs": [],
   "source": [
    "def build_generator(latent_dim=100, num_classes=16):\n",
    "    # Conditional input\n",
    "    label_input = layers.Input(shape=(1,))\n",
    "    label_embedding = layers.Embedding(num_classes, 50)(label_input)\n",
    "    label_embedding = layers.Flatten()(label_embedding)\n",
    "    \n",
    "    # Noise input\n",
    "    noise_input = layers.Input(shape=(latent_dim,))\n",
    "    \n",
    "    # Combined input\n",
    "    combined = layers.Concatenate()([noise_input, label_embedding])\n",
    "    \n",
    "    # Generator network\n",
    "    x = layers.Dense(7*7*256, use_bias=False)(combined)\n",
    "    x = layers.BatchNormalization()(x)\n",
    "    x = layers.LeakyReLU(alpha=0.2)(x)\n",
    "    \n",
    "    x = layers.Reshape((7, 7, 256))(x)\n",
    "    \n",
    "    x = layers.Conv2DTranspose(128, (5,5), strides=(1,1), padding='same', use_bias=False)(x)\n",
    "    x = layers.BatchNormalization()(x)\n",
    "    x = layers.LeakyReLU(alpha=0.2)(x)\n",
    "    \n",
    "    x = layers.Conv2DTranspose(64, (5,5), strides=(2,2), padding='same', use_bias=False)(x)\n",
    "    x = layers.BatchNormalization()(x)\n",
    "    x = layers.LeakyReLU(alpha=0.2)(x)\n",
    "    \n",
    "    x = layers.Conv2DTranspose(1, (5,5), strides=(2,2), padding='same', use_bias=False, activation='sigmoid')(x)\n",
    "    \n",
    "    return models.Model([noise_input, label_input], x, name='generator')\n",
    "\n",
    "def build_discriminator(img_shape=(28,28,1), num_classes=16):\n",
    "    # Image input\n",
    "    img_input = layers.Input(shape=img_shape)\n",
    "    \n",
    "    # Label input\n",
    "    label_input = layers.Input(shape=(1,))\n",
    "    label_embedding = layers.Embedding(num_classes, 50)(label_input)\n",
    "    label_embedding = layers.Flatten()(label_embedding)\n",
    "    label_embedding = layers.Dense(np.prod(img_shape))(label_embedding)\n",
    "    label_embedding = layers.Reshape(img_shape)(label_embedding)\n",
    "    \n",
    "    # Combined input\n",
    "    combined = layers.Concatenate()([img_input, label_embedding])\n",
    "    \n",
    "    # Discriminator network\n",
    "    x = layers.Conv2D(64, (5,5), strides=(2,2), padding='same')(combined)\n",
    "    x = layers.LeakyReLU(alpha=0.2)(x)\n",
    "    x = layers.Dropout(0.3)(x)\n",
    "    \n",
    "    x = layers.Conv2D(128, (5,5), strides=(2,2), padding='same')(x)\n",
    "    x = layers.LeakyReLU(alpha=0.2)(x)\n",
    "    x = layers.Dropout(0.3)(x)\n",
    "    \n",
    "    x = layers.Flatten()(x)\n",
    "    x = layers.Dense(1, activation='sigmoid')(x)\n",
    "    \n",
    "    return models.Model([img_input, label_input], x, name='discriminator')\n",
    "\n",
    "# Build and compile\n",
    "latent_dim = 100\n",
    "img_shape = (28,28,1)\n",
    "num_classes = 16\n",
    "\n",
    "generator = build_generator(latent_dim, num_classes)\n",
    "discriminator = build_discriminator(img_shape, num_classes)\n",
    "\n",
    "discriminator.compile(\n",
    "    optimizer=optimizers.Adam(0.0002, 0.5),\n",
    "    loss='binary_crossentropy',\n",
    "    metrics=['accuracy']\n",
    ")\n",
    "\n",
    "# Combined GAN\n",
    "discriminator.trainable = False\n",
    "noise = layers.Input(shape=(latent_dim,))\n",
    "label = layers.Input(shape=(1,))\n",
    "img = generator([noise, label])\n",
    "validity = discriminator([img, label])\n",
    "gan = models.Model([noise, label], validity)\n",
    "gan.compile(\n",
    "    optimizer=optimizers.Adam(0.0002, 0.5),\n",
    "    loss='binary_crossentropy'\n",
    ")"
   ]
  },
  {
   "cell_type": "markdown",
   "id": "af355d43",
   "metadata": {},
   "source": [
    "## Model Training"
   ]
  },
  {
   "cell_type": "code",
   "execution_count": null,
   "id": "f7ada98e",
   "metadata": {},
   "outputs": [],
   "source": [
    "def train_gan(epochs, batch_size=128, sample_interval=50, X_train=None, y_train=None, save_dir=None, model_type='base'):\n",
    "    print(f\"Starting GAN training for {epochs} epochs...\")\n",
    "    print(f\"Training data shape: {X_train.shape}\")\n",
    "    print(f\"Batch size: {batch_size}, Sample interval: {sample_interval}\")\n",
    "    \n",
    "    # Load and normalize data\n",
    "    X_train, y_train = X_train, y_train  # From your data prep\n",
    "    \n",
    "    # Adversarial ground truths\n",
    "    valid = np.ones((batch_size, 1))\n",
    "    fake = np.zeros((batch_size, 1))\n",
    "    \n",
    "    for epoch in range(epochs):\n",
    "        # Train discriminator\n",
    "        idx = np.random.randint(0, X_train.shape[0], batch_size)\n",
    "        imgs, labels = X_train[idx], y_train[idx]\n",
    "        \n",
    "        noise = np.random.normal(0, 1, (batch_size, latent_dim))\n",
    "        gen_labels = np.random.randint(0, num_classes, batch_size)\n",
    "        gen_imgs = generator.predict([noise, gen_labels.reshape(-1,1)], verbose=0)\n",
    "        \n",
    "        d_loss_real = discriminator.train_on_batch([imgs, labels.reshape(-1,1)], valid)\n",
    "        d_loss_fake = discriminator.train_on_batch([gen_imgs, gen_labels.reshape(-1,1)], fake)\n",
    "        d_loss = 0.5 * np.add(d_loss_real, d_loss_fake)\n",
    "        \n",
    "        # Train generator\n",
    "        noise = np.random.normal(0, 1, (batch_size, latent_dim))\n",
    "        valid_labels = np.random.randint(0, num_classes, batch_size)\n",
    "        g_loss = gan.train_on_batch([noise, valid_labels.reshape(-1,1)], valid)\n",
    "        \n",
    "        # Print progress and sample images (only once per interval)\n",
    "        if epoch % sample_interval == 0:\n",
    "            print(f\"Epoch {epoch:4d} [D loss: {d_loss[0]:.4f}, acc.: {100*d_loss[1]:.2f}%] [G loss: {g_loss:.4f}]\")\n",
    "            sample_images(epoch, save_dir=save_dir)\n",
    "    \n",
    "    # Save weights\n",
    "    print(\"Training completed! Saving model weights...\")\n",
    "    generator.save_weights(f'{model_type}_generator.weights.h5')\n",
    "    discriminator.save_weights(f'{model_type}_discriminator.weights.h5')\n",
    "    print(\"Weights saved successfully!\")\n",
    "\n",
    "def sample_images(epoch, save_dir=None):\n",
    "    \"\"\"Generate and save sample images for monitoring training progress\"\"\"\n",
    "    if save_dir is None:\n",
    "        return\n",
    "        \n",
    "    num_samples = 3  # Only 3 samples per class\n",
    "    num_classes = len(selected_letters)\n",
    "    nrows = num_samples + 1  # 1 for label, rest for images\n",
    "    ncols = num_classes\n",
    "\n",
    "    fig, axs = plt.subplots(nrows, ncols, figsize=(2 * ncols, 2 * nrows))\n",
    "\n",
    "    noise = np.random.normal(0, 1, (num_classes * num_samples, latent_dim))\n",
    "    sampled_labels = np.repeat(np.arange(num_classes), num_samples).reshape(-1, 1)\n",
    "    gen_imgs = generator.predict([noise, sampled_labels], verbose=0)\n",
    "    # No rescaling needed since generator outputs [0,1] directly\n",
    "\n",
    "    for class_idx in range(num_classes):\n",
    "        # First row: show label\n",
    "        axs[0, class_idx].text(0.5, 0.5, selected_letters[class_idx], fontsize=16, ha='center', va='center')\n",
    "        axs[0, class_idx].set_xticks([])\n",
    "        axs[0, class_idx].set_yticks([])\n",
    "        axs[0, class_idx].set_frame_on(False)\n",
    "\n",
    "        # Next rows: show generated images\n",
    "        for sample_idx in range(num_samples):\n",
    "            img_idx = class_idx * num_samples + sample_idx\n",
    "            axs[sample_idx + 1, class_idx].imshow(gen_imgs[img_idx, :, :, 0], cmap='gray', aspect='equal')\n",
    "            axs[sample_idx + 1, class_idx].set_xticks([])\n",
    "            axs[sample_idx + 1, class_idx].set_yticks([])\n",
    "            axs[sample_idx + 1, class_idx].set_frame_on(False)\n",
    "\n",
    "    plt.tight_layout(pad=0.2)\n",
    "    os.makedirs(save_dir, exist_ok=True)\n",
    "    plt.savefig(f\"{save_dir}/epoch_{epoch}.png\", bbox_inches='tight', dpi=120, pad_inches=0.01)\n",
    "    plt.close()  # Important: close the figure to free memory"
   ]
  },
  {
   "cell_type": "code",
   "execution_count": null,
   "id": "30206842",
   "metadata": {
    "slideshow": {
     "slide_type": "skip"
    }
   },
   "outputs": [],
   "source": [
    "# Check if training data is ready\n",
    "print(\"Training data summary:\")\n",
    "print(f\"Images shape: {final_images.shape}\")\n",
    "print(f\"Labels shape: {mapped_labels.shape}\")\n",
    "print(f\"Image pixel range: [{final_images.min():.3f}, {final_images.max():.3f}]\")\n",
    "print(f\"Unique labels: {np.unique(mapped_labels)}\")\n",
    "\n",
    "# Train the base model\n",
    "train_gan(\n",
    "    epochs=10001, \n",
    "    batch_size=64, \n",
    "    sample_interval=250, \n",
    "    X_train=final_images, \n",
    "    y_train=mapped_labels, \n",
    "    save_dir=\"base_images_samples\", \n",
    "    model_type='base'\n",
    ")"
   ]
  },
  {
   "cell_type": "code",
   "execution_count": null,
   "id": "f8618bfc",
   "metadata": {},
   "outputs": [],
   "source": [
    "def submission_images(file_name, save_dir=None):\n",
    "    \"\"\"Generate and save 160 images for submission\"\"\"\n",
    "    if save_dir is None:\n",
    "        return\n",
    "        \n",
    "    num_samples = 10  # 10 samples per class\n",
    "    num_classes = len(selected_letters)\n",
    "    nrows = num_samples + 1  # 1 for label, rest for images\n",
    "    ncols = num_classes\n",
    "\n",
    "    fig, axs = plt.subplots(nrows, ncols, figsize=(2 * ncols, 2 * nrows))\n",
    "\n",
    "    noise = np.random.normal(0, 1, (num_classes * num_samples, latent_dim))\n",
    "    sampled_labels = np.repeat(np.arange(num_classes), num_samples).reshape(-1, 1)\n",
    "    gen_imgs = generator.predict([noise, sampled_labels], verbose=0)\n",
    "    # No rescaling needed since generator outputs [0,1] directly\n",
    "\n",
    "    for class_idx in range(num_classes):\n",
    "        # First row: show label\n",
    "        axs[0, class_idx].text(0.5, 0.5, selected_letters[class_idx], fontsize=16, ha='center', va='center')\n",
    "        axs[0, class_idx].set_xticks([])\n",
    "        axs[0, class_idx].set_yticks([])\n",
    "        axs[0, class_idx].set_frame_on(False)\n",
    "\n",
    "        # Next rows: show generated images\n",
    "        for sample_idx in range(num_samples):\n",
    "            img_idx = class_idx * num_samples + sample_idx\n",
    "            axs[sample_idx + 1, class_idx].imshow(gen_imgs[img_idx, :, :, 0], cmap='gray', aspect='equal')\n",
    "            axs[sample_idx + 1, class_idx].set_xticks([])\n",
    "            axs[sample_idx + 1, class_idx].set_yticks([])\n",
    "            axs[sample_idx + 1, class_idx].set_frame_on(False)\n",
    "\n",
    "    plt.tight_layout(pad=0.2)\n",
    "    os.makedirs(save_dir, exist_ok=True)\n",
    "    plt.savefig(f\"{save_dir}/{file_name}.png\", bbox_inches='tight', dpi=120, pad_inches=0.01)\n",
    "    plt.close()  # Important: close the figure to free memory"
   ]
  },
  {
   "cell_type": "code",
   "execution_count": null,
   "id": "88592735",
   "metadata": {},
   "outputs": [],
   "source": [
    "# Generate 160 images for the base model\n",
    "submission_images(file_name='base_160_images')"
   ]
  },
  {
   "cell_type": "markdown",
   "id": "606b370b",
   "metadata": {},
   "source": [
    "# EMNIST Classifier Model to Seperate Upper and Lower Case Images"
   ]
  },
  {
   "cell_type": "code",
   "execution_count": null,
   "id": "75f1bd23",
   "metadata": {},
   "outputs": [],
   "source": [
    "from tensorflow.keras.models import load_model\n",
    "\n",
    "model = load_model('./EMNIST Classifier/emnist_letter_classifier.h5')"
   ]
  },
  {
   "cell_type": "code",
   "execution_count": null,
   "id": "42d96e39",
   "metadata": {},
   "outputs": [],
   "source": [
    "# Predict letters for all images in final_images using the trained model\n",
    "pred_probs = model.predict(final_images, batch_size=128, verbose=1)\n",
    "predicted_labels = np.argmax(pred_probs, axis=1)\n",
    "\n",
    "# Map numeric labels to characters using the SAME mapping as training\n",
    "# Training uses: 0-25 for A-Z, 26-51 for a-z\n",
    "def model_label_to_char(label):\n",
    "    if label < 26:\n",
    "        return chr(label + ord('A'))  # 0='A', 1='B', ..., 25='Z'\n",
    "    else:\n",
    "        return chr(label - 26 + ord('a'))  # 26='a', 27='b', ..., 51='z'\n",
    "\n",
    "# Map EMNIST CSV labels to characters (for ground truth)\n",
    "def csv_label_to_char(label):\n",
    "    return chr(label + 64)  # EMNIST Letters: 1='A', 2='B', ..., 26='Z'\n",
    "\n",
    "# Example: show predictions for the first 10 samples\n",
    "for i in range(10):\n",
    "    true_char = csv_label_to_char(final_labels[i])\n",
    "    pred_char = model_label_to_char(predicted_labels[i])\n",
    "    confidence = np.max(pred_probs[i])\n",
    "    print(f\"Sample {i+1}: True: {true_char} | Predicted: {pred_char} (confidence: {confidence:.3f})\")"
   ]
  },
  {
   "cell_type": "markdown",
   "id": "4e9bbd4b",
   "metadata": {},
   "source": [
    "## Check Classifications"
   ]
  },
  {
   "cell_type": "code",
   "execution_count": null,
   "id": "4247a1e3",
   "metadata": {},
   "outputs": [],
   "source": [
    "# Let's visualize some samples to check if the preprocessing is correct\n",
    "plt.figure(figsize=(15, 10))\n",
    "\n",
    "# Show first 5 samples of each class\n",
    "sample_classes = [1, 2, 4, 5, 6]  # A, B, D, E, F\n",
    "for i, class_label in enumerate(sample_classes):\n",
    "    class_indices = np.where(final_labels == class_label)[0][:5]\n",
    "    \n",
    "    for j, idx in enumerate(class_indices):\n",
    "        plt.subplot(len(sample_classes), 5, i * 5 + j + 1)\n",
    "        plt.imshow(final_images[idx].squeeze(), cmap='gray')\n",
    "        true_char = csv_label_to_char(final_labels[idx])\n",
    "        pred_char = model_label_to_char(predicted_labels[idx])\n",
    "        plt.title(f'True: {true_char}\\nPred: {pred_char}', fontsize=8)\n",
    "        plt.axis('off')\n",
    "\n",
    "plt.tight_layout()\n",
    "plt.show()\n",
    "\n",
    "# Let's also check the range of pixel values\n",
    "print(f\"Image pixel range: [{final_images.min():.3f}, {final_images.max():.3f}]\")\n",
    "print(f\"Image shape: {final_images.shape}\")\n",
    "print(f\"Image dtype: {final_images.dtype}\")"
   ]
  },
  {
   "cell_type": "markdown",
   "id": "7eeb765a",
   "metadata": {},
   "source": [
    "## EDA on Upper vs Lower Case Images"
   ]
  },
  {
   "cell_type": "code",
   "execution_count": null,
   "id": "ff862a38",
   "metadata": {},
   "outputs": [],
   "source": [
    "# Store uppercase images and labels\n",
    "uppercase_pred_mask = (predicted_labels >= 0) & (predicted_labels <= 25)\n",
    "uppercase_images = final_images[uppercase_pred_mask]\n",
    "uppercase_labels = final_labels[uppercase_pred_mask]\n",
    "\n",
    "# Store lowercase images and labels\n",
    "lowercase_pred_mask = (predicted_labels >= 26) & (predicted_labels <= 51)\n",
    "lowercase_images = final_images[lowercase_pred_mask]\n",
    "lowercase_labels = predicted_labels[lowercase_pred_mask]\n",
    "\n",
    "print(f\"Uppercase images: {uppercase_images.shape}, Uppercase labels: {uppercase_labels.shape}\")\n",
    "print(f\"Lowercase images: {lowercase_images.shape}, Lowercase labels: {lowercase_labels.shape}\")"
   ]
  },
  {
   "cell_type": "code",
   "execution_count": null,
   "id": "bb286964",
   "metadata": {},
   "outputs": [],
   "source": [
    "# Calculate unique labels and counts for uppercase and lowercase\n",
    "unique_uppercase_labels, uppercase_counts = np.unique(uppercase_labels, return_counts=True)\n",
    "unique_lowercase_labels, lowercase_counts = np.unique(lowercase_labels, return_counts=True)\n",
    "\n",
    "# Uppercase class distribution\n",
    "plt.figure(figsize=(10, 4))\n",
    "plt.bar(unique_uppercase_labels, uppercase_counts, color='skyblue')\n",
    "plt.title('Uppercase Class Distribution')\n",
    "plt.xlabel('Class Label (A-Z)')\n",
    "plt.ylabel('Count')\n",
    "plt.xticks(unique_uppercase_labels, [chr(l + 64) for l in unique_uppercase_labels])\n",
    "plt.show()\n",
    "\n",
    "# Lowercase class distribution\n",
    "plt.figure(figsize=(10, 4))\n",
    "plt.bar(unique_lowercase_labels, lowercase_counts, color='salmon')\n",
    "plt.title('Lowercase Class Distribution')\n",
    "plt.xlabel('Class Label (a-z)')\n",
    "plt.ylabel('Count')\n",
    "plt.xticks(\n",
    "  unique_lowercase_labels,\n",
    "  [chr(l - 26 + ord('a')) for l in unique_lowercase_labels]\n",
    ")\n",
    "plt.show()"
   ]
  },
  {
   "cell_type": "code",
   "execution_count": null,
   "id": "e13d9aee",
   "metadata": {},
   "outputs": [],
   "source": [
    "# Selected lowercase letters: a, b, d, e, f, g, i, j, l, n, o, p, q, t, x, z\n",
    "selected_lowercase_letters = ['a', 'b', 'd', 'e', 'f', 'g', 'i', 'j', 'l', 'n', 'o', 'p', 'q', 't', 'x', 'z']\n",
    "selected_lowercase_labels = [ord(c) - ord('a') + 26 for c in selected_lowercase_letters]\n",
    "\n",
    "# Filter lowercase images and labels for selected classes\n",
    "mask = np.isin(lowercase_labels, selected_lowercase_labels)\n",
    "filtered_lowercase_images = lowercase_images[mask]\n",
    "filtered_lowercase_labels = lowercase_labels[mask]\n",
    "\n",
    "print(f\"Filtered lowercase images shape: {filtered_lowercase_images.shape}\")\n",
    "print(f\"Filtered lowercase labels shape: {filtered_lowercase_labels.shape}\")\n",
    "print(f\"Unique filtered lowercase labels: {np.unique(filtered_lowercase_labels)}\")"
   ]
  },
  {
   "cell_type": "code",
   "execution_count": null,
   "id": "5827ab17",
   "metadata": {},
   "outputs": [],
   "source": [
    "fig, ax = plt.subplots(figsize=(14, 6))\n",
    "\n",
    "# Shift bars slightly for clarity\n",
    "bar_width = 0.4\n",
    "x_upper = np.arange(len(unique_uppercase_labels))\n",
    "x_lower = x_upper + bar_width  # offset for lowercase bars\n",
    "\n",
    "# Compute filtered_lowercase_counts aligned to unique_uppercase_labels\n",
    "filtered_lowercase_counts = []\n",
    "for label in unique_uppercase_labels:\n",
    "\tcount = np.sum(filtered_lowercase_labels == (label + 25))  # lowercase label = uppercase label + 25\n",
    "\tfiltered_lowercase_counts.append(count)\n",
    "filtered_lowercase_counts = np.array(filtered_lowercase_counts)\n",
    "\n",
    "# Plot uppercase\n",
    "ax.bar(x_upper, uppercase_counts, width=bar_width, label='Uppercase', color='skyblue')\n",
    "\n",
    "# Plot lowercase\n",
    "ax.bar(x_lower, filtered_lowercase_counts, width=bar_width, label='Lowercase', color='salmon')\n",
    "\n",
    "# X-axis labels (centered between pairs)\n",
    "midpoints = x_upper + bar_width / 2\n",
    "ax.set_xticks(midpoints)\n",
    "ax.set_xticklabels([chr(l + 64) for l in unique_uppercase_labels])\n",
    "\n",
    "# Labels and legend\n",
    "ax.set_title('Combined Uppercase and Lowercase Class Distribution')\n",
    "ax.set_xlabel('Class Label')\n",
    "ax.set_ylabel('Count')\n",
    "ax.legend()\n",
    "ax.grid(axis='y', linestyle='--', alpha=0.5)\n",
    "\n",
    "plt.tight_layout()\n",
    "plt.show()\n"
   ]
  },
  {
   "cell_type": "code",
   "execution_count": null,
   "id": "c2a53cf3",
   "metadata": {},
   "outputs": [],
   "source": [
    "# Show first 10 uppercase images with their labels\n",
    "plt.figure(figsize=(15, 2))\n",
    "for i in range(10):\n",
    "  plt.subplot(1, 10, i + 1)\n",
    "  plt.imshow(uppercase_images[i].squeeze(), cmap='gray')\n",
    "  plt.title(f'Label: {chr(uppercase_labels[i] + 64)}', fontsize=8)\n",
    "  plt.axis('off')\n",
    "plt.tight_layout()\n",
    "plt.show()"
   ]
  },
  {
   "cell_type": "markdown",
   "id": "654141c2",
   "metadata": {},
   "source": [
    "# Uppercase CGAN Model"
   ]
  },
  {
   "cell_type": "markdown",
   "id": "2c3e1a4b",
   "metadata": {},
   "source": [
    "## Label Mapping"
   ]
  },
  {
   "cell_type": "code",
   "execution_count": null,
   "id": "b1636549",
   "metadata": {},
   "outputs": [],
   "source": [
    "# Map uppercase_labels (EMNIST: 1,2,4,...) to 0-15 using label_mapping\n",
    "uppercase_labels_mapped = np.array([label_mapping[label] for label in uppercase_labels])\n",
    "print(\"Mapped uppercase labels shape:\", uppercase_labels_mapped.shape)\n",
    "print(\"Unique mapped uppercase labels:\", np.unique(uppercase_labels_mapped))"
   ]
  },
  {
   "cell_type": "markdown",
   "id": "0fe86074",
   "metadata": {},
   "source": [
    "## Reset Model and Train on Uppercase Dataset"
   ]
  },
  {
   "cell_type": "code",
   "execution_count": null,
   "id": "feaa0eb6",
   "metadata": {},
   "outputs": [],
   "source": [
    "# Reset models\n",
    "generator = build_generator(latent_dim=100, num_classes=16)\n",
    "discriminator = build_discriminator(img_shape=(28, 28, 1), num_classes=16)\n",
    "\n",
    "# Compile discriminator\n",
    "discriminator.compile(\n",
    "    optimizer=optimizers.Adam(0.0002, 0.5),\n",
    "    loss='binary_crossentropy',\n",
    "    metrics=['accuracy']\n",
    ")\n",
    "\n",
    "# Rebuild combined GAN\n",
    "discriminator.trainable = False\n",
    "noise = layers.Input(shape=(100,))\n",
    "label = layers.Input(shape=(1,))\n",
    "generated_img = generator([noise, label])\n",
    "validity = discriminator([generated_img, label])\n",
    "gan = models.Model([noise, label], validity)\n",
    "gan.compile(\n",
    "    optimizer=optimizers.Adam(0.0002, 0.5),\n",
    "    loss='binary_crossentropy'\n",
    ")\n"
   ]
  },
  {
   "cell_type": "code",
   "execution_count": null,
   "id": "4080070b",
   "metadata": {},
   "outputs": [],
   "source": [
    "# Check if training data is ready for uppercase model\n",
    "print(\"Uppercase training data summary:\")\n",
    "print(f\"Images shape: {uppercase_images.shape}\")\n",
    "print(f\"Labels shape: {uppercase_labels_mapped.shape}\")\n",
    "print(f\"Image pixel range: [{uppercase_images.min():.3f}, {uppercase_images.max():.3f}]\")\n",
    "print(f\"Unique labels: {np.unique(uppercase_labels_mapped)}\")\n",
    "\n",
    "# Train the uppercase model \n",
    "train_gan(\n",
    "  epochs=20001,\n",
    "  batch_size=64,\n",
    "  sample_interval=500,\n",
    "  X_train=uppercase_images,\n",
    "  y_train=uppercase_labels_mapped,\n",
    "  save_dir=\"uppercase_images_samples\",\n",
    "  model_type='uppercase'\n",
    ")"
   ]
  },
  {
   "cell_type": "code",
   "execution_count": null,
   "id": "65f17548",
   "metadata": {},
   "outputs": [],
   "source": [
    "# Generate 160 submission images for uppercase model\n",
    "submission_images(file_name='uppercase_160_images')"
   ]
  }
 ],
 "metadata": {
  "kernelspec": {
   "display_name": "gpu_env",
   "language": "python",
   "name": "python3"
  },
  "language_info": {
   "codemirror_mode": {
    "name": "ipython",
    "version": 3
   },
   "file_extension": ".py",
   "mimetype": "text/x-python",
   "name": "python",
   "nbconvert_exporter": "python",
   "pygments_lexer": "ipython3",
   "version": "3.8.20"
  }
 },
 "nbformat": 4,
 "nbformat_minor": 5
}
