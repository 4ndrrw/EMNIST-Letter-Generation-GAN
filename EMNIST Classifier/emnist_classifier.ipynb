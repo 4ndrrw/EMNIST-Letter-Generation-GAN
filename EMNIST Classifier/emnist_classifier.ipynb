{
 "cells": [
  {
   "cell_type": "code",
   "execution_count": 13,
   "id": "613dc0d9",
   "metadata": {},
   "outputs": [
    {
     "ename": "FileNotFoundError",
     "evalue": "[Errno 2] No such file or directory: 'emnist-byclass.mat'",
     "output_type": "error",
     "traceback": [
      "\u001b[1;31m---------------------------------------------------------------------------\u001b[0m",
      "\u001b[1;31mFileNotFoundError\u001b[0m                         Traceback (most recent call last)",
      "File \u001b[1;32mc:\\Users\\andre\\anaconda3\\envs\\gpu_env\\lib\\site-packages\\scipy\\io\\matlab\\_mio.py:39\u001b[0m, in \u001b[0;36m_open_file\u001b[1;34m(file_like, appendmat, mode)\u001b[0m\n\u001b[0;32m     38\u001b[0m \u001b[38;5;28;01mtry\u001b[39;00m:\n\u001b[1;32m---> 39\u001b[0m     \u001b[38;5;28;01mreturn\u001b[39;00m \u001b[38;5;28;43mopen\u001b[39;49m\u001b[43m(\u001b[49m\u001b[43mfile_like\u001b[49m\u001b[43m,\u001b[49m\u001b[43m \u001b[49m\u001b[43mmode\u001b[49m\u001b[43m)\u001b[49m, \u001b[38;5;28;01mTrue\u001b[39;00m\n\u001b[0;32m     40\u001b[0m \u001b[38;5;28;01mexcept\u001b[39;00m \u001b[38;5;167;01mOSError\u001b[39;00m \u001b[38;5;28;01mas\u001b[39;00m e:\n\u001b[0;32m     41\u001b[0m     \u001b[38;5;66;03m# Probably \"not found\"\u001b[39;00m\n",
      "\u001b[1;31mFileNotFoundError\u001b[0m: [Errno 2] No such file or directory: 'emnist-byclass.mat'",
      "\nDuring handling of the above exception, another exception occurred:\n",
      "\u001b[1;31mFileNotFoundError\u001b[0m                         Traceback (most recent call last)",
      "Cell \u001b[1;32mIn[13], line 55\u001b[0m\n\u001b[0;32m     52\u001b[0m     \u001b[38;5;28;01mreturn\u001b[39;00m x_train, y_train, x_test, y_test\n\u001b[0;32m     54\u001b[0m \u001b[38;5;66;03m# Call function to load filtered EMNIST letters\u001b[39;00m\n\u001b[1;32m---> 55\u001b[0m x_train, y_train, x_test, y_test \u001b[38;5;241m=\u001b[39m \u001b[43mload_emnist_byclass\u001b[49m\u001b[43m(\u001b[49m\u001b[43m)\u001b[49m\n\u001b[0;32m     56\u001b[0m \u001b[38;5;28mprint\u001b[39m(\u001b[38;5;124mf\u001b[39m\u001b[38;5;124m\"\u001b[39m\u001b[38;5;124mTrain shape: \u001b[39m\u001b[38;5;132;01m{\u001b[39;00mx_train\u001b[38;5;241m.\u001b[39mshape\u001b[38;5;132;01m}\u001b[39;00m\u001b[38;5;124m, Train labels shape: \u001b[39m\u001b[38;5;132;01m{\u001b[39;00my_train\u001b[38;5;241m.\u001b[39mshape\u001b[38;5;132;01m}\u001b[39;00m\u001b[38;5;124m\"\u001b[39m)\n\u001b[0;32m     57\u001b[0m \u001b[38;5;28mprint\u001b[39m(\u001b[38;5;124mf\u001b[39m\u001b[38;5;124m\"\u001b[39m\u001b[38;5;124mTest shape: \u001b[39m\u001b[38;5;132;01m{\u001b[39;00mx_test\u001b[38;5;241m.\u001b[39mshape\u001b[38;5;132;01m}\u001b[39;00m\u001b[38;5;124m, Test labels shape: \u001b[39m\u001b[38;5;132;01m{\u001b[39;00my_test\u001b[38;5;241m.\u001b[39mshape\u001b[38;5;132;01m}\u001b[39;00m\u001b[38;5;124m\"\u001b[39m)\n",
      "Cell \u001b[1;32mIn[13], line 5\u001b[0m, in \u001b[0;36mload_emnist_byclass\u001b[1;34m(path)\u001b[0m\n\u001b[0;32m      4\u001b[0m \u001b[38;5;28;01mdef\u001b[39;00m \u001b[38;5;21mload_emnist_byclass\u001b[39m(path\u001b[38;5;241m=\u001b[39m\u001b[38;5;124m'\u001b[39m\u001b[38;5;124memnist-byclass.mat\u001b[39m\u001b[38;5;124m'\u001b[39m):\n\u001b[1;32m----> 5\u001b[0m     mat \u001b[38;5;241m=\u001b[39m \u001b[43mscipy\u001b[49m\u001b[38;5;241;43m.\u001b[39;49m\u001b[43mio\u001b[49m\u001b[38;5;241;43m.\u001b[39;49m\u001b[43mloadmat\u001b[49m\u001b[43m(\u001b[49m\u001b[43mpath\u001b[49m\u001b[43m)\u001b[49m\n\u001b[0;32m      6\u001b[0m     data \u001b[38;5;241m=\u001b[39m mat[\u001b[38;5;124m'\u001b[39m\u001b[38;5;124mdataset\u001b[39m\u001b[38;5;124m'\u001b[39m]\n\u001b[0;32m      8\u001b[0m     x_train \u001b[38;5;241m=\u001b[39m data[\u001b[38;5;124m'\u001b[39m\u001b[38;5;124mtrain\u001b[39m\u001b[38;5;124m'\u001b[39m][\u001b[38;5;241m0\u001b[39m,\u001b[38;5;241m0\u001b[39m][\u001b[38;5;124m'\u001b[39m\u001b[38;5;124mimages\u001b[39m\u001b[38;5;124m'\u001b[39m][\u001b[38;5;241m0\u001b[39m,\u001b[38;5;241m0\u001b[39m]\n",
      "File \u001b[1;32mc:\\Users\\andre\\anaconda3\\envs\\gpu_env\\lib\\site-packages\\scipy\\io\\matlab\\_mio.py:225\u001b[0m, in \u001b[0;36mloadmat\u001b[1;34m(file_name, mdict, appendmat, **kwargs)\u001b[0m\n\u001b[0;32m     88\u001b[0m \u001b[38;5;250m\u001b[39m\u001b[38;5;124;03m\"\"\"\u001b[39;00m\n\u001b[0;32m     89\u001b[0m \u001b[38;5;124;03mLoad MATLAB file.\u001b[39;00m\n\u001b[0;32m     90\u001b[0m \n\u001b[1;32m   (...)\u001b[0m\n\u001b[0;32m    222\u001b[0m \u001b[38;5;124;03m    3.14159265+3.14159265j])\u001b[39;00m\n\u001b[0;32m    223\u001b[0m \u001b[38;5;124;03m\"\"\"\u001b[39;00m\n\u001b[0;32m    224\u001b[0m variable_names \u001b[38;5;241m=\u001b[39m kwargs\u001b[38;5;241m.\u001b[39mpop(\u001b[38;5;124m'\u001b[39m\u001b[38;5;124mvariable_names\u001b[39m\u001b[38;5;124m'\u001b[39m, \u001b[38;5;28;01mNone\u001b[39;00m)\n\u001b[1;32m--> 225\u001b[0m \u001b[38;5;28;01mwith\u001b[39;00m _open_file_context(file_name, appendmat) \u001b[38;5;28;01mas\u001b[39;00m f:\n\u001b[0;32m    226\u001b[0m     MR, _ \u001b[38;5;241m=\u001b[39m mat_reader_factory(f, \u001b[38;5;241m*\u001b[39m\u001b[38;5;241m*\u001b[39mkwargs)\n\u001b[0;32m    227\u001b[0m     matfile_dict \u001b[38;5;241m=\u001b[39m MR\u001b[38;5;241m.\u001b[39mget_variables(variable_names)\n",
      "File \u001b[1;32mc:\\Users\\andre\\anaconda3\\envs\\gpu_env\\lib\\contextlib.py:113\u001b[0m, in \u001b[0;36m_GeneratorContextManager.__enter__\u001b[1;34m(self)\u001b[0m\n\u001b[0;32m    111\u001b[0m \u001b[38;5;28;01mdel\u001b[39;00m \u001b[38;5;28mself\u001b[39m\u001b[38;5;241m.\u001b[39margs, \u001b[38;5;28mself\u001b[39m\u001b[38;5;241m.\u001b[39mkwds, \u001b[38;5;28mself\u001b[39m\u001b[38;5;241m.\u001b[39mfunc\n\u001b[0;32m    112\u001b[0m \u001b[38;5;28;01mtry\u001b[39;00m:\n\u001b[1;32m--> 113\u001b[0m     \u001b[38;5;28;01mreturn\u001b[39;00m \u001b[38;5;28;43mnext\u001b[39;49m\u001b[43m(\u001b[49m\u001b[38;5;28;43mself\u001b[39;49m\u001b[38;5;241;43m.\u001b[39;49m\u001b[43mgen\u001b[49m\u001b[43m)\u001b[49m\n\u001b[0;32m    114\u001b[0m \u001b[38;5;28;01mexcept\u001b[39;00m \u001b[38;5;167;01mStopIteration\u001b[39;00m:\n\u001b[0;32m    115\u001b[0m     \u001b[38;5;28;01mraise\u001b[39;00m \u001b[38;5;167;01mRuntimeError\u001b[39;00m(\u001b[38;5;124m\"\u001b[39m\u001b[38;5;124mgenerator didn\u001b[39m\u001b[38;5;124m'\u001b[39m\u001b[38;5;124mt yield\u001b[39m\u001b[38;5;124m\"\u001b[39m) \u001b[38;5;28;01mfrom\u001b[39;00m \u001b[38;5;28;01mNone\u001b[39;00m\n",
      "File \u001b[1;32mc:\\Users\\andre\\anaconda3\\envs\\gpu_env\\lib\\site-packages\\scipy\\io\\matlab\\_mio.py:17\u001b[0m, in \u001b[0;36m_open_file_context\u001b[1;34m(file_like, appendmat, mode)\u001b[0m\n\u001b[0;32m     15\u001b[0m \u001b[38;5;129m@contextmanager\u001b[39m\n\u001b[0;32m     16\u001b[0m \u001b[38;5;28;01mdef\u001b[39;00m \u001b[38;5;21m_open_file_context\u001b[39m(file_like, appendmat, mode\u001b[38;5;241m=\u001b[39m\u001b[38;5;124m'\u001b[39m\u001b[38;5;124mrb\u001b[39m\u001b[38;5;124m'\u001b[39m):\n\u001b[1;32m---> 17\u001b[0m     f, opened \u001b[38;5;241m=\u001b[39m \u001b[43m_open_file\u001b[49m\u001b[43m(\u001b[49m\u001b[43mfile_like\u001b[49m\u001b[43m,\u001b[49m\u001b[43m \u001b[49m\u001b[43mappendmat\u001b[49m\u001b[43m,\u001b[49m\u001b[43m \u001b[49m\u001b[43mmode\u001b[49m\u001b[43m)\u001b[49m\n\u001b[0;32m     18\u001b[0m     \u001b[38;5;28;01mtry\u001b[39;00m:\n\u001b[0;32m     19\u001b[0m         \u001b[38;5;28;01myield\u001b[39;00m f\n",
      "File \u001b[1;32mc:\\Users\\andre\\anaconda3\\envs\\gpu_env\\lib\\site-packages\\scipy\\io\\matlab\\_mio.py:45\u001b[0m, in \u001b[0;36m_open_file\u001b[1;34m(file_like, appendmat, mode)\u001b[0m\n\u001b[0;32m     43\u001b[0m     \u001b[38;5;28;01mif\u001b[39;00m appendmat \u001b[38;5;129;01mand\u001b[39;00m \u001b[38;5;129;01mnot\u001b[39;00m file_like\u001b[38;5;241m.\u001b[39mendswith(\u001b[38;5;124m'\u001b[39m\u001b[38;5;124m.mat\u001b[39m\u001b[38;5;124m'\u001b[39m):\n\u001b[0;32m     44\u001b[0m         file_like \u001b[38;5;241m+\u001b[39m\u001b[38;5;241m=\u001b[39m \u001b[38;5;124m'\u001b[39m\u001b[38;5;124m.mat\u001b[39m\u001b[38;5;124m'\u001b[39m\n\u001b[1;32m---> 45\u001b[0m     \u001b[38;5;28;01mreturn\u001b[39;00m \u001b[38;5;28;43mopen\u001b[39;49m\u001b[43m(\u001b[49m\u001b[43mfile_like\u001b[49m\u001b[43m,\u001b[49m\u001b[43m \u001b[49m\u001b[43mmode\u001b[49m\u001b[43m)\u001b[49m, \u001b[38;5;28;01mTrue\u001b[39;00m\n\u001b[0;32m     46\u001b[0m \u001b[38;5;28;01melse\u001b[39;00m:\n\u001b[0;32m     47\u001b[0m     \u001b[38;5;28;01mraise\u001b[39;00m \u001b[38;5;167;01mOSError\u001b[39;00m(\n\u001b[0;32m     48\u001b[0m         \u001b[38;5;124m'\u001b[39m\u001b[38;5;124mReader needs file name or open file-like object\u001b[39m\u001b[38;5;124m'\u001b[39m\n\u001b[0;32m     49\u001b[0m     ) \u001b[38;5;28;01mfrom\u001b[39;00m \u001b[38;5;21;01me\u001b[39;00m\n",
      "\u001b[1;31mFileNotFoundError\u001b[0m: [Errno 2] No such file or directory: 'emnist-byclass.mat'"
     ]
    }
   ],
   "source": [
    "import scipy.io\n",
    "import numpy as np\n",
    "\n",
    "def load_emnist_byclass(path='emnist-byclass.mat'):\n",
    "    mat = scipy.io.loadmat(path)\n",
    "    data = mat['dataset']\n",
    "\n",
    "    x_train = data['train'][0,0]['images'][0,0]\n",
    "    y_train = data['train'][0,0]['labels'][0,0].flatten()\n",
    "\n",
    "    x_test = data['test'][0,0]['images'][0,0]\n",
    "    y_test = data['test'][0,0]['labels'][0,0].flatten()\n",
    "\n",
    "    # Reshape images to 28x28 and transpose (order='F')\n",
    "    x_train = x_train.reshape((-1, 28, 28), order='F').astype(np.uint8)\n",
    "    x_test = x_test.reshape((-1, 28, 28), order='F').astype(np.uint8)\n",
    "\n",
    "    # Get label mapping (index to ASCII)\n",
    "    label_map = data['mapping'][0,0]\n",
    "\n",
    "    # Find indices for letters only (A-Z or a-z)\n",
    "    letter_indices = np.where(\n",
    "        ((label_map[:, 1] >= 65) & (label_map[:, 1] <= 90)) |  # A-Z\n",
    "        ((label_map[:, 1] >= 97) & (label_map[:, 1] <= 122))   # a-z\n",
    "    )[0]\n",
    "\n",
    "    allowed_labels = label_map[letter_indices, 0]\n",
    "\n",
    "    # Create a remapping dict: old_label -> new_label (0..51)\n",
    "    new_label_map = {old: i for i, old in enumerate(allowed_labels)}\n",
    "\n",
    "    # Filter train set to letters only\n",
    "    train_filter = np.isin(y_train, allowed_labels)\n",
    "    x_train = x_train[train_filter]\n",
    "    y_train = y_train[train_filter]\n",
    "    y_train = np.vectorize(lambda l: new_label_map[l])(y_train)\n",
    "\n",
    "    # Filter test set to letters only\n",
    "    test_filter = np.isin(y_test, allowed_labels)\n",
    "    x_test = x_test[test_filter]\n",
    "    y_test = y_test[test_filter]\n",
    "    y_test = np.vectorize(lambda l: new_label_map[l])(y_test)\n",
    "\n",
    "    # Normalize pixel values to [0, 1]\n",
    "    x_train = x_train.astype('float32') / 255.0\n",
    "    x_test = x_test.astype('float32') / 255.0\n",
    "\n",
    "    # Add channel dimension for CNN: (N, 28, 28, 1)\n",
    "    x_train = np.expand_dims(x_train, axis=-1)\n",
    "    x_test = np.expand_dims(x_test, axis=-1)\n",
    "\n",
    "    return x_train, y_train, x_test, y_test\n",
    "\n",
    "# Call function to load filtered EMNIST letters\n",
    "x_train, y_train, x_test, y_test = load_emnist_byclass()\n",
    "print(f\"Train shape: {x_train.shape}, Train labels shape: {y_train.shape}\")\n",
    "print(f\"Test shape: {x_test.shape}, Test labels shape: {y_test.shape}\")\n"
   ]
  },
  {
   "cell_type": "code",
   "execution_count": 16,
   "id": "39271a12",
   "metadata": {},
   "outputs": [
    {
     "ename": "NameError",
     "evalue": "name 'x_train' is not defined",
     "output_type": "error",
     "traceback": [
      "\u001b[1;31m---------------------------------------------------------------------------\u001b[0m",
      "\u001b[1;31mNameError\u001b[0m                                 Traceback (most recent call last)",
      "Cell \u001b[1;32mIn[16], line 24\u001b[0m\n\u001b[0;32m     21\u001b[0m     plt\u001b[38;5;241m.\u001b[39mshow()\n\u001b[0;32m     23\u001b[0m \u001b[38;5;66;03m# Example usage\u001b[39;00m\n\u001b[1;32m---> 24\u001b[0m show_samples(\u001b[43mx_train\u001b[49m, y_train)\n",
      "\u001b[1;31mNameError\u001b[0m: name 'x_train' is not defined"
     ]
    }
   ],
   "source": [
    "import matplotlib.pyplot as plt\n",
    "import numpy as np\n",
    "\n",
    "# Map numeric labels (0-51) to characters a-z and A-Z\n",
    "def label_to_char(label):\n",
    "    if label < 26:\n",
    "        return chr(label + ord('A'))\n",
    "    else:\n",
    "        return chr(label - 26 + ord('a'))\n",
    "\n",
    "def show_samples(images, labels, num_samples=25):\n",
    "    plt.figure(figsize=(8, 8))\n",
    "    indices = np.random.choice(len(images), num_samples, replace=False)\n",
    "    \n",
    "    for i, idx in enumerate(indices):\n",
    "        plt.subplot(5, 5, i+1)\n",
    "        plt.imshow(images[idx].squeeze(), cmap='gray')\n",
    "        plt.title(label_to_char(labels[idx]))\n",
    "        plt.axis('off')\n",
    "    plt.tight_layout()\n",
    "    plt.show()\n",
    "\n",
    "# Example usage\n",
    "show_samples(x_train, y_train)\n"
   ]
  },
  {
   "cell_type": "code",
   "execution_count": null,
   "id": "c8108c78",
   "metadata": {},
   "outputs": [
    {
     "name": "stdout",
     "output_type": "stream",
     "text": [
      "Epoch 1/10\n",
      "5515/5515 [==============================] - 61s 10ms/step - loss: 0.5675 - accuracy: 0.8115 - val_loss: 0.4058 - val_accuracy: 0.8481\n",
      "Epoch 2/10\n",
      "5515/5515 [==============================] - 56s 10ms/step - loss: 0.4334 - accuracy: 0.8453 - val_loss: 0.3753 - val_accuracy: 0.8592\n",
      "Epoch 3/10\n",
      "5515/5515 [==============================] - 55s 10ms/step - loss: 0.4037 - accuracy: 0.8533 - val_loss: 0.3578 - val_accuracy: 0.8668\n",
      "Epoch 4/10\n",
      "5515/5515 [==============================] - 55s 10ms/step - loss: 0.3870 - accuracy: 0.8579 - val_loss: 0.3538 - val_accuracy: 0.8672\n",
      "Epoch 5/10\n",
      "5515/5515 [==============================] - 56s 10ms/step - loss: 0.3741 - accuracy: 0.8614 - val_loss: 0.3509 - val_accuracy: 0.8671\n",
      "Epoch 6/10\n",
      "5515/5515 [==============================] - 56s 10ms/step - loss: 0.3632 - accuracy: 0.8649 - val_loss: 0.3429 - val_accuracy: 0.8723\n",
      "Epoch 7/10\n",
      "5515/5515 [==============================] - 57s 10ms/step - loss: 0.3563 - accuracy: 0.8667 - val_loss: 0.3487 - val_accuracy: 0.8681\n",
      "Epoch 8/10\n",
      "5515/5515 [==============================] - 57s 10ms/step - loss: 0.3475 - accuracy: 0.8694 - val_loss: 0.3461 - val_accuracy: 0.8671\n",
      "Epoch 9/10\n",
      "5515/5515 [==============================] - 57s 10ms/step - loss: 0.3422 - accuracy: 0.8706 - val_loss: 0.3325 - val_accuracy: 0.8727\n",
      "Epoch 10/10\n",
      "5515/5515 [==============================] - 57s 10ms/step - loss: 0.3373 - accuracy: 0.8726 - val_loss: 0.3355 - val_accuracy: 0.8724\n"
     ]
    }
   ],
   "source": [
    "from tensorflow.keras import layers, models\n",
    "\n",
    "def build_letter_classifier():\n",
    "    model = models.Sequential([\n",
    "        layers.Input(shape=(28, 28, 1)),\n",
    "\n",
    "        layers.Conv2D(64, (3, 3), activation='relu', padding='same'),\n",
    "        layers.BatchNormalization(),\n",
    "        layers.Conv2D(64, (3, 3), activation='relu', padding='same'),\n",
    "        layers.BatchNormalization(),\n",
    "        layers.MaxPooling2D((2, 2)),\n",
    "        layers.Dropout(0.25),\n",
    "\n",
    "        layers.Conv2D(128, (3, 3), activation='relu', padding='same'),\n",
    "        layers.BatchNormalization(),\n",
    "        layers.Conv2D(128, (3, 3), activation='relu', padding='same'),\n",
    "        layers.BatchNormalization(),\n",
    "        layers.MaxPooling2D((2, 2)),\n",
    "        layers.Dropout(0.25),\n",
    "\n",
    "        layers.Flatten(),\n",
    "        layers.Dense(256, activation='relu'),\n",
    "        layers.BatchNormalization(),\n",
    "        layers.Dropout(0.5),\n",
    "        layers.Dense(52, activation='softmax')\n",
    "    ])\n",
    "\n",
    "    model.compile(optimizer='adam',\n",
    "                  loss='sparse_categorical_crossentropy',\n",
    "                  metrics=['accuracy'])\n",
    "    return model\n",
    "\n",
    "# Build the model\n",
    "model = build_letter_classifier()\n",
    "\n",
    "# Train the model\n",
    "history = model.fit(\n",
    "    x_train, y_train,\n",
    "    validation_data=(x_test, y_test),\n",
    "    epochs=10,\n",
    "    batch_size=64\n",
    ")"
   ]
  },
  {
   "cell_type": "code",
   "execution_count": null,
   "id": "a308d778",
   "metadata": {},
   "outputs": [
    {
     "name": "stdout",
     "output_type": "stream",
     "text": [
      "1826/1826 - 4s - loss: 0.3355 - accuracy: 0.8724 - 4s/epoch - 2ms/step\n",
      "Test accuracy: 0.8724\n",
      "1/1 [==============================] - 0s 133ms/step\n",
      "Sample 1: True: O | Predicted: O\n",
      "Sample 2: True: e | Predicted: e\n",
      "Sample 3: True: t | Predicted: t\n",
      "Sample 4: True: W | Predicted: w\n",
      "Sample 5: True: r | Predicted: r\n",
      "Sample 6: True: e | Predicted: e\n",
      "Sample 7: True: m | Predicted: M\n",
      "Sample 8: True: r | Predicted: r\n",
      "Sample 9: True: P | Predicted: P\n",
      "Sample 10: True: d | Predicted: d\n"
     ]
    }
   ],
   "source": [
    "# Evaluate on test set\n",
    "test_loss, test_acc = model.evaluate(x_test, y_test, verbose=2)\n",
    "print(f\"Test accuracy: {test_acc:.4f}\")\n",
    "\n",
    "# Predict on some test samples\n",
    "import numpy as np\n",
    "\n",
    "sample_indices = np.random.choice(len(x_test), 10, replace=False)\n",
    "sample_images = x_test[sample_indices]\n",
    "sample_labels = y_test[sample_indices]\n",
    "\n",
    "predictions = model.predict(sample_images)\n",
    "predicted_labels = np.argmax(predictions, axis=1)\n",
    "\n",
    "# Display predictions vs ground truth\n",
    "for i, idx in enumerate(sample_indices):\n",
    "    true_char = label_to_char(sample_labels[i])\n",
    "    pred_char = label_to_char(predicted_labels[i])\n",
    "    print(f\"Sample {i+1}: True: {true_char} | Predicted: {pred_char}\")\n"
   ]
  },
  {
   "cell_type": "code",
   "execution_count": null,
   "id": "6a90472e",
   "metadata": {},
   "outputs": [
    {
     "data": {
      "image/png": "[encoded data removed]",
      "text/plain": [
       "<Figure size 1200x400 with 10 Axes>"
      ]
     },
     "metadata": {},
     "output_type": "display_data"
    }
   ],
   "source": [
    "import matplotlib.pyplot as plt\n",
    "\n",
    "def plot_predictions(images, true_labels, pred_labels):\n",
    "    plt.figure(figsize=(12, 4))\n",
    "    for i in range(len(images)):\n",
    "        plt.subplot(2, 5, i+1)\n",
    "        plt.imshow(images[i].squeeze(), cmap='gray')\n",
    "        title_color = 'green' if true_labels[i] == pred_labels[i] else 'red'\n",
    "        plt.title(f\"T: {label_to_char(true_labels[i])}\\nP: {label_to_char(pred_labels[i])}\",\n",
    "                  color=title_color)\n",
    "        plt.axis('off')\n",
    "    plt.tight_layout()\n",
    "    plt.show()\n",
    "\n",
    "plot_predictions(sample_images, sample_labels, predicted_labels)\n"
   ]
  },
  {
   "cell_type": "code",
   "execution_count": null,
   "id": "f00ccf7c",
   "metadata": {},
   "outputs": [],
   "source": [
    "# Save in HDF5 format (recommended for cross-notebook use)\n",
    "model.save('emnist_letter_classifier.h5')"
   ]
  },
  {
   "cell_type": "markdown",
   "id": "a10f5288",
   "metadata": {},
   "source": [
    "# Predict on CA2 Dataset"
   ]
  },
  {
   "cell_type": "code",
   "execution_count": 48,
   "id": "69b320b8",
   "metadata": {},
   "outputs": [],
   "source": [
    "from tensorflow.keras.models import load_model\n",
    "\n",
    "model = load_model('emnist_letter_classifier.h5')"
   ]
  },
  {
   "cell_type": "code",
   "execution_count": 49,
   "id": "98a32f3a",
   "metadata": {},
   "outputs": [
    {
     "name": "stdout",
     "output_type": "stream",
     "text": [
      "Dataset shape: (64828, 785)\n"
     ]
    },
    {
     "data": {
      "application/vnd.microsoft.datawrangler.viewer.v0+json": {
       "columns": [
        {
         "name": "index",
         "rawType": "int64",
         "type": "integer"
        },
        {
         "name": "24",
         "rawType": "int64",
         "type": "integer"
        },
        {
         "name": "0",
         "rawType": "int64",
         "type": "integer"
        },
        {
         "name": "0.1",
         "rawType": "int64",
         "type": "integer"
        },
        {
         "name": "0.2",
         "rawType": "int64",
         "type": "integer"
        },
        {
         "name": "0.3",
         "rawType": "int64",
         "type": "integer"
        },
        {
         "name": "0.4",
         "rawType": "int64",
         "type": "integer"
        },
        {
         "name": "0.5",
         "rawType": "int64",
         "type": "integer"
        },
        {
         "name": "0.6",
         "rawType": "int64",
         "type": "integer"
        },
        {
         "name": "0.7",
         "rawType": "int64",
         "type": "integer"
        },
        {
         "name": "0.8",
         "rawType": "int64",
         "type": "integer"
        },
        {
         "name": "0.9",
         "rawType": "int64",
         "type": "integer"
        },
        {
         "name": "0.10",
         "rawType": "int64",
         "type": "integer"
        },
        {
         "name": "0.11",
         "rawType": "int64",
         "type": "integer"
        },
        {
         "name": "0.12",
         "rawType": "int64",
         "type": "integer"
        },
        {
         "name": "0.13",
         "rawType": "int64",
         "type": "integer"
        },
        {
         "name": "0.14",
         "rawType": "int64",
         "type": "integer"
        },
        {
         "name": "0.15",
         "rawType": "int64",
         "type": "integer"
        },
        {
         "name": "0.16",
         "rawType": "int64",
         "type": "integer"
        },
        {
         "name": "0.17",
         "rawType": "int64",
         "type": "integer"
        },
        {
         "name": "0.18",
         "rawType": "int64",
         "type": "integer"
        },
        {
         "name": "0.19",
         "rawType": "int64",
         "type": "integer"
        },
        {
         "name": "0.20",
         "rawType": "int64",
         "type": "integer"
        },
        {
         "name": "0.21",
         "rawType": "int64",
         "type": "integer"
        },
        {
         "name": "0.22",
         "rawType": "int64",
         "type": "integer"
        },
        {
         "name": "0.23",
         "rawType": "int64",
         "type": "integer"
        },
        {
         "name": "0.24",
         "rawType": "int64",
         "type": "integer"
        },
        {
         "name": "0.25",
         "rawType": "int64",
         "type": "integer"
        },
        {
         "name": "0.26",
         "rawType": "int64",
         "type": "integer"
        },
        {
         "name": "0.27",
         "rawType": "int64",
         "type": "integer"
        },
        {
         "name": "0.28",
         "rawType": "int64",
         "type": "integer"
        },
        {
         "name": "0.29",
         "rawType": "int64",
         "type": "integer"
        },
        {
         "name": "0.30",
         "rawType": "int64",
         "type": "integer"
        },
        {
         "name": "0.31",
         "rawType": "int64",
         "type": "integer"
        },
        {
         "name": "0.32",
         "rawType": "int64",
         "type": "integer"
        },
        {
         "name": "0.33",
         "rawType": "int64",
         "type": "integer"
        },
        {
         "name": "0.34",
         "rawType": "int64",
         "type": "integer"
        },
        {
         "name": "0.35",
         "rawType": "int64",
         "type": "integer"
        },
        {
         "name": "0.36",
         "rawType": "int64",
         "type": "integer"
        },
        {
         "name": "0.37",
         "rawType": "int64",
         "type": "integer"
        },
        {
         "name": "0.38",
         "rawType": "int64",
         "type": "integer"
        },
        {
         "name": "0.39",
         "rawType": "int64",
         "type": "integer"
        },
        {
         "name": "0.40",
         "rawType": "int64",
         "type": "integer"
        },
        {
         "name": "0.41",
         "rawType": "int64",
         "type": "integer"
        },
        {
         "name": "0.42",
         "rawType": "int64",
         "type": "integer"
        },
        {
         "name": "0.43",
         "rawType": "int64",
         "type": "integer"
        },
        {
         "name": "0.44",
         "rawType": "int64",
         "type": "integer"
        },
        {
         "name": "0.45",
         "rawType": "int64",
         "type": "integer"
        },
        {
         "name": "0.46",
         "rawType": "int64",
         "type": "integer"
        },
        {
         "name": "0.47",
         "rawType": "int64",
         "type": "integer"
        },
        {
         "name": "0.48",
         "rawType": "int64",
         "type": "integer"
        },
        {
         "name": "0.49",
         "rawType": "int64",
         "type": "integer"
        },
        {
         "name": "0.50",
         "rawType": "int64",
         "type": "integer"
        },
        {
         "name": "0.51",
         "rawType": "int64",
         "type": "integer"
        },
        {
         "name": "0.52",
         "rawType": "int64",
         "type": "integer"
        },
        {
         "name": "0.53",
         "rawType": "int64",
         "type": "integer"
        },
        {
         "name": "0.54",
         "rawType": "int64",
         "type": "integer"
        },
        {
         "name": "0.55",
         "rawType": "int64",
         "type": "integer"
        },
        {
         "name": "0.56",
         "rawType": "int64",
         "type": "integer"
        },
        {
         "name": "0.57",
         "rawType": "int64",
         "type": "integer"
        },
        {
         "name": "0.58",
         "rawType": "int64",
         "type": "integer"
        },
        {
         "name": "0.59",
         "rawType": "int64",
         "type": "integer"
        },
        {
         "name": "0.60",
         "rawType": "int64",
         "type": "integer"
        },
        {
         "name": "0.61",
         "rawType": "int64",
         "type": "integer"
        },
        {
         "name": "0.62",
         "rawType": "int64",
         "type": "integer"
        },
        {
         "name": "0.63",
         "rawType": "int64",
         "type": "integer"
        },
        {
         "name": "0.64",
         "rawType": "int64",
         "type": "integer"
        },
        {
         "name": "0.65",
         "rawType": "int64",
         "type": "integer"
        },
        {
         "name": "0.66",
         "rawType": "int64",
         "type": "integer"
        },
        {
         "name": "0.67",
         "rawType": "int64",
         "type": "integer"
        },
        {
         "name": "0.68",
         "rawType": "int64",
         "type": "integer"
        },
        {
         "name": "0.69",
         "rawType": "int64",
         "type": "integer"
        },
        {
         "name": "0.70",
         "rawType": "int64",
         "type": "integer"
        },
        {
         "name": "0.71",
         "rawType": "int64",
         "type": "integer"
        },
        {
         "name": "0.72",
         "rawType": "int64",
         "type": "integer"
        },
        {
         "name": "0.73",
         "rawType": "int64",
         "type": "integer"
        },
        {
         "name": "0.74",
         "rawType": "int64",
         "type": "integer"
        },
        {
         "name": "0.75",
         "rawType": "int64",
         "type": "integer"
        },
        {
         "name": "0.76",
         "rawType": "int64",
         "type": "integer"
        },
        {
         "name": "0.77",
         "rawType": "int64",
         "type": "integer"
        },
        {
         "name": "0.78",
         "rawType": "int64",
         "type": "integer"
        },
        {
         "name": "0.79",
         "rawType": "int64",
         "type": "integer"
        },
        {
         "name": "0.80",
         "rawType": "int64",
         "type": "integer"
        },
        {
         "name": "0.81",
         "rawType": "int64",
         "type": "integer"
        },
        {
         "name": "0.82",
         "rawType": "int64",
         "type": "integer"
        },
        {
         "name": "0.83",
         "rawType": "int64",
         "type": "integer"
        },
        {
         "name": "0.84",
         "rawType": "int64",
         "type": "integer"
        },
        {
         "name": "0.85",
         "rawType": "int64",
         "type": "integer"
        },
        {
         "name": "0.86",
         "rawType": "int64",
         "type": "integer"
        },
        {
         "name": "0.87",
         "rawType": "int64",
         "type": "integer"
        },
        {
         "name": "0.88",
         "rawType": "int64",
         "type": "integer"
        },
        {
         "name": "0.89",
         "rawType": "int64",
         "type": "integer"
        },
        {
         "name": "0.90",
         "rawType": "int64",
         "type": "integer"
        },
        {
         "name": "0.91",
         "rawType": "int64",
         "type": "integer"
        },
        {
         "name": "0.92",
         "rawType": "int64",
         "type": "integer"
        },
        {
         "name": "0.93",
         "rawType": "int64",
         "type": "integer"
        },
        {
         "name": "0.94",
         "rawType": "int64",
         "type": "integer"
        },
        {
         "name": "0.95",
         "rawType": "int64",
         "type": "integer"
        },
        {
         "name": "0.96",
         "rawType": "int64",
         "type": "integer"
        },
        {
         "name": "0.97",
         "rawType": "int64",
         "type": "integer"
        },
        {
         "name": "0.98",
         "rawType": "int64",
         "type": "integer"
        },
        {
         "name": "0.99",
         "rawType": "int64",
         "type": "integer"
        },
        {
         "name": "0.100",
         "rawType": "int64",
         "type": "integer"
        },
        {
         "name": "0.101",
         "rawType": "int64",
         "type": "integer"
        },
        {
         "name": "0.102",
         "rawType": "int64",
         "type": "integer"
        },
        {
         "name": "0.103",
         "rawType": "int64",
         "type": "integer"
        },
        {
         "name": "0.104",
         "rawType": "int64",
         "type": "integer"
        },
        {
         "name": "0.105",
         "rawType": "int64",
         "type": "integer"
        },
        {
         "name": "0.106",
         "rawType": "int64",
         "type": "integer"
        },
        {
         "name": "0.107",
         "rawType": "int64",
         "type": "integer"
        },
        {
         "name": "0.108",
         "rawType": "int64",
         "type": "integer"
        },
        {
         "name": "0.109",
         "rawType": "int64",
         "type": "integer"
        },
        {
         "name": "0.110",
         "rawType": "int64",
         "type": "integer"
        },
        {
         "name": "0.111",
         "rawType": "int64",
         "type": "integer"
        },
        {
         "name": "0.112",
         "rawType": "int64",
         "type": "integer"
        },
        {
         "name": "0.113",
         "rawType": "int64",
         "type": "integer"
        },
        {
         "name": "0.114",
         "rawType": "int64",
         "type": "integer"
        },
        {
         "name": "0.115",
         "rawType": "int64",
         "type": "integer"
        },
        {
         "name": "0.116",
         "rawType": "int64",
         "type": "integer"
        },
        {
         "name": "0.117",
         "rawType": "int64",
         "type": "integer"
        },
        {
         "name": "0.118",
         "rawType": "int64",
         "type": "integer"
        },
        {
         "name": "0.119",
         "rawType": "int64",
         "type": "integer"
        },
        {
         "name": "0.120",
         "rawType": "int64",
         "type": "integer"
        },
        {
         "name": "0.121",
         "rawType": "int64",
         "type": "integer"
        },
        {
         "name": "0.122",
         "rawType": "int64",
         "type": "integer"
        },
        {
         "name": "0.123",
         "rawType": "int64",
         "type": "integer"
        },
        {
         "name": "0.124",
         "rawType": "int64",
         "type": "integer"
        },
        {
         "name": "0.125",
         "rawType": "int64",
         "type": "integer"
        },
        {
         "name": "0.126",
         "rawType": "int64",
         "type": "integer"
        },
        {
         "name": "0.127",
         "rawType": "int64",
         "type": "integer"
        },
        {
         "name": "0.128",
         "rawType": "int64",
         "type": "integer"
        },
        {
         "name": "0.129",
         "rawType": "int64",
         "type": "integer"
        },
        {
         "name": "0.130",
         "rawType": "int64",
         "type": "integer"
        },
        {
         "name": "0.131",
         "rawType": "int64",
         "type": "integer"
        },
        {
         "name": "0.132",
         "rawType": "int64",
         "type": "integer"
        },
        {
         "name": "0.133",
         "rawType": "int64",
         "type": "integer"
        },
        {
         "name": "0.134",
         "rawType": "int64",
         "type": "integer"
        },
        {
         "name": "0.135",
         "rawType": "int64",
         "type": "integer"
        },
        {
         "name": "0.136",
         "rawType": "int64",
         "type": "integer"
        },
        {
         "name": "0.137",
         "rawType": "int64",
         "type": "integer"
        },
        {
         "name": "0.138",
         "rawType": "int64",
         "type": "integer"
        },
        {
         "name": "0.139",
         "rawType": "int64",
         "type": "integer"
        },
        {
         "name": "0.140",
         "rawType": "int64",
         "type": "integer"
        },
        {
         "name": "0.141",
         "rawType": "int64",
         "type": "integer"
        },
        {
         "name": "0.142",
         "rawType": "int64",
         "type": "integer"
        },
        {
         "name": "0.143",
         "rawType": "int64",
         "type": "integer"
        },
        {
         "name": "0.144",
         "rawType": "int64",
         "type": "integer"
        },
        {
         "name": "0.145",
         "rawType": "int64",
         "type": "integer"
        },
        {
         "name": "0.146",
         "rawType": "int64",
         "type": "integer"
        },
        {
         "name": "0.147",
         "rawType": "int64",
         "type": "integer"
        },
        {
         "name": "0.148",
         "rawType": "int64",
         "type": "integer"
        },
        {
         "name": "0.149",
         "rawType": "int64",
         "type": "integer"
        },
        {
         "name": "0.150",
         "rawType": "int64",
         "type": "integer"
        },
        {
         "name": "0.151",
         "rawType": "int64",
         "type": "integer"
        },
        {
         "name": "0.152",
         "rawType": "int64",
         "type": "integer"
        },
        {
         "name": "0.153",
         "rawType": "int64",
         "type": "integer"
        },
        {
         "name": "0.154",
         "rawType": "int64",
         "type": "integer"
        },
        {
         "name": "0.155",
         "rawType": "int64",
         "type": "integer"
        },
        {
         "name": "0.156",
         "rawType": "int64",
         "type": "integer"
        },
        {
         "name": "0.157",
         "rawType": "int64",
         "type": "integer"
        },
        {
         "name": "0.158",
         "rawType": "int64",
         "type": "integer"
        },
        {
         "name": "0.159",
         "rawType": "int64",
         "type": "integer"
        },
        {
         "name": "0.160",
         "rawType": "int64",
         "type": "integer"
        },
        {
         "name": "0.161",
         "rawType": "int64",
         "type": "integer"
        },
        {
         "name": "0.162",
         "rawType": "int64",
         "type": "integer"
        },
        {
         "name": "0.163",
         "rawType": "int64",
         "type": "integer"
        },
        {
         "name": "0.164",
         "rawType": "int64",
         "type": "integer"
        },
        {
         "name": "0.165",
         "rawType": "int64",
         "type": "integer"
        },
        {
         "name": "0.166",
         "rawType": "int64",
         "type": "integer"
        },
        {
         "name": "0.167",
         "rawType": "int64",
         "type": "integer"
        },
        {
         "name": "0.168",
         "rawType": "int64",
         "type": "integer"
        },
        {
         "name": "0.169",
         "rawType": "int64",
         "type": "integer"
        },
        {
         "name": "0.170",
         "rawType": "int64",
         "type": "integer"
        },
        {
         "name": "0.171",
         "rawType": "int64",
         "type": "integer"
        },
        {
         "name": "0.172",
         "rawType": "int64",
         "type": "integer"
        },
        {
         "name": "0.173",
         "rawType": "int64",
         "type": "integer"
        },
        {
         "name": "0.174",
         "rawType": "int64",
         "type": "integer"
        },
        {
         "name": "0.175",
         "rawType": "int64",
         "type": "integer"
        },
        {
         "name": "0.176",
         "rawType": "int64",
         "type": "integer"
        },
        {
         "name": "0.177",
         "rawType": "int64",
         "type": "integer"
        },
        {
         "name": "0.178",
         "rawType": "int64",
         "type": "integer"
        },
        {
         "name": "0.179",
         "rawType": "int64",
         "type": "integer"
        },
        {
         "name": "0.180",
         "rawType": "int64",
         "type": "integer"
        },
        {
         "name": "0.181",
         "rawType": "int64",
         "type": "integer"
        },
        {
         "name": "0.182",
         "rawType": "int64",
         "type": "integer"
        },
        {
         "name": "0.183",
         "rawType": "int64",
         "type": "integer"
        },
        {
         "name": "0.184",
         "rawType": "int64",
         "type": "integer"
        },
        {
         "name": "0.185",
         "rawType": "int64",
         "type": "integer"
        },
        {
         "name": "0.186",
         "rawType": "int64",
         "type": "integer"
        },
        {
         "name": "0.187",
         "rawType": "int64",
         "type": "integer"
        },
        {
         "name": "0.188",
         "rawType": "int64",
         "type": "integer"
        },
        {
         "name": "0.189",
         "rawType": "int64",
         "type": "integer"
        },
        {
         "name": "0.190",
         "rawType": "int64",
         "type": "integer"
        },
        {
         "name": "7",
         "rawType": "int64",
         "type": "integer"
        },
        {
         "name": "27",
         "rawType": "int64",
         "type": "integer"
        },
        {
         "name": "7.1",
         "rawType": "int64",
         "type": "integer"
        },
        {
         "name": "0.191",
         "rawType": "int64",
         "type": "integer"
        },
        {
         "name": "0.192",
         "rawType": "int64",
         "type": "integer"
        },
        {
         "name": "0.193",
         "rawType": "int64",
         "type": "integer"
        },
        {
         "name": "0.194",
         "rawType": "int64",
         "type": "integer"
        },
        {
         "name": "0.195",
         "rawType": "int64",
         "type": "integer"
        },
        {
         "name": "0.196",
         "rawType": "int64",
         "type": "integer"
        },
        {
         "name": "0.197",
         "rawType": "int64",
         "type": "integer"
        },
        {
         "name": "0.198",
         "rawType": "int64",
         "type": "integer"
        },
        {
         "name": "0.199",
         "rawType": "int64",
         "type": "integer"
        },
        {
         "name": "0.200",
         "rawType": "int64",
         "type": "integer"
        },
        {
         "name": "0.201",
         "rawType": "int64",
         "type": "integer"
        },
        {
         "name": "0.202",
         "rawType": "int64",
         "type": "integer"
        },
        {
         "name": "0.203",
         "rawType": "int64",
         "type": "integer"
        },
        {
         "name": "0.204",
         "rawType": "int64",
         "type": "integer"
        },
        {
         "name": "0.205",
         "rawType": "int64",
         "type": "integer"
        },
        {
         "name": "0.206",
         "rawType": "int64",
         "type": "integer"
        },
        {
         "name": "0.207",
         "rawType": "int64",
         "type": "integer"
        },
        {
         "name": "0.208",
         "rawType": "int64",
         "type": "integer"
        },
        {
         "name": "0.209",
         "rawType": "int64",
         "type": "integer"
        },
        {
         "name": "0.210",
         "rawType": "int64",
         "type": "integer"
        },
        {
         "name": "0.211",
         "rawType": "int64",
         "type": "integer"
        },
        {
         "name": "0.212",
         "rawType": "int64",
         "type": "integer"
        },
        {
         "name": "0.213",
         "rawType": "int64",
         "type": "integer"
        },
        {
         "name": "0.214",
         "rawType": "int64",
         "type": "integer"
        },
        {
         "name": "10",
         "rawType": "int64",
         "type": "integer"
        },
        {
         "name": "90",
         "rawType": "int64",
         "type": "integer"
        },
        {
         "name": "186",
         "rawType": "int64",
         "type": "integer"
        },
        {
         "name": "76",
         "rawType": "int64",
         "type": "integer"
        },
        {
         "name": "2",
         "rawType": "int64",
         "type": "integer"
        },
        {
         "name": "0.215",
         "rawType": "int64",
         "type": "integer"
        },
        {
         "name": "0.216",
         "rawType": "int64",
         "type": "integer"
        },
        {
         "name": "0.217",
         "rawType": "int64",
         "type": "integer"
        },
        {
         "name": "0.218",
         "rawType": "int64",
         "type": "integer"
        },
        {
         "name": "0.219",
         "rawType": "int64",
         "type": "integer"
        },
        {
         "name": "0.220",
         "rawType": "int64",
         "type": "integer"
        },
        {
         "name": "0.221",
         "rawType": "int64",
         "type": "integer"
        },
        {
         "name": "0.222",
         "rawType": "int64",
         "type": "integer"
        },
        {
         "name": "0.223",
         "rawType": "int64",
         "type": "integer"
        },
        {
         "name": "0.224",
         "rawType": "int64",
         "type": "integer"
        },
        {
         "name": "0.225",
         "rawType": "int64",
         "type": "integer"
        },
        {
         "name": "0.226",
         "rawType": "int64",
         "type": "integer"
        },
        {
         "name": "0.227",
         "rawType": "int64",
         "type": "integer"
        },
        {
         "name": "0.228",
         "rawType": "int64",
         "type": "integer"
        },
        {
         "name": "0.229",
         "rawType": "int64",
         "type": "integer"
        },
        {
         "name": "0.230",
         "rawType": "int64",
         "type": "integer"
        },
        {
         "name": "0.231",
         "rawType": "int64",
         "type": "integer"
        },
        {
         "name": "0.232",
         "rawType": "int64",
         "type": "integer"
        },
        {
         "name": "0.233",
         "rawType": "int64",
         "type": "integer"
        },
        {
         "name": "0.234",
         "rawType": "int64",
         "type": "integer"
        },
        {
         "name": "0.235",
         "rawType": "int64",
         "type": "integer"
        },
        {
         "name": "0.236",
         "rawType": "int64",
         "type": "integer"
        },
        {
         "name": "32",
         "rawType": "int64",
         "type": "integer"
        },
        {
         "name": "127",
         "rawType": "int64",
         "type": "integer"
        },
        {
         "name": "221",
         "rawType": "int64",
         "type": "integer"
        },
        {
         "name": "248",
         "rawType": "int64",
         "type": "integer"
        },
        {
         "name": "125",
         "rawType": "int64",
         "type": "integer"
        },
        {
         "name": "4",
         "rawType": "int64",
         "type": "integer"
        },
        {
         "name": "0.237",
         "rawType": "int64",
         "type": "integer"
        },
        {
         "name": "0.238",
         "rawType": "int64",
         "type": "integer"
        },
        {
         "name": "0.239",
         "rawType": "int64",
         "type": "integer"
        },
        {
         "name": "0.240",
         "rawType": "int64",
         "type": "integer"
        },
        {
         "name": "3",
         "rawType": "int64",
         "type": "integer"
        },
        {
         "name": "2.1",
         "rawType": "int64",
         "type": "integer"
        },
        {
         "name": "0.241",
         "rawType": "int64",
         "type": "integer"
        },
        {
         "name": "0.242",
         "rawType": "int64",
         "type": "integer"
        },
        {
         "name": "0.243",
         "rawType": "int64",
         "type": "integer"
        },
        {
         "name": "0.244",
         "rawType": "int64",
         "type": "integer"
        },
        {
         "name": "0.245",
         "rawType": "int64",
         "type": "integer"
        },
        {
         "name": "0.246",
         "rawType": "int64",
         "type": "integer"
        },
        {
         "name": "0.247",
         "rawType": "int64",
         "type": "integer"
        },
        {
         "name": "0.248",
         "rawType": "int64",
         "type": "integer"
        },
        {
         "name": "0.249",
         "rawType": "int64",
         "type": "integer"
        },
        {
         "name": "0.250",
         "rawType": "int64",
         "type": "integer"
        },
        {
         "name": "0.251",
         "rawType": "int64",
         "type": "integer"
        },
        {
         "name": "0.252",
         "rawType": "int64",
         "type": "integer"
        },
        {
         "name": "0.253",
         "rawType": "int64",
         "type": "integer"
        },
        {
         "name": "0.254",
         "rawType": "int64",
         "type": "integer"
        },
        {
         "name": "0.255",
         "rawType": "int64",
         "type": "integer"
        },
        {
         "name": "22",
         "rawType": "int64",
         "type": "integer"
        },
        {
         "name": "131",
         "rawType": "int64",
         "type": "integer"
        },
        {
         "name": "242",
         "rawType": "int64",
         "type": "integer"
        },
        {
         "name": "254",
         "rawType": "int64",
         "type": "integer"
        },
        {
         "name": "249",
         "rawType": "int64",
         "type": "integer"
        },
        {
         "name": "125.1",
         "rawType": "int64",
         "type": "integer"
        },
        {
         "name": "4.1",
         "rawType": "int64",
         "type": "integer"
        },
        {
         "name": "0.256",
         "rawType": "int64",
         "type": "integer"
        },
        {
         "name": "0.257",
         "rawType": "int64",
         "type": "integer"
        },
        {
         "name": "0.258",
         "rawType": "int64",
         "type": "integer"
        },
        {
         "name": "32.1",
         "rawType": "int64",
         "type": "integer"
        },
        {
         "name": "111",
         "rawType": "int64",
         "type": "integer"
        },
        {
         "name": "77",
         "rawType": "int64",
         "type": "integer"
        },
        {
         "name": "8",
         "rawType": "int64",
         "type": "integer"
        },
        {
         "name": "0.259",
         "rawType": "int64",
         "type": "integer"
        },
        {
         "name": "0.260",
         "rawType": "int64",
         "type": "integer"
        },
        {
         "name": "0.261",
         "rawType": "int64",
         "type": "integer"
        },
        {
         "name": "0.262",
         "rawType": "int64",
         "type": "integer"
        },
        {
         "name": "0.263",
         "rawType": "int64",
         "type": "integer"
        },
        {
         "name": "0.264",
         "rawType": "int64",
         "type": "integer"
        },
        {
         "name": "0.265",
         "rawType": "int64",
         "type": "integer"
        },
        {
         "name": "0.266",
         "rawType": "int64",
         "type": "integer"
        },
        {
         "name": "0.267",
         "rawType": "int64",
         "type": "integer"
        },
        {
         "name": "0.268",
         "rawType": "int64",
         "type": "integer"
        },
        {
         "name": "0.269",
         "rawType": "int64",
         "type": "integer"
        },
        {
         "name": "0.270",
         "rawType": "int64",
         "type": "integer"
        },
        {
         "name": "0.271",
         "rawType": "int64",
         "type": "integer"
        },
        {
         "name": "10.1",
         "rawType": "int64",
         "type": "integer"
        },
        {
         "name": "123",
         "rawType": "int64",
         "type": "integer"
        },
        {
         "name": "232",
         "rawType": "int64",
         "type": "integer"
        },
        {
         "name": "253",
         "rawType": "int64",
         "type": "integer"
        },
        {
         "name": "250",
         "rawType": "int64",
         "type": "integer"
        },
        {
         "name": "218",
         "rawType": "int64",
         "type": "integer"
        },
        {
         "name": "77.1",
         "rawType": "int64",
         "type": "integer"
        },
        {
         "name": "2.2",
         "rawType": "int64",
         "type": "integer"
        },
        {
         "name": "0.272",
         "rawType": "int64",
         "type": "integer"
        },
        {
         "name": "0.273",
         "rawType": "int64",
         "type": "integer"
        },
        {
         "name": "3.1",
         "rawType": "int64",
         "type": "integer"
        },
        {
         "name": "99",
         "rawType": "int64",
         "type": "integer"
        },
        {
         "name": "234",
         "rawType": "int64",
         "type": "integer"
        },
        {
         "name": "218.1",
         "rawType": "int64",
         "type": "integer"
        },
        {
         "name": "95",
         "rawType": "int64",
         "type": "integer"
        },
        {
         "name": "22.1",
         "rawType": "int64",
         "type": "integer"
        },
        {
         "name": "1",
         "rawType": "int64",
         "type": "integer"
        },
        {
         "name": "0.274",
         "rawType": "int64",
         "type": "integer"
        },
        {
         "name": "0.275",
         "rawType": "int64",
         "type": "integer"
        },
        {
         "name": "0.276",
         "rawType": "int64",
         "type": "integer"
        },
        {
         "name": "0.277",
         "rawType": "int64",
         "type": "integer"
        },
        {
         "name": "0.278",
         "rawType": "int64",
         "type": "integer"
        },
        {
         "name": "0.279",
         "rawType": "int64",
         "type": "integer"
        },
        {
         "name": "0.280",
         "rawType": "int64",
         "type": "integer"
        },
        {
         "name": "0.281",
         "rawType": "int64",
         "type": "integer"
        },
        {
         "name": "0.282",
         "rawType": "int64",
         "type": "integer"
        },
        {
         "name": "0.283",
         "rawType": "int64",
         "type": "integer"
        },
        {
         "name": "9",
         "rawType": "int64",
         "type": "integer"
        },
        {
         "name": "91",
         "rawType": "int64",
         "type": "integer"
        },
        {
         "name": "221.1",
         "rawType": "int64",
         "type": "integer"
        },
        {
         "name": "253.1",
         "rawType": "int64",
         "type": "integer"
        },
        {
         "name": "234.1",
         "rawType": "int64",
         "type": "integer"
        },
        {
         "name": "144",
         "rawType": "int64",
         "type": "integer"
        },
        {
         "name": "77.2",
         "rawType": "int64",
         "type": "integer"
        },
        {
         "name": "8.1",
         "rawType": "int64",
         "type": "integer"
        },
        {
         "name": "0.284",
         "rawType": "int64",
         "type": "integer"
        },
        {
         "name": "0.285",
         "rawType": "int64",
         "type": "integer"
        },
        {
         "name": "0.286",
         "rawType": "int64",
         "type": "integer"
        },
        {
         "name": "0.287",
         "rawType": "int64",
         "type": "integer"
        },
        {
         "name": "34",
         "rawType": "int64",
         "type": "integer"
        },
        {
         "name": "177",
         "rawType": "int64",
         "type": "integer"
        },
        {
         "name": "251",
         "rawType": "int64",
         "type": "integer"
        },
        {
         "name": "232.1",
         "rawType": "int64",
         "type": "integer"
        },
        {
         "name": "159",
         "rawType": "int64",
         "type": "integer"
        },
        {
         "name": "52",
         "rawType": "int64",
         "type": "integer"
        },
        {
         "name": "32.2",
         "rawType": "int64",
         "type": "integer"
        },
        {
         "name": "8.2",
         "rawType": "int64",
         "type": "integer"
        },
        {
         "name": "0.288",
         "rawType": "int64",
         "type": "integer"
        },
        {
         "name": "0.289",
         "rawType": "int64",
         "type": "integer"
        },
        {
         "name": "0.290",
         "rawType": "int64",
         "type": "integer"
        },
        {
         "name": "0.291",
         "rawType": "int64",
         "type": "integer"
        },
        {
         "name": "0.292",
         "rawType": "int64",
         "type": "integer"
        },
        {
         "name": "0.293",
         "rawType": "int64",
         "type": "integer"
        },
        {
         "name": "0.294",
         "rawType": "int64",
         "type": "integer"
        },
        {
         "name": "20",
         "rawType": "int64",
         "type": "integer"
        },
        {
         "name": "95.1",
         "rawType": "int64",
         "type": "integer"
        },
        {
         "name": "219",
         "rawType": "int64",
         "type": "integer"
        },
        {
         "name": "252",
         "rawType": "int64",
         "type": "integer"
        },
        {
         "name": "234.2",
         "rawType": "int64",
         "type": "integer"
        },
        {
         "name": "154",
         "rawType": "int64",
         "type": "integer"
        },
        {
         "name": "24.1",
         "rawType": "int64",
         "type": "integer"
        },
        {
         "name": "2.3",
         "rawType": "int64",
         "type": "integer"
        },
        {
         "name": "0.295",
         "rawType": "int64",
         "type": "integer"
        },
        {
         "name": "0.296",
         "rawType": "int64",
         "type": "integer"
        },
        {
         "name": "0.297",
         "rawType": "int64",
         "type": "integer"
        },
        {
         "name": "0.298",
         "rawType": "int64",
         "type": "integer"
        },
        {
         "name": "0.299",
         "rawType": "int64",
         "type": "integer"
        },
        {
         "name": "4.2",
         "rawType": "int64",
         "type": "integer"
        },
        {
         "name": "110",
         "rawType": "int64",
         "type": "integer"
        },
        {
         "name": "229",
         "rawType": "int64",
         "type": "integer"
        },
        {
         "name": "251.1",
         "rawType": "int64",
         "type": "integer"
        },
        {
         "name": "247",
         "rawType": "int64",
         "type": "integer"
        },
        {
         "name": "222",
         "rawType": "int64",
         "type": "integer"
        },
        {
         "name": "203",
         "rawType": "int64",
         "type": "integer"
        },
        {
         "name": "127.1",
         "rawType": "int64",
         "type": "integer"
        },
        {
         "name": "46",
         "rawType": "int64",
         "type": "integer"
        },
        {
         "name": "9.1",
         "rawType": "int64",
         "type": "integer"
        },
        {
         "name": "4.3",
         "rawType": "int64",
         "type": "integer"
        },
        {
         "name": "0.300",
         "rawType": "int64",
         "type": "integer"
        },
        {
         "name": "0.301",
         "rawType": "int64",
         "type": "integer"
        },
        {
         "name": "0.302",
         "rawType": "int64",
         "type": "integer"
        },
        {
         "name": "12",
         "rawType": "int64",
         "type": "integer"
        },
        {
         "name": "123.1",
         "rawType": "int64",
         "type": "integer"
        },
        {
         "name": "231",
         "rawType": "int64",
         "type": "integer"
        },
        {
         "name": "252.1",
         "rawType": "int64",
         "type": "integer"
        },
        {
         "name": "242.1",
         "rawType": "int64",
         "type": "integer"
        },
        {
         "name": "131.1",
         "rawType": "int64",
         "type": "integer"
        },
        {
         "name": "23",
         "rawType": "int64",
         "type": "integer"
        },
        {
         "name": "1.1",
         "rawType": "int64",
         "type": "integer"
        },
        {
         "name": "0.303",
         "rawType": "int64",
         "type": "integer"
        },
        {
         "name": "0.304",
         "rawType": "int64",
         "type": "integer"
        },
        {
         "name": "0.305",
         "rawType": "int64",
         "type": "integer"
        },
        {
         "name": "0.306",
         "rawType": "int64",
         "type": "integer"
        },
        {
         "name": "0.307",
         "rawType": "int64",
         "type": "integer"
        },
        {
         "name": "0.308",
         "rawType": "int64",
         "type": "integer"
        },
        {
         "name": "0.309",
         "rawType": "int64",
         "type": "integer"
        },
        {
         "name": "20.1",
         "rawType": "int64",
         "type": "integer"
        },
        {
         "name": "83",
         "rawType": "int64",
         "type": "integer"
        },
        {
         "name": "175",
         "rawType": "int64",
         "type": "integer"
        },
        {
         "name": "244",
         "rawType": "int64",
         "type": "integer"
        },
        {
         "name": "253.2",
         "rawType": "int64",
         "type": "integer"
        },
        {
         "name": "254.1",
         "rawType": "int64",
         "type": "integer"
        },
        {
         "name": "246",
         "rawType": "int64",
         "type": "integer"
        },
        {
         "name": "208",
         "rawType": "int64",
         "type": "integer"
        },
        {
         "name": "140",
         "rawType": "int64",
         "type": "integer"
        },
        {
         "name": "113",
         "rawType": "int64",
         "type": "integer"
        },
        {
         "name": "33",
         "rawType": "int64",
         "type": "integer"
        },
        {
         "name": "7.2",
         "rawType": "int64",
         "type": "integer"
        },
        {
         "name": "46.1",
         "rawType": "int64",
         "type": "integer"
        },
        {
         "name": "128",
         "rawType": "int64",
         "type": "integer"
        },
        {
         "name": "222.1",
         "rawType": "int64",
         "type": "integer"
        },
        {
         "name": "253.3",
         "rawType": "int64",
         "type": "integer"
        },
        {
         "name": "232.2",
         "rawType": "int64",
         "type": "integer"
        },
        {
         "name": "131.2",
         "rawType": "int64",
         "type": "integer"
        },
        {
         "name": "32.3",
         "rawType": "int64",
         "type": "integer"
        },
        {
         "name": "0.310",
         "rawType": "int64",
         "type": "integer"
        },
        {
         "name": "0.311",
         "rawType": "int64",
         "type": "integer"
        },
        {
         "name": "0.312",
         "rawType": "int64",
         "type": "integer"
        },
        {
         "name": "0.313",
         "rawType": "int64",
         "type": "integer"
        },
        {
         "name": "0.314",
         "rawType": "int64",
         "type": "integer"
        },
        {
         "name": "0.315",
         "rawType": "int64",
         "type": "integer"
        },
        {
         "name": "0.316",
         "rawType": "int64",
         "type": "integer"
        },
        {
         "name": "0.317",
         "rawType": "int64",
         "type": "integer"
        },
        {
         "name": "0.318",
         "rawType": "int64",
         "type": "integer"
        },
        {
         "name": "0.319",
         "rawType": "int64",
         "type": "integer"
        },
        {
         "name": "3.2",
         "rawType": "int64",
         "type": "integer"
        },
        {
         "name": "34.1",
         "rawType": "int64",
         "type": "integer"
        },
        {
         "name": "126",
         "rawType": "int64",
         "type": "integer"
        },
        {
         "name": "204",
         "rawType": "int64",
         "type": "integer"
        },
        {
         "name": "233",
         "rawType": "int64",
         "type": "integer"
        },
        {
         "name": "251.2",
         "rawType": "int64",
         "type": "integer"
        },
        {
         "name": "253.4",
         "rawType": "int64",
         "type": "integer"
        },
        {
         "name": "250.1",
         "rawType": "int64",
         "type": "integer"
        },
        {
         "name": "243",
         "rawType": "int64",
         "type": "integer"
        },
        {
         "name": "164",
         "rawType": "int64",
         "type": "integer"
        },
        {
         "name": "97",
         "rawType": "int64",
         "type": "integer"
        },
        {
         "name": "207",
         "rawType": "int64",
         "type": "integer"
        },
        {
         "name": "246.1",
         "rawType": "int64",
         "type": "integer"
        },
        {
         "name": "248.1",
         "rawType": "int64",
         "type": "integer"
        },
        {
         "name": "209",
         "rawType": "int64",
         "type": "integer"
        },
        {
         "name": "122",
         "rawType": "int64",
         "type": "integer"
        },
        {
         "name": "22.2",
         "rawType": "int64",
         "type": "integer"
        },
        {
         "name": "0.320",
         "rawType": "int64",
         "type": "integer"
        },
        {
         "name": "0.321",
         "rawType": "int64",
         "type": "integer"
        },
        {
         "name": "0.322",
         "rawType": "int64",
         "type": "integer"
        },
        {
         "name": "0.323",
         "rawType": "int64",
         "type": "integer"
        },
        {
         "name": "0.324",
         "rawType": "int64",
         "type": "integer"
        },
        {
         "name": "0.325",
         "rawType": "int64",
         "type": "integer"
        },
        {
         "name": "0.326",
         "rawType": "int64",
         "type": "integer"
        },
        {
         "name": "0.327",
         "rawType": "int64",
         "type": "integer"
        },
        {
         "name": "0.328",
         "rawType": "int64",
         "type": "integer"
        },
        {
         "name": "0.329",
         "rawType": "int64",
         "type": "integer"
        },
        {
         "name": "0.330",
         "rawType": "int64",
         "type": "integer"
        },
        {
         "name": "0.331",
         "rawType": "int64",
         "type": "integer"
        },
        {
         "name": "0.332",
         "rawType": "int64",
         "type": "integer"
        },
        {
         "name": "8.3",
         "rawType": "int64",
         "type": "integer"
        },
        {
         "name": "34.2",
         "rawType": "int64",
         "type": "integer"
        },
        {
         "name": "84",
         "rawType": "int64",
         "type": "integer"
        },
        {
         "name": "171",
         "rawType": "int64",
         "type": "integer"
        },
        {
         "name": "232.3",
         "rawType": "int64",
         "type": "integer"
        },
        {
         "name": "250.2",
         "rawType": "int64",
         "type": "integer"
        },
        {
         "name": "254.2",
         "rawType": "int64",
         "type": "integer"
        },
        {
         "name": "247.1",
         "rawType": "int64",
         "type": "integer"
        },
        {
         "name": "235",
         "rawType": "int64",
         "type": "integer"
        },
        {
         "name": "253.5",
         "rawType": "int64",
         "type": "integer"
        },
        {
         "name": "254.3",
         "rawType": "int64",
         "type": "integer"
        },
        {
         "name": "227",
         "rawType": "int64",
         "type": "integer"
        },
        {
         "name": "80",
         "rawType": "int64",
         "type": "integer"
        },
        {
         "name": "14",
         "rawType": "int64",
         "type": "integer"
        },
        {
         "name": "3.3",
         "rawType": "int64",
         "type": "integer"
        },
        {
         "name": "0.333",
         "rawType": "int64",
         "type": "integer"
        },
        {
         "name": "0.334",
         "rawType": "int64",
         "type": "integer"
        },
        {
         "name": "0.335",
         "rawType": "int64",
         "type": "integer"
        },
        {
         "name": "0.336",
         "rawType": "int64",
         "type": "integer"
        },
        {
         "name": "0.337",
         "rawType": "int64",
         "type": "integer"
        },
        {
         "name": "0.338",
         "rawType": "int64",
         "type": "integer"
        },
        {
         "name": "0.339",
         "rawType": "int64",
         "type": "integer"
        },
        {
         "name": "0.340",
         "rawType": "int64",
         "type": "integer"
        },
        {
         "name": "0.341",
         "rawType": "int64",
         "type": "integer"
        },
        {
         "name": "0.342",
         "rawType": "int64",
         "type": "integer"
        },
        {
         "name": "0.343",
         "rawType": "int64",
         "type": "integer"
        },
        {
         "name": "0.344",
         "rawType": "int64",
         "type": "integer"
        },
        {
         "name": "0.345",
         "rawType": "int64",
         "type": "integer"
        },
        {
         "name": "0.346",
         "rawType": "int64",
         "type": "integer"
        },
        {
         "name": "0.347",
         "rawType": "int64",
         "type": "integer"
        },
        {
         "name": "3.4",
         "rawType": "int64",
         "type": "integer"
        },
        {
         "name": "22.3",
         "rawType": "int64",
         "type": "integer"
        },
        {
         "name": "83.1",
         "rawType": "int64",
         "type": "integer"
        },
        {
         "name": "159.1",
         "rawType": "int64",
         "type": "integer"
        },
        {
         "name": "241",
         "rawType": "int64",
         "type": "integer"
        },
        {
         "name": "254.4",
         "rawType": "int64",
         "type": "integer"
        },
        {
         "name": "254.5",
         "rawType": "int64",
         "type": "integer"
        },
        {
         "name": "254.6",
         "rawType": "int64",
         "type": "integer"
        },
        {
         "name": "255",
         "rawType": "int64",
         "type": "integer"
        },
        {
         "name": "247.2",
         "rawType": "int64",
         "type": "integer"
        },
        {
         "name": "178",
         "rawType": "int64",
         "type": "integer"
        },
        {
         "name": "127.2",
         "rawType": "int64",
         "type": "integer"
        },
        {
         "name": "77.3",
         "rawType": "int64",
         "type": "integer"
        },
        {
         "name": "11",
         "rawType": "int64",
         "type": "integer"
        },
        {
         "name": "2.4",
         "rawType": "int64",
         "type": "integer"
        },
        {
         "name": "0.348",
         "rawType": "int64",
         "type": "integer"
        },
        {
         "name": "0.349",
         "rawType": "int64",
         "type": "integer"
        },
        {
         "name": "0.350",
         "rawType": "int64",
         "type": "integer"
        },
        {
         "name": "0.351",
         "rawType": "int64",
         "type": "integer"
        },
        {
         "name": "0.352",
         "rawType": "int64",
         "type": "integer"
        },
        {
         "name": "0.353",
         "rawType": "int64",
         "type": "integer"
        },
        {
         "name": "0.354",
         "rawType": "int64",
         "type": "integer"
        },
        {
         "name": "0.355",
         "rawType": "int64",
         "type": "integer"
        },
        {
         "name": "0.356",
         "rawType": "int64",
         "type": "integer"
        },
        {
         "name": "0.357",
         "rawType": "int64",
         "type": "integer"
        },
        {
         "name": "0.358",
         "rawType": "int64",
         "type": "integer"
        },
        {
         "name": "0.359",
         "rawType": "int64",
         "type": "integer"
        },
        {
         "name": "0.360",
         "rawType": "int64",
         "type": "integer"
        },
        {
         "name": "0.361",
         "rawType": "int64",
         "type": "integer"
        },
        {
         "name": "7.3",
         "rawType": "int64",
         "type": "integer"
        },
        {
         "name": "50",
         "rawType": "int64",
         "type": "integer"
        },
        {
         "name": "168",
         "rawType": "int64",
         "type": "integer"
        },
        {
         "name": "248.2",
         "rawType": "int64",
         "type": "integer"
        },
        {
         "name": "254.7",
         "rawType": "int64",
         "type": "integer"
        },
        {
         "name": "235.1",
         "rawType": "int64",
         "type": "integer"
        },
        {
         "name": "234.3",
         "rawType": "int64",
         "type": "integer"
        },
        {
         "name": "250.3",
         "rawType": "int64",
         "type": "integer"
        },
        {
         "name": "254.8",
         "rawType": "int64",
         "type": "integer"
        },
        {
         "name": "252.2",
         "rawType": "int64",
         "type": "integer"
        },
        {
         "name": "249.1",
         "rawType": "int64",
         "type": "integer"
        },
        {
         "name": "220",
         "rawType": "int64",
         "type": "integer"
        },
        {
         "name": "139",
         "rawType": "int64",
         "type": "integer"
        },
        {
         "name": "82",
         "rawType": "int64",
         "type": "integer"
        },
        {
         "name": "22.4",
         "rawType": "int64",
         "type": "integer"
        },
        {
         "name": "1.2",
         "rawType": "int64",
         "type": "integer"
        },
        {
         "name": "0.362",
         "rawType": "int64",
         "type": "integer"
        },
        {
         "name": "0.363",
         "rawType": "int64",
         "type": "integer"
        },
        {
         "name": "0.364",
         "rawType": "int64",
         "type": "integer"
        },
        {
         "name": "0.365",
         "rawType": "int64",
         "type": "integer"
        },
        {
         "name": "0.366",
         "rawType": "int64",
         "type": "integer"
        },
        {
         "name": "0.367",
         "rawType": "int64",
         "type": "integer"
        },
        {
         "name": "0.368",
         "rawType": "int64",
         "type": "integer"
        },
        {
         "name": "0.369",
         "rawType": "int64",
         "type": "integer"
        },
        {
         "name": "0.370",
         "rawType": "int64",
         "type": "integer"
        },
        {
         "name": "0.371",
         "rawType": "int64",
         "type": "integer"
        },
        {
         "name": "2.5",
         "rawType": "int64",
         "type": "integer"
        },
        {
         "name": "11.1",
         "rawType": "int64",
         "type": "integer"
        },
        {
         "name": "90.1",
         "rawType": "int64",
         "type": "integer"
        },
        {
         "name": "207.1",
         "rawType": "int64",
         "type": "integer"
        },
        {
         "name": "247.3",
         "rawType": "int64",
         "type": "integer"
        },
        {
         "name": "251.3",
         "rawType": "int64",
         "type": "integer"
        },
        {
         "name": "232.4",
         "rawType": "int64",
         "type": "integer"
        },
        {
         "name": "97.1",
         "rawType": "int64",
         "type": "integer"
        },
        {
         "name": "84.1",
         "rawType": "int64",
         "type": "integer"
        },
        {
         "name": "139.1",
         "rawType": "int64",
         "type": "integer"
        },
        {
         "name": "208.1",
         "rawType": "int64",
         "type": "integer"
        },
        {
         "name": "245",
         "rawType": "int64",
         "type": "integer"
        },
        {
         "name": "252.3",
         "rawType": "int64",
         "type": "integer"
        },
        {
         "name": "253.6",
         "rawType": "int64",
         "type": "integer"
        },
        {
         "name": "250.4",
         "rawType": "int64",
         "type": "integer"
        },
        {
         "name": "231.1",
         "rawType": "int64",
         "type": "integer"
        },
        {
         "name": "159.2",
         "rawType": "int64",
         "type": "integer"
        },
        {
         "name": "47",
         "rawType": "int64",
         "type": "integer"
        },
        {
         "name": "7.4",
         "rawType": "int64",
         "type": "integer"
        },
        {
         "name": "0.372",
         "rawType": "int64",
         "type": "integer"
        },
        {
         "name": "0.373",
         "rawType": "int64",
         "type": "integer"
        },
        {
         "name": "0.374",
         "rawType": "int64",
         "type": "integer"
        },
        {
         "name": "0.375",
         "rawType": "int64",
         "type": "integer"
        },
        {
         "name": "0.376",
         "rawType": "int64",
         "type": "integer"
        },
        {
         "name": "0.377",
         "rawType": "int64",
         "type": "integer"
        },
        {
         "name": "0.378",
         "rawType": "int64",
         "type": "integer"
        },
        {
         "name": "0.379",
         "rawType": "int64",
         "type": "integer"
        },
        {
         "name": "1.3",
         "rawType": "int64",
         "type": "integer"
        },
        {
         "name": "44",
         "rawType": "int64",
         "type": "integer"
        },
        {
         "name": "102",
         "rawType": "int64",
         "type": "integer"
        },
        {
         "name": "183",
         "rawType": "int64",
         "type": "integer"
        },
        {
         "name": "215",
         "rawType": "int64",
         "type": "integer"
        },
        {
         "name": "215.1",
         "rawType": "int64",
         "type": "integer"
        },
        {
         "name": "170",
         "rawType": "int64",
         "type": "integer"
        },
        {
         "name": "83.2",
         "rawType": "int64",
         "type": "integer"
        },
        {
         "name": "7.5",
         "rawType": "int64",
         "type": "integer"
        },
        {
         "name": "2.6",
         "rawType": "int64",
         "type": "integer"
        },
        {
         "name": "9.2",
         "rawType": "int64",
         "type": "integer"
        },
        {
         "name": "46.2",
         "rawType": "int64",
         "type": "integer"
        },
        {
         "name": "115",
         "rawType": "int64",
         "type": "integer"
        },
        {
         "name": "172",
         "rawType": "int64",
         "type": "integer"
        },
        {
         "name": "215.2",
         "rawType": "int64",
         "type": "integer"
        },
        {
         "name": "217",
         "rawType": "int64",
         "type": "integer"
        },
        {
         "name": "217.1",
         "rawType": "int64",
         "type": "integer"
        },
        {
         "name": "209.1",
         "rawType": "int64",
         "type": "integer"
        },
        {
         "name": "169",
         "rawType": "int64",
         "type": "integer"
        },
        {
         "name": "58",
         "rawType": "int64",
         "type": "integer"
        },
        {
         "name": "1.4",
         "rawType": "int64",
         "type": "integer"
        },
        {
         "name": "0.380",
         "rawType": "int64",
         "type": "integer"
        },
        {
         "name": "0.381",
         "rawType": "int64",
         "type": "integer"
        },
        {
         "name": "0.382",
         "rawType": "int64",
         "type": "integer"
        },
        {
         "name": "0.383",
         "rawType": "int64",
         "type": "integer"
        },
        {
         "name": "0.384",
         "rawType": "int64",
         "type": "integer"
        },
        {
         "name": "0.385",
         "rawType": "int64",
         "type": "integer"
        },
        {
         "name": "0.386",
         "rawType": "int64",
         "type": "integer"
        },
        {
         "name": "0.387",
         "rawType": "int64",
         "type": "integer"
        },
        {
         "name": "16",
         "rawType": "int64",
         "type": "integer"
        },
        {
         "name": "33.1",
         "rawType": "int64",
         "type": "integer"
        },
        {
         "name": "36",
         "rawType": "int64",
         "type": "integer"
        },
        {
         "name": "37",
         "rawType": "int64",
         "type": "integer"
        },
        {
         "name": "37.1",
         "rawType": "int64",
         "type": "integer"
        },
        {
         "name": "21",
         "rawType": "int64",
         "type": "integer"
        },
        {
         "name": "3.5",
         "rawType": "int64",
         "type": "integer"
        },
        {
         "name": "0.388",
         "rawType": "int64",
         "type": "integer"
        },
        {
         "name": "0.389",
         "rawType": "int64",
         "type": "integer"
        },
        {
         "name": "0.390",
         "rawType": "int64",
         "type": "integer"
        },
        {
         "name": "0.391",
         "rawType": "int64",
         "type": "integer"
        },
        {
         "name": "4.4",
         "rawType": "int64",
         "type": "integer"
        },
        {
         "name": "21.1",
         "rawType": "int64",
         "type": "integer"
        },
        {
         "name": "37.2",
         "rawType": "int64",
         "type": "integer"
        },
        {
         "name": "37.3",
         "rawType": "int64",
         "type": "integer"
        },
        {
         "name": "37.4",
         "rawType": "int64",
         "type": "integer"
        },
        {
         "name": "37.5",
         "rawType": "int64",
         "type": "integer"
        },
        {
         "name": "36.1",
         "rawType": "int64",
         "type": "integer"
        },
        {
         "name": "17",
         "rawType": "int64",
         "type": "integer"
        },
        {
         "name": "0.392",
         "rawType": "int64",
         "type": "integer"
        },
        {
         "name": "0.393",
         "rawType": "int64",
         "type": "integer"
        },
        {
         "name": "0.394",
         "rawType": "int64",
         "type": "integer"
        },
        {
         "name": "0.395",
         "rawType": "int64",
         "type": "integer"
        },
        {
         "name": "0.396",
         "rawType": "int64",
         "type": "integer"
        },
        {
         "name": "0.397",
         "rawType": "int64",
         "type": "integer"
        },
        {
         "name": "0.398",
         "rawType": "int64",
         "type": "integer"
        },
        {
         "name": "0.399",
         "rawType": "int64",
         "type": "integer"
        },
        {
         "name": "0.400",
         "rawType": "int64",
         "type": "integer"
        },
        {
         "name": "0.401",
         "rawType": "int64",
         "type": "integer"
        },
        {
         "name": "0.402",
         "rawType": "int64",
         "type": "integer"
        },
        {
         "name": "0.403",
         "rawType": "int64",
         "type": "integer"
        },
        {
         "name": "0.404",
         "rawType": "int64",
         "type": "integer"
        },
        {
         "name": "0.405",
         "rawType": "int64",
         "type": "integer"
        },
        {
         "name": "0.406",
         "rawType": "int64",
         "type": "integer"
        },
        {
         "name": "0.407",
         "rawType": "int64",
         "type": "integer"
        },
        {
         "name": "0.408",
         "rawType": "int64",
         "type": "integer"
        },
        {
         "name": "0.409",
         "rawType": "int64",
         "type": "integer"
        },
        {
         "name": "0.410",
         "rawType": "int64",
         "type": "integer"
        },
        {
         "name": "0.411",
         "rawType": "int64",
         "type": "integer"
        },
        {
         "name": "0.412",
         "rawType": "int64",
         "type": "integer"
        },
        {
         "name": "0.413",
         "rawType": "int64",
         "type": "integer"
        },
        {
         "name": "0.414",
         "rawType": "int64",
         "type": "integer"
        },
        {
         "name": "0.415",
         "rawType": "int64",
         "type": "integer"
        },
        {
         "name": "0.416",
         "rawType": "int64",
         "type": "integer"
        },
        {
         "name": "0.417",
         "rawType": "int64",
         "type": "integer"
        },
        {
         "name": "0.418",
         "rawType": "int64",
         "type": "integer"
        },
        {
         "name": "0.419",
         "rawType": "int64",
         "type": "integer"
        },
        {
         "name": "0.420",
         "rawType": "int64",
         "type": "integer"
        },
        {
         "name": "0.421",
         "rawType": "int64",
         "type": "integer"
        },
        {
         "name": "0.422",
         "rawType": "int64",
         "type": "integer"
        },
        {
         "name": "0.423",
         "rawType": "int64",
         "type": "integer"
        },
        {
         "name": "0.424",
         "rawType": "int64",
         "type": "integer"
        },
        {
         "name": "0.425",
         "rawType": "int64",
         "type": "integer"
        },
        {
         "name": "0.426",
         "rawType": "int64",
         "type": "integer"
        },
        {
         "name": "0.427",
         "rawType": "int64",
         "type": "integer"
        },
        {
         "name": "0.428",
         "rawType": "int64",
         "type": "integer"
        },
        {
         "name": "0.429",
         "rawType": "int64",
         "type": "integer"
        },
        {
         "name": "0.430",
         "rawType": "int64",
         "type": "integer"
        },
        {
         "name": "0.431",
         "rawType": "int64",
         "type": "integer"
        },
        {
         "name": "0.432",
         "rawType": "int64",
         "type": "integer"
        },
        {
         "name": "0.433",
         "rawType": "int64",
         "type": "integer"
        },
        {
         "name": "0.434",
         "rawType": "int64",
         "type": "integer"
        },
        {
         "name": "0.435",
         "rawType": "int64",
         "type": "integer"
        },
        {
         "name": "0.436",
         "rawType": "int64",
         "type": "integer"
        },
        {
         "name": "0.437",
         "rawType": "int64",
         "type": "integer"
        },
        {
         "name": "0.438",
         "rawType": "int64",
         "type": "integer"
        },
        {
         "name": "0.439",
         "rawType": "int64",
         "type": "integer"
        },
        {
         "name": "0.440",
         "rawType": "int64",
         "type": "integer"
        },
        {
         "name": "0.441",
         "rawType": "int64",
         "type": "integer"
        },
        {
         "name": "0.442",
         "rawType": "int64",
         "type": "integer"
        },
        {
         "name": "0.443",
         "rawType": "int64",
         "type": "integer"
        },
        {
         "name": "0.444",
         "rawType": "int64",
         "type": "integer"
        },
        {
         "name": "0.445",
         "rawType": "int64",
         "type": "integer"
        },
        {
         "name": "0.446",
         "rawType": "int64",
         "type": "integer"
        },
        {
         "name": "0.447",
         "rawType": "int64",
         "type": "integer"
        },
        {
         "name": "0.448",
         "rawType": "int64",
         "type": "integer"
        },
        {
         "name": "0.449",
         "rawType": "int64",
         "type": "integer"
        },
        {
         "name": "0.450",
         "rawType": "int64",
         "type": "integer"
        },
        {
         "name": "0.451",
         "rawType": "int64",
         "type": "integer"
        },
        {
         "name": "0.452",
         "rawType": "int64",
         "type": "integer"
        },
        {
         "name": "0.453",
         "rawType": "int64",
         "type": "integer"
        },
        {
         "name": "0.454",
         "rawType": "int64",
         "type": "integer"
        },
        {
         "name": "0.455",
         "rawType": "int64",
         "type": "integer"
        },
        {
         "name": "0.456",
         "rawType": "int64",
         "type": "integer"
        },
        {
         "name": "0.457",
         "rawType": "int64",
         "type": "integer"
        },
        {
         "name": "0.458",
         "rawType": "int64",
         "type": "integer"
        },
        {
         "name": "0.459",
         "rawType": "int64",
         "type": "integer"
        },
        {
         "name": "0.460",
         "rawType": "int64",
         "type": "integer"
        },
        {
         "name": "0.461",
         "rawType": "int64",
         "type": "integer"
        },
        {
         "name": "0.462",
         "rawType": "int64",
         "type": "integer"
        },
        {
         "name": "0.463",
         "rawType": "int64",
         "type": "integer"
        },
        {
         "name": "0.464",
         "rawType": "int64",
         "type": "integer"
        },
        {
         "name": "0.465",
         "rawType": "int64",
         "type": "integer"
        },
        {
         "name": "0.466",
         "rawType": "int64",
         "type": "integer"
        },
        {
         "name": "0.467",
         "rawType": "int64",
         "type": "integer"
        },
        {
         "name": "0.468",
         "rawType": "int64",
         "type": "integer"
        },
        {
         "name": "0.469",
         "rawType": "int64",
         "type": "integer"
        },
        {
         "name": "0.470",
         "rawType": "int64",
         "type": "integer"
        },
        {
         "name": "0.471",
         "rawType": "int64",
         "type": "integer"
        },
        {
         "name": "0.472",
         "rawType": "int64",
         "type": "integer"
        },
        {
         "name": "0.473",
         "rawType": "int64",
         "type": "integer"
        },
        {
         "name": "0.474",
         "rawType": "int64",
         "type": "integer"
        },
        {
         "name": "0.475",
         "rawType": "int64",
         "type": "integer"
        },
        {
         "name": "0.476",
         "rawType": "int64",
         "type": "integer"
        },
        {
         "name": "0.477",
         "rawType": "int64",
         "type": "integer"
        },
        {
         "name": "0.478",
         "rawType": "int64",
         "type": "integer"
        },
        {
         "name": "0.479",
         "rawType": "int64",
         "type": "integer"
        },
        {
         "name": "0.480",
         "rawType": "int64",
         "type": "integer"
        },
        {
         "name": "0.481",
         "rawType": "int64",
         "type": "integer"
        },
        {
         "name": "0.482",
         "rawType": "int64",
         "type": "integer"
        },
        {
         "name": "0.483",
         "rawType": "int64",
         "type": "integer"
        },
        {
         "name": "0.484",
         "rawType": "int64",
         "type": "integer"
        },
        {
         "name": "0.485",
         "rawType": "int64",
         "type": "integer"
        },
        {
         "name": "0.486",
         "rawType": "int64",
         "type": "integer"
        },
        {
         "name": "0.487",
         "rawType": "int64",
         "type": "integer"
        },
        {
         "name": "0.488",
         "rawType": "int64",
         "type": "integer"
        },
        {
         "name": "0.489",
         "rawType": "int64",
         "type": "integer"
        },
        {
         "name": "0.490",
         "rawType": "int64",
         "type": "integer"
        },
        {
         "name": "0.491",
         "rawType": "int64",
         "type": "integer"
        },
        {
         "name": "0.492",
         "rawType": "int64",
         "type": "integer"
        },
        {
         "name": "0.493",
         "rawType": "int64",
         "type": "integer"
        },
        {
         "name": "0.494",
         "rawType": "int64",
         "type": "integer"
        },
        {
         "name": "0.495",
         "rawType": "int64",
         "type": "integer"
        },
        {
         "name": "0.496",
         "rawType": "int64",
         "type": "integer"
        },
        {
         "name": "0.497",
         "rawType": "int64",
         "type": "integer"
        },
        {
         "name": "0.498",
         "rawType": "int64",
         "type": "integer"
        },
        {
         "name": "0.499",
         "rawType": "int64",
         "type": "integer"
        },
        {
         "name": "0.500",
         "rawType": "int64",
         "type": "integer"
        },
        {
         "name": "0.501",
         "rawType": "int64",
         "type": "integer"
        },
        {
         "name": "0.502",
         "rawType": "int64",
         "type": "integer"
        },
        {
         "name": "0.503",
         "rawType": "int64",
         "type": "integer"
        },
        {
         "name": "0.504",
         "rawType": "int64",
         "type": "integer"
        },
        {
         "name": "0.505",
         "rawType": "int64",
         "type": "integer"
        },
        {
         "name": "0.506",
         "rawType": "int64",
         "type": "integer"
        },
        {
         "name": "0.507",
         "rawType": "int64",
         "type": "integer"
        },
        {
         "name": "0.508",
         "rawType": "int64",
         "type": "integer"
        },
        {
         "name": "0.509",
         "rawType": "int64",
         "type": "integer"
        },
        {
         "name": "0.510",
         "rawType": "int64",
         "type": "integer"
        },
        {
         "name": "0.511",
         "rawType": "int64",
         "type": "integer"
        },
        {
         "name": "0.512",
         "rawType": "int64",
         "type": "integer"
        },
        {
         "name": "0.513",
         "rawType": "int64",
         "type": "integer"
        },
        {
         "name": "0.514",
         "rawType": "int64",
         "type": "integer"
        },
        {
         "name": "0.515",
         "rawType": "int64",
         "type": "integer"
        },
        {
         "name": "0.516",
         "rawType": "int64",
         "type": "integer"
        },
        {
         "name": "0.517",
         "rawType": "int64",
         "type": "integer"
        },
        {
         "name": "0.518",
         "rawType": "int64",
         "type": "integer"
        },
        {
         "name": "0.519",
         "rawType": "int64",
         "type": "integer"
        },
        {
         "name": "0.520",
         "rawType": "int64",
         "type": "integer"
        },
        {
         "name": "0.521",
         "rawType": "int64",
         "type": "integer"
        },
        {
         "name": "0.522",
         "rawType": "int64",
         "type": "integer"
        },
        {
         "name": "0.523",
         "rawType": "int64",
         "type": "integer"
        },
        {
         "name": "0.524",
         "rawType": "int64",
         "type": "integer"
        },
        {
         "name": "0.525",
         "rawType": "int64",
         "type": "integer"
        },
        {
         "name": "0.526",
         "rawType": "int64",
         "type": "integer"
        },
        {
         "name": "0.527",
         "rawType": "int64",
         "type": "integer"
        },
        {
         "name": "0.528",
         "rawType": "int64",
         "type": "integer"
        },
        {
         "name": "0.529",
         "rawType": "int64",
         "type": "integer"
        },
        {
         "name": "0.530",
         "rawType": "int64",
         "type": "integer"
        },
        {
         "name": "0.531",
         "rawType": "int64",
         "type": "integer"
        },
        {
         "name": "0.532",
         "rawType": "int64",
         "type": "integer"
        },
        {
         "name": "0.533",
         "rawType": "int64",
         "type": "integer"
        },
        {
         "name": "0.534",
         "rawType": "int64",
         "type": "integer"
        },
        {
         "name": "0.535",
         "rawType": "int64",
         "type": "integer"
        },
        {
         "name": "0.536",
         "rawType": "int64",
         "type": "integer"
        },
        {
         "name": "0.537",
         "rawType": "int64",
         "type": "integer"
        },
        {
         "name": "0.538",
         "rawType": "int64",
         "type": "integer"
        },
        {
         "name": "0.539",
         "rawType": "int64",
         "type": "integer"
        },
        {
         "name": "0.540",
         "rawType": "int64",
         "type": "integer"
        },
        {
         "name": "0.541",
         "rawType": "int64",
         "type": "integer"
        },
        {
         "name": "0.542",
         "rawType": "int64",
         "type": "integer"
        },
        {
         "name": "0.543",
         "rawType": "int64",
         "type": "integer"
        },
        {
         "name": "0.544",
         "rawType": "int64",
         "type": "integer"
        },
        {
         "name": "0.545",
         "rawType": "int64",
         "type": "integer"
        },
        {
         "name": "0.546",
         "rawType": "int64",
         "type": "integer"
        },
        {
         "name": "0.547",
         "rawType": "int64",
         "type": "integer"
        },
        {
         "name": "0.548",
         "rawType": "int64",
         "type": "integer"
        },
        {
         "name": "0.549",
         "rawType": "int64",
         "type": "integer"
        },
        {
         "name": "0.550",
         "rawType": "int64",
         "type": "integer"
        },
        {
         "name": "0.551",
         "rawType": "int64",
         "type": "integer"
        },
        {
         "name": "0.552",
         "rawType": "int64",
         "type": "integer"
        },
        {
         "name": "0.553",
         "rawType": "int64",
         "type": "integer"
        },
        {
         "name": "0.554",
         "rawType": "int64",
         "type": "integer"
        },
        {
         "name": "0.555",
         "rawType": "int64",
         "type": "integer"
        },
        {
         "name": "0.556",
         "rawType": "int64",
         "type": "integer"
        },
        {
         "name": "0.557",
         "rawType": "int64",
         "type": "integer"
        },
        {
         "name": "0.558",
         "rawType": "int64",
         "type": "integer"
        },
        {
         "name": "0.559",
         "rawType": "int64",
         "type": "integer"
        },
        {
         "name": "0.560",
         "rawType": "int64",
         "type": "integer"
        },
        {
         "name": "0.561",
         "rawType": "int64",
         "type": "integer"
        }
       ],
       "ref": "49ff9f96-3545-47fd-9c62-bf819ae2f99c",
       "rows": [
        [
         "0",
         "-2",
         "142",
         "142",
         "142",
         "142",
         "142",
         "142",
         "142",
         "142",
         "142",
         "142",
         "142",
         "142",
         "142",
         "142",
         "142",
         "142",
         "142",
         "142",
         "142",
         "142",
         "142",
         "142",
         "142",
         "142",
         "142",
         "142",
         "142",
         "142",
         "142",
         "142",
         "142",
         "142",
         "142",
         "142",
         "142",
         "142",
         "142",
         "142",
         "142",
         "142",
         "142",
         "142",
         "142",
         "142",
         "142",
         "142",
         "142",
         "142",
         "142",
         "142",
         "142",
         "142",
         "142",
         "142",
         "142",
         "142",
         "142",
         "142",
         "142",
         "142",
         "142",
         "142",
         "142",
         "142",
         "142",
         "142",
         "142",
         "142",
         "142",
         "142",
         "142",
         "142",
         "142",
         "142",
         "142",
         "142",
         "142",
         "142",
         "142",
         "142",
         "142",
         "142",
         "142",
         "142",
         "142",
         "142",
         "142",
         "142",
         "142",
         "142",
         "142",
         "142",
         "142",
         "142",
         "142",
         "142",
         "142",
         "142",
         "142",
         "142",
         "142",
         "142",
         "142",
         "142",
         "142",
         "142",
         "142",
         "142",
         "142",
         "142",
         "142",
         "142",
         "142",
         "142",
         "142",
         "142",
         "142",
         "142",
         "142",
         "142",
         "142",
         "142",
         "142",
         "142",
         "142",
         "142",
         "142",
         "142",
         "142",
         "142",
         "142",
         "142",
         "142",
         "142",
         "142",
         "142",
         "142",
         "142",
         "142",
         "142",
         "142",
         "142",
         "142",
         "142",
         "142",
         "142",
         "142",
         "142",
         "142",
         "142",
         "142",
         "142",
         "142",
         "142",
         "142",
         "142",
         "142",
         "142",
         "142",
         "142",
         "142",
         "142",
         "142",
         "142",
         "142",
         "142",
         "142",
         "142",
         "142",
         "142",
         "142",
         "142",
         "142",
         "142",
         "142",
         "142",
         "142",
         "142",
         "142",
         "142",
         "142",
         "142",
         "142",
         "142",
         "142",
         "142",
         "142",
         "142",
         "142",
         "142",
         "142",
         "142",
         "142",
         "142",
         "142",
         "142",
         "142",
         "142",
         "142",
         "142",
         "142",
         "142",
         "142",
         "142",
         "142",
         "142",
         "142",
         "142",
         "142",
         "142",
         "142",
         "142",
         "142",
         "142",
         "142",
         "142",
         "142",
         "142",
         "142",
         "142",
         "142",
         "142",
         "142",
         "142",
         "142",
         "142",
         "142",
         "142",
         "142",
         "142",
         "142",
         "142",
         "142",
         "142",
         "142",
         "142",
         "142",
         "142",
         "142",
         "142",
         "142",
         "142",
         "142",
         "142",
         "142",
         "142",
         "142",
         "142",
         "142",
         "142",
         "142",
         "142",
         "142",
         "142",
         "142",
         "142",
         "142",
         "142",
         "142",
         "142",
         "142",
         "142",
         "142",
         "142",
         "142",
         "142",
         "142",
         "142",
         "142",
         "142",
         "142",
         "142",
         "142",
         "142",
         "142",
         "142",
         "142",
         "142",
         "142",
         "142",
         "142",
         "142",
         "142",
         "142",
         "142",
         "142",
         "142",
         "142",
         "142",
         "142",
         "142",
         "142",
         "142",
         "142",
         "142",
         "142",
         "142",
         "142",
         "142",
         "142",
         "142",
         "142",
         "142",
         "142",
         "142",
         "142",
         "142",
         "142",
         "142",
         "142",
         "142",
         "142",
         "142",
         "142",
         "142",
         "142",
         "142",
         "142",
         "142",
         "142",
         "142",
         "142",
         "142",
         "142",
         "142",
         "142",
         "142",
         "142",
         "142",
         "142",
         "142",
         "142",
         "142",
         "142",
         "142",
         "142",
         "142",
         "142",
         "142",
         "142",
         "142",
         "142",
         "142",
         "142",
         "142",
         "142",
         "142",
         "142",
         "142",
         "142",
         "142",
         "142",
         "142",
         "142",
         "142",
         "142",
         "142",
         "142",
         "142",
         "142",
         "142",
         "142",
         "142",
         "142",
         "142",
         "142",
         "142",
         "142",
         "142",
         "142",
         "142",
         "142",
         "142",
         "142",
         "142",
         "142",
         "142",
         "142",
         "142",
         "142",
         "142",
         "142",
         "142",
         "142",
         "142",
         "142",
         "142",
         "142",
         "142",
         "142",
         "142",
         "142",
         "142",
         "142",
         "142",
         "142",
         "142",
         "142",
         "142",
         "142",
         "142",
         "142",
         "142",
         "142",
         "142",
         "142",
         "142",
         "142",
         "142",
         "142",
         "142",
         "142",
         "142",
         "142",
         "142",
         "142",
         "142",
         "142",
         "142",
         "142",
         "142",
         "142",
         "142",
         "142",
         "142",
         "142",
         "142",
         "142",
         "142",
         "142",
         "142",
         "142",
         "142",
         "142",
         "142",
         "142",
         "142",
         "142",
         "142",
         "142",
         "142",
         "142",
         "142",
         "142",
         "142",
         "142",
         "142",
         "142",
         "142",
         "142",
         "142",
         "142",
         "142",
         "142",
         "142",
         "142",
         "142",
         "142",
         "142",
         "142",
         "142",
         "142",
         "142",
         "142",
         "142",
         "142",
         "142",
         "142",
         "142",
         "142",
         "142",
         "142",
         "142",
         "142",
         "142",
         "142",
         "142",
         "142",
         "142",
         "142",
         "142",
         "142",
         "142",
         "142",
         "142",
         "142",
         "142",
         "142",
         "142",
         "142",
         "142",
         "142",
         "142",
         "142",
         "142",
         "142",
         "142",
         "142",
         "142",
         "142",
         "142",
         "142",
         "142",
         "142",
         "142",
         "142",
         "142",
         "142",
         "142",
         "142",
         "142",
         "142",
         "142",
         "142",
         "142",
         "142",
         "142",
         "142",
         "142",
         "142",
         "142",
         "142",
         "142",
         "142",
         "142",
         "142",
         "142",
         "142",
         "142",
         "142",
         "142",
         "142",
         "142",
         "142",
         "142",
         "142",
         "142",
         "142",
         "142",
         "142",
         "142",
         "142",
         "142",
         "142",
         "142",
         "142",
         "142",
         "142",
         "142",
         "142",
         "142",
         "142",
         "142",
         "142",
         "142",
         "142",
         "142",
         "142",
         "142",
         "142",
         "142",
         "142",
         "142",
         "142",
         "142",
         "142",
         "142",
         "142",
         "142",
         "142",
         "142",
         "142",
         "142",
         "142",
         "142",
         "142",
         "142",
         "142",
         "142",
         "142",
         "142",
         "142",
         "142",
         "142",
         "142",
         "142",
         "142",
         "142",
         "142",
         "142",
         "142",
         "142",
         "142",
         "142",
         "142",
         "142",
         "142",
         "142",
         "142",
         "142",
         "142",
         "142",
         "142",
         "142",
         "142",
         "142",
         "142",
         "142",
         "142",
         "142",
         "142",
         "142",
         "142",
         "142",
         "142",
         "142",
         "142",
         "142",
         "142",
         "142",
         "142",
         "142",
         "142",
         "142",
         "142",
         "142",
         "142",
         "142",
         "142",
         "142",
         "142",
         "142",
         "142",
         "142",
         "142",
         "142",
         "142",
         "142",
         "142",
         "142",
         "142",
         "142",
         "142",
         "142",
         "142",
         "142",
         "142",
         "142",
         "142",
         "142",
         "142",
         "142",
         "142",
         "142",
         "142",
         "142",
         "142",
         "142",
         "142",
         "142",
         "142",
         "142",
         "142",
         "142",
         "142",
         "142",
         "142",
         "142",
         "142",
         "142",
         "142",
         "142",
         "142",
         "142",
         "142",
         "142",
         "142",
         "142",
         "142",
         "142",
         "142",
         "142",
         "142",
         "142",
         "142",
         "142",
         "142",
         "142",
         "142",
         "142",
         "142",
         "142",
         "142",
         "142",
         "142",
         "142",
         "142",
         "142",
         "142",
         "142",
         "142",
         "142",
         "142",
         "142",
         "142",
         "142",
         "142",
         "142",
         "142",
         "142",
         "142",
         "142",
         "142",
         "142",
         "142",
         "142",
         "142",
         "142",
         "142",
         "142",
         "142",
         "142",
         "142",
         "142",
         "142",
         "142",
         "142",
         "142",
         "142",
         "142",
         "142",
         "142",
         "142",
         "142",
         "142",
         "142",
         "142",
         "142",
         "142",
         "142",
         "142",
         "142",
         "142",
         "142",
         "142",
         "142",
         "142",
         "142",
         "142",
         "142",
         "142",
         "142",
         "142",
         "142",
         "142",
         "142",
         "142",
         "142",
         "142",
         "142",
         "142",
         "142",
         "142",
         "142",
         "142",
         "142",
         "142",
         "142",
         "142",
         "142",
         "142",
         "142",
         "142",
         "142",
         "142",
         "142",
         "142",
         "142",
         "142",
         "142",
         "142",
         "142",
         "142",
         "142"
        ],
        [
         "1",
         "15",
         "0",
         "0",
         "0",
         "0",
         "0",
         "0",
         "0",
         "0",
         "0",
         "0",
         "0",
         "0",
         "0",
         "0",
         "0",
         "0",
         "0",
         "0",
         "0",
         "0",
         "0",
         "0",
         "0",
         "0",
         "0",
         "0",
         "0",
         "0",
         "0",
         "0",
         "0",
         "0",
         "0",
         "0",
         "0",
         "0",
         "0",
         "0",
         "0",
         "0",
         "0",
         "0",
         "0",
         "0",
         "0",
         "0",
         "0",
         "0",
         "0",
         "0",
         "0",
         "0",
         "0",
         "0",
         "0",
         "0",
         "0",
         "0",
         "0",
         "0",
         "0",
         "0",
         "0",
         "0",
         "0",
         "0",
         "0",
         "0",
         "0",
         "0",
         "0",
         "0",
         "0",
         "0",
         "0",
         "0",
         "0",
         "0",
         "0",
         "0",
         "0",
         "0",
         "0",
         "0",
         "0",
         "0",
         "0",
         "0",
         "0",
         "0",
         "0",
         "0",
         "0",
         "0",
         "0",
         "0",
         "0",
         "0",
         "0",
         "0",
         "0",
         "0",
         "0",
         "0",
         "0",
         "0",
         "0",
         "0",
         "0",
         "0",
         "0",
         "0",
         "0",
         "0",
         "0",
         "0",
         "0",
         "0",
         "0",
         "0",
         "4",
         "21",
         "50",
         "125",
         "114",
         "39",
         "37",
         "32",
         "1",
         "0",
         "0",
         "0",
         "0",
         "0",
         "0",
         "0",
         "0",
         "0",
         "0",
         "0",
         "0",
         "0",
         "0",
         "0",
         "0",
         "3",
         "77",
         "140",
         "203",
         "233",
         "250",
         "254",
         "253",
         "250",
         "250",
         "243",
         "127",
         "10",
         "0",
         "0",
         "0",
         "0",
         "0",
         "0",
         "0",
         "0",
         "0",
         "0",
         "0",
         "0",
         "0",
         "0",
         "20",
         "170",
         "241",
         "204",
         "140",
         "127",
         "127",
         "127",
         "127",
         "141",
         "220",
         "254",
         "253",
         "208",
         "115",
         "8",
         "0",
         "0",
         "0",
         "0",
         "0",
         "0",
         "0",
         "0",
         "0",
         "0",
         "0",
         "1",
         "95",
         "248",
         "195",
         "36",
         "9",
         "4",
         "4",
         "4",
         "4",
         "11",
         "79",
         "208",
         "253",
         "254",
         "243",
         "96",
         "34",
         "1",
         "0",
         "0",
         "0",
         "0",
         "0",
         "0",
         "0",
         "0",
         "1",
         "47",
         "243",
         "195",
         "12",
         "0",
         "0",
         "0",
         "0",
         "0",
         "0",
         "0",
         "0",
         "10",
         "158",
         "234",
         "254",
         "252",
         "243",
         "96",
         "32",
         "1",
         "0",
         "0",
         "0",
         "0",
         "0",
         "0",
         "32",
         "202",
         "220",
         "23",
         "0",
         "0",
         "0",
         "0",
         "0",
         "0",
         "0",
         "0",
         "0",
         "0",
         "2",
         "36",
         "218",
         "254",
         "254",
         "252",
         "243",
         "95",
         "5",
         "0",
         "0",
         "0",
         "0",
         "0",
         "51",
         "221",
         "115",
         "0",
         "0",
         "0",
         "0",
         "0",
         "0",
         "0",
         "0",
         "0",
         "0",
         "0",
         "0",
         "0",
         "23",
         "207",
         "253",
         "255",
         "254",
         "250",
         "131",
         "33",
         "0",
         "0",
         "0",
         "2",
         "170",
         "247",
         "39",
         "0",
         "0",
         "0",
         "0",
         "0",
         "0",
         "0",
         "0",
         "0",
         "0",
         "0",
         "0",
         "0",
         "0",
         "90",
         "206",
         "222",
         "252",
         "254",
         "253",
         "207",
         "8",
         "0",
         "0",
         "4",
         "215",
         "250",
         "37",
         "0",
         "0",
         "0",
         "0",
         "0",
         "0",
         "0",
         "0",
         "0",
         "0",
         "0",
         "0",
         "0",
         "0",
         "48",
         "48",
         "51",
         "187",
         "250",
         "254",
         "245",
         "32",
         "0",
         "0",
         "21",
         "233",
         "250",
         "37",
         "0",
         "0",
         "0",
         "0",
         "0",
         "0",
         "0",
         "0",
         "0",
         "0",
         "0",
         "0",
         "0",
         "0",
         "0",
         "0",
         "0",
         "18",
         "69",
         "251",
         "250",
         "37",
         "0",
         "0",
         "21",
         "233",
         "250",
         "39",
         "0",
         "0",
         "0",
         "0",
         "0",
         "0",
         "0",
         "0",
         "0",
         "0",
         "0",
         "0",
         "0",
         "0",
         "0",
         "0",
         "0",
         "0",
         "37",
         "250",
         "249",
         "37",
         "0",
         "0",
         "2",
         "172",
         "251",
         "128",
         "1",
         "0",
         "0",
         "0",
         "0",
         "0",
         "0",
         "0",
         "0",
         "0",
         "0",
         "0",
         "0",
         "0",
         "0",
         "0",
         "0",
         "0",
         "39",
         "250",
         "222",
         "9",
         "0",
         "0",
         "0",
         "115",
         "245",
         "221",
         "35",
         "0",
         "0",
         "0",
         "0",
         "0",
         "0",
         "0",
         "0",
         "0",
         "0",
         "0",
         "0",
         "0",
         "0",
         "0",
         "0",
         "0",
         "84",
         "252",
         "217",
         "4",
         "0",
         "0",
         "0",
         "22",
         "159",
         "253",
         "221",
         "67",
         "0",
         "0",
         "0",
         "0",
         "0",
         "0",
         "0",
         "0",
         "0",
         "0",
         "0",
         "0",
         "0",
         "0",
         "0",
         "35",
         "221",
         "251",
         "170",
         "2",
         "0",
         "0",
         "0",
         "0",
         "20",
         "188",
         "254",
         "222",
         "115",
         "34",
         "0",
         "0",
         "0",
         "0",
         "0",
         "0",
         "0",
         "0",
         "0",
         "0",
         "0",
         "0",
         "23",
         "218",
         "254",
         "175",
         "34",
         "0",
         "0",
         "0",
         "0",
         "0",
         "0",
         "65",
         "220",
         "254",
         "253",
         "232",
         "140",
         "114",
         "22",
         "0",
         "0",
         "0",
         "0",
         "0",
         "0",
         "0",
         "3",
         "24",
         "196",
         "254",
         "219",
         "33",
         "0",
         "0",
         "0",
         "0",
         "0",
         "0",
         "0",
         "0",
         "22",
         "159",
         "247",
         "254",
         "254",
         "254",
         "220",
         "129",
         "127",
         "127",
         "127",
         "127",
         "127",
         "127",
         "172",
         "232",
         "254",
         "232",
         "36",
         "0",
         "0",
         "0",
         "0",
         "0",
         "0",
         "0",
         "0",
         "0",
         "0",
         "22",
         "159",
         "220",
         "251",
         "254",
         "254",
         "250",
         "250",
         "250",
         "250",
         "250",
         "250",
         "250",
         "252",
         "254",
         "249",
         "154",
         "3",
         "0",
         "0",
         "0",
         "0",
         "0",
         "0",
         "0",
         "0",
         "0",
         "0",
         "0",
         "2",
         "9",
         "83",
         "203",
         "233",
         "252",
         "254",
         "254",
         "255",
         "255",
         "254",
         "254",
         "252",
         "243",
         "123",
         "4",
         "0",
         "0",
         "0",
         "0",
         "0",
         "0",
         "0",
         "0",
         "0",
         "0",
         "0",
         "0",
         "0",
         "0",
         "0",
         "4",
         "21",
         "82",
         "172",
         "215",
         "217",
         "217",
         "217",
         "172",
         "82",
         "34",
         "1",
         "0",
         "0",
         "0",
         "0",
         "0",
         "0",
         "0",
         "0",
         "0",
         "0",
         "0",
         "0",
         "0",
         "0",
         "0",
         "0",
         "0",
         "0",
         "0",
         "2",
         "4",
         "4",
         "4",
         "4",
         "2",
         "0",
         "0",
         "0",
         "0",
         "0",
         "0",
         "0",
         "0",
         "0",
         "0",
         "0",
         "0",
         "0",
         "0",
         "0",
         "0",
         "0",
         "0",
         "0",
         "0",
         "0",
         "0",
         "0",
         "0",
         "0",
         "0",
         "0",
         "0",
         "0",
         "0",
         "0",
         "0",
         "0",
         "0",
         "0",
         "0",
         "0",
         "0",
         "0",
         "0",
         "0",
         "0",
         "0",
         "0",
         "0",
         "0",
         "0",
         "0",
         "0",
         "0",
         "0",
         "0",
         "0",
         "0",
         "0",
         "0",
         "0",
         "0",
         "0",
         "0",
         "0",
         "0",
         "0",
         "0",
         "0",
         "0",
         "0",
         "0",
         "0",
         "0",
         "0",
         "0",
         "0",
         "0",
         "0",
         "0",
         "0",
         "0",
         "0",
         "0",
         "0",
         "0",
         "0",
         "0",
         "0",
         "0",
         "0",
         "0",
         "0",
         "0",
         "0",
         "0",
         "0"
        ],
        [
         "2",
         "14",
         "0",
         "0",
         "0",
         "0",
         "0",
         "0",
         "0",
         "0",
         "0",
         "0",
         "0",
         "0",
         "0",
         "0",
         "0",
         "0",
         "0",
         "0",
         "0",
         "0",
         "0",
         "0",
         "0",
         "0",
         "0",
         "0",
         "0",
         "0",
         "0",
         "0",
         "0",
         "0",
         "0",
         "0",
         "0",
         "0",
         "0",
         "0",
         "0",
         "0",
         "0",
         "0",
         "0",
         "0",
         "0",
         "0",
         "0",
         "0",
         "0",
         "0",
         "0",
         "0",
         "0",
         "0",
         "0",
         "0",
         "0",
         "0",
         "0",
         "0",
         "0",
         "0",
         "0",
         "0",
         "0",
         "0",
         "0",
         "0",
         "0",
         "0",
         "0",
         "0",
         "0",
         "0",
         "0",
         "2",
         "4",
         "3",
         "2",
         "0",
         "0",
         "0",
         "0",
         "0",
         "0",
         "0",
         "0",
         "0",
         "0",
         "0",
         "0",
         "0",
         "0",
         "0",
         "0",
         "0",
         "0",
         "0",
         "0",
         "0",
         "0",
         "1",
         "7",
         "20",
         "36",
         "32",
         "18",
         "0",
         "0",
         "0",
         "0",
         "0",
         "0",
         "0",
         "0",
         "0",
         "0",
         "0",
         "0",
         "0",
         "0",
         "0",
         "0",
         "0",
         "0",
         "0",
         "0",
         "1",
         "7",
         "47",
         "95",
         "159",
         "211",
         "185",
         "110",
         "4",
         "0",
         "0",
         "0",
         "0",
         "0",
         "0",
         "0",
         "0",
         "0",
         "0",
         "0",
         "0",
         "0",
         "0",
         "0",
         "0",
         "0",
         "0",
         "1",
         "8",
         "33",
         "127",
         "175",
         "220",
         "245",
         "217",
         "136",
         "8",
         "0",
         "0",
         "0",
         "0",
         "0",
         "0",
         "0",
         "0",
         "0",
         "0",
         "0",
         "0",
         "0",
         "0",
         "0",
         "0",
         "0",
         "0",
         "10",
         "36",
         "91",
         "207",
         "232",
         "247",
         "251",
         "228",
         "158",
         "16",
         "1",
         "0",
         "0",
         "0",
         "0",
         "0",
         "0",
         "0",
         "1",
         "20",
         "32",
         "37",
         "37",
         "37",
         "37",
         "37",
         "39",
         "51",
         "128",
         "175",
         "221",
         "253",
         "254",
         "253",
         "231",
         "194",
         "120",
         "8",
         "0",
         "0",
         "0",
         "0",
         "0",
         "0",
         "0",
         "0",
         "7",
         "76",
         "113",
         "125",
         "127",
         "127",
         "127",
         "127",
         "129",
         "140",
         "208",
         "232",
         "247",
         "254",
         "253",
         "246",
         "175",
         "123",
         "67",
         "2",
         "0",
         "0",
         "0",
         "0",
         "0",
         "0",
         "0",
         "2",
         "19",
         "151",
         "200",
         "215",
         "217",
         "217",
         "217",
         "217",
         "217",
         "222",
         "246",
         "251",
         "254",
         "251",
         "244",
         "218",
         "95",
         "47",
         "20",
         "0",
         "0",
         "0",
         "0",
         "0",
         "0",
         "0",
         "0",
         "2",
         "19",
         "156",
         "217",
         "243",
         "250",
         "252",
         "254",
         "254",
         "254",
         "254",
         "254",
         "251",
         "244",
         "175",
         "127",
         "79",
         "8",
         "1",
         "0",
         "0",
         "0",
         "0",
         "0",
         "0",
         "0",
         "0",
         "0",
         "0",
         "7",
         "90",
         "158",
         "202",
         "224",
         "237",
         "250",
         "255",
         "254",
         "254",
         "246",
         "232",
         "207",
         "95",
         "47",
         "22",
         "1",
         "0",
         "0",
         "0",
         "0",
         "0",
         "0",
         "0",
         "0",
         "0",
         "0",
         "0",
         "1",
         "33",
         "77",
         "114",
         "159",
         "204",
         "241",
         "254",
         "253",
         "247",
         "208",
         "171",
         "126",
         "34",
         "10",
         "3",
         "0",
         "0",
         "0",
         "0",
         "0",
         "0",
         "0",
         "0",
         "0",
         "0",
         "0",
         "0",
         "0",
         "1",
         "5",
         "16",
         "132",
         "211",
         "246",
         "245",
         "219",
         "164",
         "47",
         "22",
         "8",
         "0",
         "0",
         "0",
         "0",
         "0",
         "0",
         "0",
         "0",
         "0",
         "0",
         "0",
         "0",
         "0",
         "0",
         "0",
         "0",
         "5",
         "20",
         "47",
         "176",
         "232",
         "250",
         "219",
         "163",
         "91",
         "10",
         "3",
         "0",
         "0",
         "0",
         "0",
         "0",
         "0",
         "0",
         "0",
         "0",
         "0",
         "0",
         "0",
         "0",
         "0",
         "0",
         "0",
         "0",
         "33",
         "110",
         "190",
         "246",
         "244",
         "219",
         "91",
         "35",
         "9",
         "0",
         "0",
         "0",
         "3",
         "8",
         "21",
         "36",
         "32",
         "20",
         "1",
         "0",
         "0",
         "0",
         "0",
         "0",
         "0",
         "0",
         "0",
         "0",
         "50",
         "138",
         "218",
         "246",
         "221",
         "164",
         "35",
         "9",
         "1",
         "0",
         "0",
         "3",
         "22",
         "46",
         "82",
         "124",
         "112",
         "75",
         "6",
         "0",
         "0",
         "0",
         "0",
         "0",
         "0",
         "0",
         "0",
         "2",
         "82",
         "172",
         "233",
         "234",
         "177",
         "96",
         "9",
         "1",
         "0",
         "1",
         "7",
         "22",
         "83",
         "127",
         "170",
         "213",
         "196",
         "140",
         "15",
         "1",
         "0",
         "0",
         "0",
         "0",
         "0",
         "0",
         "0",
         "8",
         "137",
         "219",
         "249",
         "206",
         "118",
         "38",
         "21",
         "32",
         "37",
         "52",
         "95",
         "159",
         "232",
         "245",
         "251",
         "232",
         "194",
         "120",
         "8",
         "0",
         "0",
         "0",
         "0",
         "0",
         "0",
         "0",
         "1",
         "16",
         "159",
         "228",
         "250",
         "187",
         "103",
         "48",
         "82",
         "114",
         "125",
         "141",
         "177",
         "220",
         "251",
         "253",
         "250",
         "186",
         "127",
         "67",
         "2",
         "0",
         "0",
         "0",
         "0",
         "0",
         "0",
         "0",
         "1",
         "16",
         "159",
         "228",
         "250",
         "192",
         "128",
         "104",
         "170",
         "203",
         "215",
         "222",
         "234",
         "246",
         "250",
         "245",
         "230",
         "127",
         "58",
         "22",
         "0",
         "0",
         "0",
         "0",
         "0",
         "0",
         "0",
         "0",
         "0",
         "4",
         "115",
         "202",
         "243",
         "248",
         "239",
         "238",
         "251",
         "253",
         "251",
         "233",
         "220",
         "204",
         "139",
         "115",
         "82",
         "20",
         "5",
         "0",
         "0",
         "0",
         "0",
         "0",
         "0",
         "0",
         "0",
         "0",
         "0",
         "2",
         "77",
         "158",
         "218",
         "248",
         "248",
         "248",
         "249",
         "245",
         "232",
         "172",
         "139",
         "115",
         "50",
         "34",
         "21",
         "2",
         "0",
         "0",
         "0",
         "0",
         "0",
         "0",
         "0",
         "0",
         "0",
         "0",
         "0",
         "0",
         "33",
         "90",
         "158",
         "215",
         "217",
         "217",
         "215",
         "203",
         "170",
         "84",
         "50",
         "34",
         "9",
         "4",
         "2",
         "0",
         "0",
         "0",
         "0",
         "0",
         "0",
         "0",
         "0",
         "0",
         "0",
         "0",
         "0",
         "0",
         "1",
         "7",
         "20",
         "37",
         "37",
         "37",
         "37",
         "32",
         "21",
         "3",
         "0",
         "0",
         "0",
         "0",
         "0",
         "0",
         "0",
         "0",
         "0",
         "0",
         "0",
         "0",
         "0",
         "0",
         "0",
         "0",
         "0",
         "0",
         "0",
         "0",
         "2",
         "4",
         "4",
         "4",
         "4",
         "4",
         "2",
         "0",
         "0",
         "0",
         "0",
         "0",
         "0",
         "0",
         "0",
         "0",
         "0",
         "0",
         "0",
         "0",
         "0",
         "0",
         "0",
         "0",
         "0",
         "0",
         "0",
         "0",
         "0",
         "0",
         "0",
         "0",
         "0",
         "0",
         "0",
         "0",
         "0",
         "0",
         "0",
         "0",
         "0",
         "0",
         "0",
         "0",
         "0",
         "0",
         "0",
         "0",
         "0",
         "0",
         "0",
         "0",
         "0",
         "0",
         "0",
         "0",
         "0",
         "0",
         "0",
         "0",
         "0",
         "0",
         "0",
         "0",
         "0",
         "0",
         "0",
         "0",
         "0",
         "0",
         "0",
         "0",
         "0",
         "0",
         "0",
         "0",
         "0"
        ],
        [
         "3",
         "-2",
         "120",
         "120",
         "120",
         "120",
         "120",
         "120",
         "120",
         "120",
         "120",
         "120",
         "120",
         "120",
         "120",
         "120",
         "120",
         "120",
         "120",
         "120",
         "120",
         "120",
         "120",
         "120",
         "120",
         "120",
         "120",
         "120",
         "120",
         "120",
         "120",
         "120",
         "120",
         "120",
         "120",
         "120",
         "120",
         "120",
         "120",
         "120",
         "120",
         "120",
         "120",
         "120",
         "120",
         "120",
         "120",
         "120",
         "120",
         "120",
         "120",
         "120",
         "120",
         "120",
         "120",
         "120",
         "120",
         "120",
         "120",
         "120",
         "120",
         "120",
         "120",
         "120",
         "120",
         "120",
         "120",
         "120",
         "120",
         "120",
         "120",
         "120",
         "120",
         "120",
         "120",
         "120",
         "120",
         "120",
         "120",
         "120",
         "120",
         "120",
         "120",
         "120",
         "120",
         "120",
         "120",
         "120",
         "120",
         "120",
         "120",
         "120",
         "120",
         "120",
         "120",
         "120",
         "120",
         "120",
         "120",
         "120",
         "120",
         "120",
         "120",
         "120",
         "120",
         "120",
         "120",
         "120",
         "120",
         "120",
         "120",
         "120",
         "120",
         "120",
         "120",
         "120",
         "120",
         "120",
         "120",
         "120",
         "120",
         "120",
         "120",
         "120",
         "120",
         "120",
         "120",
         "120",
         "120",
         "120",
         "120",
         "120",
         "120",
         "120",
         "120",
         "120",
         "120",
         "120",
         "120",
         "120",
         "120",
         "120",
         "120",
         "120",
         "120",
         "120",
         "120",
         "120",
         "120",
         "120",
         "120",
         "120",
         "120",
         "120",
         "120",
         "120",
         "120",
         "120",
         "120",
         "120",
         "120",
         "120",
         "120",
         "120",
         "120",
         "120",
         "120",
         "120",
         "120",
         "120",
         "120",
         "120",
         "120",
         "120",
         "120",
         "120",
         "120",
         "120",
         "120",
         "120",
         "120",
         "120",
         "120",
         "120",
         "120",
         "120",
         "120",
         "120",
         "120",
         "120",
         "120",
         "120",
         "120",
         "120",
         "120",
         "120",
         "120",
         "120",
         "120",
         "120",
         "120",
         "120",
         "120",
         "120",
         "120",
         "120",
         "120",
         "120",
         "120",
         "120",
         "120",
         "120",
         "120",
         "120",
         "120",
         "120",
         "120",
         "120",
         "120",
         "120",
         "120",
         "120",
         "120",
         "120",
         "120",
         "120",
         "120",
         "120",
         "120",
         "120",
         "120",
         "120",
         "120",
         "120",
         "120",
         "120",
         "120",
         "120",
         "120",
         "120",
         "120",
         "120",
         "120",
         "120",
         "120",
         "120",
         "120",
         "120",
         "120",
         "120",
         "120",
         "120",
         "120",
         "120",
         "120",
         "120",
         "120",
         "120",
         "120",
         "120",
         "120",
         "120",
         "120",
         "120",
         "120",
         "120",
         "120",
         "120",
         "120",
         "120",
         "120",
         "120",
         "120",
         "120",
         "120",
         "120",
         "120",
         "120",
         "120",
         "120",
         "120",
         "120",
         "120",
         "120",
         "120",
         "120",
         "120",
         "120",
         "120",
         "120",
         "120",
         "120",
         "120",
         "120",
         "120",
         "120",
         "120",
         "120",
         "120",
         "120",
         "120",
         "120",
         "120",
         "120",
         "120",
         "120",
         "120",
         "120",
         "120",
         "120",
         "120",
         "120",
         "120",
         "120",
         "120",
         "120",
         "120",
         "120",
         "120",
         "120",
         "120",
         "120",
         "120",
         "120",
         "120",
         "120",
         "120",
         "120",
         "120",
         "120",
         "120",
         "120",
         "120",
         "120",
         "120",
         "120",
         "120",
         "120",
         "120",
         "120",
         "120",
         "120",
         "120",
         "120",
         "120",
         "120",
         "120",
         "120",
         "120",
         "120",
         "120",
         "120",
         "120",
         "120",
         "120",
         "120",
         "120",
         "120",
         "120",
         "120",
         "120",
         "120",
         "120",
         "120",
         "120",
         "120",
         "120",
         "120",
         "120",
         "120",
         "120",
         "120",
         "120",
         "120",
         "120",
         "120",
         "120",
         "120",
         "120",
         "120",
         "120",
         "120",
         "120",
         "120",
         "120",
         "120",
         "120",
         "120",
         "120",
         "120",
         "120",
         "120",
         "120",
         "120",
         "120",
         "120",
         "120",
         "120",
         "120",
         "120",
         "120",
         "120",
         "120",
         "120",
         "120",
         "120",
         "120",
         "120",
         "120",
         "120",
         "120",
         "120",
         "120",
         "120",
         "120",
         "120",
         "120",
         "120",
         "120",
         "120",
         "120",
         "120",
         "120",
         "120",
         "120",
         "120",
         "120",
         "120",
         "120",
         "120",
         "120",
         "120",
         "120",
         "120",
         "120",
         "120",
         "120",
         "120",
         "120",
         "120",
         "120",
         "120",
         "120",
         "120",
         "120",
         "120",
         "120",
         "120",
         "120",
         "120",
         "120",
         "120",
         "120",
         "120",
         "120",
         "120",
         "120",
         "120",
         "120",
         "120",
         "120",
         "120",
         "120",
         "120",
         "120",
         "120",
         "120",
         "120",
         "120",
         "120",
         "120",
         "120",
         "120",
         "120",
         "120",
         "120",
         "120",
         "120",
         "120",
         "120",
         "120",
         "120",
         "120",
         "120",
         "120",
         "120",
         "120",
         "120",
         "120",
         "120",
         "120",
         "120",
         "120",
         "120",
         "120",
         "120",
         "120",
         "120",
         "120",
         "120",
         "120",
         "120",
         "120",
         "120",
         "120",
         "120",
         "120",
         "120",
         "120",
         "120",
         "120",
         "120",
         "120",
         "120",
         "120",
         "120",
         "120",
         "120",
         "120",
         "120",
         "120",
         "120",
         "120",
         "120",
         "120",
         "120",
         "120",
         "120",
         "120",
         "120",
         "120",
         "120",
         "120",
         "120",
         "120",
         "120",
         "120",
         "120",
         "120",
         "120",
         "120",
         "120",
         "120",
         "120",
         "120",
         "120",
         "120",
         "120",
         "120",
         "120",
         "120",
         "120",
         "120",
         "120",
         "120",
         "120",
         "120",
         "120",
         "120",
         "120",
         "120",
         "120",
         "120",
         "120",
         "120",
         "120",
         "120",
         "120",
         "120",
         "120",
         "120",
         "120",
         "120",
         "120",
         "120",
         "120",
         "120",
         "120",
         "120",
         "120",
         "120",
         "120",
         "120",
         "120",
         "120",
         "120",
         "120",
         "120",
         "120",
         "120",
         "120",
         "120",
         "120",
         "120",
         "120",
         "120",
         "120",
         "120",
         "120",
         "120",
         "120",
         "120",
         "120",
         "120",
         "120",
         "120",
         "120",
         "120",
         "120",
         "120",
         "120",
         "120",
         "120",
         "120",
         "120",
         "120",
         "120",
         "120",
         "120",
         "120",
         "120",
         "120",
         "120",
         "120",
         "120",
         "120",
         "120",
         "120",
         "120",
         "120",
         "120",
         "120",
         "120",
         "120",
         "120",
         "120",
         "120",
         "120",
         "120",
         "120",
         "120",
         "120",
         "120",
         "120",
         "120",
         "120",
         "120",
         "120",
         "120",
         "120",
         "120",
         "120",
         "120",
         "120",
         "120",
         "120",
         "120",
         "120",
         "120",
         "120",
         "120",
         "120",
         "120",
         "120",
         "120",
         "120",
         "120",
         "120",
         "120",
         "120",
         "120",
         "120",
         "120",
         "120",
         "120",
         "120",
         "120",
         "120",
         "120",
         "120",
         "120",
         "120",
         "120",
         "120",
         "120",
         "120",
         "120",
         "120",
         "120",
         "120",
         "120",
         "120",
         "120",
         "120",
         "120",
         "120",
         "120",
         "120",
         "120",
         "120",
         "120",
         "120",
         "120",
         "120",
         "120",
         "120",
         "120",
         "120",
         "120",
         "120",
         "120",
         "120",
         "120",
         "120",
         "120",
         "120",
         "120",
         "120",
         "120",
         "120",
         "120",
         "120",
         "120",
         "120",
         "120",
         "120",
         "120",
         "120",
         "120",
         "120",
         "120",
         "120",
         "120",
         "120",
         "120",
         "120",
         "120",
         "120",
         "120",
         "120",
         "120",
         "120",
         "120",
         "120",
         "120",
         "120",
         "120",
         "120",
         "120",
         "120",
         "120",
         "120",
         "120",
         "120",
         "120",
         "120",
         "120",
         "120",
         "120",
         "120",
         "120",
         "120",
         "120",
         "120",
         "120",
         "120",
         "120",
         "120",
         "120",
         "120",
         "120",
         "120",
         "120",
         "120",
         "120",
         "120",
         "120",
         "120",
         "120",
         "120",
         "120",
         "120",
         "120",
         "120",
         "120",
         "120"
        ],
        [
         "4",
         "-1",
         "131",
         "131",
         "131",
         "131",
         "131",
         "131",
         "131",
         "131",
         "200",
         "131",
         "131",
         "131",
         "131",
         "131",
         "131",
         "131",
         "131",
         "131",
         "131",
         "131",
         "131",
         "131",
         "131",
         "131",
         "131",
         "131",
         "131",
         "131",
         "131",
         "131",
         "131",
         "131",
         "131",
         "131",
         "131",
         "131",
         "131",
         "131",
         "131",
         "131",
         "131",
         "131",
         "131",
         "131",
         "131",
         "131",
         "131",
         "131",
         "131",
         "131",
         "131",
         "131",
         "131",
         "131",
         "131",
         "131",
         "131",
         "131",
         "131",
         "131",
         "131",
         "131",
         "131",
         "131",
         "131",
         "131",
         "131",
         "131",
         "131",
         "131",
         "131",
         "131",
         "131",
         "131",
         "131",
         "131",
         "131",
         "131",
         "131",
         "131",
         "131",
         "131",
         "131",
         "131",
         "131",
         "131",
         "131",
         "131",
         "131",
         "131",
         "131",
         "131",
         "131",
         "131",
         "131",
         "131",
         "131",
         "131",
         "131",
         "131",
         "131",
         "131",
         "131",
         "131",
         "131",
         "131",
         "131",
         "131",
         "131",
         "131",
         "131",
         "131",
         "131",
         "131",
         "131",
         "131",
         "131",
         "131",
         "131",
         "131",
         "131",
         "131",
         "131",
         "131",
         "131",
         "131",
         "131",
         "131",
         "131",
         "131",
         "131",
         "131",
         "131",
         "131",
         "131",
         "131",
         "131",
         "131",
         "131",
         "131",
         "131",
         "131",
         "131",
         "131",
         "131",
         "131",
         "131",
         "131",
         "131",
         "131",
         "131",
         "131",
         "131",
         "131",
         "131",
         "131",
         "131",
         "131",
         "131",
         "131",
         "131",
         "131",
         "131",
         "131",
         "131",
         "131",
         "131",
         "131",
         "131",
         "131",
         "131",
         "131",
         "131",
         "131",
         "131",
         "131",
         "131",
         "131",
         "131",
         "131",
         "131",
         "131",
         "131",
         "131",
         "131",
         "131",
         "131",
         "131",
         "131",
         "131",
         "131",
         "131",
         "131",
         "131",
         "131",
         "131",
         "131",
         "131",
         "131",
         "131",
         "131",
         "131",
         "131",
         "131",
         "131",
         "131",
         "131",
         "131",
         "131",
         "131",
         "131",
         "131",
         "131",
         "131",
         "131",
         "131",
         "131",
         "131",
         "131",
         "131",
         "131",
         "131",
         "131",
         "131",
         "131",
         "131",
         "131",
         "131",
         "131",
         "131",
         "131",
         "131",
         "131",
         "131",
         "131",
         "131",
         "131",
         "131",
         "131",
         "131",
         "131",
         "131",
         "131",
         "131",
         "131",
         "131",
         "131",
         "131",
         "131",
         "131",
         "131",
         "131",
         "131",
         "131",
         "131",
         "131",
         "131",
         "131",
         "131",
         "131",
         "131",
         "131",
         "131",
         "131",
         "131",
         "131",
         "131",
         "131",
         "131",
         "131",
         "131",
         "131",
         "131",
         "131",
         "131",
         "131",
         "131",
         "131",
         "131",
         "131",
         "131",
         "131",
         "131",
         "131",
         "131",
         "131",
         "131",
         "131",
         "131",
         "131",
         "131",
         "131",
         "131",
         "131",
         "131",
         "131",
         "131",
         "131",
         "131",
         "131",
         "131",
         "131",
         "131",
         "131",
         "131",
         "131",
         "131",
         "131",
         "131",
         "131",
         "131",
         "131",
         "131",
         "131",
         "131",
         "131",
         "131",
         "131",
         "131",
         "131",
         "131",
         "131",
         "131",
         "131",
         "131",
         "131",
         "131",
         "131",
         "131",
         "131",
         "131",
         "131",
         "131",
         "131",
         "131",
         "131",
         "131",
         "131",
         "131",
         "131",
         "131",
         "131",
         "131",
         "131",
         "131",
         "131",
         "131",
         "131",
         "131",
         "131",
         "131",
         "131",
         "131",
         "131",
         "131",
         "131",
         "131",
         "131",
         "131",
         "131",
         "131",
         "131",
         "131",
         "131",
         "131",
         "131",
         "131",
         "131",
         "131",
         "131",
         "131",
         "131",
         "131",
         "131",
         "131",
         "131",
         "131",
         "131",
         "131",
         "131",
         "131",
         "131",
         "131",
         "131",
         "131",
         "131",
         "131",
         "131",
         "131",
         "131",
         "131",
         "131",
         "131",
         "131",
         "131",
         "131",
         "131",
         "131",
         "131",
         "131",
         "131",
         "131",
         "131",
         "131",
         "131",
         "131",
         "131",
         "131",
         "131",
         "131",
         "131",
         "131",
         "131",
         "131",
         "131",
         "131",
         "131",
         "131",
         "131",
         "131",
         "131",
         "131",
         "131",
         "131",
         "131",
         "131",
         "131",
         "131",
         "131",
         "131",
         "131",
         "131",
         "131",
         "131",
         "131",
         "131",
         "131",
         "131",
         "131",
         "131",
         "131",
         "131",
         "131",
         "131",
         "131",
         "131",
         "131",
         "131",
         "131",
         "131",
         "131",
         "131",
         "131",
         "131",
         "131",
         "131",
         "131",
         "131",
         "131",
         "131",
         "131",
         "131",
         "131",
         "131",
         "131",
         "131",
         "131",
         "131",
         "131",
         "131",
         "131",
         "131",
         "131",
         "131",
         "131",
         "131",
         "131",
         "131",
         "131",
         "131",
         "131",
         "131",
         "131",
         "131",
         "131",
         "131",
         "131",
         "131",
         "131",
         "131",
         "131",
         "131",
         "131",
         "131",
         "131",
         "131",
         "131",
         "131",
         "131",
         "131",
         "131",
         "131",
         "131",
         "131",
         "131",
         "131",
         "131",
         "131",
         "131",
         "131",
         "131",
         "131",
         "131",
         "131",
         "131",
         "131",
         "131",
         "131",
         "131",
         "131",
         "131",
         "131",
         "131",
         "1",
         "131",
         "131",
         "131",
         "131",
         "131",
         "131",
         "131",
         "131",
         "131",
         "131",
         "131",
         "131",
         "131",
         "131",
         "131",
         "131",
         "131",
         "131",
         "131",
         "131",
         "131",
         "131",
         "131",
         "131",
         "131",
         "131",
         "131",
         "131",
         "131",
         "131",
         "131",
         "131",
         "131",
         "131",
         "131",
         "131",
         "131",
         "131",
         "131",
         "131",
         "131",
         "131",
         "131",
         "131",
         "131",
         "131",
         "131",
         "131",
         "131",
         "131",
         "131",
         "131",
         "131",
         "131",
         "131",
         "131",
         "131",
         "131",
         "131",
         "131",
         "131",
         "131",
         "131",
         "131",
         "131",
         "131",
         "131",
         "131",
         "131",
         "131",
         "131",
         "131",
         "131",
         "131",
         "131",
         "131",
         "131",
         "131",
         "131",
         "131",
         "131",
         "131",
         "131",
         "131",
         "131",
         "131",
         "131",
         "131",
         "131",
         "131",
         "131",
         "131",
         "131",
         "131",
         "131",
         "131",
         "131",
         "131",
         "131",
         "131",
         "131",
         "131",
         "131",
         "131",
         "131",
         "131",
         "131",
         "131",
         "131",
         "131",
         "131",
         "131",
         "131",
         "131",
         "131",
         "131",
         "131",
         "131",
         "131",
         "131",
         "131",
         "131",
         "131",
         "131",
         "131",
         "131",
         "131",
         "131",
         "131",
         "131",
         "131",
         "131",
         "131",
         "131",
         "131",
         "131",
         "131",
         "131",
         "131",
         "131",
         "131",
         "131",
         "131",
         "131",
         "131",
         "131",
         "131",
         "131",
         "131",
         "131",
         "131",
         "131",
         "131",
         "131",
         "131",
         "131",
         "131",
         "131",
         "131",
         "131",
         "131",
         "131",
         "131",
         "131",
         "131",
         "131",
         "131",
         "131",
         "131",
         "131",
         "131",
         "131",
         "131",
         "131",
         "131",
         "131",
         "131",
         "131",
         "131",
         "131",
         "131",
         "131",
         "131",
         "131",
         "131",
         "131",
         "131",
         "131",
         "131",
         "131",
         "131",
         "131",
         "131",
         "131",
         "131",
         "131",
         "131",
         "131",
         "131",
         "131",
         "131",
         "131",
         "131",
         "131",
         "131",
         "131",
         "131",
         "131",
         "131",
         "131",
         "131",
         "131",
         "131",
         "131",
         "131",
         "131",
         "131",
         "131",
         "131",
         "131",
         "131",
         "131",
         "131",
         "131",
         "131",
         "131",
         "131",
         "131",
         "131",
         "131",
         "131",
         "131",
         "131",
         "131",
         "131",
         "131",
         "131",
         "131",
         "131",
         "131",
         "131",
         "131",
         "131",
         "131",
         "131",
         "131",
         "131",
         "131",
         "131",
         "131",
         "131",
         "131",
         "131",
         "131",
         "131",
         "131",
         "131",
         "131",
         "131",
         "131"
        ]
       ],
       "shape": {
        "columns": 785,
        "rows": 5
       }
      },
      "text/html": [
       "<div>\n",
       "<style scoped>\n",
       "    .dataframe tbody tr th:only-of-type {\n",
       "        vertical-align: middle;\n",
       "    }\n",
       "\n",
       "    .dataframe tbody tr th {\n",
       "        vertical-align: top;\n",
       "    }\n",
       "\n",
       "    .dataframe thead th {\n",
       "        text-align: right;\n",
       "    }\n",
       "</style>\n",
       "<table border=\"1\" class=\"dataframe\">\n",
       "  <thead>\n",
       "    <tr style=\"text-align: right;\">\n",
       "      <th></th>\n",
       "      <th>24</th>\n",
       "      <th>0</th>\n",
       "      <th>0.1</th>\n",
       "      <th>0.2</th>\n",
       "      <th>0.3</th>\n",
       "      <th>0.4</th>\n",
       "      <th>0.5</th>\n",
       "      <th>0.6</th>\n",
       "      <th>0.7</th>\n",
       "      <th>0.8</th>\n",
       "      <th>...</th>\n",
       "      <th>0.552</th>\n",
       "      <th>0.553</th>\n",
       "      <th>0.554</th>\n",
       "      <th>0.555</th>\n",
       "      <th>0.556</th>\n",
       "      <th>0.557</th>\n",
       "      <th>0.558</th>\n",
       "      <th>0.559</th>\n",
       "      <th>0.560</th>\n",
       "      <th>0.561</th>\n",
       "    </tr>\n",
       "  </thead>\n",
       "  <tbody>\n",
       "    <tr>\n",
       "      <th>0</th>\n",
       "      <td>-2</td>\n",
       "      <td>142</td>\n",
       "      <td>142</td>\n",
       "      <td>142</td>\n",
       "      <td>142</td>\n",
       "      <td>142</td>\n",
       "      <td>142</td>\n",
       "      <td>142</td>\n",
       "      <td>142</td>\n",
       "      <td>142</td>\n",
       "      <td>...</td>\n",
       "      <td>142</td>\n",
       "      <td>142</td>\n",
       "      <td>142</td>\n",
       "      <td>142</td>\n",
       "      <td>142</td>\n",
       "      <td>142</td>\n",
       "      <td>142</td>\n",
       "      <td>142</td>\n",
       "      <td>142</td>\n",
       "      <td>142</td>\n",
       "    </tr>\n",
       "    <tr>\n",
       "      <th>1</th>\n",
       "      <td>15</td>\n",
       "      <td>0</td>\n",
       "      <td>0</td>\n",
       "      <td>0</td>\n",
       "      <td>0</td>\n",
       "      <td>0</td>\n",
       "      <td>0</td>\n",
       "      <td>0</td>\n",
       "      <td>0</td>\n",
       "      <td>0</td>\n",
       "      <td>...</td>\n",
       "      <td>0</td>\n",
       "      <td>0</td>\n",
       "      <td>0</td>\n",
       "      <td>0</td>\n",
       "      <td>0</td>\n",
       "      <td>0</td>\n",
       "      <td>0</td>\n",
       "      <td>0</td>\n",
       "      <td>0</td>\n",
       "      <td>0</td>\n",
       "    </tr>\n",
       "    <tr>\n",
       "      <th>2</th>\n",
       "      <td>14</td>\n",
       "      <td>0</td>\n",
       "      <td>0</td>\n",
       "      <td>0</td>\n",
       "      <td>0</td>\n",
       "      <td>0</td>\n",
       "      <td>0</td>\n",
       "      <td>0</td>\n",
       "      <td>0</td>\n",
       "      <td>0</td>\n",
       "      <td>...</td>\n",
       "      <td>0</td>\n",
       "      <td>0</td>\n",
       "      <td>0</td>\n",
       "      <td>0</td>\n",
       "      <td>0</td>\n",
       "      <td>0</td>\n",
       "      <td>0</td>\n",
       "      <td>0</td>\n",
       "      <td>0</td>\n",
       "      <td>0</td>\n",
       "    </tr>\n",
       "    <tr>\n",
       "      <th>3</th>\n",
       "      <td>-2</td>\n",
       "      <td>120</td>\n",
       "      <td>120</td>\n",
       "      <td>120</td>\n",
       "      <td>120</td>\n",
       "      <td>120</td>\n",
       "      <td>120</td>\n",
       "      <td>120</td>\n",
       "      <td>120</td>\n",
       "      <td>120</td>\n",
       "      <td>...</td>\n",
       "      <td>120</td>\n",
       "      <td>120</td>\n",
       "      <td>120</td>\n",
       "      <td>120</td>\n",
       "      <td>120</td>\n",
       "      <td>120</td>\n",
       "      <td>120</td>\n",
       "      <td>120</td>\n",
       "      <td>120</td>\n",
       "      <td>120</td>\n",
       "    </tr>\n",
       "    <tr>\n",
       "      <th>4</th>\n",
       "      <td>-1</td>\n",
       "      <td>131</td>\n",
       "      <td>131</td>\n",
       "      <td>131</td>\n",
       "      <td>131</td>\n",
       "      <td>131</td>\n",
       "      <td>131</td>\n",
       "      <td>131</td>\n",
       "      <td>131</td>\n",
       "      <td>200</td>\n",
       "      <td>...</td>\n",
       "      <td>131</td>\n",
       "      <td>131</td>\n",
       "      <td>131</td>\n",
       "      <td>131</td>\n",
       "      <td>131</td>\n",
       "      <td>131</td>\n",
       "      <td>131</td>\n",
       "      <td>131</td>\n",
       "      <td>131</td>\n",
       "      <td>131</td>\n",
       "    </tr>\n",
       "  </tbody>\n",
       "</table>\n",
       "<p>5 rows × 785 columns</p>\n",
       "</div>"
      ],
      "text/plain": [
       "   24    0  0.1  0.2  0.3  0.4  0.5  0.6  0.7  0.8  ...  0.552  0.553  0.554  \\\n",
       "0  -2  142  142  142  142  142  142  142  142  142  ...    142    142    142   \n",
       "1  15    0    0    0    0    0    0    0    0    0  ...      0      0      0   \n",
       "2  14    0    0    0    0    0    0    0    0    0  ...      0      0      0   \n",
       "3  -2  120  120  120  120  120  120  120  120  120  ...    120    120    120   \n",
       "4  -1  131  131  131  131  131  131  131  131  200  ...    131    131    131   \n",
       "\n",
       "   0.555  0.556  0.557  0.558  0.559  0.560  0.561  \n",
       "0    142    142    142    142    142    142    142  \n",
       "1      0      0      0      0      0      0      0  \n",
       "2      0      0      0      0      0      0      0  \n",
       "3    120    120    120    120    120    120    120  \n",
       "4    131    131    131    131    131    131    131  \n",
       "\n",
       "[5 rows x 785 columns]"
      ]
     },
     "execution_count": 49,
     "metadata": {},
     "output_type": "execute_result"
    }
   ],
   "source": [
    "# Import necessary libraries\n",
    "import pandas as pd\n",
    "import numpy as np\n",
    "import matplotlib.pyplot as plt\n",
    "import math\n",
    "import os\n",
    "import tensorflow as tf\n",
    "from tensorflow.keras import layers, models, optimizers\n",
    "\n",
    "# Suppress warnings for cleaner output\n",
    "import warnings\n",
    "warnings.filterwarnings('ignore')\n",
    "\n",
    "# Load the dataset\n",
    "data = pd.read_csv(\"C:\\School\\Year 2\\DELE\\CA2\\emnist-letters-train.csv\")\n",
    "\n",
    "# Check the shape and first few rows\n",
    "print(f\"Dataset shape: {data.shape}\")\n",
    "data.head()"
   ]
  },
  {
   "cell_type": "code",
   "execution_count": 50,
   "id": "60158673",
   "metadata": {},
   "outputs": [],
   "source": [
    "# Separate labels and pixel data\n",
    "labels = data.iloc[:, 0].values\n",
    "pixels = data.iloc[:, 1:].values"
   ]
  },
  {
   "cell_type": "code",
   "execution_count": 51,
   "id": "4e3e8668",
   "metadata": {},
   "outputs": [],
   "source": [
    "# Reshape and normalize to match training data\n",
    "images = pixels.reshape(-1, 28, 28, 1).astype('float32')\n",
    "images = images / 255.0  # Normalize to [0, 1] - SAME AS TRAINING DATA"
   ]
  },
  {
   "cell_type": "code",
   "execution_count": 52,
   "id": "347629f9",
   "metadata": {},
   "outputs": [],
   "source": [
    "# First filter out negative labels\n",
    "valid_mask = labels > 0\n",
    "filtered_images = images[valid_mask]\n",
    "filtered_labels = labels[valid_mask]\n",
    "\n",
    "# Then select only our 16 target classes\n",
    "selected_numeric = [1, 2, 4, 5, 6, 7, 9, 10, 12, 14, 15, 16, 17, 20, 24, 26]  # A, B, D, E, F, G, I, J, L, N, O, P, Q, T, X, Z\n",
    "final_mask = np.isin(filtered_labels, selected_numeric)\n",
    "final_images = filtered_images[final_mask]\n",
    "final_labels = filtered_labels[final_mask]"
   ]
  },
  {
   "cell_type": "code",
   "execution_count": 53,
   "id": "05b28aa2",
   "metadata": {},
   "outputs": [
    {
     "name": "stdout",
     "output_type": "stream",
     "text": [
      "After processing - pixel range: [0.000, 1.000]\n"
     ]
    }
   ],
   "source": [
    "# Rotate and flip the images to upright position\n",
    "from skimage.transform import rotate\n",
    "\n",
    "# Rotate 90 degrees clockwise (use -90 degrees)\n",
    "# Then mirror (flip) horizontally with np.fliplr\n",
    "rotated_images = np.array([\n",
    "    np.fliplr(rotate(img.squeeze(), -90, resize=False, mode='edge'))\n",
    "    for img in final_images\n",
    "])\n",
    "\n",
    "# Ensure final_images has the correct shape\n",
    "final_images = rotated_images[..., np.newaxis]\n",
    "\n",
    "# CRITICAL: Re-normalize to [0, 1] to match training data\n",
    "# The rotation operation may have changed the pixel range\n",
    "final_images = final_images.astype('float32')\n",
    "final_images = (final_images - final_images.min()) / (final_images.max() - final_images.min())\n",
    "\n",
    "print(f\"After processing - pixel range: [{final_images.min():.3f}, {final_images.max():.3f}]\")"
   ]
  },
  {
   "cell_type": "code",
   "execution_count": 54,
   "id": "ba92a870",
   "metadata": {},
   "outputs": [
    {
     "data": {
      "image/png": "[encoded data removed]",
      "text/plain": [
       "<Figure size 2200x2400 with 176 Axes>"
      ]
     },
     "metadata": {},
     "output_type": "display_data"
    }
   ],
   "source": [
    "# Get all unique class labels from cleaned data\n",
    "unique_labels_to_show = np.sort(np.unique(final_labels))\n",
    "num_classes = len(unique_labels_to_show)\n",
    "\n",
    "# Set number of columns and compute required rows dynamically\n",
    "cols = 11  # 1 for label + 10 for sample images\n",
    "rows = math.ceil(num_classes / 1)  # Each class gets its own row\n",
    "\n",
    "plt.figure(figsize=(cols * 2, rows * 1.5))  # Adjust figure size\n",
    "\n",
    "for idx, class_label in enumerate(unique_labels_to_show):\n",
    "  class_indices = np.nonzero(final_labels == class_label)[0][:10]  # Get 10 samples\n",
    "\n",
    "  # Label subplot\n",
    "  plt.subplot(rows, cols, idx * cols + 1)\n",
    "  plt.text(0.5, 0.5, f\"{chr(class_label + 64)}\", fontsize=14, ha='center', va='center')\n",
    "  plt.axis('off')\n",
    "\n",
    "  # Show 10 example images\n",
    "  for i, img_idx in enumerate(class_indices):\n",
    "    plt.subplot(rows, cols, idx * cols + i + 2)\n",
    "    plt.imshow(final_images[img_idx].squeeze(), cmap='gray')\n",
    "    plt.axis('off')\n",
    "\n",
    "plt.tight_layout()\n",
    "plt.show()\n"
   ]
  },
  {
   "cell_type": "code",
   "execution_count": 55,
   "id": "f1e7ef77",
   "metadata": {},
   "outputs": [
    {
     "name": "stdout",
     "output_type": "stream",
     "text": [
      "427/427 [==============================] - 2s 5ms/step\n",
      "427/427 [==============================] - 2s 5ms/step\n",
      "Sample 1: True: O | Predicted: O (confidence: 0.970)\n",
      "Sample 2: True: N | Predicted: n (confidence: 1.000)\n",
      "Sample 3: True: A | Predicted: A (confidence: 0.990)\n",
      "Sample 4: True: J | Predicted: j (confidence: 1.000)\n",
      "Sample 5: True: E | Predicted: e (confidence: 1.000)\n",
      "Sample 6: True: G | Predicted: G (confidence: 0.998)\n",
      "Sample 7: True: G | Predicted: g (confidence: 0.997)\n",
      "Sample 8: True: F | Predicted: f (confidence: 0.568)\n",
      "Sample 9: True: O | Predicted: O (confidence: 0.921)\n",
      "Sample 10: True: F | Predicted: F (confidence: 0.854)\n",
      "Sample 1: True: O | Predicted: O (confidence: 0.970)\n",
      "Sample 2: True: N | Predicted: n (confidence: 1.000)\n",
      "Sample 3: True: A | Predicted: A (confidence: 0.990)\n",
      "Sample 4: True: J | Predicted: j (confidence: 1.000)\n",
      "Sample 5: True: E | Predicted: e (confidence: 1.000)\n",
      "Sample 6: True: G | Predicted: G (confidence: 0.998)\n",
      "Sample 7: True: G | Predicted: g (confidence: 0.997)\n",
      "Sample 8: True: F | Predicted: f (confidence: 0.568)\n",
      "Sample 9: True: O | Predicted: O (confidence: 0.921)\n",
      "Sample 10: True: F | Predicted: F (confidence: 0.854)\n"
     ]
    }
   ],
   "source": [
    "# Predict letters for all images in final_images using the trained model\n",
    "pred_probs = model.predict(final_images, batch_size=128, verbose=1)\n",
    "predicted_labels = np.argmax(pred_probs, axis=1)\n",
    "\n",
    "# Map numeric labels to characters using the SAME mapping as training\n",
    "# Training uses: 0-25 for A-Z, 26-51 for a-z\n",
    "def model_label_to_char(label):\n",
    "    if label < 26:\n",
    "        return chr(label + ord('A'))  # 0='A', 1='B', ..., 25='Z'\n",
    "    else:\n",
    "        return chr(label - 26 + ord('a'))  # 26='a', 27='b', ..., 51='z'\n",
    "\n",
    "# Map EMNIST CSV labels to characters (for ground truth)\n",
    "def csv_label_to_char(label):\n",
    "    return chr(label + 64)  # EMNIST Letters: 1='A', 2='B', ..., 26='Z'\n",
    "\n",
    "# Example: show predictions for the first 10 samples\n",
    "for i in range(10):\n",
    "    true_char = csv_label_to_char(final_labels[i])\n",
    "    pred_char = model_label_to_char(predicted_labels[i])\n",
    "    confidence = np.max(pred_probs[i])\n",
    "    print(f\"Sample {i+1}: True: {true_char} | Predicted: {pred_char} (confidence: {confidence:.3f})\")"
   ]
  },
  {
   "cell_type": "code",
   "execution_count": 56,
   "id": "36db658b",
   "metadata": {},
   "outputs": [
    {
     "name": "stdout",
     "output_type": "stream",
     "text": [
      "Prediction distribution:\n",
      "Label 0 ('A'): 1365 samples\n",
      "Label 1 ('B'): 1442 samples\n",
      "Label 2 ('C'): 21 samples\n",
      "Label 3 ('D'): 1016 samples\n",
      "Label 4 ('E'): 600 samples\n",
      "Label 5 ('F'): 3226 samples\n",
      "Label 6 ('G'): 1357 samples\n",
      "Label 7 ('H'): 3 samples\n",
      "Label 8 ('I'): 2989 samples\n",
      "Label 9 ('J'): 2410 samples\n",
      "Label 10 ('K'): 3 samples\n",
      "Label 11 ('L'): 925 samples\n",
      "Label 12 ('M'): 4 samples\n",
      "Label 13 ('N'): 1409 samples\n",
      "Label 14 ('O'): 3417 samples\n",
      "Label 15 ('P'): 2788 samples\n",
      "Label 16 ('Q'): 1604 samples\n",
      "Label 17 ('R'): 3 samples\n",
      "Label 18 ('S'): 33 samples\n",
      "Label 19 ('T'): 1263 samples\n",
      "Label 20 ('U'): 30 samples\n",
      "Label 21 ('V'): 5 samples\n",
      "Label 22 ('W'): 1 samples\n",
      "Label 23 ('X'): 1966 samples\n",
      "Label 24 ('Y'): 23 samples\n",
      "Label 25 ('Z'): 1927 samples\n",
      "Label 26 ('a'): 2122 samples\n",
      "Label 27 ('b'): 1938 samples\n",
      "Label 29 ('d'): 2352 samples\n",
      "Label 30 ('e'): 2836 samples\n",
      "Label 31 ('f'): 126 samples\n",
      "Label 32 ('g'): 1841 samples\n",
      "Label 33 ('h'): 35 samples\n",
      "Label 34 ('i'): 437 samples\n",
      "Label 35 ('j'): 873 samples\n",
      "Label 36 ('k'): 7 samples\n",
      "Label 37 ('l'): 2545 samples\n",
      "Label 39 ('n'): 1938 samples\n",
      "Label 40 ('o'): 23 samples\n",
      "Label 41 ('p'): 635 samples\n",
      "Label 42 ('q'): 1873 samples\n",
      "Label 43 ('r'): 11 samples\n",
      "Label 44 ('s'): 2 samples\n",
      "Label 45 ('t'): 2207 samples\n",
      "Label 46 ('u'): 2 samples\n",
      "Label 47 ('v'): 5 samples\n",
      "Label 48 ('w'): 1 samples\n",
      "Label 49 ('x'): 1443 samples\n",
      "Label 50 ('y'): 13 samples\n",
      "Label 51 ('z'): 1493 samples\n",
      "\n",
      "Total predictions: 54588\n"
     ]
    }
   ],
   "source": [
    "# Debug: Check the distribution of predictions\n",
    "unique_preds, counts = np.unique(predicted_labels, return_counts=True)\n",
    "print(\"Prediction distribution:\")\n",
    "for pred, count in zip(unique_preds, counts):\n",
    "    char = model_label_to_char(pred)\n",
    "    print(f\"Label {pred} ('{char}'): {count} samples\")\n",
    "\n",
    "print(f\"\\nTotal predictions: {len(predicted_labels)}\")\n",
    "\n",
    "# Check if the model is actually predicting the same thing for everything\n",
    "if len(unique_preds) == 1:\n",
    "    print(f\"WARNING: Model is predicting only one class: {model_label_to_char(unique_preds[0])}\")\n",
    "    print(\"This suggests there might be an issue with data preprocessing or normalization.\")"
   ]
  },
  {
   "cell_type": "code",
   "execution_count": 57,
   "id": "cd88fd63",
   "metadata": {},
   "outputs": [
    {
     "data": {
      "image/png": "[encoded data removed]",
      "text/plain": [
       "<Figure size 1500x1000 with 25 Axes>"
      ]
     },
     "metadata": {},
     "output_type": "display_data"
    },
    {
     "name": "stdout",
     "output_type": "stream",
     "text": [
      "Image pixel range: [0.000, 1.000]\n",
      "Image shape: (54588, 28, 28, 1)\n",
      "Image dtype: float32\n"
     ]
    }
   ],
   "source": [
    "# Let's visualize some samples to check if the preprocessing is correct\n",
    "plt.figure(figsize=(15, 10))\n",
    "\n",
    "# Show first 5 samples of each class\n",
    "sample_classes = [1, 2, 4, 5, 6]  # A, B, D, E, F\n",
    "for i, class_label in enumerate(sample_classes):\n",
    "    class_indices = np.where(final_labels == class_label)[0][:5]\n",
    "    \n",
    "    for j, idx in enumerate(class_indices):\n",
    "        plt.subplot(len(sample_classes), 5, i * 5 + j + 1)\n",
    "        plt.imshow(final_images[idx].squeeze(), cmap='gray')\n",
    "        true_char = csv_label_to_char(final_labels[idx])\n",
    "        pred_char = model_label_to_char(predicted_labels[idx])\n",
    "        plt.title(f'True: {true_char}\\nPred: {pred_char}', fontsize=8)\n",
    "        plt.axis('off')\n",
    "\n",
    "plt.tight_layout()\n",
    "plt.show()\n",
    "\n",
    "# Let's also check the range of pixel values\n",
    "print(f\"Image pixel range: [{final_images.min():.3f}, {final_images.max():.3f}]\")\n",
    "print(f\"Image shape: {final_images.shape}\")\n",
    "print(f\"Image dtype: {final_images.dtype}\")"
   ]
  }
 ],
 "metadata": {
  "kernelspec": {
   "display_name": "gpu_env",
   "language": "python",
   "name": "python3"
  },
  "language_info": {
   "codemirror_mode": {
    "name": "ipython",
    "version": 3
   },
   "file_extension": ".py",
   "mimetype": "text/x-python",
   "name": "python",
   "nbconvert_exporter": "python",
   "pygments_lexer": "ipython3",
   "version": "3.8.20"
  }
 },
 "nbformat": 4,
 "nbformat_minor": 5
}
